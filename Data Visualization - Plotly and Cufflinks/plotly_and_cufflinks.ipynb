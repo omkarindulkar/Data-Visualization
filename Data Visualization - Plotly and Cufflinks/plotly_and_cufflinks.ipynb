{
 "cells": [
  {
   "cell_type": "markdown",
   "metadata": {},
   "source": [
    "## Plotly and Cufflinks"
   ]
  },
  {
   "cell_type": "code",
   "execution_count": 1,
   "metadata": {},
   "outputs": [],
   "source": [
    "import pandas as pd\n",
    "import numpy as np\n",
    "%matplotlib inline"
   ]
  },
  {
   "cell_type": "code",
   "execution_count": 2,
   "metadata": {},
   "outputs": [],
   "source": [
    "from plotly import __version__"
   ]
  },
  {
   "cell_type": "code",
   "execution_count": 3,
   "metadata": {},
   "outputs": [
    {
     "name": "stdout",
     "output_type": "stream",
     "text": [
      "4.9.0\n"
     ]
    }
   ],
   "source": [
    "print(__version__)"
   ]
  },
  {
   "cell_type": "code",
   "execution_count": 4,
   "metadata": {},
   "outputs": [],
   "source": [
    "import cufflinks as cf"
   ]
  },
  {
   "cell_type": "code",
   "execution_count": 5,
   "metadata": {},
   "outputs": [],
   "source": [
    "from plotly.offline import download_plotlyjs,init_notebook_mode,plot,iplot"
   ]
  },
  {
   "cell_type": "code",
   "execution_count": 6,
   "metadata": {},
   "outputs": [
    {
     "data": {
      "text/html": [
       "        <script type=\"text/javascript\">\n",
       "        window.PlotlyConfig = {MathJaxConfig: 'local'};\n",
       "        if (window.MathJax) {MathJax.Hub.Config({SVG: {font: \"STIX-Web\"}});}\n",
       "        if (typeof require !== 'undefined') {\n",
       "        require.undef(\"plotly\");\n",
       "        requirejs.config({\n",
       "            paths: {\n",
       "                'plotly': ['https://cdn.plot.ly/plotly-latest.min']\n",
       "            }\n",
       "        });\n",
       "        require(['plotly'], function(Plotly) {\n",
       "            window._Plotly = Plotly;\n",
       "        });\n",
       "        }\n",
       "        </script>\n",
       "        "
      ]
     },
     "metadata": {},
     "output_type": "display_data"
    }
   ],
   "source": [
    "# connect javascript with notebook\n",
    "init_notebook_mode(connected=True)"
   ]
  },
  {
   "cell_type": "code",
   "execution_count": 7,
   "metadata": {},
   "outputs": [
    {
     "data": {
      "text/html": [
       "        <script type=\"text/javascript\">\n",
       "        window.PlotlyConfig = {MathJaxConfig: 'local'};\n",
       "        if (window.MathJax) {MathJax.Hub.Config({SVG: {font: \"STIX-Web\"}});}\n",
       "        if (typeof require !== 'undefined') {\n",
       "        require.undef(\"plotly\");\n",
       "        requirejs.config({\n",
       "            paths: {\n",
       "                'plotly': ['https://cdn.plot.ly/plotly-latest.min']\n",
       "            }\n",
       "        });\n",
       "        require(['plotly'], function(Plotly) {\n",
       "            window._Plotly = Plotly;\n",
       "        });\n",
       "        }\n",
       "        </script>\n",
       "        "
      ]
     },
     "metadata": {},
     "output_type": "display_data"
    }
   ],
   "source": [
    "# Allow cufflinks as offline\n",
    "cf.go_offline()"
   ]
  },
  {
   "cell_type": "code",
   "execution_count": 8,
   "metadata": {},
   "outputs": [],
   "source": [
    "df = pd.DataFrame(np.random.randn(100,4),columns='A B C D'.split())"
   ]
  },
  {
   "cell_type": "code",
   "execution_count": 9,
   "metadata": {},
   "outputs": [
    {
     "data": {
      "text/html": [
       "<div>\n",
       "<style scoped>\n",
       "    .dataframe tbody tr th:only-of-type {\n",
       "        vertical-align: middle;\n",
       "    }\n",
       "\n",
       "    .dataframe tbody tr th {\n",
       "        vertical-align: top;\n",
       "    }\n",
       "\n",
       "    .dataframe thead th {\n",
       "        text-align: right;\n",
       "    }\n",
       "</style>\n",
       "<table border=\"1\" class=\"dataframe\">\n",
       "  <thead>\n",
       "    <tr style=\"text-align: right;\">\n",
       "      <th></th>\n",
       "      <th>A</th>\n",
       "      <th>B</th>\n",
       "      <th>C</th>\n",
       "      <th>D</th>\n",
       "    </tr>\n",
       "  </thead>\n",
       "  <tbody>\n",
       "    <tr>\n",
       "      <th>0</th>\n",
       "      <td>0.492898</td>\n",
       "      <td>1.788094</td>\n",
       "      <td>1.463672</td>\n",
       "      <td>-0.518784</td>\n",
       "    </tr>\n",
       "    <tr>\n",
       "      <th>1</th>\n",
       "      <td>-0.301240</td>\n",
       "      <td>-0.445354</td>\n",
       "      <td>0.665120</td>\n",
       "      <td>-2.413412</td>\n",
       "    </tr>\n",
       "    <tr>\n",
       "      <th>2</th>\n",
       "      <td>-0.781607</td>\n",
       "      <td>-0.713180</td>\n",
       "      <td>0.375666</td>\n",
       "      <td>0.050349</td>\n",
       "    </tr>\n",
       "    <tr>\n",
       "      <th>3</th>\n",
       "      <td>-0.809009</td>\n",
       "      <td>-0.555411</td>\n",
       "      <td>1.479164</td>\n",
       "      <td>-0.069610</td>\n",
       "    </tr>\n",
       "    <tr>\n",
       "      <th>4</th>\n",
       "      <td>1.400683</td>\n",
       "      <td>-0.215860</td>\n",
       "      <td>1.416780</td>\n",
       "      <td>-0.226059</td>\n",
       "    </tr>\n",
       "  </tbody>\n",
       "</table>\n",
       "</div>"
      ],
      "text/plain": [
       "          A         B         C         D\n",
       "0  0.492898  1.788094  1.463672 -0.518784\n",
       "1 -0.301240 -0.445354  0.665120 -2.413412\n",
       "2 -0.781607 -0.713180  0.375666  0.050349\n",
       "3 -0.809009 -0.555411  1.479164 -0.069610\n",
       "4  1.400683 -0.215860  1.416780 -0.226059"
      ]
     },
     "execution_count": 9,
     "metadata": {},
     "output_type": "execute_result"
    }
   ],
   "source": [
    "df.head()"
   ]
  },
  {
   "cell_type": "code",
   "execution_count": 10,
   "metadata": {},
   "outputs": [],
   "source": [
    "df2 = pd.DataFrame({'Category':['A','B','C'],'Values':[32,43,50]})"
   ]
  },
  {
   "cell_type": "code",
   "execution_count": 11,
   "metadata": {},
   "outputs": [
    {
     "data": {
      "text/html": [
       "<div>\n",
       "<style scoped>\n",
       "    .dataframe tbody tr th:only-of-type {\n",
       "        vertical-align: middle;\n",
       "    }\n",
       "\n",
       "    .dataframe tbody tr th {\n",
       "        vertical-align: top;\n",
       "    }\n",
       "\n",
       "    .dataframe thead th {\n",
       "        text-align: right;\n",
       "    }\n",
       "</style>\n",
       "<table border=\"1\" class=\"dataframe\">\n",
       "  <thead>\n",
       "    <tr style=\"text-align: right;\">\n",
       "      <th></th>\n",
       "      <th>Category</th>\n",
       "      <th>Values</th>\n",
       "    </tr>\n",
       "  </thead>\n",
       "  <tbody>\n",
       "    <tr>\n",
       "      <th>0</th>\n",
       "      <td>A</td>\n",
       "      <td>32</td>\n",
       "    </tr>\n",
       "    <tr>\n",
       "      <th>1</th>\n",
       "      <td>B</td>\n",
       "      <td>43</td>\n",
       "    </tr>\n",
       "    <tr>\n",
       "      <th>2</th>\n",
       "      <td>C</td>\n",
       "      <td>50</td>\n",
       "    </tr>\n",
       "  </tbody>\n",
       "</table>\n",
       "</div>"
      ],
      "text/plain": [
       "  Category  Values\n",
       "0        A      32\n",
       "1        B      43\n",
       "2        C      50"
      ]
     },
     "execution_count": 11,
     "metadata": {},
     "output_type": "execute_result"
    }
   ],
   "source": [
    "df2"
   ]
  },
  {
   "cell_type": "code",
   "execution_count": 12,
   "metadata": {},
   "outputs": [
    {
     "data": {
      "text/plain": [
       "<matplotlib.axes._subplots.AxesSubplot at 0x22194153f08>"
      ]
     },
     "execution_count": 12,
     "metadata": {},
     "output_type": "execute_result"
    },
    {
     "data": {
      "image/png": "[encoded data removed]",
      "text/plain": [
       "<Figure size 432x288 with 1 Axes>"
      ]
     },
     "metadata": {
      "needs_background": "light"
     },
     "output_type": "display_data"
    }
   ],
   "source": [
    "df.plot()"
   ]
  },
  {
   "cell_type": "code",
   "execution_count": 13,
   "metadata": {},
   "outputs": [
    {
     "data": {
      "application/vnd.plotly.v1+json": {
       "config": {
        "linkText": "Export to plot.ly",
        "plotlyServerURL": "https://plot.ly",
        "showLink": true
       },
       "data": [
        {
         "line": {
          "color": "rgba(255, 153, 51, 1.0)",
          "dash": "solid",
          "shape": "linear",
          "width": 1.3
         },
         "mode": "lines",
         "name": "A",
         "text": "",
         "type": "scatter",
         "x": [
          0,
          1,
          2,
          3,
          4,
          5,
          6,
          7,
          8,
          9,
          10,
          11,
          12,
          13,
          14,
          15,
          16,
          17,
          18,
          19,
          20,
          21,
          22,
          23,
          24,
          25,
          26,
          27,
          28,
          29,
          30,
          31,
          32,
          33,
          34,
          35,
          36,
          37,
          38,
          39,
          40,
          41,
          42,
          43,
          44,
          45,
          46,
          47,
          48,
          49,
          50,
          51,
          52,
          53,
          54,
          55,
          56,
          57,
          58,
          59,
          60,
          61,
          62,
          63,
          64,
          65,
          66,
          67,
          68,
          69,
          70,
          71,
          72,
          73,
          74,
          75,
          76,
          77,
          78,
          79,
          80,
          81,
          82,
          83,
          84,
          85,
          86,
          87,
          88,
          89,
          90,
          91,
          92,
          93,
          94,
          95,
          96,
          97,
          98,
          99
         ],
         "y": [
          0.49289817131910324,
          -0.3012398972298208,
          -0.7816068221605069,
          -0.8090093152211132,
          1.4006830146786922,
          -0.19482583816277718,
          0.0604937012147241,
          2.119691209922694,
          0.7222242598679914,
          1.753235420367374,
          0.15830729803447974,
          -0.6341440309522819,
          -2.283999111080501,
          0.5531241386591951,
          -2.266708116322684,
          0.7042723917299197,
          0.6092425758622263,
          -0.340557220856165,
          -1.3041616905321494,
          0.18497826710035706,
          0.021565250924974123,
          -0.006075820444198791,
          -2.566727147075182,
          0.02730521303181981,
          -0.9939684925220701,
          -0.6223666531415607,
          1.776870439188865,
          0.01793289056711191,
          0.05680072212956541,
          0.43447933306281233,
          -1.453567536602802,
          0.22397366436895907,
          -0.47782199024703215,
          1.339102396303261,
          1.6080823076036965,
          0.20166945309703094,
          -1.4037713891573702,
          0.5106776942015245,
          -1.8190377132273154,
          -1.0337585498673065,
          0.5183548692185115,
          -1.0257448210609061,
          0.3360850564164397,
          1.6441074102925999,
          1.359625493547863,
          0.5732793595532124,
          -0.5467403903693552,
          0.40035282535498895,
          0.10515275916863191,
          -0.5263016957839567,
          -0.04432663132196094,
          0.8299882137593065,
          0.288974670977,
          1.4516357718944564,
          -0.4111386022214322,
          -2.1428502676999592,
          1.2035300277031884,
          -1.623937560391315,
          -0.3132882723386422,
          -0.5352367479666442,
          -0.6950356321246792,
          -0.33190243398305314,
          0.26383380532025796,
          -0.5184732009735258,
          0.5207487437274007,
          -1.5584295495848832,
          1.0170403191939565,
          0.07373919242253754,
          0.39030351930826057,
          0.3832708653059387,
          -0.6111638533706606,
          0.2944432971309082,
          0.4591500221941663,
          -1.3000294349405557,
          0.8493654040778634,
          -0.24454619551784645,
          2.5784605090664208,
          0.3470148257665814,
          0.4275832431758216,
          -0.02006983310330113,
          -0.22115821773805194,
          0.7441606483066695,
          -2.147666745538417,
          0.4022717625020178,
          1.015008131996003,
          -0.9614527011380453,
          0.6427549647493842,
          0.26275878026670807,
          -2.1811228596403294,
          -0.9651264344972399,
          -1.0807091355825975,
          -1.2704353852791637,
          -1.604220193082267,
          2.2757599377870004,
          -0.7460643325640582,
          -1.0270656913759506,
          -0.08472691139075982,
          -0.4397288250502953,
          -0.4051011158276595,
          0.0030321124322531187
         ]
        },
        {
         "line": {
          "color": "rgba(55, 128, 191, 1.0)",
          "dash": "solid",
          "shape": "linear",
          "width": 1.3
         },
         "mode": "lines",
         "name": "B",
         "text": "",
         "type": "scatter",
         "x": [
          0,
          1,
          2,
          3,
          4,
          5,
          6,
          7,
          8,
          9,
          10,
          11,
          12,
          13,
          14,
          15,
          16,
          17,
          18,
          19,
          20,
          21,
          22,
          23,
          24,
          25,
          26,
          27,
          28,
          29,
          30,
          31,
          32,
          33,
          34,
          35,
          36,
          37,
          38,
          39,
          40,
          41,
          42,
          43,
          44,
          45,
          46,
          47,
          48,
          49,
          50,
          51,
          52,
          53,
          54,
          55,
          56,
          57,
          58,
          59,
          60,
          61,
          62,
          63,
          64,
          65,
          66,
          67,
          68,
          69,
          70,
          71,
          72,
          73,
          74,
          75,
          76,
          77,
          78,
          79,
          80,
          81,
          82,
          83,
          84,
          85,
          86,
          87,
          88,
          89,
          90,
          91,
          92,
          93,
          94,
          95,
          96,
          97,
          98,
          99
         ],
         "y": [
          1.788094498128622,
          -0.44535443686305204,
          -0.7131795159657938,
          -0.5554106325242337,
          -0.21586035461825787,
          -0.697799365135744,
          1.097573763569276,
          0.035887813880043605,
          2.6195040661181466,
          0.6079529137881459,
          0.7436248459744537,
          -0.8618502776351192,
          -0.47747198195992685,
          0.22394260599753302,
          0.16778779907716984,
          -0.21439653722728408,
          -0.28082534999382414,
          -0.47247468827363853,
          -0.4506597477838028,
          0.6851240964961288,
          1.1619213588272501,
          -1.0702545218773423,
          0.4492565916692249,
          -1.1452374174231343,
          0.6940018241869989,
          1.7025908336350206,
          0.911095428268713,
          -0.8390868115640266,
          0.1663123644197956,
          0.3328100887697817,
          0.06435393233991418,
          -0.3710348748026914,
          -0.9179829095604276,
          -0.524999408533106,
          0.6652896007479878,
          1.5838460732342565,
          -0.006292105652858107,
          0.6036323038736936,
          -0.476844069070269,
          1.1387478354050842,
          0.03827391299502421,
          1.1285586150173448,
          0.14647132562841755,
          0.4044039554802493,
          -0.21088510943267336,
          -1.6753117569624703,
          -0.3294821012530378,
          0.6607752806792838,
          -0.13058529121836507,
          0.22371960616266628,
          -0.8188759246483298,
          -0.5854214437337317,
          -2.491158593278795,
          -1.0585519213970385,
          -0.03288668821960335,
          1.8329670294391918,
          0.605965626089157,
          -1.0337333776852846,
          0.3155519084756224,
          1.6015557409146575,
          0.6822350410713564,
          2.338739883832616,
          -1.1730419635505192,
          0.6391766373700845,
          1.289160748481995,
          -0.5420518881612237,
          0.5071628629766942,
          -0.40457294813531886,
          0.7270531601651469,
          -1.6646222754130013,
          0.40243397726927077,
          0.34311882064613747,
          0.6259398874778561,
          -1.009481363220773,
          0.2245743366277254,
          0.6600993412912876,
          -1.6075531641768765,
          0.46316037121790465,
          -0.5365819522636401,
          0.33546724504982794,
          0.709807510414665,
          -1.411526231278596,
          0.1236699459010611,
          0.30797864886790227,
          -0.7320151252688502,
          0.9815246074439794,
          0.546198609092013,
          1.7577800559208172,
          0.31626620547227696,
          0.42215646808605684,
          1.4971434747745829,
          -0.13994118394343455,
          0.8020527287884011,
          -0.004972773524476891,
          0.7420408197587705,
          -2.2243504385067503,
          0.11058060408422755,
          -0.07249780625225877,
          0.8482330339326772,
          -0.7747200231185339
         ]
        },
        {
         "line": {
          "color": "rgba(50, 171, 96, 1.0)",
          "dash": "solid",
          "shape": "linear",
          "width": 1.3
         },
         "mode": "lines",
         "name": "C",
         "text": "",
         "type": "scatter",
         "x": [
          0,
          1,
          2,
          3,
          4,
          5,
          6,
          7,
          8,
          9,
          10,
          11,
          12,
          13,
          14,
          15,
          16,
          17,
          18,
          19,
          20,
          21,
          22,
          23,
          24,
          25,
          26,
          27,
          28,
          29,
          30,
          31,
          32,
          33,
          34,
          35,
          36,
          37,
          38,
          39,
          40,
          41,
          42,
          43,
          44,
          45,
          46,
          47,
          48,
          49,
          50,
          51,
          52,
          53,
          54,
          55,
          56,
          57,
          58,
          59,
          60,
          61,
          62,
          63,
          64,
          65,
          66,
          67,
          68,
          69,
          70,
          71,
          72,
          73,
          74,
          75,
          76,
          77,
          78,
          79,
          80,
          81,
          82,
          83,
          84,
          85,
          86,
          87,
          88,
          89,
          90,
          91,
          92,
          93,
          94,
          95,
          96,
          97,
          98,
          99
         ],
         "y": [
          1.463672469166598,
          0.6651197192188135,
          0.37566576496129844,
          1.4791635585415648,
          1.4167798359311785,
          0.6675141209292036,
          0.5894767021021048,
          0.9301212541168372,
          0.27226748556495267,
          -0.06391177027598757,
          1.0010415184193269,
          1.0326165177182174,
          -0.8731298266611605,
          -0.46840514265026345,
          -0.3854634418756403,
          1.2459924037856747,
          0.8457350353558521,
          1.6337799788982934,
          0.7889157293396244,
          -0.6018538929253865,
          -0.545465322430264,
          0.09852540676052758,
          -0.009114980519238224,
          -0.30629952776384767,
          -1.2500465350505152,
          -0.042355212049775645,
          -0.6400215740203627,
          -1.1322927651162251,
          -1.2187668795188207,
          1.6938191102102707,
          -1.492066170203874,
          -0.3502846950994851,
          -1.7995148501102394,
          -1.1519112577389599,
          1.3602019488257686,
          1.0680044955077561,
          -2.161847520754712,
          -0.1555672793909803,
          -0.08755424424509188,
          0.15341729708932367,
          0.8209593576356582,
          0.5078408720603443,
          -0.06243714679218857,
          0.2973074236620757,
          0.7813467485374767,
          0.6973501319285956,
          -1.3783614386516876,
          0.21381270000361954,
          0.13057088665168068,
          -2.0962842050753214,
          -0.9153373599146069,
          -0.9073526341698958,
          0.7407521736326562,
          -1.5693456913844939,
          -0.16817904905543016,
          -0.814255736583778,
          -0.31505303878366353,
          0.6328591794772734,
          0.16821328929726775,
          -1.467656218336898,
          -0.042477711901061595,
          -2.596860879634435,
          0.11885605619163297,
          0.11604594671634334,
          0.45571495458637146,
          -0.8367063080226032,
          -0.4868194124432724,
          -0.6846042002152335,
          0.7787188235294727,
          0.7834546105714999,
          -0.4654595163663431,
          1.0627138382165682,
          -0.9162262576347874,
          0.9987637167369354,
          -0.8419795773955878,
          0.4972884991745363,
          0.5429426100243367,
          -1.2013471669665756,
          -0.22134747995347895,
          -0.9152126365884109,
          -0.6467294188414507,
          -0.02547528848355319,
          0.9620667204717402,
          2.054594371020456,
          -0.5926406463420172,
          -2.2405365890056217,
          -0.17541377487678347,
          0.3838316976959465,
          0.26351375595270154,
          1.80204891106008,
          0.3203700240814719,
          -0.6819345859625005,
          -0.413617630555659,
          0.38409204950645615,
          1.422836558643967,
          -1.208550225097222,
          0.3047803401765312,
          -0.846186163669692,
          0.18881194325830297,
          0.13831523685704977
         ]
        },
        {
         "line": {
          "color": "rgba(128, 0, 128, 1.0)",
          "dash": "solid",
          "shape": "linear",
          "width": 1.3
         },
         "mode": "lines",
         "name": "D",
         "text": "",
         "type": "scatter",
         "x": [
          0,
          1,
          2,
          3,
          4,
          5,
          6,
          7,
          8,
          9,
          10,
          11,
          12,
          13,
          14,
          15,
          16,
          17,
          18,
          19,
          20,
          21,
          22,
          23,
          24,
          25,
          26,
          27,
          28,
          29,
          30,
          31,
          32,
          33,
          34,
          35,
          36,
          37,
          38,
          39,
          40,
          41,
          42,
          43,
          44,
          45,
          46,
          47,
          48,
          49,
          50,
          51,
          52,
          53,
          54,
          55,
          56,
          57,
          58,
          59,
          60,
          61,
          62,
          63,
          64,
          65,
          66,
          67,
          68,
          69,
          70,
          71,
          72,
          73,
          74,
          75,
          76,
          77,
          78,
          79,
          80,
          81,
          82,
          83,
          84,
          85,
          86,
          87,
          88,
          89,
          90,
          91,
          92,
          93,
          94,
          95,
          96,
          97,
          98,
          99
         ],
         "y": [
          -0.518783594996111,
          -2.4134121292767667,
          0.05034939966290155,
          -0.06960957892298734,
          -0.2260588074572653,
          -1.927090999921165,
          0.024635095040146927,
          -0.7441625541298046,
          -0.025683679287609805,
          0.11843513989092828,
          -0.4849087333809206,
          -1.2954358425583201,
          1.0795564645448268,
          -0.6975424576353564,
          -0.2697714644042345,
          1.438968686818738,
          0.39409728828892954,
          -0.6265133870177304,
          -0.07824844526021912,
          -0.08591331765526902,
          0.8049923558872016,
          -1.0295399790894808,
          0.8786188084461379,
          0.46443962318469717,
          1.1761263431906517,
          -0.44440355978282203,
          0.9615156084487653,
          -0.5205899481735078,
          -1.7001403321488082,
          -0.5742156648569211,
          -1.5076041562325455,
          0.14358381613267093,
          1.513624324283302,
          0.20695348581256173,
          -2.4042855181268483,
          1.251628238049774,
          -1.3286629238691323,
          -2.050349258987114,
          0.9419130391059416,
          -0.7692435131584836,
          -0.8103901760540326,
          -0.8559410079422868,
          0.7022159222046942,
          0.03961153229562075,
          0.9446372185380836,
          -0.7598077508633341,
          0.24296278440062496,
          1.6967567370379988,
          -0.3540073619364603,
          1.2807823387911226,
          -0.3048581626816503,
          1.6063731950511038,
          -0.9068007722531073,
          -1.3243575537247236,
          -1.244128218309669,
          -1.850367569260154,
          -0.5710247020667107,
          0.28966820605365357,
          -1.1186418290222262,
          2.8885796606749925,
          -0.25131418682439843,
          -1.2651371623752403,
          -1.7208183825176575,
          -2.379348975057764,
          0.2833705925498279,
          0.9591099681660155,
          -1.0281961398773638,
          0.5430260260149434,
          -1.2345436637795881,
          0.3392535301869327,
          -0.12585274936717322,
          0.5724712772673114,
          1.647704705920134e-05,
          -0.9246796833279284,
          0.5755276455950149,
          1.1969623581801656,
          0.4712654848573027,
          -0.6803956435669573,
          0.6379021895182349,
          0.9897298422219863,
          -1.2442857660093052,
          -0.17387348445545497,
          0.5683303618787926,
          0.10724265170165377,
          0.2778618535670428,
          -0.16522749240533144,
          -0.9385785399474534,
          -0.7750686546066188,
          0.3468413043569452,
          -0.9061856008536254,
          -0.322226460099784,
          -0.462172141008642,
          1.3550041922182134,
          1.2579165177664244,
          -1.2587896313699054,
          -0.6742783069596625,
          0.19371989971395945,
          0.395530183978683,
          -0.6081088049058118,
          0.6488370810754313
         ]
        }
       ],
       "layout": {
        "legend": {
         "bgcolor": "#F5F6F9",
         "font": {
          "color": "#4D5663"
         }
        },
        "paper_bgcolor": "#F5F6F9",
        "plot_bgcolor": "#F5F6F9",
        "template": {
         "data": {
          "bar": [
           {
            "error_x": {
             "color": "#2a3f5f"
            },
            "error_y": {
             "color": "#2a3f5f"
            },
            "marker": {
             "line": {
              "color": "#E5ECF6",
              "width": 0.5
             }
            },
            "type": "bar"
           }
          ],
          "barpolar": [
           {
            "marker": {
             "line": {
              "color": "#E5ECF6",
              "width": 0.5
             }
            },
            "type": "barpolar"
           }
          ],
          "carpet": [
           {
            "aaxis": {
             "endlinecolor": "#2a3f5f",
             "gridcolor": "white",
             "linecolor": "white",
             "minorgridcolor": "white",
             "startlinecolor": "#2a3f5f"
            },
            "baxis": {
             "endlinecolor": "#2a3f5f",
             "gridcolor": "white",
             "linecolor": "white",
             "minorgridcolor": "white",
             "startlinecolor": "#2a3f5f"
            },
            "type": "carpet"
           }
          ],
          "choropleth": [
           {
            "colorbar": {
             "outlinewidth": 0,
             "ticks": ""
            },
            "type": "choropleth"
           }
          ],
          "contour": [
           {
            "colorbar": {
             "outlinewidth": 0,
             "ticks": ""
            },
            "colorscale": [
             [
              0,
              "#0d0887"
             ],
             [
              0.1111111111111111,
              "#46039f"
             ],
             [
              0.2222222222222222,
              "#7201a8"
             ],
             [
              0.3333333333333333,
              "#9c179e"
             ],
             [
              0.4444444444444444,
              "#bd3786"
             ],
             [
              0.5555555555555556,
              "#d8576b"
             ],
             [
              0.6666666666666666,
              "#ed7953"
             ],
             [
              0.7777777777777778,
              "#fb9f3a"
             ],
             [
              0.8888888888888888,
              "#fdca26"
             ],
             [
              1,
              "#f0f921"
             ]
            ],
            "type": "contour"
           }
          ],
          "contourcarpet": [
           {
            "colorbar": {
             "outlinewidth": 0,
             "ticks": ""
            },
            "type": "contourcarpet"
           }
          ],
          "heatmap": [
           {
            "colorbar": {
             "outlinewidth": 0,
             "ticks": ""
            },
            "colorscale": [
             [
              0,
              "#0d0887"
             ],
             [
              0.1111111111111111,
              "#46039f"
             ],
             [
              0.2222222222222222,
              "#7201a8"
             ],
             [
              0.3333333333333333,
              "#9c179e"
             ],
             [
              0.4444444444444444,
              "#bd3786"
             ],
             [
              0.5555555555555556,
              "#d8576b"
             ],
             [
              0.6666666666666666,
              "#ed7953"
             ],
             [
              0.7777777777777778,
              "#fb9f3a"
             ],
             [
              0.8888888888888888,
              "#fdca26"
             ],
             [
              1,
              "#f0f921"
             ]
            ],
            "type": "heatmap"
           }
          ],
          "heatmapgl": [
           {
            "colorbar": {
             "outlinewidth": 0,
             "ticks": ""
            },
            "colorscale": [
             [
              0,
              "#0d0887"
             ],
             [
              0.1111111111111111,
              "#46039f"
             ],
             [
              0.2222222222222222,
              "#7201a8"
             ],
             [
              0.3333333333333333,
              "#9c179e"
             ],
             [
              0.4444444444444444,
              "#bd3786"
             ],
             [
              0.5555555555555556,
              "#d8576b"
             ],
             [
              0.6666666666666666,
              "#ed7953"
             ],
             [
              0.7777777777777778,
              "#fb9f3a"
             ],
             [
              0.8888888888888888,
              "#fdca26"
             ],
             [
              1,
              "#f0f921"
             ]
            ],
            "type": "heatmapgl"
           }
          ],
          "histogram": [
           {
            "marker": {
             "colorbar": {
              "outlinewidth": 0,
              "ticks": ""
             }
            },
            "type": "histogram"
           }
          ],
          "histogram2d": [
           {
            "colorbar": {
             "outlinewidth": 0,
             "ticks": ""
            },
            "colorscale": [
             [
              0,
              "#0d0887"
             ],
             [
              0.1111111111111111,
              "#46039f"
             ],
             [
              0.2222222222222222,
              "#7201a8"
             ],
             [
              0.3333333333333333,
              "#9c179e"
             ],
             [
              0.4444444444444444,
              "#bd3786"
             ],
             [
              0.5555555555555556,
              "#d8576b"
             ],
             [
              0.6666666666666666,
              "#ed7953"
             ],
             [
              0.7777777777777778,
              "#fb9f3a"
             ],
             [
              0.8888888888888888,
              "#fdca26"
             ],
             [
              1,
              "#f0f921"
             ]
            ],
            "type": "histogram2d"
           }
          ],
          "histogram2dcontour": [
           {
            "colorbar": {
             "outlinewidth": 0,
             "ticks": ""
            },
            "colorscale": [
             [
              0,
              "#0d0887"
             ],
             [
              0.1111111111111111,
              "#46039f"
             ],
             [
              0.2222222222222222,
              "#7201a8"
             ],
             [
              0.3333333333333333,
              "#9c179e"
             ],
             [
              0.4444444444444444,
              "#bd3786"
             ],
             [
              0.5555555555555556,
              "#d8576b"
             ],
             [
              0.6666666666666666,
              "#ed7953"
             ],
             [
              0.7777777777777778,
              "#fb9f3a"
             ],
             [
              0.8888888888888888,
              "#fdca26"
             ],
             [
              1,
              "#f0f921"
             ]
            ],
            "type": "histogram2dcontour"
           }
          ],
          "mesh3d": [
           {
            "colorbar": {
             "outlinewidth": 0,
             "ticks": ""
            },
            "type": "mesh3d"
           }
          ],
          "parcoords": [
           {
            "line": {
             "colorbar": {
              "outlinewidth": 0,
              "ticks": ""
             }
            },
            "type": "parcoords"
           }
          ],
          "pie": [
           {
            "automargin": true,
            "type": "pie"
           }
          ],
          "scatter": [
           {
            "marker": {
             "colorbar": {
              "outlinewidth": 0,
              "ticks": ""
             }
            },
            "type": "scatter"
           }
          ],
          "scatter3d": [
           {
            "line": {
             "colorbar": {
              "outlinewidth": 0,
              "ticks": ""
             }
            },
            "marker": {
             "colorbar": {
              "outlinewidth": 0,
              "ticks": ""
             }
            },
            "type": "scatter3d"
           }
          ],
          "scattercarpet": [
           {
            "marker": {
             "colorbar": {
              "outlinewidth": 0,
              "ticks": ""
             }
            },
            "type": "scattercarpet"
           }
          ],
          "scattergeo": [
           {
            "marker": {
             "colorbar": {
              "outlinewidth": 0,
              "ticks": ""
             }
            },
            "type": "scattergeo"
           }
          ],
          "scattergl": [
           {
            "marker": {
             "colorbar": {
              "outlinewidth": 0,
              "ticks": ""
             }
            },
            "type": "scattergl"
           }
          ],
          "scattermapbox": [
           {
            "marker": {
             "colorbar": {
              "outlinewidth": 0,
              "ticks": ""
             }
            },
            "type": "scattermapbox"
           }
          ],
          "scatterpolar": [
           {
            "marker": {
             "colorbar": {
              "outlinewidth": 0,
              "ticks": ""
             }
            },
            "type": "scatterpolar"
           }
          ],
          "scatterpolargl": [
           {
            "marker": {
             "colorbar": {
              "outlinewidth": 0,
              "ticks": ""
             }
            },
            "type": "scatterpolargl"
           }
          ],
          "scatterternary": [
           {
            "marker": {
             "colorbar": {
              "outlinewidth": 0,
              "ticks": ""
             }
            },
            "type": "scatterternary"
           }
          ],
          "surface": [
           {
            "colorbar": {
             "outlinewidth": 0,
             "ticks": ""
            },
            "colorscale": [
             [
              0,
              "#0d0887"
             ],
             [
              0.1111111111111111,
              "#46039f"
             ],
             [
              0.2222222222222222,
              "#7201a8"
             ],
             [
              0.3333333333333333,
              "#9c179e"
             ],
             [
              0.4444444444444444,
              "#bd3786"
             ],
             [
              0.5555555555555556,
              "#d8576b"
             ],
             [
              0.6666666666666666,
              "#ed7953"
             ],
             [
              0.7777777777777778,
              "#fb9f3a"
             ],
             [
              0.8888888888888888,
              "#fdca26"
             ],
             [
              1,
              "#f0f921"
             ]
            ],
            "type": "surface"
           }
          ],
          "table": [
           {
            "cells": {
             "fill": {
              "color": "#EBF0F8"
             },
             "line": {
              "color": "white"
             }
            },
            "header": {
             "fill": {
              "color": "#C8D4E3"
             },
             "line": {
              "color": "white"
             }
            },
            "type": "table"
           }
          ]
         },
         "layout": {
          "annotationdefaults": {
           "arrowcolor": "#2a3f5f",
           "arrowhead": 0,
           "arrowwidth": 1
          },
          "coloraxis": {
           "colorbar": {
            "outlinewidth": 0,
            "ticks": ""
           }
          },
          "colorscale": {
           "diverging": [
            [
             0,
             "#8e0152"
            ],
            [
             0.1,
             "#c51b7d"
            ],
            [
             0.2,
             "#de77ae"
            ],
            [
             0.3,
             "#f1b6da"
            ],
            [
             0.4,
             "#fde0ef"
            ],
            [
             0.5,
             "#f7f7f7"
            ],
            [
             0.6,
             "#e6f5d0"
            ],
            [
             0.7,
             "#b8e186"
            ],
            [
             0.8,
             "#7fbc41"
            ],
            [
             0.9,
             "#4d9221"
            ],
            [
             1,
             "#276419"
            ]
           ],
           "sequential": [
            [
             0,
             "#0d0887"
            ],
            [
             0.1111111111111111,
             "#46039f"
            ],
            [
             0.2222222222222222,
             "#7201a8"
            ],
            [
             0.3333333333333333,
             "#9c179e"
            ],
            [
             0.4444444444444444,
             "#bd3786"
            ],
            [
             0.5555555555555556,
             "#d8576b"
            ],
            [
             0.6666666666666666,
             "#ed7953"
            ],
            [
             0.7777777777777778,
             "#fb9f3a"
            ],
            [
             0.8888888888888888,
             "#fdca26"
            ],
            [
             1,
             "#f0f921"
            ]
           ],
           "sequentialminus": [
            [
             0,
             "#0d0887"
            ],
            [
             0.1111111111111111,
             "#46039f"
            ],
            [
             0.2222222222222222,
             "#7201a8"
            ],
            [
             0.3333333333333333,
             "#9c179e"
            ],
            [
             0.4444444444444444,
             "#bd3786"
            ],
            [
             0.5555555555555556,
             "#d8576b"
            ],
            [
             0.6666666666666666,
             "#ed7953"
            ],
            [
             0.7777777777777778,
             "#fb9f3a"
            ],
            [
             0.8888888888888888,
             "#fdca26"
            ],
            [
             1,
             "#f0f921"
            ]
           ]
          },
          "colorway": [
           "#636efa",
           "#EF553B",
           "#00cc96",
           "#ab63fa",
           "#FFA15A",
           "#19d3f3",
           "#FF6692",
           "#B6E880",
           "#FF97FF",
           "#FECB52"
          ],
          "font": {
           "color": "#2a3f5f"
          },
          "geo": {
           "bgcolor": "white",
           "lakecolor": "white",
           "landcolor": "#E5ECF6",
           "showlakes": true,
           "showland": true,
           "subunitcolor": "white"
          },
          "hoverlabel": {
           "align": "left"
          },
          "hovermode": "closest",
          "mapbox": {
           "style": "light"
          },
          "paper_bgcolor": "white",
          "plot_bgcolor": "#E5ECF6",
          "polar": {
           "angularaxis": {
            "gridcolor": "white",
            "linecolor": "white",
            "ticks": ""
           },
           "bgcolor": "#E5ECF6",
           "radialaxis": {
            "gridcolor": "white",
            "linecolor": "white",
            "ticks": ""
           }
          },
          "scene": {
           "xaxis": {
            "backgroundcolor": "#E5ECF6",
            "gridcolor": "white",
            "gridwidth": 2,
            "linecolor": "white",
            "showbackground": true,
            "ticks": "",
            "zerolinecolor": "white"
           },
           "yaxis": {
            "backgroundcolor": "#E5ECF6",
            "gridcolor": "white",
            "gridwidth": 2,
            "linecolor": "white",
            "showbackground": true,
            "ticks": "",
            "zerolinecolor": "white"
           },
           "zaxis": {
            "backgroundcolor": "#E5ECF6",
            "gridcolor": "white",
            "gridwidth": 2,
            "linecolor": "white",
            "showbackground": true,
            "ticks": "",
            "zerolinecolor": "white"
           }
          },
          "shapedefaults": {
           "line": {
            "color": "#2a3f5f"
           }
          },
          "ternary": {
           "aaxis": {
            "gridcolor": "white",
            "linecolor": "white",
            "ticks": ""
           },
           "baxis": {
            "gridcolor": "white",
            "linecolor": "white",
            "ticks": ""
           },
           "bgcolor": "#E5ECF6",
           "caxis": {
            "gridcolor": "white",
            "linecolor": "white",
            "ticks": ""
           }
          },
          "title": {
           "x": 0.05
          },
          "xaxis": {
           "automargin": true,
           "gridcolor": "white",
           "linecolor": "white",
           "ticks": "",
           "title": {
            "standoff": 15
           },
           "zerolinecolor": "white",
           "zerolinewidth": 2
          },
          "yaxis": {
           "automargin": true,
           "gridcolor": "white",
           "linecolor": "white",
           "ticks": "",
           "title": {
            "standoff": 15
           },
           "zerolinecolor": "white",
           "zerolinewidth": 2
          }
         }
        },
        "title": {
         "font": {
          "color": "#4D5663"
         }
        },
        "xaxis": {
         "gridcolor": "#E1E5ED",
         "showgrid": true,
         "tickfont": {
          "color": "#4D5663"
         },
         "title": {
          "font": {
           "color": "#4D5663"
          },
          "text": ""
         },
         "zerolinecolor": "#E1E5ED"
        },
        "yaxis": {
         "gridcolor": "#E1E5ED",
         "showgrid": true,
         "tickfont": {
          "color": "#4D5663"
         },
         "title": {
          "font": {
           "color": "#4D5663"
          },
          "text": ""
         },
         "zerolinecolor": "#E1E5ED"
        }
       }
      },
      "text/html": [
       "<div>\n",
       "        \n",
       "        \n",
       "            <div id=\"4c5151af-9829-4862-a5b0-877fcd211a92\" class=\"plotly-graph-div\" style=\"height:525px; width:100%;\"></div>\n",
       "            <script type=\"text/javascript\">\n",
       "                require([\"plotly\"], function(Plotly) {\n",
       "                    window.PLOTLYENV=window.PLOTLYENV || {};\n",
       "                    window.PLOTLYENV.BASE_URL='https://plot.ly';\n",
       "                    \n",
       "                if (document.getElementById(\"4c5151af-9829-4862-a5b0-877fcd211a92\")) {\n",
       "                    Plotly.newPlot(\n",
       "                        '4c5151af-9829-4862-a5b0-877fcd211a92',\n",
       "                        [{\"line\": {\"color\": \"rgba(255, 153, 51, 1.0)\", \"dash\": \"solid\", \"shape\": \"linear\", \"width\": 1.3}, \"mode\": \"lines\", \"name\": \"A\", \"text\": \"\", \"type\": \"scatter\", \"x\": [0, 1, 2, 3, 4, 5, 6, 7, 8, 9, 10, 11, 12, 13, 14, 15, 16, 17, 18, 19, 20, 21, 22, 23, 24, 25, 26, 27, 28, 29, 30, 31, 32, 33, 34, 35, 36, 37, 38, 39, 40, 41, 42, 43, 44, 45, 46, 47, 48, 49, 50, 51, 52, 53, 54, 55, 56, 57, 58, 59, 60, 61, 62, 63, 64, 65, 66, 67, 68, 69, 70, 71, 72, 73, 74, 75, 76, 77, 78, 79, 80, 81, 82, 83, 84, 85, 86, 87, 88, 89, 90, 91, 92, 93, 94, 95, 96, 97, 98, 99], \"y\": [0.49289817131910324, -0.3012398972298208, -0.7816068221605069, -0.8090093152211132, 1.4006830146786922, -0.19482583816277718, 0.0604937012147241, 2.119691209922694, 0.7222242598679914, 1.753235420367374, 0.15830729803447974, -0.6341440309522819, -2.283999111080501, 0.5531241386591951, -2.266708116322684, 0.7042723917299197, 0.6092425758622263, -0.340557220856165, -1.3041616905321494, 0.18497826710035706, 0.021565250924974123, -0.006075820444198791, -2.566727147075182, 0.02730521303181981, -0.9939684925220701, -0.6223666531415607, 1.776870439188865, 0.01793289056711191, 0.05680072212956541, 0.43447933306281233, -1.453567536602802, 0.22397366436895907, -0.47782199024703215, 1.339102396303261, 1.6080823076036965, 0.20166945309703094, -1.4037713891573702, 0.5106776942015245, -1.8190377132273154, -1.0337585498673065, 0.5183548692185115, -1.0257448210609061, 0.3360850564164397, 1.6441074102925999, 1.359625493547863, 0.5732793595532124, -0.5467403903693552, 0.40035282535498895, 0.10515275916863191, -0.5263016957839567, -0.04432663132196094, 0.8299882137593065, 0.288974670977, 1.4516357718944564, -0.4111386022214322, -2.1428502676999592, 1.2035300277031884, -1.623937560391315, -0.3132882723386422, -0.5352367479666442, -0.6950356321246792, -0.33190243398305314, 0.26383380532025796, -0.5184732009735258, 0.5207487437274007, -1.5584295495848832, 1.0170403191939565, 0.07373919242253754, 0.39030351930826057, 0.3832708653059387, -0.6111638533706606, 0.2944432971309082, 0.4591500221941663, -1.3000294349405557, 0.8493654040778634, -0.24454619551784645, 2.5784605090664208, 0.3470148257665814, 0.4275832431758216, -0.02006983310330113, -0.22115821773805194, 0.7441606483066695, -2.147666745538417, 0.4022717625020178, 1.015008131996003, -0.9614527011380453, 0.6427549647493842, 0.26275878026670807, -2.1811228596403294, -0.9651264344972399, -1.0807091355825975, -1.2704353852791637, -1.604220193082267, 2.2757599377870004, -0.7460643325640582, -1.0270656913759506, -0.08472691139075982, -0.4397288250502953, -0.4051011158276595, 0.0030321124322531187]}, {\"line\": {\"color\": \"rgba(55, 128, 191, 1.0)\", \"dash\": \"solid\", \"shape\": \"linear\", \"width\": 1.3}, \"mode\": \"lines\", \"name\": \"B\", \"text\": \"\", \"type\": \"scatter\", \"x\": [0, 1, 2, 3, 4, 5, 6, 7, 8, 9, 10, 11, 12, 13, 14, 15, 16, 17, 18, 19, 20, 21, 22, 23, 24, 25, 26, 27, 28, 29, 30, 31, 32, 33, 34, 35, 36, 37, 38, 39, 40, 41, 42, 43, 44, 45, 46, 47, 48, 49, 50, 51, 52, 53, 54, 55, 56, 57, 58, 59, 60, 61, 62, 63, 64, 65, 66, 67, 68, 69, 70, 71, 72, 73, 74, 75, 76, 77, 78, 79, 80, 81, 82, 83, 84, 85, 86, 87, 88, 89, 90, 91, 92, 93, 94, 95, 96, 97, 98, 99], \"y\": [1.788094498128622, -0.44535443686305204, -0.7131795159657938, -0.5554106325242337, -0.21586035461825787, -0.697799365135744, 1.097573763569276, 0.035887813880043605, 2.6195040661181466, 0.6079529137881459, 0.7436248459744537, -0.8618502776351192, -0.47747198195992685, 0.22394260599753302, 0.16778779907716984, -0.21439653722728408, -0.28082534999382414, -0.47247468827363853, -0.4506597477838028, 0.6851240964961288, 1.1619213588272501, -1.0702545218773423, 0.4492565916692249, -1.1452374174231343, 0.6940018241869989, 1.7025908336350206, 0.911095428268713, -0.8390868115640266, 0.1663123644197956, 0.3328100887697817, 0.06435393233991418, -0.3710348748026914, -0.9179829095604276, -0.524999408533106, 0.6652896007479878, 1.5838460732342565, -0.006292105652858107, 0.6036323038736936, -0.476844069070269, 1.1387478354050842, 0.03827391299502421, 1.1285586150173448, 0.14647132562841755, 0.4044039554802493, -0.21088510943267336, -1.6753117569624703, -0.3294821012530378, 0.6607752806792838, -0.13058529121836507, 0.22371960616266628, -0.8188759246483298, -0.5854214437337317, -2.491158593278795, -1.0585519213970385, -0.03288668821960335, 1.8329670294391918, 0.605965626089157, -1.0337333776852846, 0.3155519084756224, 1.6015557409146575, 0.6822350410713564, 2.338739883832616, -1.1730419635505192, 0.6391766373700845, 1.289160748481995, -0.5420518881612237, 0.5071628629766942, -0.40457294813531886, 0.7270531601651469, -1.6646222754130013, 0.40243397726927077, 0.34311882064613747, 0.6259398874778561, -1.009481363220773, 0.2245743366277254, 0.6600993412912876, -1.6075531641768765, 0.46316037121790465, -0.5365819522636401, 0.33546724504982794, 0.709807510414665, -1.411526231278596, 0.1236699459010611, 0.30797864886790227, -0.7320151252688502, 0.9815246074439794, 0.546198609092013, 1.7577800559208172, 0.31626620547227696, 0.42215646808605684, 1.4971434747745829, -0.13994118394343455, 0.8020527287884011, -0.004972773524476891, 0.7420408197587705, -2.2243504385067503, 0.11058060408422755, -0.07249780625225877, 0.8482330339326772, -0.7747200231185339]}, {\"line\": {\"color\": \"rgba(50, 171, 96, 1.0)\", \"dash\": \"solid\", \"shape\": \"linear\", \"width\": 1.3}, \"mode\": \"lines\", \"name\": \"C\", \"text\": \"\", \"type\": \"scatter\", \"x\": [0, 1, 2, 3, 4, 5, 6, 7, 8, 9, 10, 11, 12, 13, 14, 15, 16, 17, 18, 19, 20, 21, 22, 23, 24, 25, 26, 27, 28, 29, 30, 31, 32, 33, 34, 35, 36, 37, 38, 39, 40, 41, 42, 43, 44, 45, 46, 47, 48, 49, 50, 51, 52, 53, 54, 55, 56, 57, 58, 59, 60, 61, 62, 63, 64, 65, 66, 67, 68, 69, 70, 71, 72, 73, 74, 75, 76, 77, 78, 79, 80, 81, 82, 83, 84, 85, 86, 87, 88, 89, 90, 91, 92, 93, 94, 95, 96, 97, 98, 99], \"y\": [1.463672469166598, 0.6651197192188135, 0.37566576496129844, 1.4791635585415648, 1.4167798359311785, 0.6675141209292036, 0.5894767021021048, 0.9301212541168372, 0.27226748556495267, -0.06391177027598757, 1.0010415184193269, 1.0326165177182174, -0.8731298266611605, -0.46840514265026345, -0.3854634418756403, 1.2459924037856747, 0.8457350353558521, 1.6337799788982934, 0.7889157293396244, -0.6018538929253865, -0.545465322430264, 0.09852540676052758, -0.009114980519238224, -0.30629952776384767, -1.2500465350505152, -0.042355212049775645, -0.6400215740203627, -1.1322927651162251, -1.2187668795188207, 1.6938191102102707, -1.492066170203874, -0.3502846950994851, -1.7995148501102394, -1.1519112577389599, 1.3602019488257686, 1.0680044955077561, -2.161847520754712, -0.1555672793909803, -0.08755424424509188, 0.15341729708932367, 0.8209593576356582, 0.5078408720603443, -0.06243714679218857, 0.2973074236620757, 0.7813467485374767, 0.6973501319285956, -1.3783614386516876, 0.21381270000361954, 0.13057088665168068, -2.0962842050753214, -0.9153373599146069, -0.9073526341698958, 0.7407521736326562, -1.5693456913844939, -0.16817904905543016, -0.814255736583778, -0.31505303878366353, 0.6328591794772734, 0.16821328929726775, -1.467656218336898, -0.042477711901061595, -2.596860879634435, 0.11885605619163297, 0.11604594671634334, 0.45571495458637146, -0.8367063080226032, -0.4868194124432724, -0.6846042002152335, 0.7787188235294727, 0.7834546105714999, -0.4654595163663431, 1.0627138382165682, -0.9162262576347874, 0.9987637167369354, -0.8419795773955878, 0.4972884991745363, 0.5429426100243367, -1.2013471669665756, -0.22134747995347895, -0.9152126365884109, -0.6467294188414507, -0.02547528848355319, 0.9620667204717402, 2.054594371020456, -0.5926406463420172, -2.2405365890056217, -0.17541377487678347, 0.3838316976959465, 0.26351375595270154, 1.80204891106008, 0.3203700240814719, -0.6819345859625005, -0.413617630555659, 0.38409204950645615, 1.422836558643967, -1.208550225097222, 0.3047803401765312, -0.846186163669692, 0.18881194325830297, 0.13831523685704977]}, {\"line\": {\"color\": \"rgba(128, 0, 128, 1.0)\", \"dash\": \"solid\", \"shape\": \"linear\", \"width\": 1.3}, \"mode\": \"lines\", \"name\": \"D\", \"text\": \"\", \"type\": \"scatter\", \"x\": [0, 1, 2, 3, 4, 5, 6, 7, 8, 9, 10, 11, 12, 13, 14, 15, 16, 17, 18, 19, 20, 21, 22, 23, 24, 25, 26, 27, 28, 29, 30, 31, 32, 33, 34, 35, 36, 37, 38, 39, 40, 41, 42, 43, 44, 45, 46, 47, 48, 49, 50, 51, 52, 53, 54, 55, 56, 57, 58, 59, 60, 61, 62, 63, 64, 65, 66, 67, 68, 69, 70, 71, 72, 73, 74, 75, 76, 77, 78, 79, 80, 81, 82, 83, 84, 85, 86, 87, 88, 89, 90, 91, 92, 93, 94, 95, 96, 97, 98, 99], \"y\": [-0.518783594996111, -2.4134121292767667, 0.05034939966290155, -0.06960957892298734, -0.2260588074572653, -1.927090999921165, 0.024635095040146927, -0.7441625541298046, -0.025683679287609805, 0.11843513989092828, -0.4849087333809206, -1.2954358425583201, 1.0795564645448268, -0.6975424576353564, -0.2697714644042345, 1.438968686818738, 0.39409728828892954, -0.6265133870177304, -0.07824844526021912, -0.08591331765526902, 0.8049923558872016, -1.0295399790894808, 0.8786188084461379, 0.46443962318469717, 1.1761263431906517, -0.44440355978282203, 0.9615156084487653, -0.5205899481735078, -1.7001403321488082, -0.5742156648569211, -1.5076041562325455, 0.14358381613267093, 1.513624324283302, 0.20695348581256173, -2.4042855181268483, 1.251628238049774, -1.3286629238691323, -2.050349258987114, 0.9419130391059416, -0.7692435131584836, -0.8103901760540326, -0.8559410079422868, 0.7022159222046942, 0.03961153229562075, 0.9446372185380836, -0.7598077508633341, 0.24296278440062496, 1.6967567370379988, -0.3540073619364603, 1.2807823387911226, -0.3048581626816503, 1.6063731950511038, -0.9068007722531073, -1.3243575537247236, -1.244128218309669, -1.850367569260154, -0.5710247020667107, 0.28966820605365357, -1.1186418290222262, 2.8885796606749925, -0.25131418682439843, -1.2651371623752403, -1.7208183825176575, -2.379348975057764, 0.2833705925498279, 0.9591099681660155, -1.0281961398773638, 0.5430260260149434, -1.2345436637795881, 0.3392535301869327, -0.12585274936717322, 0.5724712772673114, 1.647704705920134e-05, -0.9246796833279284, 0.5755276455950149, 1.1969623581801656, 0.4712654848573027, -0.6803956435669573, 0.6379021895182349, 0.9897298422219863, -1.2442857660093052, -0.17387348445545497, 0.5683303618787926, 0.10724265170165377, 0.2778618535670428, -0.16522749240533144, -0.9385785399474534, -0.7750686546066188, 0.3468413043569452, -0.9061856008536254, -0.322226460099784, -0.462172141008642, 1.3550041922182134, 1.2579165177664244, -1.2587896313699054, -0.6742783069596625, 0.19371989971395945, 0.395530183978683, -0.6081088049058118, 0.6488370810754313]}],\n",
       "                        {\"legend\": {\"bgcolor\": \"#F5F6F9\", \"font\": {\"color\": \"#4D5663\"}}, \"paper_bgcolor\": \"#F5F6F9\", \"plot_bgcolor\": \"#F5F6F9\", \"template\": {\"data\": {\"bar\": [{\"error_x\": {\"color\": \"#2a3f5f\"}, \"error_y\": {\"color\": \"#2a3f5f\"}, \"marker\": {\"line\": {\"color\": \"#E5ECF6\", \"width\": 0.5}}, \"type\": \"bar\"}], \"barpolar\": [{\"marker\": {\"line\": {\"color\": \"#E5ECF6\", \"width\": 0.5}}, \"type\": \"barpolar\"}], \"carpet\": [{\"aaxis\": {\"endlinecolor\": \"#2a3f5f\", \"gridcolor\": \"white\", \"linecolor\": \"white\", \"minorgridcolor\": \"white\", \"startlinecolor\": \"#2a3f5f\"}, \"baxis\": {\"endlinecolor\": \"#2a3f5f\", \"gridcolor\": \"white\", \"linecolor\": \"white\", \"minorgridcolor\": \"white\", \"startlinecolor\": \"#2a3f5f\"}, \"type\": \"carpet\"}], \"choropleth\": [{\"colorbar\": {\"outlinewidth\": 0, \"ticks\": \"\"}, \"type\": \"choropleth\"}], \"contour\": [{\"colorbar\": {\"outlinewidth\": 0, \"ticks\": \"\"}, \"colorscale\": [[0.0, \"#0d0887\"], [0.1111111111111111, \"#46039f\"], [0.2222222222222222, \"#7201a8\"], [0.3333333333333333, \"#9c179e\"], [0.4444444444444444, \"#bd3786\"], [0.5555555555555556, \"#d8576b\"], [0.6666666666666666, \"#ed7953\"], [0.7777777777777778, \"#fb9f3a\"], [0.8888888888888888, \"#fdca26\"], [1.0, \"#f0f921\"]], \"type\": \"contour\"}], \"contourcarpet\": [{\"colorbar\": {\"outlinewidth\": 0, \"ticks\": \"\"}, \"type\": \"contourcarpet\"}], \"heatmap\": [{\"colorbar\": {\"outlinewidth\": 0, \"ticks\": \"\"}, \"colorscale\": [[0.0, \"#0d0887\"], [0.1111111111111111, \"#46039f\"], [0.2222222222222222, \"#7201a8\"], [0.3333333333333333, \"#9c179e\"], [0.4444444444444444, \"#bd3786\"], [0.5555555555555556, \"#d8576b\"], [0.6666666666666666, \"#ed7953\"], [0.7777777777777778, \"#fb9f3a\"], [0.8888888888888888, \"#fdca26\"], [1.0, \"#f0f921\"]], \"type\": \"heatmap\"}], \"heatmapgl\": [{\"colorbar\": {\"outlinewidth\": 0, \"ticks\": \"\"}, \"colorscale\": [[0.0, \"#0d0887\"], [0.1111111111111111, \"#46039f\"], [0.2222222222222222, \"#7201a8\"], [0.3333333333333333, \"#9c179e\"], [0.4444444444444444, \"#bd3786\"], [0.5555555555555556, \"#d8576b\"], [0.6666666666666666, \"#ed7953\"], [0.7777777777777778, \"#fb9f3a\"], [0.8888888888888888, \"#fdca26\"], [1.0, \"#f0f921\"]], \"type\": \"heatmapgl\"}], \"histogram\": [{\"marker\": {\"colorbar\": {\"outlinewidth\": 0, \"ticks\": \"\"}}, \"type\": \"histogram\"}], \"histogram2d\": [{\"colorbar\": {\"outlinewidth\": 0, \"ticks\": \"\"}, \"colorscale\": [[0.0, \"#0d0887\"], [0.1111111111111111, \"#46039f\"], [0.2222222222222222, \"#7201a8\"], [0.3333333333333333, \"#9c179e\"], [0.4444444444444444, \"#bd3786\"], [0.5555555555555556, \"#d8576b\"], [0.6666666666666666, \"#ed7953\"], [0.7777777777777778, \"#fb9f3a\"], [0.8888888888888888, \"#fdca26\"], [1.0, \"#f0f921\"]], \"type\": \"histogram2d\"}], \"histogram2dcontour\": [{\"colorbar\": {\"outlinewidth\": 0, \"ticks\": \"\"}, \"colorscale\": [[0.0, \"#0d0887\"], [0.1111111111111111, \"#46039f\"], [0.2222222222222222, \"#7201a8\"], [0.3333333333333333, \"#9c179e\"], [0.4444444444444444, \"#bd3786\"], [0.5555555555555556, \"#d8576b\"], [0.6666666666666666, \"#ed7953\"], [0.7777777777777778, \"#fb9f3a\"], [0.8888888888888888, \"#fdca26\"], [1.0, \"#f0f921\"]], \"type\": \"histogram2dcontour\"}], \"mesh3d\": [{\"colorbar\": {\"outlinewidth\": 0, \"ticks\": \"\"}, \"type\": \"mesh3d\"}], \"parcoords\": [{\"line\": {\"colorbar\": {\"outlinewidth\": 0, \"ticks\": \"\"}}, \"type\": \"parcoords\"}], \"pie\": [{\"automargin\": true, \"type\": \"pie\"}], \"scatter\": [{\"marker\": {\"colorbar\": {\"outlinewidth\": 0, \"ticks\": \"\"}}, \"type\": \"scatter\"}], \"scatter3d\": [{\"line\": {\"colorbar\": {\"outlinewidth\": 0, \"ticks\": \"\"}}, \"marker\": {\"colorbar\": {\"outlinewidth\": 0, \"ticks\": \"\"}}, \"type\": \"scatter3d\"}], \"scattercarpet\": [{\"marker\": {\"colorbar\": {\"outlinewidth\": 0, \"ticks\": \"\"}}, \"type\": \"scattercarpet\"}], \"scattergeo\": [{\"marker\": {\"colorbar\": {\"outlinewidth\": 0, \"ticks\": \"\"}}, \"type\": \"scattergeo\"}], \"scattergl\": [{\"marker\": {\"colorbar\": {\"outlinewidth\": 0, \"ticks\": \"\"}}, \"type\": \"scattergl\"}], \"scattermapbox\": [{\"marker\": {\"colorbar\": {\"outlinewidth\": 0, \"ticks\": \"\"}}, \"type\": \"scattermapbox\"}], \"scatterpolar\": [{\"marker\": {\"colorbar\": {\"outlinewidth\": 0, \"ticks\": \"\"}}, \"type\": \"scatterpolar\"}], \"scatterpolargl\": [{\"marker\": {\"colorbar\": {\"outlinewidth\": 0, \"ticks\": \"\"}}, \"type\": \"scatterpolargl\"}], \"scatterternary\": [{\"marker\": {\"colorbar\": {\"outlinewidth\": 0, \"ticks\": \"\"}}, \"type\": \"scatterternary\"}], \"surface\": [{\"colorbar\": {\"outlinewidth\": 0, \"ticks\": \"\"}, \"colorscale\": [[0.0, \"#0d0887\"], [0.1111111111111111, \"#46039f\"], [0.2222222222222222, \"#7201a8\"], [0.3333333333333333, \"#9c179e\"], [0.4444444444444444, \"#bd3786\"], [0.5555555555555556, \"#d8576b\"], [0.6666666666666666, \"#ed7953\"], [0.7777777777777778, \"#fb9f3a\"], [0.8888888888888888, \"#fdca26\"], [1.0, \"#f0f921\"]], \"type\": \"surface\"}], \"table\": [{\"cells\": {\"fill\": {\"color\": \"#EBF0F8\"}, \"line\": {\"color\": \"white\"}}, \"header\": {\"fill\": {\"color\": \"#C8D4E3\"}, \"line\": {\"color\": \"white\"}}, \"type\": \"table\"}]}, \"layout\": {\"annotationdefaults\": {\"arrowcolor\": \"#2a3f5f\", \"arrowhead\": 0, \"arrowwidth\": 1}, \"coloraxis\": {\"colorbar\": {\"outlinewidth\": 0, \"ticks\": \"\"}}, \"colorscale\": {\"diverging\": [[0, \"#8e0152\"], [0.1, \"#c51b7d\"], [0.2, \"#de77ae\"], [0.3, \"#f1b6da\"], [0.4, \"#fde0ef\"], [0.5, \"#f7f7f7\"], [0.6, \"#e6f5d0\"], [0.7, \"#b8e186\"], [0.8, \"#7fbc41\"], [0.9, \"#4d9221\"], [1, \"#276419\"]], \"sequential\": [[0.0, \"#0d0887\"], [0.1111111111111111, \"#46039f\"], [0.2222222222222222, \"#7201a8\"], [0.3333333333333333, \"#9c179e\"], [0.4444444444444444, \"#bd3786\"], [0.5555555555555556, \"#d8576b\"], [0.6666666666666666, \"#ed7953\"], [0.7777777777777778, \"#fb9f3a\"], [0.8888888888888888, \"#fdca26\"], [1.0, \"#f0f921\"]], \"sequentialminus\": [[0.0, \"#0d0887\"], [0.1111111111111111, \"#46039f\"], [0.2222222222222222, \"#7201a8\"], [0.3333333333333333, \"#9c179e\"], [0.4444444444444444, \"#bd3786\"], [0.5555555555555556, \"#d8576b\"], [0.6666666666666666, \"#ed7953\"], [0.7777777777777778, \"#fb9f3a\"], [0.8888888888888888, \"#fdca26\"], [1.0, \"#f0f921\"]]}, \"colorway\": [\"#636efa\", \"#EF553B\", \"#00cc96\", \"#ab63fa\", \"#FFA15A\", \"#19d3f3\", \"#FF6692\", \"#B6E880\", \"#FF97FF\", \"#FECB52\"], \"font\": {\"color\": \"#2a3f5f\"}, \"geo\": {\"bgcolor\": \"white\", \"lakecolor\": \"white\", \"landcolor\": \"#E5ECF6\", \"showlakes\": true, \"showland\": true, \"subunitcolor\": \"white\"}, \"hoverlabel\": {\"align\": \"left\"}, \"hovermode\": \"closest\", \"mapbox\": {\"style\": \"light\"}, \"paper_bgcolor\": \"white\", \"plot_bgcolor\": \"#E5ECF6\", \"polar\": {\"angularaxis\": {\"gridcolor\": \"white\", \"linecolor\": \"white\", \"ticks\": \"\"}, \"bgcolor\": \"#E5ECF6\", \"radialaxis\": {\"gridcolor\": \"white\", \"linecolor\": \"white\", \"ticks\": \"\"}}, \"scene\": {\"xaxis\": {\"backgroundcolor\": \"#E5ECF6\", \"gridcolor\": \"white\", \"gridwidth\": 2, \"linecolor\": \"white\", \"showbackground\": true, \"ticks\": \"\", \"zerolinecolor\": \"white\"}, \"yaxis\": {\"backgroundcolor\": \"#E5ECF6\", \"gridcolor\": \"white\", \"gridwidth\": 2, \"linecolor\": \"white\", \"showbackground\": true, \"ticks\": \"\", \"zerolinecolor\": \"white\"}, \"zaxis\": {\"backgroundcolor\": \"#E5ECF6\", \"gridcolor\": \"white\", \"gridwidth\": 2, \"linecolor\": \"white\", \"showbackground\": true, \"ticks\": \"\", \"zerolinecolor\": \"white\"}}, \"shapedefaults\": {\"line\": {\"color\": \"#2a3f5f\"}}, \"ternary\": {\"aaxis\": {\"gridcolor\": \"white\", \"linecolor\": \"white\", \"ticks\": \"\"}, \"baxis\": {\"gridcolor\": \"white\", \"linecolor\": \"white\", \"ticks\": \"\"}, \"bgcolor\": \"#E5ECF6\", \"caxis\": {\"gridcolor\": \"white\", \"linecolor\": \"white\", \"ticks\": \"\"}}, \"title\": {\"x\": 0.05}, \"xaxis\": {\"automargin\": true, \"gridcolor\": \"white\", \"linecolor\": \"white\", \"ticks\": \"\", \"title\": {\"standoff\": 15}, \"zerolinecolor\": \"white\", \"zerolinewidth\": 2}, \"yaxis\": {\"automargin\": true, \"gridcolor\": \"white\", \"linecolor\": \"white\", \"ticks\": \"\", \"title\": {\"standoff\": 15}, \"zerolinecolor\": \"white\", \"zerolinewidth\": 2}}}, \"title\": {\"font\": {\"color\": \"#4D5663\"}}, \"xaxis\": {\"gridcolor\": \"#E1E5ED\", \"showgrid\": true, \"tickfont\": {\"color\": \"#4D5663\"}, \"title\": {\"font\": {\"color\": \"#4D5663\"}, \"text\": \"\"}, \"zerolinecolor\": \"#E1E5ED\"}, \"yaxis\": {\"gridcolor\": \"#E1E5ED\", \"showgrid\": true, \"tickfont\": {\"color\": \"#4D5663\"}, \"title\": {\"font\": {\"color\": \"#4D5663\"}, \"text\": \"\"}, \"zerolinecolor\": \"#E1E5ED\"}},\n",
       "                        {\"showLink\": true, \"linkText\": \"Export to plot.ly\", \"plotlyServerURL\": \"https://plot.ly\", \"responsive\": true}\n",
       "                    ).then(function(){\n",
       "                            \n",
       "var gd = document.getElementById('4c5151af-9829-4862-a5b0-877fcd211a92');\n",
       "var x = new MutationObserver(function (mutations, observer) {{\n",
       "        var display = window.getComputedStyle(gd).display;\n",
       "        if (!display || display === 'none') {{\n",
       "            console.log([gd, 'removed!']);\n",
       "            Plotly.purge(gd);\n",
       "            observer.disconnect();\n",
       "        }}\n",
       "}});\n",
       "\n",
       "// Listen for the removal of the full notebook cells\n",
       "var notebookContainer = gd.closest('#notebook-container');\n",
       "if (notebookContainer) {{\n",
       "    x.observe(notebookContainer, {childList: true});\n",
       "}}\n",
       "\n",
       "// Listen for the clearing of the current output cell\n",
       "var outputEl = gd.closest('.output');\n",
       "if (outputEl) {{\n",
       "    x.observe(outputEl, {childList: true});\n",
       "}}\n",
       "\n",
       "                        })\n",
       "                };\n",
       "                });\n",
       "            </script>\n",
       "        </div>"
      ]
     },
     "metadata": {},
     "output_type": "display_data"
    }
   ],
   "source": [
    "df.iplot()"
   ]
  },
  {
   "cell_type": "code",
   "execution_count": 14,
   "metadata": {},
   "outputs": [
    {
     "data": {
      "application/vnd.plotly.v1+json": {
       "config": {
        "linkText": "Export to plot.ly",
        "plotlyServerURL": "https://plot.ly",
        "showLink": true
       },
       "data": [
        {
         "line": {
          "color": "rgba(255, 153, 51, 1.0)",
          "dash": "solid",
          "shape": "linear",
          "width": 1.3
         },
         "mode": "lines",
         "name": "B",
         "text": "",
         "type": "scatter",
         "x": [
          0.49289817131910324,
          -0.3012398972298208,
          -0.7816068221605069,
          -0.8090093152211132,
          1.4006830146786922,
          -0.19482583816277718,
          0.0604937012147241,
          2.119691209922694,
          0.7222242598679914,
          1.753235420367374,
          0.15830729803447974,
          -0.6341440309522819,
          -2.283999111080501,
          0.5531241386591951,
          -2.266708116322684,
          0.7042723917299197,
          0.6092425758622263,
          -0.340557220856165,
          -1.3041616905321494,
          0.18497826710035706,
          0.021565250924974123,
          -0.006075820444198791,
          -2.566727147075182,
          0.02730521303181981,
          -0.9939684925220701,
          -0.6223666531415607,
          1.776870439188865,
          0.01793289056711191,
          0.05680072212956541,
          0.43447933306281233,
          -1.453567536602802,
          0.22397366436895907,
          -0.47782199024703215,
          1.339102396303261,
          1.6080823076036965,
          0.20166945309703094,
          -1.4037713891573702,
          0.5106776942015245,
          -1.8190377132273154,
          -1.0337585498673065,
          0.5183548692185115,
          -1.0257448210609061,
          0.3360850564164397,
          1.6441074102925999,
          1.359625493547863,
          0.5732793595532124,
          -0.5467403903693552,
          0.40035282535498895,
          0.10515275916863191,
          -0.5263016957839567,
          -0.04432663132196094,
          0.8299882137593065,
          0.288974670977,
          1.4516357718944564,
          -0.4111386022214322,
          -2.1428502676999592,
          1.2035300277031884,
          -1.623937560391315,
          -0.3132882723386422,
          -0.5352367479666442,
          -0.6950356321246792,
          -0.33190243398305314,
          0.26383380532025796,
          -0.5184732009735258,
          0.5207487437274007,
          -1.5584295495848832,
          1.0170403191939565,
          0.07373919242253754,
          0.39030351930826057,
          0.3832708653059387,
          -0.6111638533706606,
          0.2944432971309082,
          0.4591500221941663,
          -1.3000294349405557,
          0.8493654040778634,
          -0.24454619551784645,
          2.5784605090664208,
          0.3470148257665814,
          0.4275832431758216,
          -0.02006983310330113,
          -0.22115821773805194,
          0.7441606483066695,
          -2.147666745538417,
          0.4022717625020178,
          1.015008131996003,
          -0.9614527011380453,
          0.6427549647493842,
          0.26275878026670807,
          -2.1811228596403294,
          -0.9651264344972399,
          -1.0807091355825975,
          -1.2704353852791637,
          -1.604220193082267,
          2.2757599377870004,
          -0.7460643325640582,
          -1.0270656913759506,
          -0.08472691139075982,
          -0.4397288250502953,
          -0.4051011158276595,
          0.0030321124322531187
         ],
         "y": [
          1.788094498128622,
          -0.44535443686305204,
          -0.7131795159657938,
          -0.5554106325242337,
          -0.21586035461825787,
          -0.697799365135744,
          1.097573763569276,
          0.035887813880043605,
          2.6195040661181466,
          0.6079529137881459,
          0.7436248459744537,
          -0.8618502776351192,
          -0.47747198195992685,
          0.22394260599753302,
          0.16778779907716984,
          -0.21439653722728408,
          -0.28082534999382414,
          -0.47247468827363853,
          -0.4506597477838028,
          0.6851240964961288,
          1.1619213588272501,
          -1.0702545218773423,
          0.4492565916692249,
          -1.1452374174231343,
          0.6940018241869989,
          1.7025908336350206,
          0.911095428268713,
          -0.8390868115640266,
          0.1663123644197956,
          0.3328100887697817,
          0.06435393233991418,
          -0.3710348748026914,
          -0.9179829095604276,
          -0.524999408533106,
          0.6652896007479878,
          1.5838460732342565,
          -0.006292105652858107,
          0.6036323038736936,
          -0.476844069070269,
          1.1387478354050842,
          0.03827391299502421,
          1.1285586150173448,
          0.14647132562841755,
          0.4044039554802493,
          -0.21088510943267336,
          -1.6753117569624703,
          -0.3294821012530378,
          0.6607752806792838,
          -0.13058529121836507,
          0.22371960616266628,
          -0.8188759246483298,
          -0.5854214437337317,
          -2.491158593278795,
          -1.0585519213970385,
          -0.03288668821960335,
          1.8329670294391918,
          0.605965626089157,
          -1.0337333776852846,
          0.3155519084756224,
          1.6015557409146575,
          0.6822350410713564,
          2.338739883832616,
          -1.1730419635505192,
          0.6391766373700845,
          1.289160748481995,
          -0.5420518881612237,
          0.5071628629766942,
          -0.40457294813531886,
          0.7270531601651469,
          -1.6646222754130013,
          0.40243397726927077,
          0.34311882064613747,
          0.6259398874778561,
          -1.009481363220773,
          0.2245743366277254,
          0.6600993412912876,
          -1.6075531641768765,
          0.46316037121790465,
          -0.5365819522636401,
          0.33546724504982794,
          0.709807510414665,
          -1.411526231278596,
          0.1236699459010611,
          0.30797864886790227,
          -0.7320151252688502,
          0.9815246074439794,
          0.546198609092013,
          1.7577800559208172,
          0.31626620547227696,
          0.42215646808605684,
          1.4971434747745829,
          -0.13994118394343455,
          0.8020527287884011,
          -0.004972773524476891,
          0.7420408197587705,
          -2.2243504385067503,
          0.11058060408422755,
          -0.07249780625225877,
          0.8482330339326772,
          -0.7747200231185339
         ]
        }
       ],
       "layout": {
        "legend": {
         "bgcolor": "#F5F6F9",
         "font": {
          "color": "#4D5663"
         }
        },
        "paper_bgcolor": "#F5F6F9",
        "plot_bgcolor": "#F5F6F9",
        "template": {
         "data": {
          "bar": [
           {
            "error_x": {
             "color": "#2a3f5f"
            },
            "error_y": {
             "color": "#2a3f5f"
            },
            "marker": {
             "line": {
              "color": "#E5ECF6",
              "width": 0.5
             }
            },
            "type": "bar"
           }
          ],
          "barpolar": [
           {
            "marker": {
             "line": {
              "color": "#E5ECF6",
              "width": 0.5
             }
            },
            "type": "barpolar"
           }
          ],
          "carpet": [
           {
            "aaxis": {
             "endlinecolor": "#2a3f5f",
             "gridcolor": "white",
             "linecolor": "white",
             "minorgridcolor": "white",
             "startlinecolor": "#2a3f5f"
            },
            "baxis": {
             "endlinecolor": "#2a3f5f",
             "gridcolor": "white",
             "linecolor": "white",
             "minorgridcolor": "white",
             "startlinecolor": "#2a3f5f"
            },
            "type": "carpet"
           }
          ],
          "choropleth": [
           {
            "colorbar": {
             "outlinewidth": 0,
             "ticks": ""
            },
            "type": "choropleth"
           }
          ],
          "contour": [
           {
            "colorbar": {
             "outlinewidth": 0,
             "ticks": ""
            },
            "colorscale": [
             [
              0,
              "#0d0887"
             ],
             [
              0.1111111111111111,
              "#46039f"
             ],
             [
              0.2222222222222222,
              "#7201a8"
             ],
             [
              0.3333333333333333,
              "#9c179e"
             ],
             [
              0.4444444444444444,
              "#bd3786"
             ],
             [
              0.5555555555555556,
              "#d8576b"
             ],
             [
              0.6666666666666666,
              "#ed7953"
             ],
             [
              0.7777777777777778,
              "#fb9f3a"
             ],
             [
              0.8888888888888888,
              "#fdca26"
             ],
             [
              1,
              "#f0f921"
             ]
            ],
            "type": "contour"
           }
          ],
          "contourcarpet": [
           {
            "colorbar": {
             "outlinewidth": 0,
             "ticks": ""
            },
            "type": "contourcarpet"
           }
          ],
          "heatmap": [
           {
            "colorbar": {
             "outlinewidth": 0,
             "ticks": ""
            },
            "colorscale": [
             [
              0,
              "#0d0887"
             ],
             [
              0.1111111111111111,
              "#46039f"
             ],
             [
              0.2222222222222222,
              "#7201a8"
             ],
             [
              0.3333333333333333,
              "#9c179e"
             ],
             [
              0.4444444444444444,
              "#bd3786"
             ],
             [
              0.5555555555555556,
              "#d8576b"
             ],
             [
              0.6666666666666666,
              "#ed7953"
             ],
             [
              0.7777777777777778,
              "#fb9f3a"
             ],
             [
              0.8888888888888888,
              "#fdca26"
             ],
             [
              1,
              "#f0f921"
             ]
            ],
            "type": "heatmap"
           }
          ],
          "heatmapgl": [
           {
            "colorbar": {
             "outlinewidth": 0,
             "ticks": ""
            },
            "colorscale": [
             [
              0,
              "#0d0887"
             ],
             [
              0.1111111111111111,
              "#46039f"
             ],
             [
              0.2222222222222222,
              "#7201a8"
             ],
             [
              0.3333333333333333,
              "#9c179e"
             ],
             [
              0.4444444444444444,
              "#bd3786"
             ],
             [
              0.5555555555555556,
              "#d8576b"
             ],
             [
              0.6666666666666666,
              "#ed7953"
             ],
             [
              0.7777777777777778,
              "#fb9f3a"
             ],
             [
              0.8888888888888888,
              "#fdca26"
             ],
             [
              1,
              "#f0f921"
             ]
            ],
            "type": "heatmapgl"
           }
          ],
          "histogram": [
           {
            "marker": {
             "colorbar": {
              "outlinewidth": 0,
              "ticks": ""
             }
            },
            "type": "histogram"
           }
          ],
          "histogram2d": [
           {
            "colorbar": {
             "outlinewidth": 0,
             "ticks": ""
            },
            "colorscale": [
             [
              0,
              "#0d0887"
             ],
             [
              0.1111111111111111,
              "#46039f"
             ],
             [
              0.2222222222222222,
              "#7201a8"
             ],
             [
              0.3333333333333333,
              "#9c179e"
             ],
             [
              0.4444444444444444,
              "#bd3786"
             ],
             [
              0.5555555555555556,
              "#d8576b"
             ],
             [
              0.6666666666666666,
              "#ed7953"
             ],
             [
              0.7777777777777778,
              "#fb9f3a"
             ],
             [
              0.8888888888888888,
              "#fdca26"
             ],
             [
              1,
              "#f0f921"
             ]
            ],
            "type": "histogram2d"
           }
          ],
          "histogram2dcontour": [
           {
            "colorbar": {
             "outlinewidth": 0,
             "ticks": ""
            },
            "colorscale": [
             [
              0,
              "#0d0887"
             ],
             [
              0.1111111111111111,
              "#46039f"
             ],
             [
              0.2222222222222222,
              "#7201a8"
             ],
             [
              0.3333333333333333,
              "#9c179e"
             ],
             [
              0.4444444444444444,
              "#bd3786"
             ],
             [
              0.5555555555555556,
              "#d8576b"
             ],
             [
              0.6666666666666666,
              "#ed7953"
             ],
             [
              0.7777777777777778,
              "#fb9f3a"
             ],
             [
              0.8888888888888888,
              "#fdca26"
             ],
             [
              1,
              "#f0f921"
             ]
            ],
            "type": "histogram2dcontour"
           }
          ],
          "mesh3d": [
           {
            "colorbar": {
             "outlinewidth": 0,
             "ticks": ""
            },
            "type": "mesh3d"
           }
          ],
          "parcoords": [
           {
            "line": {
             "colorbar": {
              "outlinewidth": 0,
              "ticks": ""
             }
            },
            "type": "parcoords"
           }
          ],
          "pie": [
           {
            "automargin": true,
            "type": "pie"
           }
          ],
          "scatter": [
           {
            "marker": {
             "colorbar": {
              "outlinewidth": 0,
              "ticks": ""
             }
            },
            "type": "scatter"
           }
          ],
          "scatter3d": [
           {
            "line": {
             "colorbar": {
              "outlinewidth": 0,
              "ticks": ""
             }
            },
            "marker": {
             "colorbar": {
              "outlinewidth": 0,
              "ticks": ""
             }
            },
            "type": "scatter3d"
           }
          ],
          "scattercarpet": [
           {
            "marker": {
             "colorbar": {
              "outlinewidth": 0,
              "ticks": ""
             }
            },
            "type": "scattercarpet"
           }
          ],
          "scattergeo": [
           {
            "marker": {
             "colorbar": {
              "outlinewidth": 0,
              "ticks": ""
             }
            },
            "type": "scattergeo"
           }
          ],
          "scattergl": [
           {
            "marker": {
             "colorbar": {
              "outlinewidth": 0,
              "ticks": ""
             }
            },
            "type": "scattergl"
           }
          ],
          "scattermapbox": [
           {
            "marker": {
             "colorbar": {
              "outlinewidth": 0,
              "ticks": ""
             }
            },
            "type": "scattermapbox"
           }
          ],
          "scatterpolar": [
           {
            "marker": {
             "colorbar": {
              "outlinewidth": 0,
              "ticks": ""
             }
            },
            "type": "scatterpolar"
           }
          ],
          "scatterpolargl": [
           {
            "marker": {
             "colorbar": {
              "outlinewidth": 0,
              "ticks": ""
             }
            },
            "type": "scatterpolargl"
           }
          ],
          "scatterternary": [
           {
            "marker": {
             "colorbar": {
              "outlinewidth": 0,
              "ticks": ""
             }
            },
            "type": "scatterternary"
           }
          ],
          "surface": [
           {
            "colorbar": {
             "outlinewidth": 0,
             "ticks": ""
            },
            "colorscale": [
             [
              0,
              "#0d0887"
             ],
             [
              0.1111111111111111,
              "#46039f"
             ],
             [
              0.2222222222222222,
              "#7201a8"
             ],
             [
              0.3333333333333333,
              "#9c179e"
             ],
             [
              0.4444444444444444,
              "#bd3786"
             ],
             [
              0.5555555555555556,
              "#d8576b"
             ],
             [
              0.6666666666666666,
              "#ed7953"
             ],
             [
              0.7777777777777778,
              "#fb9f3a"
             ],
             [
              0.8888888888888888,
              "#fdca26"
             ],
             [
              1,
              "#f0f921"
             ]
            ],
            "type": "surface"
           }
          ],
          "table": [
           {
            "cells": {
             "fill": {
              "color": "#EBF0F8"
             },
             "line": {
              "color": "white"
             }
            },
            "header": {
             "fill": {
              "color": "#C8D4E3"
             },
             "line": {
              "color": "white"
             }
            },
            "type": "table"
           }
          ]
         },
         "layout": {
          "annotationdefaults": {
           "arrowcolor": "#2a3f5f",
           "arrowhead": 0,
           "arrowwidth": 1
          },
          "coloraxis": {
           "colorbar": {
            "outlinewidth": 0,
            "ticks": ""
           }
          },
          "colorscale": {
           "diverging": [
            [
             0,
             "#8e0152"
            ],
            [
             0.1,
             "#c51b7d"
            ],
            [
             0.2,
             "#de77ae"
            ],
            [
             0.3,
             "#f1b6da"
            ],
            [
             0.4,
             "#fde0ef"
            ],
            [
             0.5,
             "#f7f7f7"
            ],
            [
             0.6,
             "#e6f5d0"
            ],
            [
             0.7,
             "#b8e186"
            ],
            [
             0.8,
             "#7fbc41"
            ],
            [
             0.9,
             "#4d9221"
            ],
            [
             1,
             "#276419"
            ]
           ],
           "sequential": [
            [
             0,
             "#0d0887"
            ],
            [
             0.1111111111111111,
             "#46039f"
            ],
            [
             0.2222222222222222,
             "#7201a8"
            ],
            [
             0.3333333333333333,
             "#9c179e"
            ],
            [
             0.4444444444444444,
             "#bd3786"
            ],
            [
             0.5555555555555556,
             "#d8576b"
            ],
            [
             0.6666666666666666,
             "#ed7953"
            ],
            [
             0.7777777777777778,
             "#fb9f3a"
            ],
            [
             0.8888888888888888,
             "#fdca26"
            ],
            [
             1,
             "#f0f921"
            ]
           ],
           "sequentialminus": [
            [
             0,
             "#0d0887"
            ],
            [
             0.1111111111111111,
             "#46039f"
            ],
            [
             0.2222222222222222,
             "#7201a8"
            ],
            [
             0.3333333333333333,
             "#9c179e"
            ],
            [
             0.4444444444444444,
             "#bd3786"
            ],
            [
             0.5555555555555556,
             "#d8576b"
            ],
            [
             0.6666666666666666,
             "#ed7953"
            ],
            [
             0.7777777777777778,
             "#fb9f3a"
            ],
            [
             0.8888888888888888,
             "#fdca26"
            ],
            [
             1,
             "#f0f921"
            ]
           ]
          },
          "colorway": [
           "#636efa",
           "#EF553B",
           "#00cc96",
           "#ab63fa",
           "#FFA15A",
           "#19d3f3",
           "#FF6692",
           "#B6E880",
           "#FF97FF",
           "#FECB52"
          ],
          "font": {
           "color": "#2a3f5f"
          },
          "geo": {
           "bgcolor": "white",
           "lakecolor": "white",
           "landcolor": "#E5ECF6",
           "showlakes": true,
           "showland": true,
           "subunitcolor": "white"
          },
          "hoverlabel": {
           "align": "left"
          },
          "hovermode": "closest",
          "mapbox": {
           "style": "light"
          },
          "paper_bgcolor": "white",
          "plot_bgcolor": "#E5ECF6",
          "polar": {
           "angularaxis": {
            "gridcolor": "white",
            "linecolor": "white",
            "ticks": ""
           },
           "bgcolor": "#E5ECF6",
           "radialaxis": {
            "gridcolor": "white",
            "linecolor": "white",
            "ticks": ""
           }
          },
          "scene": {
           "xaxis": {
            "backgroundcolor": "#E5ECF6",
            "gridcolor": "white",
            "gridwidth": 2,
            "linecolor": "white",
            "showbackground": true,
            "ticks": "",
            "zerolinecolor": "white"
           },
           "yaxis": {
            "backgroundcolor": "#E5ECF6",
            "gridcolor": "white",
            "gridwidth": 2,
            "linecolor": "white",
            "showbackground": true,
            "ticks": "",
            "zerolinecolor": "white"
           },
           "zaxis": {
            "backgroundcolor": "#E5ECF6",
            "gridcolor": "white",
            "gridwidth": 2,
            "linecolor": "white",
            "showbackground": true,
            "ticks": "",
            "zerolinecolor": "white"
           }
          },
          "shapedefaults": {
           "line": {
            "color": "#2a3f5f"
           }
          },
          "ternary": {
           "aaxis": {
            "gridcolor": "white",
            "linecolor": "white",
            "ticks": ""
           },
           "baxis": {
            "gridcolor": "white",
            "linecolor": "white",
            "ticks": ""
           },
           "bgcolor": "#E5ECF6",
           "caxis": {
            "gridcolor": "white",
            "linecolor": "white",
            "ticks": ""
           }
          },
          "title": {
           "x": 0.05
          },
          "xaxis": {
           "automargin": true,
           "gridcolor": "white",
           "linecolor": "white",
           "ticks": "",
           "title": {
            "standoff": 15
           },
           "zerolinecolor": "white",
           "zerolinewidth": 2
          },
          "yaxis": {
           "automargin": true,
           "gridcolor": "white",
           "linecolor": "white",
           "ticks": "",
           "title": {
            "standoff": 15
           },
           "zerolinecolor": "white",
           "zerolinewidth": 2
          }
         }
        },
        "title": {
         "font": {
          "color": "#4D5663"
         }
        },
        "xaxis": {
         "gridcolor": "#E1E5ED",
         "showgrid": true,
         "tickfont": {
          "color": "#4D5663"
         },
         "title": {
          "font": {
           "color": "#4D5663"
          },
          "text": ""
         },
         "zerolinecolor": "#E1E5ED"
        },
        "yaxis": {
         "gridcolor": "#E1E5ED",
         "showgrid": true,
         "tickfont": {
          "color": "#4D5663"
         },
         "title": {
          "font": {
           "color": "#4D5663"
          },
          "text": ""
         },
         "zerolinecolor": "#E1E5ED"
        }
       }
      },
      "text/html": [
       "<div>\n",
       "        \n",
       "        \n",
       "            <div id=\"f1a06a13-82fb-4c53-8169-bc851e1264f4\" class=\"plotly-graph-div\" style=\"height:525px; width:100%;\"></div>\n",
       "            <script type=\"text/javascript\">\n",
       "                require([\"plotly\"], function(Plotly) {\n",
       "                    window.PLOTLYENV=window.PLOTLYENV || {};\n",
       "                    window.PLOTLYENV.BASE_URL='https://plot.ly';\n",
       "                    \n",
       "                if (document.getElementById(\"f1a06a13-82fb-4c53-8169-bc851e1264f4\")) {\n",
       "                    Plotly.newPlot(\n",
       "                        'f1a06a13-82fb-4c53-8169-bc851e1264f4',\n",
       "                        [{\"line\": {\"color\": \"rgba(255, 153, 51, 1.0)\", \"dash\": \"solid\", \"shape\": \"linear\", \"width\": 1.3}, \"mode\": \"lines\", \"name\": \"B\", \"text\": \"\", \"type\": \"scatter\", \"x\": [0.49289817131910324, -0.3012398972298208, -0.7816068221605069, -0.8090093152211132, 1.4006830146786922, -0.19482583816277718, 0.0604937012147241, 2.119691209922694, 0.7222242598679914, 1.753235420367374, 0.15830729803447974, -0.6341440309522819, -2.283999111080501, 0.5531241386591951, -2.266708116322684, 0.7042723917299197, 0.6092425758622263, -0.340557220856165, -1.3041616905321494, 0.18497826710035706, 0.021565250924974123, -0.006075820444198791, -2.566727147075182, 0.02730521303181981, -0.9939684925220701, -0.6223666531415607, 1.776870439188865, 0.01793289056711191, 0.05680072212956541, 0.43447933306281233, -1.453567536602802, 0.22397366436895907, -0.47782199024703215, 1.339102396303261, 1.6080823076036965, 0.20166945309703094, -1.4037713891573702, 0.5106776942015245, -1.8190377132273154, -1.0337585498673065, 0.5183548692185115, -1.0257448210609061, 0.3360850564164397, 1.6441074102925999, 1.359625493547863, 0.5732793595532124, -0.5467403903693552, 0.40035282535498895, 0.10515275916863191, -0.5263016957839567, -0.04432663132196094, 0.8299882137593065, 0.288974670977, 1.4516357718944564, -0.4111386022214322, -2.1428502676999592, 1.2035300277031884, -1.623937560391315, -0.3132882723386422, -0.5352367479666442, -0.6950356321246792, -0.33190243398305314, 0.26383380532025796, -0.5184732009735258, 0.5207487437274007, -1.5584295495848832, 1.0170403191939565, 0.07373919242253754, 0.39030351930826057, 0.3832708653059387, -0.6111638533706606, 0.2944432971309082, 0.4591500221941663, -1.3000294349405557, 0.8493654040778634, -0.24454619551784645, 2.5784605090664208, 0.3470148257665814, 0.4275832431758216, -0.02006983310330113, -0.22115821773805194, 0.7441606483066695, -2.147666745538417, 0.4022717625020178, 1.015008131996003, -0.9614527011380453, 0.6427549647493842, 0.26275878026670807, -2.1811228596403294, -0.9651264344972399, -1.0807091355825975, -1.2704353852791637, -1.604220193082267, 2.2757599377870004, -0.7460643325640582, -1.0270656913759506, -0.08472691139075982, -0.4397288250502953, -0.4051011158276595, 0.0030321124322531187], \"y\": [1.788094498128622, -0.44535443686305204, -0.7131795159657938, -0.5554106325242337, -0.21586035461825787, -0.697799365135744, 1.097573763569276, 0.035887813880043605, 2.6195040661181466, 0.6079529137881459, 0.7436248459744537, -0.8618502776351192, -0.47747198195992685, 0.22394260599753302, 0.16778779907716984, -0.21439653722728408, -0.28082534999382414, -0.47247468827363853, -0.4506597477838028, 0.6851240964961288, 1.1619213588272501, -1.0702545218773423, 0.4492565916692249, -1.1452374174231343, 0.6940018241869989, 1.7025908336350206, 0.911095428268713, -0.8390868115640266, 0.1663123644197956, 0.3328100887697817, 0.06435393233991418, -0.3710348748026914, -0.9179829095604276, -0.524999408533106, 0.6652896007479878, 1.5838460732342565, -0.006292105652858107, 0.6036323038736936, -0.476844069070269, 1.1387478354050842, 0.03827391299502421, 1.1285586150173448, 0.14647132562841755, 0.4044039554802493, -0.21088510943267336, -1.6753117569624703, -0.3294821012530378, 0.6607752806792838, -0.13058529121836507, 0.22371960616266628, -0.8188759246483298, -0.5854214437337317, -2.491158593278795, -1.0585519213970385, -0.03288668821960335, 1.8329670294391918, 0.605965626089157, -1.0337333776852846, 0.3155519084756224, 1.6015557409146575, 0.6822350410713564, 2.338739883832616, -1.1730419635505192, 0.6391766373700845, 1.289160748481995, -0.5420518881612237, 0.5071628629766942, -0.40457294813531886, 0.7270531601651469, -1.6646222754130013, 0.40243397726927077, 0.34311882064613747, 0.6259398874778561, -1.009481363220773, 0.2245743366277254, 0.6600993412912876, -1.6075531641768765, 0.46316037121790465, -0.5365819522636401, 0.33546724504982794, 0.709807510414665, -1.411526231278596, 0.1236699459010611, 0.30797864886790227, -0.7320151252688502, 0.9815246074439794, 0.546198609092013, 1.7577800559208172, 0.31626620547227696, 0.42215646808605684, 1.4971434747745829, -0.13994118394343455, 0.8020527287884011, -0.004972773524476891, 0.7420408197587705, -2.2243504385067503, 0.11058060408422755, -0.07249780625225877, 0.8482330339326772, -0.7747200231185339]}],\n",
       "                        {\"legend\": {\"bgcolor\": \"#F5F6F9\", \"font\": {\"color\": \"#4D5663\"}}, \"paper_bgcolor\": \"#F5F6F9\", \"plot_bgcolor\": \"#F5F6F9\", \"template\": {\"data\": {\"bar\": [{\"error_x\": {\"color\": \"#2a3f5f\"}, \"error_y\": {\"color\": \"#2a3f5f\"}, \"marker\": {\"line\": {\"color\": \"#E5ECF6\", \"width\": 0.5}}, \"type\": \"bar\"}], \"barpolar\": [{\"marker\": {\"line\": {\"color\": \"#E5ECF6\", \"width\": 0.5}}, \"type\": \"barpolar\"}], \"carpet\": [{\"aaxis\": {\"endlinecolor\": \"#2a3f5f\", \"gridcolor\": \"white\", \"linecolor\": \"white\", \"minorgridcolor\": \"white\", \"startlinecolor\": \"#2a3f5f\"}, \"baxis\": {\"endlinecolor\": \"#2a3f5f\", \"gridcolor\": \"white\", \"linecolor\": \"white\", \"minorgridcolor\": \"white\", \"startlinecolor\": \"#2a3f5f\"}, \"type\": \"carpet\"}], \"choropleth\": [{\"colorbar\": {\"outlinewidth\": 0, \"ticks\": \"\"}, \"type\": \"choropleth\"}], \"contour\": [{\"colorbar\": {\"outlinewidth\": 0, \"ticks\": \"\"}, \"colorscale\": [[0.0, \"#0d0887\"], [0.1111111111111111, \"#46039f\"], [0.2222222222222222, \"#7201a8\"], [0.3333333333333333, \"#9c179e\"], [0.4444444444444444, \"#bd3786\"], [0.5555555555555556, \"#d8576b\"], [0.6666666666666666, \"#ed7953\"], [0.7777777777777778, \"#fb9f3a\"], [0.8888888888888888, \"#fdca26\"], [1.0, \"#f0f921\"]], \"type\": \"contour\"}], \"contourcarpet\": [{\"colorbar\": {\"outlinewidth\": 0, \"ticks\": \"\"}, \"type\": \"contourcarpet\"}], \"heatmap\": [{\"colorbar\": {\"outlinewidth\": 0, \"ticks\": \"\"}, \"colorscale\": [[0.0, \"#0d0887\"], [0.1111111111111111, \"#46039f\"], [0.2222222222222222, \"#7201a8\"], [0.3333333333333333, \"#9c179e\"], [0.4444444444444444, \"#bd3786\"], [0.5555555555555556, \"#d8576b\"], [0.6666666666666666, \"#ed7953\"], [0.7777777777777778, \"#fb9f3a\"], [0.8888888888888888, \"#fdca26\"], [1.0, \"#f0f921\"]], \"type\": \"heatmap\"}], \"heatmapgl\": [{\"colorbar\": {\"outlinewidth\": 0, \"ticks\": \"\"}, \"colorscale\": [[0.0, \"#0d0887\"], [0.1111111111111111, \"#46039f\"], [0.2222222222222222, \"#7201a8\"], [0.3333333333333333, \"#9c179e\"], [0.4444444444444444, \"#bd3786\"], [0.5555555555555556, \"#d8576b\"], [0.6666666666666666, \"#ed7953\"], [0.7777777777777778, \"#fb9f3a\"], [0.8888888888888888, \"#fdca26\"], [1.0, \"#f0f921\"]], \"type\": \"heatmapgl\"}], \"histogram\": [{\"marker\": {\"colorbar\": {\"outlinewidth\": 0, \"ticks\": \"\"}}, \"type\": \"histogram\"}], \"histogram2d\": [{\"colorbar\": {\"outlinewidth\": 0, \"ticks\": \"\"}, \"colorscale\": [[0.0, \"#0d0887\"], [0.1111111111111111, \"#46039f\"], [0.2222222222222222, \"#7201a8\"], [0.3333333333333333, \"#9c179e\"], [0.4444444444444444, \"#bd3786\"], [0.5555555555555556, \"#d8576b\"], [0.6666666666666666, \"#ed7953\"], [0.7777777777777778, \"#fb9f3a\"], [0.8888888888888888, \"#fdca26\"], [1.0, \"#f0f921\"]], \"type\": \"histogram2d\"}], \"histogram2dcontour\": [{\"colorbar\": {\"outlinewidth\": 0, \"ticks\": \"\"}, \"colorscale\": [[0.0, \"#0d0887\"], [0.1111111111111111, \"#46039f\"], [0.2222222222222222, \"#7201a8\"], [0.3333333333333333, \"#9c179e\"], [0.4444444444444444, \"#bd3786\"], [0.5555555555555556, \"#d8576b\"], [0.6666666666666666, \"#ed7953\"], [0.7777777777777778, \"#fb9f3a\"], [0.8888888888888888, \"#fdca26\"], [1.0, \"#f0f921\"]], \"type\": \"histogram2dcontour\"}], \"mesh3d\": [{\"colorbar\": {\"outlinewidth\": 0, \"ticks\": \"\"}, \"type\": \"mesh3d\"}], \"parcoords\": [{\"line\": {\"colorbar\": {\"outlinewidth\": 0, \"ticks\": \"\"}}, \"type\": \"parcoords\"}], \"pie\": [{\"automargin\": true, \"type\": \"pie\"}], \"scatter\": [{\"marker\": {\"colorbar\": {\"outlinewidth\": 0, \"ticks\": \"\"}}, \"type\": \"scatter\"}], \"scatter3d\": [{\"line\": {\"colorbar\": {\"outlinewidth\": 0, \"ticks\": \"\"}}, \"marker\": {\"colorbar\": {\"outlinewidth\": 0, \"ticks\": \"\"}}, \"type\": \"scatter3d\"}], \"scattercarpet\": [{\"marker\": {\"colorbar\": {\"outlinewidth\": 0, \"ticks\": \"\"}}, \"type\": \"scattercarpet\"}], \"scattergeo\": [{\"marker\": {\"colorbar\": {\"outlinewidth\": 0, \"ticks\": \"\"}}, \"type\": \"scattergeo\"}], \"scattergl\": [{\"marker\": {\"colorbar\": {\"outlinewidth\": 0, \"ticks\": \"\"}}, \"type\": \"scattergl\"}], \"scattermapbox\": [{\"marker\": {\"colorbar\": {\"outlinewidth\": 0, \"ticks\": \"\"}}, \"type\": \"scattermapbox\"}], \"scatterpolar\": [{\"marker\": {\"colorbar\": {\"outlinewidth\": 0, \"ticks\": \"\"}}, \"type\": \"scatterpolar\"}], \"scatterpolargl\": [{\"marker\": {\"colorbar\": {\"outlinewidth\": 0, \"ticks\": \"\"}}, \"type\": \"scatterpolargl\"}], \"scatterternary\": [{\"marker\": {\"colorbar\": {\"outlinewidth\": 0, \"ticks\": \"\"}}, \"type\": \"scatterternary\"}], \"surface\": [{\"colorbar\": {\"outlinewidth\": 0, \"ticks\": \"\"}, \"colorscale\": [[0.0, \"#0d0887\"], [0.1111111111111111, \"#46039f\"], [0.2222222222222222, \"#7201a8\"], [0.3333333333333333, \"#9c179e\"], [0.4444444444444444, \"#bd3786\"], [0.5555555555555556, \"#d8576b\"], [0.6666666666666666, \"#ed7953\"], [0.7777777777777778, \"#fb9f3a\"], [0.8888888888888888, \"#fdca26\"], [1.0, \"#f0f921\"]], \"type\": \"surface\"}], \"table\": [{\"cells\": {\"fill\": {\"color\": \"#EBF0F8\"}, \"line\": {\"color\": \"white\"}}, \"header\": {\"fill\": {\"color\": \"#C8D4E3\"}, \"line\": {\"color\": \"white\"}}, \"type\": \"table\"}]}, \"layout\": {\"annotationdefaults\": {\"arrowcolor\": \"#2a3f5f\", \"arrowhead\": 0, \"arrowwidth\": 1}, \"coloraxis\": {\"colorbar\": {\"outlinewidth\": 0, \"ticks\": \"\"}}, \"colorscale\": {\"diverging\": [[0, \"#8e0152\"], [0.1, \"#c51b7d\"], [0.2, \"#de77ae\"], [0.3, \"#f1b6da\"], [0.4, \"#fde0ef\"], [0.5, \"#f7f7f7\"], [0.6, \"#e6f5d0\"], [0.7, \"#b8e186\"], [0.8, \"#7fbc41\"], [0.9, \"#4d9221\"], [1, \"#276419\"]], \"sequential\": [[0.0, \"#0d0887\"], [0.1111111111111111, \"#46039f\"], [0.2222222222222222, \"#7201a8\"], [0.3333333333333333, \"#9c179e\"], [0.4444444444444444, \"#bd3786\"], [0.5555555555555556, \"#d8576b\"], [0.6666666666666666, \"#ed7953\"], [0.7777777777777778, \"#fb9f3a\"], [0.8888888888888888, \"#fdca26\"], [1.0, \"#f0f921\"]], \"sequentialminus\": [[0.0, \"#0d0887\"], [0.1111111111111111, \"#46039f\"], [0.2222222222222222, \"#7201a8\"], [0.3333333333333333, \"#9c179e\"], [0.4444444444444444, \"#bd3786\"], [0.5555555555555556, \"#d8576b\"], [0.6666666666666666, \"#ed7953\"], [0.7777777777777778, \"#fb9f3a\"], [0.8888888888888888, \"#fdca26\"], [1.0, \"#f0f921\"]]}, \"colorway\": [\"#636efa\", \"#EF553B\", \"#00cc96\", \"#ab63fa\", \"#FFA15A\", \"#19d3f3\", \"#FF6692\", \"#B6E880\", \"#FF97FF\", \"#FECB52\"], \"font\": {\"color\": \"#2a3f5f\"}, \"geo\": {\"bgcolor\": \"white\", \"lakecolor\": \"white\", \"landcolor\": \"#E5ECF6\", \"showlakes\": true, \"showland\": true, \"subunitcolor\": \"white\"}, \"hoverlabel\": {\"align\": \"left\"}, \"hovermode\": \"closest\", \"mapbox\": {\"style\": \"light\"}, \"paper_bgcolor\": \"white\", \"plot_bgcolor\": \"#E5ECF6\", \"polar\": {\"angularaxis\": {\"gridcolor\": \"white\", \"linecolor\": \"white\", \"ticks\": \"\"}, \"bgcolor\": \"#E5ECF6\", \"radialaxis\": {\"gridcolor\": \"white\", \"linecolor\": \"white\", \"ticks\": \"\"}}, \"scene\": {\"xaxis\": {\"backgroundcolor\": \"#E5ECF6\", \"gridcolor\": \"white\", \"gridwidth\": 2, \"linecolor\": \"white\", \"showbackground\": true, \"ticks\": \"\", \"zerolinecolor\": \"white\"}, \"yaxis\": {\"backgroundcolor\": \"#E5ECF6\", \"gridcolor\": \"white\", \"gridwidth\": 2, \"linecolor\": \"white\", \"showbackground\": true, \"ticks\": \"\", \"zerolinecolor\": \"white\"}, \"zaxis\": {\"backgroundcolor\": \"#E5ECF6\", \"gridcolor\": \"white\", \"gridwidth\": 2, \"linecolor\": \"white\", \"showbackground\": true, \"ticks\": \"\", \"zerolinecolor\": \"white\"}}, \"shapedefaults\": {\"line\": {\"color\": \"#2a3f5f\"}}, \"ternary\": {\"aaxis\": {\"gridcolor\": \"white\", \"linecolor\": \"white\", \"ticks\": \"\"}, \"baxis\": {\"gridcolor\": \"white\", \"linecolor\": \"white\", \"ticks\": \"\"}, \"bgcolor\": \"#E5ECF6\", \"caxis\": {\"gridcolor\": \"white\", \"linecolor\": \"white\", \"ticks\": \"\"}}, \"title\": {\"x\": 0.05}, \"xaxis\": {\"automargin\": true, \"gridcolor\": \"white\", \"linecolor\": \"white\", \"ticks\": \"\", \"title\": {\"standoff\": 15}, \"zerolinecolor\": \"white\", \"zerolinewidth\": 2}, \"yaxis\": {\"automargin\": true, \"gridcolor\": \"white\", \"linecolor\": \"white\", \"ticks\": \"\", \"title\": {\"standoff\": 15}, \"zerolinecolor\": \"white\", \"zerolinewidth\": 2}}}, \"title\": {\"font\": {\"color\": \"#4D5663\"}}, \"xaxis\": {\"gridcolor\": \"#E1E5ED\", \"showgrid\": true, \"tickfont\": {\"color\": \"#4D5663\"}, \"title\": {\"font\": {\"color\": \"#4D5663\"}, \"text\": \"\"}, \"zerolinecolor\": \"#E1E5ED\"}, \"yaxis\": {\"gridcolor\": \"#E1E5ED\", \"showgrid\": true, \"tickfont\": {\"color\": \"#4D5663\"}, \"title\": {\"font\": {\"color\": \"#4D5663\"}, \"text\": \"\"}, \"zerolinecolor\": \"#E1E5ED\"}},\n",
       "                        {\"showLink\": true, \"linkText\": \"Export to plot.ly\", \"plotlyServerURL\": \"https://plot.ly\", \"responsive\": true}\n",
       "                    ).then(function(){\n",
       "                            \n",
       "var gd = document.getElementById('f1a06a13-82fb-4c53-8169-bc851e1264f4');\n",
       "var x = new MutationObserver(function (mutations, observer) {{\n",
       "        var display = window.getComputedStyle(gd).display;\n",
       "        if (!display || display === 'none') {{\n",
       "            console.log([gd, 'removed!']);\n",
       "            Plotly.purge(gd);\n",
       "            observer.disconnect();\n",
       "        }}\n",
       "}});\n",
       "\n",
       "// Listen for the removal of the full notebook cells\n",
       "var notebookContainer = gd.closest('#notebook-container');\n",
       "if (notebookContainer) {{\n",
       "    x.observe(notebookContainer, {childList: true});\n",
       "}}\n",
       "\n",
       "// Listen for the clearing of the current output cell\n",
       "var outputEl = gd.closest('.output');\n",
       "if (outputEl) {{\n",
       "    x.observe(outputEl, {childList: true});\n",
       "}}\n",
       "\n",
       "                        })\n",
       "                };\n",
       "                });\n",
       "            </script>\n",
       "        </div>"
      ]
     },
     "metadata": {},
     "output_type": "display_data"
    }
   ],
   "source": [
    "df.iplot(kind='scatter',x='A',y='B')"
   ]
  },
  {
   "cell_type": "code",
   "execution_count": 15,
   "metadata": {},
   "outputs": [
    {
     "data": {
      "application/vnd.plotly.v1+json": {
       "config": {
        "linkText": "Export to plot.ly",
        "plotlyServerURL": "https://plot.ly",
        "showLink": true
       },
       "data": [
        {
         "line": {
          "color": "rgba(255, 153, 51, 1.0)",
          "dash": "solid",
          "shape": "linear",
          "width": 1.3
         },
         "marker": {
          "size": 12,
          "symbol": "circle"
         },
         "mode": "markers",
         "name": "B",
         "text": "",
         "type": "scatter",
         "x": [
          0.49289817131910324,
          -0.3012398972298208,
          -0.7816068221605069,
          -0.8090093152211132,
          1.4006830146786922,
          -0.19482583816277718,
          0.0604937012147241,
          2.119691209922694,
          0.7222242598679914,
          1.753235420367374,
          0.15830729803447974,
          -0.6341440309522819,
          -2.283999111080501,
          0.5531241386591951,
          -2.266708116322684,
          0.7042723917299197,
          0.6092425758622263,
          -0.340557220856165,
          -1.3041616905321494,
          0.18497826710035706,
          0.021565250924974123,
          -0.006075820444198791,
          -2.566727147075182,
          0.02730521303181981,
          -0.9939684925220701,
          -0.6223666531415607,
          1.776870439188865,
          0.01793289056711191,
          0.05680072212956541,
          0.43447933306281233,
          -1.453567536602802,
          0.22397366436895907,
          -0.47782199024703215,
          1.339102396303261,
          1.6080823076036965,
          0.20166945309703094,
          -1.4037713891573702,
          0.5106776942015245,
          -1.8190377132273154,
          -1.0337585498673065,
          0.5183548692185115,
          -1.0257448210609061,
          0.3360850564164397,
          1.6441074102925999,
          1.359625493547863,
          0.5732793595532124,
          -0.5467403903693552,
          0.40035282535498895,
          0.10515275916863191,
          -0.5263016957839567,
          -0.04432663132196094,
          0.8299882137593065,
          0.288974670977,
          1.4516357718944564,
          -0.4111386022214322,
          -2.1428502676999592,
          1.2035300277031884,
          -1.623937560391315,
          -0.3132882723386422,
          -0.5352367479666442,
          -0.6950356321246792,
          -0.33190243398305314,
          0.26383380532025796,
          -0.5184732009735258,
          0.5207487437274007,
          -1.5584295495848832,
          1.0170403191939565,
          0.07373919242253754,
          0.39030351930826057,
          0.3832708653059387,
          -0.6111638533706606,
          0.2944432971309082,
          0.4591500221941663,
          -1.3000294349405557,
          0.8493654040778634,
          -0.24454619551784645,
          2.5784605090664208,
          0.3470148257665814,
          0.4275832431758216,
          -0.02006983310330113,
          -0.22115821773805194,
          0.7441606483066695,
          -2.147666745538417,
          0.4022717625020178,
          1.015008131996003,
          -0.9614527011380453,
          0.6427549647493842,
          0.26275878026670807,
          -2.1811228596403294,
          -0.9651264344972399,
          -1.0807091355825975,
          -1.2704353852791637,
          -1.604220193082267,
          2.2757599377870004,
          -0.7460643325640582,
          -1.0270656913759506,
          -0.08472691139075982,
          -0.4397288250502953,
          -0.4051011158276595,
          0.0030321124322531187
         ],
         "y": [
          1.788094498128622,
          -0.44535443686305204,
          -0.7131795159657938,
          -0.5554106325242337,
          -0.21586035461825787,
          -0.697799365135744,
          1.097573763569276,
          0.035887813880043605,
          2.6195040661181466,
          0.6079529137881459,
          0.7436248459744537,
          -0.8618502776351192,
          -0.47747198195992685,
          0.22394260599753302,
          0.16778779907716984,
          -0.21439653722728408,
          -0.28082534999382414,
          -0.47247468827363853,
          -0.4506597477838028,
          0.6851240964961288,
          1.1619213588272501,
          -1.0702545218773423,
          0.4492565916692249,
          -1.1452374174231343,
          0.6940018241869989,
          1.7025908336350206,
          0.911095428268713,
          -0.8390868115640266,
          0.1663123644197956,
          0.3328100887697817,
          0.06435393233991418,
          -0.3710348748026914,
          -0.9179829095604276,
          -0.524999408533106,
          0.6652896007479878,
          1.5838460732342565,
          -0.006292105652858107,
          0.6036323038736936,
          -0.476844069070269,
          1.1387478354050842,
          0.03827391299502421,
          1.1285586150173448,
          0.14647132562841755,
          0.4044039554802493,
          -0.21088510943267336,
          -1.6753117569624703,
          -0.3294821012530378,
          0.6607752806792838,
          -0.13058529121836507,
          0.22371960616266628,
          -0.8188759246483298,
          -0.5854214437337317,
          -2.491158593278795,
          -1.0585519213970385,
          -0.03288668821960335,
          1.8329670294391918,
          0.605965626089157,
          -1.0337333776852846,
          0.3155519084756224,
          1.6015557409146575,
          0.6822350410713564,
          2.338739883832616,
          -1.1730419635505192,
          0.6391766373700845,
          1.289160748481995,
          -0.5420518881612237,
          0.5071628629766942,
          -0.40457294813531886,
          0.7270531601651469,
          -1.6646222754130013,
          0.40243397726927077,
          0.34311882064613747,
          0.6259398874778561,
          -1.009481363220773,
          0.2245743366277254,
          0.6600993412912876,
          -1.6075531641768765,
          0.46316037121790465,
          -0.5365819522636401,
          0.33546724504982794,
          0.709807510414665,
          -1.411526231278596,
          0.1236699459010611,
          0.30797864886790227,
          -0.7320151252688502,
          0.9815246074439794,
          0.546198609092013,
          1.7577800559208172,
          0.31626620547227696,
          0.42215646808605684,
          1.4971434747745829,
          -0.13994118394343455,
          0.8020527287884011,
          -0.004972773524476891,
          0.7420408197587705,
          -2.2243504385067503,
          0.11058060408422755,
          -0.07249780625225877,
          0.8482330339326772,
          -0.7747200231185339
         ]
        }
       ],
       "layout": {
        "legend": {
         "bgcolor": "#F5F6F9",
         "font": {
          "color": "#4D5663"
         }
        },
        "paper_bgcolor": "#F5F6F9",
        "plot_bgcolor": "#F5F6F9",
        "template": {
         "data": {
          "bar": [
           {
            "error_x": {
             "color": "#2a3f5f"
            },
            "error_y": {
             "color": "#2a3f5f"
            },
            "marker": {
             "line": {
              "color": "#E5ECF6",
              "width": 0.5
             }
            },
            "type": "bar"
           }
          ],
          "barpolar": [
           {
            "marker": {
             "line": {
              "color": "#E5ECF6",
              "width": 0.5
             }
            },
            "type": "barpolar"
           }
          ],
          "carpet": [
           {
            "aaxis": {
             "endlinecolor": "#2a3f5f",
             "gridcolor": "white",
             "linecolor": "white",
             "minorgridcolor": "white",
             "startlinecolor": "#2a3f5f"
            },
            "baxis": {
             "endlinecolor": "#2a3f5f",
             "gridcolor": "white",
             "linecolor": "white",
             "minorgridcolor": "white",
             "startlinecolor": "#2a3f5f"
            },
            "type": "carpet"
           }
          ],
          "choropleth": [
           {
            "colorbar": {
             "outlinewidth": 0,
             "ticks": ""
            },
            "type": "choropleth"
           }
          ],
          "contour": [
           {
            "colorbar": {
             "outlinewidth": 0,
             "ticks": ""
            },
            "colorscale": [
             [
              0,
              "#0d0887"
             ],
             [
              0.1111111111111111,
              "#46039f"
             ],
             [
              0.2222222222222222,
              "#7201a8"
             ],
             [
              0.3333333333333333,
              "#9c179e"
             ],
             [
              0.4444444444444444,
              "#bd3786"
             ],
             [
              0.5555555555555556,
              "#d8576b"
             ],
             [
              0.6666666666666666,
              "#ed7953"
             ],
             [
              0.7777777777777778,
              "#fb9f3a"
             ],
             [
              0.8888888888888888,
              "#fdca26"
             ],
             [
              1,
              "#f0f921"
             ]
            ],
            "type": "contour"
           }
          ],
          "contourcarpet": [
           {
            "colorbar": {
             "outlinewidth": 0,
             "ticks": ""
            },
            "type": "contourcarpet"
           }
          ],
          "heatmap": [
           {
            "colorbar": {
             "outlinewidth": 0,
             "ticks": ""
            },
            "colorscale": [
             [
              0,
              "#0d0887"
             ],
             [
              0.1111111111111111,
              "#46039f"
             ],
             [
              0.2222222222222222,
              "#7201a8"
             ],
             [
              0.3333333333333333,
              "#9c179e"
             ],
             [
              0.4444444444444444,
              "#bd3786"
             ],
             [
              0.5555555555555556,
              "#d8576b"
             ],
             [
              0.6666666666666666,
              "#ed7953"
             ],
             [
              0.7777777777777778,
              "#fb9f3a"
             ],
             [
              0.8888888888888888,
              "#fdca26"
             ],
             [
              1,
              "#f0f921"
             ]
            ],
            "type": "heatmap"
           }
          ],
          "heatmapgl": [
           {
            "colorbar": {
             "outlinewidth": 0,
             "ticks": ""
            },
            "colorscale": [
             [
              0,
              "#0d0887"
             ],
             [
              0.1111111111111111,
              "#46039f"
             ],
             [
              0.2222222222222222,
              "#7201a8"
             ],
             [
              0.3333333333333333,
              "#9c179e"
             ],
             [
              0.4444444444444444,
              "#bd3786"
             ],
             [
              0.5555555555555556,
              "#d8576b"
             ],
             [
              0.6666666666666666,
              "#ed7953"
             ],
             [
              0.7777777777777778,
              "#fb9f3a"
             ],
             [
              0.8888888888888888,
              "#fdca26"
             ],
             [
              1,
              "#f0f921"
             ]
            ],
            "type": "heatmapgl"
           }
          ],
          "histogram": [
           {
            "marker": {
             "colorbar": {
              "outlinewidth": 0,
              "ticks": ""
             }
            },
            "type": "histogram"
           }
          ],
          "histogram2d": [
           {
            "colorbar": {
             "outlinewidth": 0,
             "ticks": ""
            },
            "colorscale": [
             [
              0,
              "#0d0887"
             ],
             [
              0.1111111111111111,
              "#46039f"
             ],
             [
              0.2222222222222222,
              "#7201a8"
             ],
             [
              0.3333333333333333,
              "#9c179e"
             ],
             [
              0.4444444444444444,
              "#bd3786"
             ],
             [
              0.5555555555555556,
              "#d8576b"
             ],
             [
              0.6666666666666666,
              "#ed7953"
             ],
             [
              0.7777777777777778,
              "#fb9f3a"
             ],
             [
              0.8888888888888888,
              "#fdca26"
             ],
             [
              1,
              "#f0f921"
             ]
            ],
            "type": "histogram2d"
           }
          ],
          "histogram2dcontour": [
           {
            "colorbar": {
             "outlinewidth": 0,
             "ticks": ""
            },
            "colorscale": [
             [
              0,
              "#0d0887"
             ],
             [
              0.1111111111111111,
              "#46039f"
             ],
             [
              0.2222222222222222,
              "#7201a8"
             ],
             [
              0.3333333333333333,
              "#9c179e"
             ],
             [
              0.4444444444444444,
              "#bd3786"
             ],
             [
              0.5555555555555556,
              "#d8576b"
             ],
             [
              0.6666666666666666,
              "#ed7953"
             ],
             [
              0.7777777777777778,
              "#fb9f3a"
             ],
             [
              0.8888888888888888,
              "#fdca26"
             ],
             [
              1,
              "#f0f921"
             ]
            ],
            "type": "histogram2dcontour"
           }
          ],
          "mesh3d": [
           {
            "colorbar": {
             "outlinewidth": 0,
             "ticks": ""
            },
            "type": "mesh3d"
           }
          ],
          "parcoords": [
           {
            "line": {
             "colorbar": {
              "outlinewidth": 0,
              "ticks": ""
             }
            },
            "type": "parcoords"
           }
          ],
          "pie": [
           {
            "automargin": true,
            "type": "pie"
           }
          ],
          "scatter": [
           {
            "marker": {
             "colorbar": {
              "outlinewidth": 0,
              "ticks": ""
             }
            },
            "type": "scatter"
           }
          ],
          "scatter3d": [
           {
            "line": {
             "colorbar": {
              "outlinewidth": 0,
              "ticks": ""
             }
            },
            "marker": {
             "colorbar": {
              "outlinewidth": 0,
              "ticks": ""
             }
            },
            "type": "scatter3d"
           }
          ],
          "scattercarpet": [
           {
            "marker": {
             "colorbar": {
              "outlinewidth": 0,
              "ticks": ""
             }
            },
            "type": "scattercarpet"
           }
          ],
          "scattergeo": [
           {
            "marker": {
             "colorbar": {
              "outlinewidth": 0,
              "ticks": ""
             }
            },
            "type": "scattergeo"
           }
          ],
          "scattergl": [
           {
            "marker": {
             "colorbar": {
              "outlinewidth": 0,
              "ticks": ""
             }
            },
            "type": "scattergl"
           }
          ],
          "scattermapbox": [
           {
            "marker": {
             "colorbar": {
              "outlinewidth": 0,
              "ticks": ""
             }
            },
            "type": "scattermapbox"
           }
          ],
          "scatterpolar": [
           {
            "marker": {
             "colorbar": {
              "outlinewidth": 0,
              "ticks": ""
             }
            },
            "type": "scatterpolar"
           }
          ],
          "scatterpolargl": [
           {
            "marker": {
             "colorbar": {
              "outlinewidth": 0,
              "ticks": ""
             }
            },
            "type": "scatterpolargl"
           }
          ],
          "scatterternary": [
           {
            "marker": {
             "colorbar": {
              "outlinewidth": 0,
              "ticks": ""
             }
            },
            "type": "scatterternary"
           }
          ],
          "surface": [
           {
            "colorbar": {
             "outlinewidth": 0,
             "ticks": ""
            },
            "colorscale": [
             [
              0,
              "#0d0887"
             ],
             [
              0.1111111111111111,
              "#46039f"
             ],
             [
              0.2222222222222222,
              "#7201a8"
             ],
             [
              0.3333333333333333,
              "#9c179e"
             ],
             [
              0.4444444444444444,
              "#bd3786"
             ],
             [
              0.5555555555555556,
              "#d8576b"
             ],
             [
              0.6666666666666666,
              "#ed7953"
             ],
             [
              0.7777777777777778,
              "#fb9f3a"
             ],
             [
              0.8888888888888888,
              "#fdca26"
             ],
             [
              1,
              "#f0f921"
             ]
            ],
            "type": "surface"
           }
          ],
          "table": [
           {
            "cells": {
             "fill": {
              "color": "#EBF0F8"
             },
             "line": {
              "color": "white"
             }
            },
            "header": {
             "fill": {
              "color": "#C8D4E3"
             },
             "line": {
              "color": "white"
             }
            },
            "type": "table"
           }
          ]
         },
         "layout": {
          "annotationdefaults": {
           "arrowcolor": "#2a3f5f",
           "arrowhead": 0,
           "arrowwidth": 1
          },
          "coloraxis": {
           "colorbar": {
            "outlinewidth": 0,
            "ticks": ""
           }
          },
          "colorscale": {
           "diverging": [
            [
             0,
             "#8e0152"
            ],
            [
             0.1,
             "#c51b7d"
            ],
            [
             0.2,
             "#de77ae"
            ],
            [
             0.3,
             "#f1b6da"
            ],
            [
             0.4,
             "#fde0ef"
            ],
            [
             0.5,
             "#f7f7f7"
            ],
            [
             0.6,
             "#e6f5d0"
            ],
            [
             0.7,
             "#b8e186"
            ],
            [
             0.8,
             "#7fbc41"
            ],
            [
             0.9,
             "#4d9221"
            ],
            [
             1,
             "#276419"
            ]
           ],
           "sequential": [
            [
             0,
             "#0d0887"
            ],
            [
             0.1111111111111111,
             "#46039f"
            ],
            [
             0.2222222222222222,
             "#7201a8"
            ],
            [
             0.3333333333333333,
             "#9c179e"
            ],
            [
             0.4444444444444444,
             "#bd3786"
            ],
            [
             0.5555555555555556,
             "#d8576b"
            ],
            [
             0.6666666666666666,
             "#ed7953"
            ],
            [
             0.7777777777777778,
             "#fb9f3a"
            ],
            [
             0.8888888888888888,
             "#fdca26"
            ],
            [
             1,
             "#f0f921"
            ]
           ],
           "sequentialminus": [
            [
             0,
             "#0d0887"
            ],
            [
             0.1111111111111111,
             "#46039f"
            ],
            [
             0.2222222222222222,
             "#7201a8"
            ],
            [
             0.3333333333333333,
             "#9c179e"
            ],
            [
             0.4444444444444444,
             "#bd3786"
            ],
            [
             0.5555555555555556,
             "#d8576b"
            ],
            [
             0.6666666666666666,
             "#ed7953"
            ],
            [
             0.7777777777777778,
             "#fb9f3a"
            ],
            [
             0.8888888888888888,
             "#fdca26"
            ],
            [
             1,
             "#f0f921"
            ]
           ]
          },
          "colorway": [
           "#636efa",
           "#EF553B",
           "#00cc96",
           "#ab63fa",
           "#FFA15A",
           "#19d3f3",
           "#FF6692",
           "#B6E880",
           "#FF97FF",
           "#FECB52"
          ],
          "font": {
           "color": "#2a3f5f"
          },
          "geo": {
           "bgcolor": "white",
           "lakecolor": "white",
           "landcolor": "#E5ECF6",
           "showlakes": true,
           "showland": true,
           "subunitcolor": "white"
          },
          "hoverlabel": {
           "align": "left"
          },
          "hovermode": "closest",
          "mapbox": {
           "style": "light"
          },
          "paper_bgcolor": "white",
          "plot_bgcolor": "#E5ECF6",
          "polar": {
           "angularaxis": {
            "gridcolor": "white",
            "linecolor": "white",
            "ticks": ""
           },
           "bgcolor": "#E5ECF6",
           "radialaxis": {
            "gridcolor": "white",
            "linecolor": "white",
            "ticks": ""
           }
          },
          "scene": {
           "xaxis": {
            "backgroundcolor": "#E5ECF6",
            "gridcolor": "white",
            "gridwidth": 2,
            "linecolor": "white",
            "showbackground": true,
            "ticks": "",
            "zerolinecolor": "white"
           },
           "yaxis": {
            "backgroundcolor": "#E5ECF6",
            "gridcolor": "white",
            "gridwidth": 2,
            "linecolor": "white",
            "showbackground": true,
            "ticks": "",
            "zerolinecolor": "white"
           },
           "zaxis": {
            "backgroundcolor": "#E5ECF6",
            "gridcolor": "white",
            "gridwidth": 2,
            "linecolor": "white",
            "showbackground": true,
            "ticks": "",
            "zerolinecolor": "white"
           }
          },
          "shapedefaults": {
           "line": {
            "color": "#2a3f5f"
           }
          },
          "ternary": {
           "aaxis": {
            "gridcolor": "white",
            "linecolor": "white",
            "ticks": ""
           },
           "baxis": {
            "gridcolor": "white",
            "linecolor": "white",
            "ticks": ""
           },
           "bgcolor": "#E5ECF6",
           "caxis": {
            "gridcolor": "white",
            "linecolor": "white",
            "ticks": ""
           }
          },
          "title": {
           "x": 0.05
          },
          "xaxis": {
           "automargin": true,
           "gridcolor": "white",
           "linecolor": "white",
           "ticks": "",
           "title": {
            "standoff": 15
           },
           "zerolinecolor": "white",
           "zerolinewidth": 2
          },
          "yaxis": {
           "automargin": true,
           "gridcolor": "white",
           "linecolor": "white",
           "ticks": "",
           "title": {
            "standoff": 15
           },
           "zerolinecolor": "white",
           "zerolinewidth": 2
          }
         }
        },
        "title": {
         "font": {
          "color": "#4D5663"
         }
        },
        "xaxis": {
         "gridcolor": "#E1E5ED",
         "showgrid": true,
         "tickfont": {
          "color": "#4D5663"
         },
         "title": {
          "font": {
           "color": "#4D5663"
          },
          "text": ""
         },
         "zerolinecolor": "#E1E5ED"
        },
        "yaxis": {
         "gridcolor": "#E1E5ED",
         "showgrid": true,
         "tickfont": {
          "color": "#4D5663"
         },
         "title": {
          "font": {
           "color": "#4D5663"
          },
          "text": ""
         },
         "zerolinecolor": "#E1E5ED"
        }
       }
      },
      "text/html": [
       "<div>\n",
       "        \n",
       "        \n",
       "            <div id=\"6cb45216-a1c7-4c31-9ed0-2bf4fb1b03ff\" class=\"plotly-graph-div\" style=\"height:525px; width:100%;\"></div>\n",
       "            <script type=\"text/javascript\">\n",
       "                require([\"plotly\"], function(Plotly) {\n",
       "                    window.PLOTLYENV=window.PLOTLYENV || {};\n",
       "                    window.PLOTLYENV.BASE_URL='https://plot.ly';\n",
       "                    \n",
       "                if (document.getElementById(\"6cb45216-a1c7-4c31-9ed0-2bf4fb1b03ff\")) {\n",
       "                    Plotly.newPlot(\n",
       "                        '6cb45216-a1c7-4c31-9ed0-2bf4fb1b03ff',\n",
       "                        [{\"line\": {\"color\": \"rgba(255, 153, 51, 1.0)\", \"dash\": \"solid\", \"shape\": \"linear\", \"width\": 1.3}, \"marker\": {\"size\": 12, \"symbol\": \"circle\"}, \"mode\": \"markers\", \"name\": \"B\", \"text\": \"\", \"type\": \"scatter\", \"x\": [0.49289817131910324, -0.3012398972298208, -0.7816068221605069, -0.8090093152211132, 1.4006830146786922, -0.19482583816277718, 0.0604937012147241, 2.119691209922694, 0.7222242598679914, 1.753235420367374, 0.15830729803447974, -0.6341440309522819, -2.283999111080501, 0.5531241386591951, -2.266708116322684, 0.7042723917299197, 0.6092425758622263, -0.340557220856165, -1.3041616905321494, 0.18497826710035706, 0.021565250924974123, -0.006075820444198791, -2.566727147075182, 0.02730521303181981, -0.9939684925220701, -0.6223666531415607, 1.776870439188865, 0.01793289056711191, 0.05680072212956541, 0.43447933306281233, -1.453567536602802, 0.22397366436895907, -0.47782199024703215, 1.339102396303261, 1.6080823076036965, 0.20166945309703094, -1.4037713891573702, 0.5106776942015245, -1.8190377132273154, -1.0337585498673065, 0.5183548692185115, -1.0257448210609061, 0.3360850564164397, 1.6441074102925999, 1.359625493547863, 0.5732793595532124, -0.5467403903693552, 0.40035282535498895, 0.10515275916863191, -0.5263016957839567, -0.04432663132196094, 0.8299882137593065, 0.288974670977, 1.4516357718944564, -0.4111386022214322, -2.1428502676999592, 1.2035300277031884, -1.623937560391315, -0.3132882723386422, -0.5352367479666442, -0.6950356321246792, -0.33190243398305314, 0.26383380532025796, -0.5184732009735258, 0.5207487437274007, -1.5584295495848832, 1.0170403191939565, 0.07373919242253754, 0.39030351930826057, 0.3832708653059387, -0.6111638533706606, 0.2944432971309082, 0.4591500221941663, -1.3000294349405557, 0.8493654040778634, -0.24454619551784645, 2.5784605090664208, 0.3470148257665814, 0.4275832431758216, -0.02006983310330113, -0.22115821773805194, 0.7441606483066695, -2.147666745538417, 0.4022717625020178, 1.015008131996003, -0.9614527011380453, 0.6427549647493842, 0.26275878026670807, -2.1811228596403294, -0.9651264344972399, -1.0807091355825975, -1.2704353852791637, -1.604220193082267, 2.2757599377870004, -0.7460643325640582, -1.0270656913759506, -0.08472691139075982, -0.4397288250502953, -0.4051011158276595, 0.0030321124322531187], \"y\": [1.788094498128622, -0.44535443686305204, -0.7131795159657938, -0.5554106325242337, -0.21586035461825787, -0.697799365135744, 1.097573763569276, 0.035887813880043605, 2.6195040661181466, 0.6079529137881459, 0.7436248459744537, -0.8618502776351192, -0.47747198195992685, 0.22394260599753302, 0.16778779907716984, -0.21439653722728408, -0.28082534999382414, -0.47247468827363853, -0.4506597477838028, 0.6851240964961288, 1.1619213588272501, -1.0702545218773423, 0.4492565916692249, -1.1452374174231343, 0.6940018241869989, 1.7025908336350206, 0.911095428268713, -0.8390868115640266, 0.1663123644197956, 0.3328100887697817, 0.06435393233991418, -0.3710348748026914, -0.9179829095604276, -0.524999408533106, 0.6652896007479878, 1.5838460732342565, -0.006292105652858107, 0.6036323038736936, -0.476844069070269, 1.1387478354050842, 0.03827391299502421, 1.1285586150173448, 0.14647132562841755, 0.4044039554802493, -0.21088510943267336, -1.6753117569624703, -0.3294821012530378, 0.6607752806792838, -0.13058529121836507, 0.22371960616266628, -0.8188759246483298, -0.5854214437337317, -2.491158593278795, -1.0585519213970385, -0.03288668821960335, 1.8329670294391918, 0.605965626089157, -1.0337333776852846, 0.3155519084756224, 1.6015557409146575, 0.6822350410713564, 2.338739883832616, -1.1730419635505192, 0.6391766373700845, 1.289160748481995, -0.5420518881612237, 0.5071628629766942, -0.40457294813531886, 0.7270531601651469, -1.6646222754130013, 0.40243397726927077, 0.34311882064613747, 0.6259398874778561, -1.009481363220773, 0.2245743366277254, 0.6600993412912876, -1.6075531641768765, 0.46316037121790465, -0.5365819522636401, 0.33546724504982794, 0.709807510414665, -1.411526231278596, 0.1236699459010611, 0.30797864886790227, -0.7320151252688502, 0.9815246074439794, 0.546198609092013, 1.7577800559208172, 0.31626620547227696, 0.42215646808605684, 1.4971434747745829, -0.13994118394343455, 0.8020527287884011, -0.004972773524476891, 0.7420408197587705, -2.2243504385067503, 0.11058060408422755, -0.07249780625225877, 0.8482330339326772, -0.7747200231185339]}],\n",
       "                        {\"legend\": {\"bgcolor\": \"#F5F6F9\", \"font\": {\"color\": \"#4D5663\"}}, \"paper_bgcolor\": \"#F5F6F9\", \"plot_bgcolor\": \"#F5F6F9\", \"template\": {\"data\": {\"bar\": [{\"error_x\": {\"color\": \"#2a3f5f\"}, \"error_y\": {\"color\": \"#2a3f5f\"}, \"marker\": {\"line\": {\"color\": \"#E5ECF6\", \"width\": 0.5}}, \"type\": \"bar\"}], \"barpolar\": [{\"marker\": {\"line\": {\"color\": \"#E5ECF6\", \"width\": 0.5}}, \"type\": \"barpolar\"}], \"carpet\": [{\"aaxis\": {\"endlinecolor\": \"#2a3f5f\", \"gridcolor\": \"white\", \"linecolor\": \"white\", \"minorgridcolor\": \"white\", \"startlinecolor\": \"#2a3f5f\"}, \"baxis\": {\"endlinecolor\": \"#2a3f5f\", \"gridcolor\": \"white\", \"linecolor\": \"white\", \"minorgridcolor\": \"white\", \"startlinecolor\": \"#2a3f5f\"}, \"type\": \"carpet\"}], \"choropleth\": [{\"colorbar\": {\"outlinewidth\": 0, \"ticks\": \"\"}, \"type\": \"choropleth\"}], \"contour\": [{\"colorbar\": {\"outlinewidth\": 0, \"ticks\": \"\"}, \"colorscale\": [[0.0, \"#0d0887\"], [0.1111111111111111, \"#46039f\"], [0.2222222222222222, \"#7201a8\"], [0.3333333333333333, \"#9c179e\"], [0.4444444444444444, \"#bd3786\"], [0.5555555555555556, \"#d8576b\"], [0.6666666666666666, \"#ed7953\"], [0.7777777777777778, \"#fb9f3a\"], [0.8888888888888888, \"#fdca26\"], [1.0, \"#f0f921\"]], \"type\": \"contour\"}], \"contourcarpet\": [{\"colorbar\": {\"outlinewidth\": 0, \"ticks\": \"\"}, \"type\": \"contourcarpet\"}], \"heatmap\": [{\"colorbar\": {\"outlinewidth\": 0, \"ticks\": \"\"}, \"colorscale\": [[0.0, \"#0d0887\"], [0.1111111111111111, \"#46039f\"], [0.2222222222222222, \"#7201a8\"], [0.3333333333333333, \"#9c179e\"], [0.4444444444444444, \"#bd3786\"], [0.5555555555555556, \"#d8576b\"], [0.6666666666666666, \"#ed7953\"], [0.7777777777777778, \"#fb9f3a\"], [0.8888888888888888, \"#fdca26\"], [1.0, \"#f0f921\"]], \"type\": \"heatmap\"}], \"heatmapgl\": [{\"colorbar\": {\"outlinewidth\": 0, \"ticks\": \"\"}, \"colorscale\": [[0.0, \"#0d0887\"], [0.1111111111111111, \"#46039f\"], [0.2222222222222222, \"#7201a8\"], [0.3333333333333333, \"#9c179e\"], [0.4444444444444444, \"#bd3786\"], [0.5555555555555556, \"#d8576b\"], [0.6666666666666666, \"#ed7953\"], [0.7777777777777778, \"#fb9f3a\"], [0.8888888888888888, \"#fdca26\"], [1.0, \"#f0f921\"]], \"type\": \"heatmapgl\"}], \"histogram\": [{\"marker\": {\"colorbar\": {\"outlinewidth\": 0, \"ticks\": \"\"}}, \"type\": \"histogram\"}], \"histogram2d\": [{\"colorbar\": {\"outlinewidth\": 0, \"ticks\": \"\"}, \"colorscale\": [[0.0, \"#0d0887\"], [0.1111111111111111, \"#46039f\"], [0.2222222222222222, \"#7201a8\"], [0.3333333333333333, \"#9c179e\"], [0.4444444444444444, \"#bd3786\"], [0.5555555555555556, \"#d8576b\"], [0.6666666666666666, \"#ed7953\"], [0.7777777777777778, \"#fb9f3a\"], [0.8888888888888888, \"#fdca26\"], [1.0, \"#f0f921\"]], \"type\": \"histogram2d\"}], \"histogram2dcontour\": [{\"colorbar\": {\"outlinewidth\": 0, \"ticks\": \"\"}, \"colorscale\": [[0.0, \"#0d0887\"], [0.1111111111111111, \"#46039f\"], [0.2222222222222222, \"#7201a8\"], [0.3333333333333333, \"#9c179e\"], [0.4444444444444444, \"#bd3786\"], [0.5555555555555556, \"#d8576b\"], [0.6666666666666666, \"#ed7953\"], [0.7777777777777778, \"#fb9f3a\"], [0.8888888888888888, \"#fdca26\"], [1.0, \"#f0f921\"]], \"type\": \"histogram2dcontour\"}], \"mesh3d\": [{\"colorbar\": {\"outlinewidth\": 0, \"ticks\": \"\"}, \"type\": \"mesh3d\"}], \"parcoords\": [{\"line\": {\"colorbar\": {\"outlinewidth\": 0, \"ticks\": \"\"}}, \"type\": \"parcoords\"}], \"pie\": [{\"automargin\": true, \"type\": \"pie\"}], \"scatter\": [{\"marker\": {\"colorbar\": {\"outlinewidth\": 0, \"ticks\": \"\"}}, \"type\": \"scatter\"}], \"scatter3d\": [{\"line\": {\"colorbar\": {\"outlinewidth\": 0, \"ticks\": \"\"}}, \"marker\": {\"colorbar\": {\"outlinewidth\": 0, \"ticks\": \"\"}}, \"type\": \"scatter3d\"}], \"scattercarpet\": [{\"marker\": {\"colorbar\": {\"outlinewidth\": 0, \"ticks\": \"\"}}, \"type\": \"scattercarpet\"}], \"scattergeo\": [{\"marker\": {\"colorbar\": {\"outlinewidth\": 0, \"ticks\": \"\"}}, \"type\": \"scattergeo\"}], \"scattergl\": [{\"marker\": {\"colorbar\": {\"outlinewidth\": 0, \"ticks\": \"\"}}, \"type\": \"scattergl\"}], \"scattermapbox\": [{\"marker\": {\"colorbar\": {\"outlinewidth\": 0, \"ticks\": \"\"}}, \"type\": \"scattermapbox\"}], \"scatterpolar\": [{\"marker\": {\"colorbar\": {\"outlinewidth\": 0, \"ticks\": \"\"}}, \"type\": \"scatterpolar\"}], \"scatterpolargl\": [{\"marker\": {\"colorbar\": {\"outlinewidth\": 0, \"ticks\": \"\"}}, \"type\": \"scatterpolargl\"}], \"scatterternary\": [{\"marker\": {\"colorbar\": {\"outlinewidth\": 0, \"ticks\": \"\"}}, \"type\": \"scatterternary\"}], \"surface\": [{\"colorbar\": {\"outlinewidth\": 0, \"ticks\": \"\"}, \"colorscale\": [[0.0, \"#0d0887\"], [0.1111111111111111, \"#46039f\"], [0.2222222222222222, \"#7201a8\"], [0.3333333333333333, \"#9c179e\"], [0.4444444444444444, \"#bd3786\"], [0.5555555555555556, \"#d8576b\"], [0.6666666666666666, \"#ed7953\"], [0.7777777777777778, \"#fb9f3a\"], [0.8888888888888888, \"#fdca26\"], [1.0, \"#f0f921\"]], \"type\": \"surface\"}], \"table\": [{\"cells\": {\"fill\": {\"color\": \"#EBF0F8\"}, \"line\": {\"color\": \"white\"}}, \"header\": {\"fill\": {\"color\": \"#C8D4E3\"}, \"line\": {\"color\": \"white\"}}, \"type\": \"table\"}]}, \"layout\": {\"annotationdefaults\": {\"arrowcolor\": \"#2a3f5f\", \"arrowhead\": 0, \"arrowwidth\": 1}, \"coloraxis\": {\"colorbar\": {\"outlinewidth\": 0, \"ticks\": \"\"}}, \"colorscale\": {\"diverging\": [[0, \"#8e0152\"], [0.1, \"#c51b7d\"], [0.2, \"#de77ae\"], [0.3, \"#f1b6da\"], [0.4, \"#fde0ef\"], [0.5, \"#f7f7f7\"], [0.6, \"#e6f5d0\"], [0.7, \"#b8e186\"], [0.8, \"#7fbc41\"], [0.9, \"#4d9221\"], [1, \"#276419\"]], \"sequential\": [[0.0, \"#0d0887\"], [0.1111111111111111, \"#46039f\"], [0.2222222222222222, \"#7201a8\"], [0.3333333333333333, \"#9c179e\"], [0.4444444444444444, \"#bd3786\"], [0.5555555555555556, \"#d8576b\"], [0.6666666666666666, \"#ed7953\"], [0.7777777777777778, \"#fb9f3a\"], [0.8888888888888888, \"#fdca26\"], [1.0, \"#f0f921\"]], \"sequentialminus\": [[0.0, \"#0d0887\"], [0.1111111111111111, \"#46039f\"], [0.2222222222222222, \"#7201a8\"], [0.3333333333333333, \"#9c179e\"], [0.4444444444444444, \"#bd3786\"], [0.5555555555555556, \"#d8576b\"], [0.6666666666666666, \"#ed7953\"], [0.7777777777777778, \"#fb9f3a\"], [0.8888888888888888, \"#fdca26\"], [1.0, \"#f0f921\"]]}, \"colorway\": [\"#636efa\", \"#EF553B\", \"#00cc96\", \"#ab63fa\", \"#FFA15A\", \"#19d3f3\", \"#FF6692\", \"#B6E880\", \"#FF97FF\", \"#FECB52\"], \"font\": {\"color\": \"#2a3f5f\"}, \"geo\": {\"bgcolor\": \"white\", \"lakecolor\": \"white\", \"landcolor\": \"#E5ECF6\", \"showlakes\": true, \"showland\": true, \"subunitcolor\": \"white\"}, \"hoverlabel\": {\"align\": \"left\"}, \"hovermode\": \"closest\", \"mapbox\": {\"style\": \"light\"}, \"paper_bgcolor\": \"white\", \"plot_bgcolor\": \"#E5ECF6\", \"polar\": {\"angularaxis\": {\"gridcolor\": \"white\", \"linecolor\": \"white\", \"ticks\": \"\"}, \"bgcolor\": \"#E5ECF6\", \"radialaxis\": {\"gridcolor\": \"white\", \"linecolor\": \"white\", \"ticks\": \"\"}}, \"scene\": {\"xaxis\": {\"backgroundcolor\": \"#E5ECF6\", \"gridcolor\": \"white\", \"gridwidth\": 2, \"linecolor\": \"white\", \"showbackground\": true, \"ticks\": \"\", \"zerolinecolor\": \"white\"}, \"yaxis\": {\"backgroundcolor\": \"#E5ECF6\", \"gridcolor\": \"white\", \"gridwidth\": 2, \"linecolor\": \"white\", \"showbackground\": true, \"ticks\": \"\", \"zerolinecolor\": \"white\"}, \"zaxis\": {\"backgroundcolor\": \"#E5ECF6\", \"gridcolor\": \"white\", \"gridwidth\": 2, \"linecolor\": \"white\", \"showbackground\": true, \"ticks\": \"\", \"zerolinecolor\": \"white\"}}, \"shapedefaults\": {\"line\": {\"color\": \"#2a3f5f\"}}, \"ternary\": {\"aaxis\": {\"gridcolor\": \"white\", \"linecolor\": \"white\", \"ticks\": \"\"}, \"baxis\": {\"gridcolor\": \"white\", \"linecolor\": \"white\", \"ticks\": \"\"}, \"bgcolor\": \"#E5ECF6\", \"caxis\": {\"gridcolor\": \"white\", \"linecolor\": \"white\", \"ticks\": \"\"}}, \"title\": {\"x\": 0.05}, \"xaxis\": {\"automargin\": true, \"gridcolor\": \"white\", \"linecolor\": \"white\", \"ticks\": \"\", \"title\": {\"standoff\": 15}, \"zerolinecolor\": \"white\", \"zerolinewidth\": 2}, \"yaxis\": {\"automargin\": true, \"gridcolor\": \"white\", \"linecolor\": \"white\", \"ticks\": \"\", \"title\": {\"standoff\": 15}, \"zerolinecolor\": \"white\", \"zerolinewidth\": 2}}}, \"title\": {\"font\": {\"color\": \"#4D5663\"}}, \"xaxis\": {\"gridcolor\": \"#E1E5ED\", \"showgrid\": true, \"tickfont\": {\"color\": \"#4D5663\"}, \"title\": {\"font\": {\"color\": \"#4D5663\"}, \"text\": \"\"}, \"zerolinecolor\": \"#E1E5ED\"}, \"yaxis\": {\"gridcolor\": \"#E1E5ED\", \"showgrid\": true, \"tickfont\": {\"color\": \"#4D5663\"}, \"title\": {\"font\": {\"color\": \"#4D5663\"}, \"text\": \"\"}, \"zerolinecolor\": \"#E1E5ED\"}},\n",
       "                        {\"showLink\": true, \"linkText\": \"Export to plot.ly\", \"plotlyServerURL\": \"https://plot.ly\", \"responsive\": true}\n",
       "                    ).then(function(){\n",
       "                            \n",
       "var gd = document.getElementById('6cb45216-a1c7-4c31-9ed0-2bf4fb1b03ff');\n",
       "var x = new MutationObserver(function (mutations, observer) {{\n",
       "        var display = window.getComputedStyle(gd).display;\n",
       "        if (!display || display === 'none') {{\n",
       "            console.log([gd, 'removed!']);\n",
       "            Plotly.purge(gd);\n",
       "            observer.disconnect();\n",
       "        }}\n",
       "}});\n",
       "\n",
       "// Listen for the removal of the full notebook cells\n",
       "var notebookContainer = gd.closest('#notebook-container');\n",
       "if (notebookContainer) {{\n",
       "    x.observe(notebookContainer, {childList: true});\n",
       "}}\n",
       "\n",
       "// Listen for the clearing of the current output cell\n",
       "var outputEl = gd.closest('.output');\n",
       "if (outputEl) {{\n",
       "    x.observe(outputEl, {childList: true});\n",
       "}}\n",
       "\n",
       "                        })\n",
       "                };\n",
       "                });\n",
       "            </script>\n",
       "        </div>"
      ]
     },
     "metadata": {},
     "output_type": "display_data"
    }
   ],
   "source": [
    "df.iplot(kind='scatter',x='A',y='B',mode='markers')"
   ]
  },
  {
   "cell_type": "code",
   "execution_count": 16,
   "metadata": {},
   "outputs": [
    {
     "data": {
      "application/vnd.plotly.v1+json": {
       "config": {
        "linkText": "Export to plot.ly",
        "plotlyServerURL": "https://plot.ly",
        "showLink": true
       },
       "data": [
        {
         "marker": {
          "color": "rgba(255, 153, 51, 0.6)",
          "line": {
           "color": "rgba(255, 153, 51, 1.0)",
           "width": 1
          }
         },
         "name": "Values",
         "orientation": "v",
         "text": "",
         "type": "bar",
         "x": [
          "A",
          "B",
          "C"
         ],
         "y": [
          32,
          43,
          50
         ]
        }
       ],
       "layout": {
        "legend": {
         "bgcolor": "#F5F6F9",
         "font": {
          "color": "#4D5663"
         }
        },
        "paper_bgcolor": "#F5F6F9",
        "plot_bgcolor": "#F5F6F9",
        "template": {
         "data": {
          "bar": [
           {
            "error_x": {
             "color": "#2a3f5f"
            },
            "error_y": {
             "color": "#2a3f5f"
            },
            "marker": {
             "line": {
              "color": "#E5ECF6",
              "width": 0.5
             }
            },
            "type": "bar"
           }
          ],
          "barpolar": [
           {
            "marker": {
             "line": {
              "color": "#E5ECF6",
              "width": 0.5
             }
            },
            "type": "barpolar"
           }
          ],
          "carpet": [
           {
            "aaxis": {
             "endlinecolor": "#2a3f5f",
             "gridcolor": "white",
             "linecolor": "white",
             "minorgridcolor": "white",
             "startlinecolor": "#2a3f5f"
            },
            "baxis": {
             "endlinecolor": "#2a3f5f",
             "gridcolor": "white",
             "linecolor": "white",
             "minorgridcolor": "white",
             "startlinecolor": "#2a3f5f"
            },
            "type": "carpet"
           }
          ],
          "choropleth": [
           {
            "colorbar": {
             "outlinewidth": 0,
             "ticks": ""
            },
            "type": "choropleth"
           }
          ],
          "contour": [
           {
            "colorbar": {
             "outlinewidth": 0,
             "ticks": ""
            },
            "colorscale": [
             [
              0,
              "#0d0887"
             ],
             [
              0.1111111111111111,
              "#46039f"
             ],
             [
              0.2222222222222222,
              "#7201a8"
             ],
             [
              0.3333333333333333,
              "#9c179e"
             ],
             [
              0.4444444444444444,
              "#bd3786"
             ],
             [
              0.5555555555555556,
              "#d8576b"
             ],
             [
              0.6666666666666666,
              "#ed7953"
             ],
             [
              0.7777777777777778,
              "#fb9f3a"
             ],
             [
              0.8888888888888888,
              "#fdca26"
             ],
             [
              1,
              "#f0f921"
             ]
            ],
            "type": "contour"
           }
          ],
          "contourcarpet": [
           {
            "colorbar": {
             "outlinewidth": 0,
             "ticks": ""
            },
            "type": "contourcarpet"
           }
          ],
          "heatmap": [
           {
            "colorbar": {
             "outlinewidth": 0,
             "ticks": ""
            },
            "colorscale": [
             [
              0,
              "#0d0887"
             ],
             [
              0.1111111111111111,
              "#46039f"
             ],
             [
              0.2222222222222222,
              "#7201a8"
             ],
             [
              0.3333333333333333,
              "#9c179e"
             ],
             [
              0.4444444444444444,
              "#bd3786"
             ],
             [
              0.5555555555555556,
              "#d8576b"
             ],
             [
              0.6666666666666666,
              "#ed7953"
             ],
             [
              0.7777777777777778,
              "#fb9f3a"
             ],
             [
              0.8888888888888888,
              "#fdca26"
             ],
             [
              1,
              "#f0f921"
             ]
            ],
            "type": "heatmap"
           }
          ],
          "heatmapgl": [
           {
            "colorbar": {
             "outlinewidth": 0,
             "ticks": ""
            },
            "colorscale": [
             [
              0,
              "#0d0887"
             ],
             [
              0.1111111111111111,
              "#46039f"
             ],
             [
              0.2222222222222222,
              "#7201a8"
             ],
             [
              0.3333333333333333,
              "#9c179e"
             ],
             [
              0.4444444444444444,
              "#bd3786"
             ],
             [
              0.5555555555555556,
              "#d8576b"
             ],
             [
              0.6666666666666666,
              "#ed7953"
             ],
             [
              0.7777777777777778,
              "#fb9f3a"
             ],
             [
              0.8888888888888888,
              "#fdca26"
             ],
             [
              1,
              "#f0f921"
             ]
            ],
            "type": "heatmapgl"
           }
          ],
          "histogram": [
           {
            "marker": {
             "colorbar": {
              "outlinewidth": 0,
              "ticks": ""
             }
            },
            "type": "histogram"
           }
          ],
          "histogram2d": [
           {
            "colorbar": {
             "outlinewidth": 0,
             "ticks": ""
            },
            "colorscale": [
             [
              0,
              "#0d0887"
             ],
             [
              0.1111111111111111,
              "#46039f"
             ],
             [
              0.2222222222222222,
              "#7201a8"
             ],
             [
              0.3333333333333333,
              "#9c179e"
             ],
             [
              0.4444444444444444,
              "#bd3786"
             ],
             [
              0.5555555555555556,
              "#d8576b"
             ],
             [
              0.6666666666666666,
              "#ed7953"
             ],
             [
              0.7777777777777778,
              "#fb9f3a"
             ],
             [
              0.8888888888888888,
              "#fdca26"
             ],
             [
              1,
              "#f0f921"
             ]
            ],
            "type": "histogram2d"
           }
          ],
          "histogram2dcontour": [
           {
            "colorbar": {
             "outlinewidth": 0,
             "ticks": ""
            },
            "colorscale": [
             [
              0,
              "#0d0887"
             ],
             [
              0.1111111111111111,
              "#46039f"
             ],
             [
              0.2222222222222222,
              "#7201a8"
             ],
             [
              0.3333333333333333,
              "#9c179e"
             ],
             [
              0.4444444444444444,
              "#bd3786"
             ],
             [
              0.5555555555555556,
              "#d8576b"
             ],
             [
              0.6666666666666666,
              "#ed7953"
             ],
             [
              0.7777777777777778,
              "#fb9f3a"
             ],
             [
              0.8888888888888888,
              "#fdca26"
             ],
             [
              1,
              "#f0f921"
             ]
            ],
            "type": "histogram2dcontour"
           }
          ],
          "mesh3d": [
           {
            "colorbar": {
             "outlinewidth": 0,
             "ticks": ""
            },
            "type": "mesh3d"
           }
          ],
          "parcoords": [
           {
            "line": {
             "colorbar": {
              "outlinewidth": 0,
              "ticks": ""
             }
            },
            "type": "parcoords"
           }
          ],
          "pie": [
           {
            "automargin": true,
            "type": "pie"
           }
          ],
          "scatter": [
           {
            "marker": {
             "colorbar": {
              "outlinewidth": 0,
              "ticks": ""
             }
            },
            "type": "scatter"
           }
          ],
          "scatter3d": [
           {
            "line": {
             "colorbar": {
              "outlinewidth": 0,
              "ticks": ""
             }
            },
            "marker": {
             "colorbar": {
              "outlinewidth": 0,
              "ticks": ""
             }
            },
            "type": "scatter3d"
           }
          ],
          "scattercarpet": [
           {
            "marker": {
             "colorbar": {
              "outlinewidth": 0,
              "ticks": ""
             }
            },
            "type": "scattercarpet"
           }
          ],
          "scattergeo": [
           {
            "marker": {
             "colorbar": {
              "outlinewidth": 0,
              "ticks": ""
             }
            },
            "type": "scattergeo"
           }
          ],
          "scattergl": [
           {
            "marker": {
             "colorbar": {
              "outlinewidth": 0,
              "ticks": ""
             }
            },
            "type": "scattergl"
           }
          ],
          "scattermapbox": [
           {
            "marker": {
             "colorbar": {
              "outlinewidth": 0,
              "ticks": ""
             }
            },
            "type": "scattermapbox"
           }
          ],
          "scatterpolar": [
           {
            "marker": {
             "colorbar": {
              "outlinewidth": 0,
              "ticks": ""
             }
            },
            "type": "scatterpolar"
           }
          ],
          "scatterpolargl": [
           {
            "marker": {
             "colorbar": {
              "outlinewidth": 0,
              "ticks": ""
             }
            },
            "type": "scatterpolargl"
           }
          ],
          "scatterternary": [
           {
            "marker": {
             "colorbar": {
              "outlinewidth": 0,
              "ticks": ""
             }
            },
            "type": "scatterternary"
           }
          ],
          "surface": [
           {
            "colorbar": {
             "outlinewidth": 0,
             "ticks": ""
            },
            "colorscale": [
             [
              0,
              "#0d0887"
             ],
             [
              0.1111111111111111,
              "#46039f"
             ],
             [
              0.2222222222222222,
              "#7201a8"
             ],
             [
              0.3333333333333333,
              "#9c179e"
             ],
             [
              0.4444444444444444,
              "#bd3786"
             ],
             [
              0.5555555555555556,
              "#d8576b"
             ],
             [
              0.6666666666666666,
              "#ed7953"
             ],
             [
              0.7777777777777778,
              "#fb9f3a"
             ],
             [
              0.8888888888888888,
              "#fdca26"
             ],
             [
              1,
              "#f0f921"
             ]
            ],
            "type": "surface"
           }
          ],
          "table": [
           {
            "cells": {
             "fill": {
              "color": "#EBF0F8"
             },
             "line": {
              "color": "white"
             }
            },
            "header": {
             "fill": {
              "color": "#C8D4E3"
             },
             "line": {
              "color": "white"
             }
            },
            "type": "table"
           }
          ]
         },
         "layout": {
          "annotationdefaults": {
           "arrowcolor": "#2a3f5f",
           "arrowhead": 0,
           "arrowwidth": 1
          },
          "coloraxis": {
           "colorbar": {
            "outlinewidth": 0,
            "ticks": ""
           }
          },
          "colorscale": {
           "diverging": [
            [
             0,
             "#8e0152"
            ],
            [
             0.1,
             "#c51b7d"
            ],
            [
             0.2,
             "#de77ae"
            ],
            [
             0.3,
             "#f1b6da"
            ],
            [
             0.4,
             "#fde0ef"
            ],
            [
             0.5,
             "#f7f7f7"
            ],
            [
             0.6,
             "#e6f5d0"
            ],
            [
             0.7,
             "#b8e186"
            ],
            [
             0.8,
             "#7fbc41"
            ],
            [
             0.9,
             "#4d9221"
            ],
            [
             1,
             "#276419"
            ]
           ],
           "sequential": [
            [
             0,
             "#0d0887"
            ],
            [
             0.1111111111111111,
             "#46039f"
            ],
            [
             0.2222222222222222,
             "#7201a8"
            ],
            [
             0.3333333333333333,
             "#9c179e"
            ],
            [
             0.4444444444444444,
             "#bd3786"
            ],
            [
             0.5555555555555556,
             "#d8576b"
            ],
            [
             0.6666666666666666,
             "#ed7953"
            ],
            [
             0.7777777777777778,
             "#fb9f3a"
            ],
            [
             0.8888888888888888,
             "#fdca26"
            ],
            [
             1,
             "#f0f921"
            ]
           ],
           "sequentialminus": [
            [
             0,
             "#0d0887"
            ],
            [
             0.1111111111111111,
             "#46039f"
            ],
            [
             0.2222222222222222,
             "#7201a8"
            ],
            [
             0.3333333333333333,
             "#9c179e"
            ],
            [
             0.4444444444444444,
             "#bd3786"
            ],
            [
             0.5555555555555556,
             "#d8576b"
            ],
            [
             0.6666666666666666,
             "#ed7953"
            ],
            [
             0.7777777777777778,
             "#fb9f3a"
            ],
            [
             0.8888888888888888,
             "#fdca26"
            ],
            [
             1,
             "#f0f921"
            ]
           ]
          },
          "colorway": [
           "#636efa",
           "#EF553B",
           "#00cc96",
           "#ab63fa",
           "#FFA15A",
           "#19d3f3",
           "#FF6692",
           "#B6E880",
           "#FF97FF",
           "#FECB52"
          ],
          "font": {
           "color": "#2a3f5f"
          },
          "geo": {
           "bgcolor": "white",
           "lakecolor": "white",
           "landcolor": "#E5ECF6",
           "showlakes": true,
           "showland": true,
           "subunitcolor": "white"
          },
          "hoverlabel": {
           "align": "left"
          },
          "hovermode": "closest",
          "mapbox": {
           "style": "light"
          },
          "paper_bgcolor": "white",
          "plot_bgcolor": "#E5ECF6",
          "polar": {
           "angularaxis": {
            "gridcolor": "white",
            "linecolor": "white",
            "ticks": ""
           },
           "bgcolor": "#E5ECF6",
           "radialaxis": {
            "gridcolor": "white",
            "linecolor": "white",
            "ticks": ""
           }
          },
          "scene": {
           "xaxis": {
            "backgroundcolor": "#E5ECF6",
            "gridcolor": "white",
            "gridwidth": 2,
            "linecolor": "white",
            "showbackground": true,
            "ticks": "",
            "zerolinecolor": "white"
           },
           "yaxis": {
            "backgroundcolor": "#E5ECF6",
            "gridcolor": "white",
            "gridwidth": 2,
            "linecolor": "white",
            "showbackground": true,
            "ticks": "",
            "zerolinecolor": "white"
           },
           "zaxis": {
            "backgroundcolor": "#E5ECF6",
            "gridcolor": "white",
            "gridwidth": 2,
            "linecolor": "white",
            "showbackground": true,
            "ticks": "",
            "zerolinecolor": "white"
           }
          },
          "shapedefaults": {
           "line": {
            "color": "#2a3f5f"
           }
          },
          "ternary": {
           "aaxis": {
            "gridcolor": "white",
            "linecolor": "white",
            "ticks": ""
           },
           "baxis": {
            "gridcolor": "white",
            "linecolor": "white",
            "ticks": ""
           },
           "bgcolor": "#E5ECF6",
           "caxis": {
            "gridcolor": "white",
            "linecolor": "white",
            "ticks": ""
           }
          },
          "title": {
           "x": 0.05
          },
          "xaxis": {
           "automargin": true,
           "gridcolor": "white",
           "linecolor": "white",
           "ticks": "",
           "title": {
            "standoff": 15
           },
           "zerolinecolor": "white",
           "zerolinewidth": 2
          },
          "yaxis": {
           "automargin": true,
           "gridcolor": "white",
           "linecolor": "white",
           "ticks": "",
           "title": {
            "standoff": 15
           },
           "zerolinecolor": "white",
           "zerolinewidth": 2
          }
         }
        },
        "title": {
         "font": {
          "color": "#4D5663"
         }
        },
        "xaxis": {
         "gridcolor": "#E1E5ED",
         "showgrid": true,
         "tickfont": {
          "color": "#4D5663"
         },
         "title": {
          "font": {
           "color": "#4D5663"
          },
          "text": ""
         },
         "zerolinecolor": "#E1E5ED"
        },
        "yaxis": {
         "gridcolor": "#E1E5ED",
         "showgrid": true,
         "tickfont": {
          "color": "#4D5663"
         },
         "title": {
          "font": {
           "color": "#4D5663"
          },
          "text": ""
         },
         "zerolinecolor": "#E1E5ED"
        }
       }
      },
      "text/html": [
       "<div>\n",
       "        \n",
       "        \n",
       "            <div id=\"cfc8cf8d-c68c-4033-9173-db0dba429c53\" class=\"plotly-graph-div\" style=\"height:525px; width:100%;\"></div>\n",
       "            <script type=\"text/javascript\">\n",
       "                require([\"plotly\"], function(Plotly) {\n",
       "                    window.PLOTLYENV=window.PLOTLYENV || {};\n",
       "                    window.PLOTLYENV.BASE_URL='https://plot.ly';\n",
       "                    \n",
       "                if (document.getElementById(\"cfc8cf8d-c68c-4033-9173-db0dba429c53\")) {\n",
       "                    Plotly.newPlot(\n",
       "                        'cfc8cf8d-c68c-4033-9173-db0dba429c53',\n",
       "                        [{\"marker\": {\"color\": \"rgba(255, 153, 51, 0.6)\", \"line\": {\"color\": \"rgba(255, 153, 51, 1.0)\", \"width\": 1}}, \"name\": \"Values\", \"orientation\": \"v\", \"text\": \"\", \"type\": \"bar\", \"x\": [\"A\", \"B\", \"C\"], \"y\": [32, 43, 50]}],\n",
       "                        {\"legend\": {\"bgcolor\": \"#F5F6F9\", \"font\": {\"color\": \"#4D5663\"}}, \"paper_bgcolor\": \"#F5F6F9\", \"plot_bgcolor\": \"#F5F6F9\", \"template\": {\"data\": {\"bar\": [{\"error_x\": {\"color\": \"#2a3f5f\"}, \"error_y\": {\"color\": \"#2a3f5f\"}, \"marker\": {\"line\": {\"color\": \"#E5ECF6\", \"width\": 0.5}}, \"type\": \"bar\"}], \"barpolar\": [{\"marker\": {\"line\": {\"color\": \"#E5ECF6\", \"width\": 0.5}}, \"type\": \"barpolar\"}], \"carpet\": [{\"aaxis\": {\"endlinecolor\": \"#2a3f5f\", \"gridcolor\": \"white\", \"linecolor\": \"white\", \"minorgridcolor\": \"white\", \"startlinecolor\": \"#2a3f5f\"}, \"baxis\": {\"endlinecolor\": \"#2a3f5f\", \"gridcolor\": \"white\", \"linecolor\": \"white\", \"minorgridcolor\": \"white\", \"startlinecolor\": \"#2a3f5f\"}, \"type\": \"carpet\"}], \"choropleth\": [{\"colorbar\": {\"outlinewidth\": 0, \"ticks\": \"\"}, \"type\": \"choropleth\"}], \"contour\": [{\"colorbar\": {\"outlinewidth\": 0, \"ticks\": \"\"}, \"colorscale\": [[0.0, \"#0d0887\"], [0.1111111111111111, \"#46039f\"], [0.2222222222222222, \"#7201a8\"], [0.3333333333333333, \"#9c179e\"], [0.4444444444444444, \"#bd3786\"], [0.5555555555555556, \"#d8576b\"], [0.6666666666666666, \"#ed7953\"], [0.7777777777777778, \"#fb9f3a\"], [0.8888888888888888, \"#fdca26\"], [1.0, \"#f0f921\"]], \"type\": \"contour\"}], \"contourcarpet\": [{\"colorbar\": {\"outlinewidth\": 0, \"ticks\": \"\"}, \"type\": \"contourcarpet\"}], \"heatmap\": [{\"colorbar\": {\"outlinewidth\": 0, \"ticks\": \"\"}, \"colorscale\": [[0.0, \"#0d0887\"], [0.1111111111111111, \"#46039f\"], [0.2222222222222222, \"#7201a8\"], [0.3333333333333333, \"#9c179e\"], [0.4444444444444444, \"#bd3786\"], [0.5555555555555556, \"#d8576b\"], [0.6666666666666666, \"#ed7953\"], [0.7777777777777778, \"#fb9f3a\"], [0.8888888888888888, \"#fdca26\"], [1.0, \"#f0f921\"]], \"type\": \"heatmap\"}], \"heatmapgl\": [{\"colorbar\": {\"outlinewidth\": 0, \"ticks\": \"\"}, \"colorscale\": [[0.0, \"#0d0887\"], [0.1111111111111111, \"#46039f\"], [0.2222222222222222, \"#7201a8\"], [0.3333333333333333, \"#9c179e\"], [0.4444444444444444, \"#bd3786\"], [0.5555555555555556, \"#d8576b\"], [0.6666666666666666, \"#ed7953\"], [0.7777777777777778, \"#fb9f3a\"], [0.8888888888888888, \"#fdca26\"], [1.0, \"#f0f921\"]], \"type\": \"heatmapgl\"}], \"histogram\": [{\"marker\": {\"colorbar\": {\"outlinewidth\": 0, \"ticks\": \"\"}}, \"type\": \"histogram\"}], \"histogram2d\": [{\"colorbar\": {\"outlinewidth\": 0, \"ticks\": \"\"}, \"colorscale\": [[0.0, \"#0d0887\"], [0.1111111111111111, \"#46039f\"], [0.2222222222222222, \"#7201a8\"], [0.3333333333333333, \"#9c179e\"], [0.4444444444444444, \"#bd3786\"], [0.5555555555555556, \"#d8576b\"], [0.6666666666666666, \"#ed7953\"], [0.7777777777777778, \"#fb9f3a\"], [0.8888888888888888, \"#fdca26\"], [1.0, \"#f0f921\"]], \"type\": \"histogram2d\"}], \"histogram2dcontour\": [{\"colorbar\": {\"outlinewidth\": 0, \"ticks\": \"\"}, \"colorscale\": [[0.0, \"#0d0887\"], [0.1111111111111111, \"#46039f\"], [0.2222222222222222, \"#7201a8\"], [0.3333333333333333, \"#9c179e\"], [0.4444444444444444, \"#bd3786\"], [0.5555555555555556, \"#d8576b\"], [0.6666666666666666, \"#ed7953\"], [0.7777777777777778, \"#fb9f3a\"], [0.8888888888888888, \"#fdca26\"], [1.0, \"#f0f921\"]], \"type\": \"histogram2dcontour\"}], \"mesh3d\": [{\"colorbar\": {\"outlinewidth\": 0, \"ticks\": \"\"}, \"type\": \"mesh3d\"}], \"parcoords\": [{\"line\": {\"colorbar\": {\"outlinewidth\": 0, \"ticks\": \"\"}}, \"type\": \"parcoords\"}], \"pie\": [{\"automargin\": true, \"type\": \"pie\"}], \"scatter\": [{\"marker\": {\"colorbar\": {\"outlinewidth\": 0, \"ticks\": \"\"}}, \"type\": \"scatter\"}], \"scatter3d\": [{\"line\": {\"colorbar\": {\"outlinewidth\": 0, \"ticks\": \"\"}}, \"marker\": {\"colorbar\": {\"outlinewidth\": 0, \"ticks\": \"\"}}, \"type\": \"scatter3d\"}], \"scattercarpet\": [{\"marker\": {\"colorbar\": {\"outlinewidth\": 0, \"ticks\": \"\"}}, \"type\": \"scattercarpet\"}], \"scattergeo\": [{\"marker\": {\"colorbar\": {\"outlinewidth\": 0, \"ticks\": \"\"}}, \"type\": \"scattergeo\"}], \"scattergl\": [{\"marker\": {\"colorbar\": {\"outlinewidth\": 0, \"ticks\": \"\"}}, \"type\": \"scattergl\"}], \"scattermapbox\": [{\"marker\": {\"colorbar\": {\"outlinewidth\": 0, \"ticks\": \"\"}}, \"type\": \"scattermapbox\"}], \"scatterpolar\": [{\"marker\": {\"colorbar\": {\"outlinewidth\": 0, \"ticks\": \"\"}}, \"type\": \"scatterpolar\"}], \"scatterpolargl\": [{\"marker\": {\"colorbar\": {\"outlinewidth\": 0, \"ticks\": \"\"}}, \"type\": \"scatterpolargl\"}], \"scatterternary\": [{\"marker\": {\"colorbar\": {\"outlinewidth\": 0, \"ticks\": \"\"}}, \"type\": \"scatterternary\"}], \"surface\": [{\"colorbar\": {\"outlinewidth\": 0, \"ticks\": \"\"}, \"colorscale\": [[0.0, \"#0d0887\"], [0.1111111111111111, \"#46039f\"], [0.2222222222222222, \"#7201a8\"], [0.3333333333333333, \"#9c179e\"], [0.4444444444444444, \"#bd3786\"], [0.5555555555555556, \"#d8576b\"], [0.6666666666666666, \"#ed7953\"], [0.7777777777777778, \"#fb9f3a\"], [0.8888888888888888, \"#fdca26\"], [1.0, \"#f0f921\"]], \"type\": \"surface\"}], \"table\": [{\"cells\": {\"fill\": {\"color\": \"#EBF0F8\"}, \"line\": {\"color\": \"white\"}}, \"header\": {\"fill\": {\"color\": \"#C8D4E3\"}, \"line\": {\"color\": \"white\"}}, \"type\": \"table\"}]}, \"layout\": {\"annotationdefaults\": {\"arrowcolor\": \"#2a3f5f\", \"arrowhead\": 0, \"arrowwidth\": 1}, \"coloraxis\": {\"colorbar\": {\"outlinewidth\": 0, \"ticks\": \"\"}}, \"colorscale\": {\"diverging\": [[0, \"#8e0152\"], [0.1, \"#c51b7d\"], [0.2, \"#de77ae\"], [0.3, \"#f1b6da\"], [0.4, \"#fde0ef\"], [0.5, \"#f7f7f7\"], [0.6, \"#e6f5d0\"], [0.7, \"#b8e186\"], [0.8, \"#7fbc41\"], [0.9, \"#4d9221\"], [1, \"#276419\"]], \"sequential\": [[0.0, \"#0d0887\"], [0.1111111111111111, \"#46039f\"], [0.2222222222222222, \"#7201a8\"], [0.3333333333333333, \"#9c179e\"], [0.4444444444444444, \"#bd3786\"], [0.5555555555555556, \"#d8576b\"], [0.6666666666666666, \"#ed7953\"], [0.7777777777777778, \"#fb9f3a\"], [0.8888888888888888, \"#fdca26\"], [1.0, \"#f0f921\"]], \"sequentialminus\": [[0.0, \"#0d0887\"], [0.1111111111111111, \"#46039f\"], [0.2222222222222222, \"#7201a8\"], [0.3333333333333333, \"#9c179e\"], [0.4444444444444444, \"#bd3786\"], [0.5555555555555556, \"#d8576b\"], [0.6666666666666666, \"#ed7953\"], [0.7777777777777778, \"#fb9f3a\"], [0.8888888888888888, \"#fdca26\"], [1.0, \"#f0f921\"]]}, \"colorway\": [\"#636efa\", \"#EF553B\", \"#00cc96\", \"#ab63fa\", \"#FFA15A\", \"#19d3f3\", \"#FF6692\", \"#B6E880\", \"#FF97FF\", \"#FECB52\"], \"font\": {\"color\": \"#2a3f5f\"}, \"geo\": {\"bgcolor\": \"white\", \"lakecolor\": \"white\", \"landcolor\": \"#E5ECF6\", \"showlakes\": true, \"showland\": true, \"subunitcolor\": \"white\"}, \"hoverlabel\": {\"align\": \"left\"}, \"hovermode\": \"closest\", \"mapbox\": {\"style\": \"light\"}, \"paper_bgcolor\": \"white\", \"plot_bgcolor\": \"#E5ECF6\", \"polar\": {\"angularaxis\": {\"gridcolor\": \"white\", \"linecolor\": \"white\", \"ticks\": \"\"}, \"bgcolor\": \"#E5ECF6\", \"radialaxis\": {\"gridcolor\": \"white\", \"linecolor\": \"white\", \"ticks\": \"\"}}, \"scene\": {\"xaxis\": {\"backgroundcolor\": \"#E5ECF6\", \"gridcolor\": \"white\", \"gridwidth\": 2, \"linecolor\": \"white\", \"showbackground\": true, \"ticks\": \"\", \"zerolinecolor\": \"white\"}, \"yaxis\": {\"backgroundcolor\": \"#E5ECF6\", \"gridcolor\": \"white\", \"gridwidth\": 2, \"linecolor\": \"white\", \"showbackground\": true, \"ticks\": \"\", \"zerolinecolor\": \"white\"}, \"zaxis\": {\"backgroundcolor\": \"#E5ECF6\", \"gridcolor\": \"white\", \"gridwidth\": 2, \"linecolor\": \"white\", \"showbackground\": true, \"ticks\": \"\", \"zerolinecolor\": \"white\"}}, \"shapedefaults\": {\"line\": {\"color\": \"#2a3f5f\"}}, \"ternary\": {\"aaxis\": {\"gridcolor\": \"white\", \"linecolor\": \"white\", \"ticks\": \"\"}, \"baxis\": {\"gridcolor\": \"white\", \"linecolor\": \"white\", \"ticks\": \"\"}, \"bgcolor\": \"#E5ECF6\", \"caxis\": {\"gridcolor\": \"white\", \"linecolor\": \"white\", \"ticks\": \"\"}}, \"title\": {\"x\": 0.05}, \"xaxis\": {\"automargin\": true, \"gridcolor\": \"white\", \"linecolor\": \"white\", \"ticks\": \"\", \"title\": {\"standoff\": 15}, \"zerolinecolor\": \"white\", \"zerolinewidth\": 2}, \"yaxis\": {\"automargin\": true, \"gridcolor\": \"white\", \"linecolor\": \"white\", \"ticks\": \"\", \"title\": {\"standoff\": 15}, \"zerolinecolor\": \"white\", \"zerolinewidth\": 2}}}, \"title\": {\"font\": {\"color\": \"#4D5663\"}}, \"xaxis\": {\"gridcolor\": \"#E1E5ED\", \"showgrid\": true, \"tickfont\": {\"color\": \"#4D5663\"}, \"title\": {\"font\": {\"color\": \"#4D5663\"}, \"text\": \"\"}, \"zerolinecolor\": \"#E1E5ED\"}, \"yaxis\": {\"gridcolor\": \"#E1E5ED\", \"showgrid\": true, \"tickfont\": {\"color\": \"#4D5663\"}, \"title\": {\"font\": {\"color\": \"#4D5663\"}, \"text\": \"\"}, \"zerolinecolor\": \"#E1E5ED\"}},\n",
       "                        {\"showLink\": true, \"linkText\": \"Export to plot.ly\", \"plotlyServerURL\": \"https://plot.ly\", \"responsive\": true}\n",
       "                    ).then(function(){\n",
       "                            \n",
       "var gd = document.getElementById('cfc8cf8d-c68c-4033-9173-db0dba429c53');\n",
       "var x = new MutationObserver(function (mutations, observer) {{\n",
       "        var display = window.getComputedStyle(gd).display;\n",
       "        if (!display || display === 'none') {{\n",
       "            console.log([gd, 'removed!']);\n",
       "            Plotly.purge(gd);\n",
       "            observer.disconnect();\n",
       "        }}\n",
       "}});\n",
       "\n",
       "// Listen for the removal of the full notebook cells\n",
       "var notebookContainer = gd.closest('#notebook-container');\n",
       "if (notebookContainer) {{\n",
       "    x.observe(notebookContainer, {childList: true});\n",
       "}}\n",
       "\n",
       "// Listen for the clearing of the current output cell\n",
       "var outputEl = gd.closest('.output');\n",
       "if (outputEl) {{\n",
       "    x.observe(outputEl, {childList: true});\n",
       "}}\n",
       "\n",
       "                        })\n",
       "                };\n",
       "                });\n",
       "            </script>\n",
       "        </div>"
      ]
     },
     "metadata": {},
     "output_type": "display_data"
    }
   ],
   "source": [
    "df2.iplot(kind='bar',x='Category',y='Values')"
   ]
  },
  {
   "cell_type": "code",
   "execution_count": 17,
   "metadata": {},
   "outputs": [
    {
     "data": {
      "application/vnd.plotly.v1+json": {
       "config": {
        "linkText": "Export to plot.ly",
        "plotlyServerURL": "https://plot.ly",
        "showLink": true
       },
       "data": [
        {
         "marker": {
          "color": "rgba(255, 153, 51, 0.6)",
          "line": {
           "color": "rgba(255, 153, 51, 1.0)",
           "width": 1
          }
         },
         "name": "None",
         "orientation": "v",
         "text": "",
         "type": "bar",
         "x": [
          "A",
          "B",
          "C",
          "D"
         ],
         "y": [
          -8.237744650407624,
          11.403512314196071,
          -3.1176570973028466,
          -16.170631670061436
         ]
        }
       ],
       "layout": {
        "legend": {
         "bgcolor": "#F5F6F9",
         "font": {
          "color": "#4D5663"
         }
        },
        "paper_bgcolor": "#F5F6F9",
        "plot_bgcolor": "#F5F6F9",
        "template": {
         "data": {
          "bar": [
           {
            "error_x": {
             "color": "#2a3f5f"
            },
            "error_y": {
             "color": "#2a3f5f"
            },
            "marker": {
             "line": {
              "color": "#E5ECF6",
              "width": 0.5
             }
            },
            "type": "bar"
           }
          ],
          "barpolar": [
           {
            "marker": {
             "line": {
              "color": "#E5ECF6",
              "width": 0.5
             }
            },
            "type": "barpolar"
           }
          ],
          "carpet": [
           {
            "aaxis": {
             "endlinecolor": "#2a3f5f",
             "gridcolor": "white",
             "linecolor": "white",
             "minorgridcolor": "white",
             "startlinecolor": "#2a3f5f"
            },
            "baxis": {
             "endlinecolor": "#2a3f5f",
             "gridcolor": "white",
             "linecolor": "white",
             "minorgridcolor": "white",
             "startlinecolor": "#2a3f5f"
            },
            "type": "carpet"
           }
          ],
          "choropleth": [
           {
            "colorbar": {
             "outlinewidth": 0,
             "ticks": ""
            },
            "type": "choropleth"
           }
          ],
          "contour": [
           {
            "colorbar": {
             "outlinewidth": 0,
             "ticks": ""
            },
            "colorscale": [
             [
              0,
              "#0d0887"
             ],
             [
              0.1111111111111111,
              "#46039f"
             ],
             [
              0.2222222222222222,
              "#7201a8"
             ],
             [
              0.3333333333333333,
              "#9c179e"
             ],
             [
              0.4444444444444444,
              "#bd3786"
             ],
             [
              0.5555555555555556,
              "#d8576b"
             ],
             [
              0.6666666666666666,
              "#ed7953"
             ],
             [
              0.7777777777777778,
              "#fb9f3a"
             ],
             [
              0.8888888888888888,
              "#fdca26"
             ],
             [
              1,
              "#f0f921"
             ]
            ],
            "type": "contour"
           }
          ],
          "contourcarpet": [
           {
            "colorbar": {
             "outlinewidth": 0,
             "ticks": ""
            },
            "type": "contourcarpet"
           }
          ],
          "heatmap": [
           {
            "colorbar": {
             "outlinewidth": 0,
             "ticks": ""
            },
            "colorscale": [
             [
              0,
              "#0d0887"
             ],
             [
              0.1111111111111111,
              "#46039f"
             ],
             [
              0.2222222222222222,
              "#7201a8"
             ],
             [
              0.3333333333333333,
              "#9c179e"
             ],
             [
              0.4444444444444444,
              "#bd3786"
             ],
             [
              0.5555555555555556,
              "#d8576b"
             ],
             [
              0.6666666666666666,
              "#ed7953"
             ],
             [
              0.7777777777777778,
              "#fb9f3a"
             ],
             [
              0.8888888888888888,
              "#fdca26"
             ],
             [
              1,
              "#f0f921"
             ]
            ],
            "type": "heatmap"
           }
          ],
          "heatmapgl": [
           {
            "colorbar": {
             "outlinewidth": 0,
             "ticks": ""
            },
            "colorscale": [
             [
              0,
              "#0d0887"
             ],
             [
              0.1111111111111111,
              "#46039f"
             ],
             [
              0.2222222222222222,
              "#7201a8"
             ],
             [
              0.3333333333333333,
              "#9c179e"
             ],
             [
              0.4444444444444444,
              "#bd3786"
             ],
             [
              0.5555555555555556,
              "#d8576b"
             ],
             [
              0.6666666666666666,
              "#ed7953"
             ],
             [
              0.7777777777777778,
              "#fb9f3a"
             ],
             [
              0.8888888888888888,
              "#fdca26"
             ],
             [
              1,
              "#f0f921"
             ]
            ],
            "type": "heatmapgl"
           }
          ],
          "histogram": [
           {
            "marker": {
             "colorbar": {
              "outlinewidth": 0,
              "ticks": ""
             }
            },
            "type": "histogram"
           }
          ],
          "histogram2d": [
           {
            "colorbar": {
             "outlinewidth": 0,
             "ticks": ""
            },
            "colorscale": [
             [
              0,
              "#0d0887"
             ],
             [
              0.1111111111111111,
              "#46039f"
             ],
             [
              0.2222222222222222,
              "#7201a8"
             ],
             [
              0.3333333333333333,
              "#9c179e"
             ],
             [
              0.4444444444444444,
              "#bd3786"
             ],
             [
              0.5555555555555556,
              "#d8576b"
             ],
             [
              0.6666666666666666,
              "#ed7953"
             ],
             [
              0.7777777777777778,
              "#fb9f3a"
             ],
             [
              0.8888888888888888,
              "#fdca26"
             ],
             [
              1,
              "#f0f921"
             ]
            ],
            "type": "histogram2d"
           }
          ],
          "histogram2dcontour": [
           {
            "colorbar": {
             "outlinewidth": 0,
             "ticks": ""
            },
            "colorscale": [
             [
              0,
              "#0d0887"
             ],
             [
              0.1111111111111111,
              "#46039f"
             ],
             [
              0.2222222222222222,
              "#7201a8"
             ],
             [
              0.3333333333333333,
              "#9c179e"
             ],
             [
              0.4444444444444444,
              "#bd3786"
             ],
             [
              0.5555555555555556,
              "#d8576b"
             ],
             [
              0.6666666666666666,
              "#ed7953"
             ],
             [
              0.7777777777777778,
              "#fb9f3a"
             ],
             [
              0.8888888888888888,
              "#fdca26"
             ],
             [
              1,
              "#f0f921"
             ]
            ],
            "type": "histogram2dcontour"
           }
          ],
          "mesh3d": [
           {
            "colorbar": {
             "outlinewidth": 0,
             "ticks": ""
            },
            "type": "mesh3d"
           }
          ],
          "parcoords": [
           {
            "line": {
             "colorbar": {
              "outlinewidth": 0,
              "ticks": ""
             }
            },
            "type": "parcoords"
           }
          ],
          "pie": [
           {
            "automargin": true,
            "type": "pie"
           }
          ],
          "scatter": [
           {
            "marker": {
             "colorbar": {
              "outlinewidth": 0,
              "ticks": ""
             }
            },
            "type": "scatter"
           }
          ],
          "scatter3d": [
           {
            "line": {
             "colorbar": {
              "outlinewidth": 0,
              "ticks": ""
             }
            },
            "marker": {
             "colorbar": {
              "outlinewidth": 0,
              "ticks": ""
             }
            },
            "type": "scatter3d"
           }
          ],
          "scattercarpet": [
           {
            "marker": {
             "colorbar": {
              "outlinewidth": 0,
              "ticks": ""
             }
            },
            "type": "scattercarpet"
           }
          ],
          "scattergeo": [
           {
            "marker": {
             "colorbar": {
              "outlinewidth": 0,
              "ticks": ""
             }
            },
            "type": "scattergeo"
           }
          ],
          "scattergl": [
           {
            "marker": {
             "colorbar": {
              "outlinewidth": 0,
              "ticks": ""
             }
            },
            "type": "scattergl"
           }
          ],
          "scattermapbox": [
           {
            "marker": {
             "colorbar": {
              "outlinewidth": 0,
              "ticks": ""
             }
            },
            "type": "scattermapbox"
           }
          ],
          "scatterpolar": [
           {
            "marker": {
             "colorbar": {
              "outlinewidth": 0,
              "ticks": ""
             }
            },
            "type": "scatterpolar"
           }
          ],
          "scatterpolargl": [
           {
            "marker": {
             "colorbar": {
              "outlinewidth": 0,
              "ticks": ""
             }
            },
            "type": "scatterpolargl"
           }
          ],
          "scatterternary": [
           {
            "marker": {
             "colorbar": {
              "outlinewidth": 0,
              "ticks": ""
             }
            },
            "type": "scatterternary"
           }
          ],
          "surface": [
           {
            "colorbar": {
             "outlinewidth": 0,
             "ticks": ""
            },
            "colorscale": [
             [
              0,
              "#0d0887"
             ],
             [
              0.1111111111111111,
              "#46039f"
             ],
             [
              0.2222222222222222,
              "#7201a8"
             ],
             [
              0.3333333333333333,
              "#9c179e"
             ],
             [
              0.4444444444444444,
              "#bd3786"
             ],
             [
              0.5555555555555556,
              "#d8576b"
             ],
             [
              0.6666666666666666,
              "#ed7953"
             ],
             [
              0.7777777777777778,
              "#fb9f3a"
             ],
             [
              0.8888888888888888,
              "#fdca26"
             ],
             [
              1,
              "#f0f921"
             ]
            ],
            "type": "surface"
           }
          ],
          "table": [
           {
            "cells": {
             "fill": {
              "color": "#EBF0F8"
             },
             "line": {
              "color": "white"
             }
            },
            "header": {
             "fill": {
              "color": "#C8D4E3"
             },
             "line": {
              "color": "white"
             }
            },
            "type": "table"
           }
          ]
         },
         "layout": {
          "annotationdefaults": {
           "arrowcolor": "#2a3f5f",
           "arrowhead": 0,
           "arrowwidth": 1
          },
          "coloraxis": {
           "colorbar": {
            "outlinewidth": 0,
            "ticks": ""
           }
          },
          "colorscale": {
           "diverging": [
            [
             0,
             "#8e0152"
            ],
            [
             0.1,
             "#c51b7d"
            ],
            [
             0.2,
             "#de77ae"
            ],
            [
             0.3,
             "#f1b6da"
            ],
            [
             0.4,
             "#fde0ef"
            ],
            [
             0.5,
             "#f7f7f7"
            ],
            [
             0.6,
             "#e6f5d0"
            ],
            [
             0.7,
             "#b8e186"
            ],
            [
             0.8,
             "#7fbc41"
            ],
            [
             0.9,
             "#4d9221"
            ],
            [
             1,
             "#276419"
            ]
           ],
           "sequential": [
            [
             0,
             "#0d0887"
            ],
            [
             0.1111111111111111,
             "#46039f"
            ],
            [
             0.2222222222222222,
             "#7201a8"
            ],
            [
             0.3333333333333333,
             "#9c179e"
            ],
            [
             0.4444444444444444,
             "#bd3786"
            ],
            [
             0.5555555555555556,
             "#d8576b"
            ],
            [
             0.6666666666666666,
             "#ed7953"
            ],
            [
             0.7777777777777778,
             "#fb9f3a"
            ],
            [
             0.8888888888888888,
             "#fdca26"
            ],
            [
             1,
             "#f0f921"
            ]
           ],
           "sequentialminus": [
            [
             0,
             "#0d0887"
            ],
            [
             0.1111111111111111,
             "#46039f"
            ],
            [
             0.2222222222222222,
             "#7201a8"
            ],
            [
             0.3333333333333333,
             "#9c179e"
            ],
            [
             0.4444444444444444,
             "#bd3786"
            ],
            [
             0.5555555555555556,
             "#d8576b"
            ],
            [
             0.6666666666666666,
             "#ed7953"
            ],
            [
             0.7777777777777778,
             "#fb9f3a"
            ],
            [
             0.8888888888888888,
             "#fdca26"
            ],
            [
             1,
             "#f0f921"
            ]
           ]
          },
          "colorway": [
           "#636efa",
           "#EF553B",
           "#00cc96",
           "#ab63fa",
           "#FFA15A",
           "#19d3f3",
           "#FF6692",
           "#B6E880",
           "#FF97FF",
           "#FECB52"
          ],
          "font": {
           "color": "#2a3f5f"
          },
          "geo": {
           "bgcolor": "white",
           "lakecolor": "white",
           "landcolor": "#E5ECF6",
           "showlakes": true,
           "showland": true,
           "subunitcolor": "white"
          },
          "hoverlabel": {
           "align": "left"
          },
          "hovermode": "closest",
          "mapbox": {
           "style": "light"
          },
          "paper_bgcolor": "white",
          "plot_bgcolor": "#E5ECF6",
          "polar": {
           "angularaxis": {
            "gridcolor": "white",
            "linecolor": "white",
            "ticks": ""
           },
           "bgcolor": "#E5ECF6",
           "radialaxis": {
            "gridcolor": "white",
            "linecolor": "white",
            "ticks": ""
           }
          },
          "scene": {
           "xaxis": {
            "backgroundcolor": "#E5ECF6",
            "gridcolor": "white",
            "gridwidth": 2,
            "linecolor": "white",
            "showbackground": true,
            "ticks": "",
            "zerolinecolor": "white"
           },
           "yaxis": {
            "backgroundcolor": "#E5ECF6",
            "gridcolor": "white",
            "gridwidth": 2,
            "linecolor": "white",
            "showbackground": true,
            "ticks": "",
            "zerolinecolor": "white"
           },
           "zaxis": {
            "backgroundcolor": "#E5ECF6",
            "gridcolor": "white",
            "gridwidth": 2,
            "linecolor": "white",
            "showbackground": true,
            "ticks": "",
            "zerolinecolor": "white"
           }
          },
          "shapedefaults": {
           "line": {
            "color": "#2a3f5f"
           }
          },
          "ternary": {
           "aaxis": {
            "gridcolor": "white",
            "linecolor": "white",
            "ticks": ""
           },
           "baxis": {
            "gridcolor": "white",
            "linecolor": "white",
            "ticks": ""
           },
           "bgcolor": "#E5ECF6",
           "caxis": {
            "gridcolor": "white",
            "linecolor": "white",
            "ticks": ""
           }
          },
          "title": {
           "x": 0.05
          },
          "xaxis": {
           "automargin": true,
           "gridcolor": "white",
           "linecolor": "white",
           "ticks": "",
           "title": {
            "standoff": 15
           },
           "zerolinecolor": "white",
           "zerolinewidth": 2
          },
          "yaxis": {
           "automargin": true,
           "gridcolor": "white",
           "linecolor": "white",
           "ticks": "",
           "title": {
            "standoff": 15
           },
           "zerolinecolor": "white",
           "zerolinewidth": 2
          }
         }
        },
        "title": {
         "font": {
          "color": "#4D5663"
         }
        },
        "xaxis": {
         "gridcolor": "#E1E5ED",
         "showgrid": true,
         "tickfont": {
          "color": "#4D5663"
         },
         "title": {
          "font": {
           "color": "#4D5663"
          },
          "text": ""
         },
         "zerolinecolor": "#E1E5ED"
        },
        "yaxis": {
         "gridcolor": "#E1E5ED",
         "showgrid": true,
         "tickfont": {
          "color": "#4D5663"
         },
         "title": {
          "font": {
           "color": "#4D5663"
          },
          "text": ""
         },
         "zerolinecolor": "#E1E5ED"
        }
       }
      },
      "text/html": [
       "<div>\n",
       "        \n",
       "        \n",
       "            <div id=\"b54db5d9-2d56-48c2-83d0-4bee71f5e6c1\" class=\"plotly-graph-div\" style=\"height:525px; width:100%;\"></div>\n",
       "            <script type=\"text/javascript\">\n",
       "                require([\"plotly\"], function(Plotly) {\n",
       "                    window.PLOTLYENV=window.PLOTLYENV || {};\n",
       "                    window.PLOTLYENV.BASE_URL='https://plot.ly';\n",
       "                    \n",
       "                if (document.getElementById(\"b54db5d9-2d56-48c2-83d0-4bee71f5e6c1\")) {\n",
       "                    Plotly.newPlot(\n",
       "                        'b54db5d9-2d56-48c2-83d0-4bee71f5e6c1',\n",
       "                        [{\"marker\": {\"color\": \"rgba(255, 153, 51, 0.6)\", \"line\": {\"color\": \"rgba(255, 153, 51, 1.0)\", \"width\": 1}}, \"name\": \"None\", \"orientation\": \"v\", \"text\": \"\", \"type\": \"bar\", \"x\": [\"A\", \"B\", \"C\", \"D\"], \"y\": [-8.237744650407624, 11.403512314196071, -3.1176570973028466, -16.170631670061436]}],\n",
       "                        {\"legend\": {\"bgcolor\": \"#F5F6F9\", \"font\": {\"color\": \"#4D5663\"}}, \"paper_bgcolor\": \"#F5F6F9\", \"plot_bgcolor\": \"#F5F6F9\", \"template\": {\"data\": {\"bar\": [{\"error_x\": {\"color\": \"#2a3f5f\"}, \"error_y\": {\"color\": \"#2a3f5f\"}, \"marker\": {\"line\": {\"color\": \"#E5ECF6\", \"width\": 0.5}}, \"type\": \"bar\"}], \"barpolar\": [{\"marker\": {\"line\": {\"color\": \"#E5ECF6\", \"width\": 0.5}}, \"type\": \"barpolar\"}], \"carpet\": [{\"aaxis\": {\"endlinecolor\": \"#2a3f5f\", \"gridcolor\": \"white\", \"linecolor\": \"white\", \"minorgridcolor\": \"white\", \"startlinecolor\": \"#2a3f5f\"}, \"baxis\": {\"endlinecolor\": \"#2a3f5f\", \"gridcolor\": \"white\", \"linecolor\": \"white\", \"minorgridcolor\": \"white\", \"startlinecolor\": \"#2a3f5f\"}, \"type\": \"carpet\"}], \"choropleth\": [{\"colorbar\": {\"outlinewidth\": 0, \"ticks\": \"\"}, \"type\": \"choropleth\"}], \"contour\": [{\"colorbar\": {\"outlinewidth\": 0, \"ticks\": \"\"}, \"colorscale\": [[0.0, \"#0d0887\"], [0.1111111111111111, \"#46039f\"], [0.2222222222222222, \"#7201a8\"], [0.3333333333333333, \"#9c179e\"], [0.4444444444444444, \"#bd3786\"], [0.5555555555555556, \"#d8576b\"], [0.6666666666666666, \"#ed7953\"], [0.7777777777777778, \"#fb9f3a\"], [0.8888888888888888, \"#fdca26\"], [1.0, \"#f0f921\"]], \"type\": \"contour\"}], \"contourcarpet\": [{\"colorbar\": {\"outlinewidth\": 0, \"ticks\": \"\"}, \"type\": \"contourcarpet\"}], \"heatmap\": [{\"colorbar\": {\"outlinewidth\": 0, \"ticks\": \"\"}, \"colorscale\": [[0.0, \"#0d0887\"], [0.1111111111111111, \"#46039f\"], [0.2222222222222222, \"#7201a8\"], [0.3333333333333333, \"#9c179e\"], [0.4444444444444444, \"#bd3786\"], [0.5555555555555556, \"#d8576b\"], [0.6666666666666666, \"#ed7953\"], [0.7777777777777778, \"#fb9f3a\"], [0.8888888888888888, \"#fdca26\"], [1.0, \"#f0f921\"]], \"type\": \"heatmap\"}], \"heatmapgl\": [{\"colorbar\": {\"outlinewidth\": 0, \"ticks\": \"\"}, \"colorscale\": [[0.0, \"#0d0887\"], [0.1111111111111111, \"#46039f\"], [0.2222222222222222, \"#7201a8\"], [0.3333333333333333, \"#9c179e\"], [0.4444444444444444, \"#bd3786\"], [0.5555555555555556, \"#d8576b\"], [0.6666666666666666, \"#ed7953\"], [0.7777777777777778, \"#fb9f3a\"], [0.8888888888888888, \"#fdca26\"], [1.0, \"#f0f921\"]], \"type\": \"heatmapgl\"}], \"histogram\": [{\"marker\": {\"colorbar\": {\"outlinewidth\": 0, \"ticks\": \"\"}}, \"type\": \"histogram\"}], \"histogram2d\": [{\"colorbar\": {\"outlinewidth\": 0, \"ticks\": \"\"}, \"colorscale\": [[0.0, \"#0d0887\"], [0.1111111111111111, \"#46039f\"], [0.2222222222222222, \"#7201a8\"], [0.3333333333333333, \"#9c179e\"], [0.4444444444444444, \"#bd3786\"], [0.5555555555555556, \"#d8576b\"], [0.6666666666666666, \"#ed7953\"], [0.7777777777777778, \"#fb9f3a\"], [0.8888888888888888, \"#fdca26\"], [1.0, \"#f0f921\"]], \"type\": \"histogram2d\"}], \"histogram2dcontour\": [{\"colorbar\": {\"outlinewidth\": 0, \"ticks\": \"\"}, \"colorscale\": [[0.0, \"#0d0887\"], [0.1111111111111111, \"#46039f\"], [0.2222222222222222, \"#7201a8\"], [0.3333333333333333, \"#9c179e\"], [0.4444444444444444, \"#bd3786\"], [0.5555555555555556, \"#d8576b\"], [0.6666666666666666, \"#ed7953\"], [0.7777777777777778, \"#fb9f3a\"], [0.8888888888888888, \"#fdca26\"], [1.0, \"#f0f921\"]], \"type\": \"histogram2dcontour\"}], \"mesh3d\": [{\"colorbar\": {\"outlinewidth\": 0, \"ticks\": \"\"}, \"type\": \"mesh3d\"}], \"parcoords\": [{\"line\": {\"colorbar\": {\"outlinewidth\": 0, \"ticks\": \"\"}}, \"type\": \"parcoords\"}], \"pie\": [{\"automargin\": true, \"type\": \"pie\"}], \"scatter\": [{\"marker\": {\"colorbar\": {\"outlinewidth\": 0, \"ticks\": \"\"}}, \"type\": \"scatter\"}], \"scatter3d\": [{\"line\": {\"colorbar\": {\"outlinewidth\": 0, \"ticks\": \"\"}}, \"marker\": {\"colorbar\": {\"outlinewidth\": 0, \"ticks\": \"\"}}, \"type\": \"scatter3d\"}], \"scattercarpet\": [{\"marker\": {\"colorbar\": {\"outlinewidth\": 0, \"ticks\": \"\"}}, \"type\": \"scattercarpet\"}], \"scattergeo\": [{\"marker\": {\"colorbar\": {\"outlinewidth\": 0, \"ticks\": \"\"}}, \"type\": \"scattergeo\"}], \"scattergl\": [{\"marker\": {\"colorbar\": {\"outlinewidth\": 0, \"ticks\": \"\"}}, \"type\": \"scattergl\"}], \"scattermapbox\": [{\"marker\": {\"colorbar\": {\"outlinewidth\": 0, \"ticks\": \"\"}}, \"type\": \"scattermapbox\"}], \"scatterpolar\": [{\"marker\": {\"colorbar\": {\"outlinewidth\": 0, \"ticks\": \"\"}}, \"type\": \"scatterpolar\"}], \"scatterpolargl\": [{\"marker\": {\"colorbar\": {\"outlinewidth\": 0, \"ticks\": \"\"}}, \"type\": \"scatterpolargl\"}], \"scatterternary\": [{\"marker\": {\"colorbar\": {\"outlinewidth\": 0, \"ticks\": \"\"}}, \"type\": \"scatterternary\"}], \"surface\": [{\"colorbar\": {\"outlinewidth\": 0, \"ticks\": \"\"}, \"colorscale\": [[0.0, \"#0d0887\"], [0.1111111111111111, \"#46039f\"], [0.2222222222222222, \"#7201a8\"], [0.3333333333333333, \"#9c179e\"], [0.4444444444444444, \"#bd3786\"], [0.5555555555555556, \"#d8576b\"], [0.6666666666666666, \"#ed7953\"], [0.7777777777777778, \"#fb9f3a\"], [0.8888888888888888, \"#fdca26\"], [1.0, \"#f0f921\"]], \"type\": \"surface\"}], \"table\": [{\"cells\": {\"fill\": {\"color\": \"#EBF0F8\"}, \"line\": {\"color\": \"white\"}}, \"header\": {\"fill\": {\"color\": \"#C8D4E3\"}, \"line\": {\"color\": \"white\"}}, \"type\": \"table\"}]}, \"layout\": {\"annotationdefaults\": {\"arrowcolor\": \"#2a3f5f\", \"arrowhead\": 0, \"arrowwidth\": 1}, \"coloraxis\": {\"colorbar\": {\"outlinewidth\": 0, \"ticks\": \"\"}}, \"colorscale\": {\"diverging\": [[0, \"#8e0152\"], [0.1, \"#c51b7d\"], [0.2, \"#de77ae\"], [0.3, \"#f1b6da\"], [0.4, \"#fde0ef\"], [0.5, \"#f7f7f7\"], [0.6, \"#e6f5d0\"], [0.7, \"#b8e186\"], [0.8, \"#7fbc41\"], [0.9, \"#4d9221\"], [1, \"#276419\"]], \"sequential\": [[0.0, \"#0d0887\"], [0.1111111111111111, \"#46039f\"], [0.2222222222222222, \"#7201a8\"], [0.3333333333333333, \"#9c179e\"], [0.4444444444444444, \"#bd3786\"], [0.5555555555555556, \"#d8576b\"], [0.6666666666666666, \"#ed7953\"], [0.7777777777777778, \"#fb9f3a\"], [0.8888888888888888, \"#fdca26\"], [1.0, \"#f0f921\"]], \"sequentialminus\": [[0.0, \"#0d0887\"], [0.1111111111111111, \"#46039f\"], [0.2222222222222222, \"#7201a8\"], [0.3333333333333333, \"#9c179e\"], [0.4444444444444444, \"#bd3786\"], [0.5555555555555556, \"#d8576b\"], [0.6666666666666666, \"#ed7953\"], [0.7777777777777778, \"#fb9f3a\"], [0.8888888888888888, \"#fdca26\"], [1.0, \"#f0f921\"]]}, \"colorway\": [\"#636efa\", \"#EF553B\", \"#00cc96\", \"#ab63fa\", \"#FFA15A\", \"#19d3f3\", \"#FF6692\", \"#B6E880\", \"#FF97FF\", \"#FECB52\"], \"font\": {\"color\": \"#2a3f5f\"}, \"geo\": {\"bgcolor\": \"white\", \"lakecolor\": \"white\", \"landcolor\": \"#E5ECF6\", \"showlakes\": true, \"showland\": true, \"subunitcolor\": \"white\"}, \"hoverlabel\": {\"align\": \"left\"}, \"hovermode\": \"closest\", \"mapbox\": {\"style\": \"light\"}, \"paper_bgcolor\": \"white\", \"plot_bgcolor\": \"#E5ECF6\", \"polar\": {\"angularaxis\": {\"gridcolor\": \"white\", \"linecolor\": \"white\", \"ticks\": \"\"}, \"bgcolor\": \"#E5ECF6\", \"radialaxis\": {\"gridcolor\": \"white\", \"linecolor\": \"white\", \"ticks\": \"\"}}, \"scene\": {\"xaxis\": {\"backgroundcolor\": \"#E5ECF6\", \"gridcolor\": \"white\", \"gridwidth\": 2, \"linecolor\": \"white\", \"showbackground\": true, \"ticks\": \"\", \"zerolinecolor\": \"white\"}, \"yaxis\": {\"backgroundcolor\": \"#E5ECF6\", \"gridcolor\": \"white\", \"gridwidth\": 2, \"linecolor\": \"white\", \"showbackground\": true, \"ticks\": \"\", \"zerolinecolor\": \"white\"}, \"zaxis\": {\"backgroundcolor\": \"#E5ECF6\", \"gridcolor\": \"white\", \"gridwidth\": 2, \"linecolor\": \"white\", \"showbackground\": true, \"ticks\": \"\", \"zerolinecolor\": \"white\"}}, \"shapedefaults\": {\"line\": {\"color\": \"#2a3f5f\"}}, \"ternary\": {\"aaxis\": {\"gridcolor\": \"white\", \"linecolor\": \"white\", \"ticks\": \"\"}, \"baxis\": {\"gridcolor\": \"white\", \"linecolor\": \"white\", \"ticks\": \"\"}, \"bgcolor\": \"#E5ECF6\", \"caxis\": {\"gridcolor\": \"white\", \"linecolor\": \"white\", \"ticks\": \"\"}}, \"title\": {\"x\": 0.05}, \"xaxis\": {\"automargin\": true, \"gridcolor\": \"white\", \"linecolor\": \"white\", \"ticks\": \"\", \"title\": {\"standoff\": 15}, \"zerolinecolor\": \"white\", \"zerolinewidth\": 2}, \"yaxis\": {\"automargin\": true, \"gridcolor\": \"white\", \"linecolor\": \"white\", \"ticks\": \"\", \"title\": {\"standoff\": 15}, \"zerolinecolor\": \"white\", \"zerolinewidth\": 2}}}, \"title\": {\"font\": {\"color\": \"#4D5663\"}}, \"xaxis\": {\"gridcolor\": \"#E1E5ED\", \"showgrid\": true, \"tickfont\": {\"color\": \"#4D5663\"}, \"title\": {\"font\": {\"color\": \"#4D5663\"}, \"text\": \"\"}, \"zerolinecolor\": \"#E1E5ED\"}, \"yaxis\": {\"gridcolor\": \"#E1E5ED\", \"showgrid\": true, \"tickfont\": {\"color\": \"#4D5663\"}, \"title\": {\"font\": {\"color\": \"#4D5663\"}, \"text\": \"\"}, \"zerolinecolor\": \"#E1E5ED\"}},\n",
       "                        {\"showLink\": true, \"linkText\": \"Export to plot.ly\", \"plotlyServerURL\": \"https://plot.ly\", \"responsive\": true}\n",
       "                    ).then(function(){\n",
       "                            \n",
       "var gd = document.getElementById('b54db5d9-2d56-48c2-83d0-4bee71f5e6c1');\n",
       "var x = new MutationObserver(function (mutations, observer) {{\n",
       "        var display = window.getComputedStyle(gd).display;\n",
       "        if (!display || display === 'none') {{\n",
       "            console.log([gd, 'removed!']);\n",
       "            Plotly.purge(gd);\n",
       "            observer.disconnect();\n",
       "        }}\n",
       "}});\n",
       "\n",
       "// Listen for the removal of the full notebook cells\n",
       "var notebookContainer = gd.closest('#notebook-container');\n",
       "if (notebookContainer) {{\n",
       "    x.observe(notebookContainer, {childList: true});\n",
       "}}\n",
       "\n",
       "// Listen for the clearing of the current output cell\n",
       "var outputEl = gd.closest('.output');\n",
       "if (outputEl) {{\n",
       "    x.observe(outputEl, {childList: true});\n",
       "}}\n",
       "\n",
       "                        })\n",
       "                };\n",
       "                });\n",
       "            </script>\n",
       "        </div>"
      ]
     },
     "metadata": {},
     "output_type": "display_data"
    }
   ],
   "source": [
    "df.sum().iplot(kind='bar')"
   ]
  },
  {
   "cell_type": "code",
   "execution_count": 18,
   "metadata": {},
   "outputs": [
    {
     "data": {
      "application/vnd.plotly.v1+json": {
       "config": {
        "linkText": "Export to plot.ly",
        "plotlyServerURL": "https://plot.ly",
        "showLink": true
       },
       "data": [
        {
         "boxpoints": false,
         "line": {
          "width": 1.3
         },
         "marker": {
          "color": "rgba(255, 153, 51, 1.0)"
         },
         "name": "A",
         "orientation": "v",
         "type": "box",
         "y": [
          0.49289817131910324,
          -0.3012398972298208,
          -0.7816068221605069,
          -0.8090093152211132,
          1.4006830146786922,
          -0.19482583816277718,
          0.0604937012147241,
          2.119691209922694,
          0.7222242598679914,
          1.753235420367374,
          0.15830729803447974,
          -0.6341440309522819,
          -2.283999111080501,
          0.5531241386591951,
          -2.266708116322684,
          0.7042723917299197,
          0.6092425758622263,
          -0.340557220856165,
          -1.3041616905321494,
          0.18497826710035706,
          0.021565250924974123,
          -0.006075820444198791,
          -2.566727147075182,
          0.02730521303181981,
          -0.9939684925220701,
          -0.6223666531415607,
          1.776870439188865,
          0.01793289056711191,
          0.05680072212956541,
          0.43447933306281233,
          -1.453567536602802,
          0.22397366436895907,
          -0.47782199024703215,
          1.339102396303261,
          1.6080823076036965,
          0.20166945309703094,
          -1.4037713891573702,
          0.5106776942015245,
          -1.8190377132273154,
          -1.0337585498673065,
          0.5183548692185115,
          -1.0257448210609061,
          0.3360850564164397,
          1.6441074102925999,
          1.359625493547863,
          0.5732793595532124,
          -0.5467403903693552,
          0.40035282535498895,
          0.10515275916863191,
          -0.5263016957839567,
          -0.04432663132196094,
          0.8299882137593065,
          0.288974670977,
          1.4516357718944564,
          -0.4111386022214322,
          -2.1428502676999592,
          1.2035300277031884,
          -1.623937560391315,
          -0.3132882723386422,
          -0.5352367479666442,
          -0.6950356321246792,
          -0.33190243398305314,
          0.26383380532025796,
          -0.5184732009735258,
          0.5207487437274007,
          -1.5584295495848832,
          1.0170403191939565,
          0.07373919242253754,
          0.39030351930826057,
          0.3832708653059387,
          -0.6111638533706606,
          0.2944432971309082,
          0.4591500221941663,
          -1.3000294349405557,
          0.8493654040778634,
          -0.24454619551784645,
          2.5784605090664208,
          0.3470148257665814,
          0.4275832431758216,
          -0.02006983310330113,
          -0.22115821773805194,
          0.7441606483066695,
          -2.147666745538417,
          0.4022717625020178,
          1.015008131996003,
          -0.9614527011380453,
          0.6427549647493842,
          0.26275878026670807,
          -2.1811228596403294,
          -0.9651264344972399,
          -1.0807091355825975,
          -1.2704353852791637,
          -1.604220193082267,
          2.2757599377870004,
          -0.7460643325640582,
          -1.0270656913759506,
          -0.08472691139075982,
          -0.4397288250502953,
          -0.4051011158276595,
          0.0030321124322531187
         ]
        },
        {
         "boxpoints": false,
         "line": {
          "width": 1.3
         },
         "marker": {
          "color": "rgba(55, 128, 191, 1.0)"
         },
         "name": "B",
         "orientation": "v",
         "type": "box",
         "y": [
          1.788094498128622,
          -0.44535443686305204,
          -0.7131795159657938,
          -0.5554106325242337,
          -0.21586035461825787,
          -0.697799365135744,
          1.097573763569276,
          0.035887813880043605,
          2.6195040661181466,
          0.6079529137881459,
          0.7436248459744537,
          -0.8618502776351192,
          -0.47747198195992685,
          0.22394260599753302,
          0.16778779907716984,
          -0.21439653722728408,
          -0.28082534999382414,
          -0.47247468827363853,
          -0.4506597477838028,
          0.6851240964961288,
          1.1619213588272501,
          -1.0702545218773423,
          0.4492565916692249,
          -1.1452374174231343,
          0.6940018241869989,
          1.7025908336350206,
          0.911095428268713,
          -0.8390868115640266,
          0.1663123644197956,
          0.3328100887697817,
          0.06435393233991418,
          -0.3710348748026914,
          -0.9179829095604276,
          -0.524999408533106,
          0.6652896007479878,
          1.5838460732342565,
          -0.006292105652858107,
          0.6036323038736936,
          -0.476844069070269,
          1.1387478354050842,
          0.03827391299502421,
          1.1285586150173448,
          0.14647132562841755,
          0.4044039554802493,
          -0.21088510943267336,
          -1.6753117569624703,
          -0.3294821012530378,
          0.6607752806792838,
          -0.13058529121836507,
          0.22371960616266628,
          -0.8188759246483298,
          -0.5854214437337317,
          -2.491158593278795,
          -1.0585519213970385,
          -0.03288668821960335,
          1.8329670294391918,
          0.605965626089157,
          -1.0337333776852846,
          0.3155519084756224,
          1.6015557409146575,
          0.6822350410713564,
          2.338739883832616,
          -1.1730419635505192,
          0.6391766373700845,
          1.289160748481995,
          -0.5420518881612237,
          0.5071628629766942,
          -0.40457294813531886,
          0.7270531601651469,
          -1.6646222754130013,
          0.40243397726927077,
          0.34311882064613747,
          0.6259398874778561,
          -1.009481363220773,
          0.2245743366277254,
          0.6600993412912876,
          -1.6075531641768765,
          0.46316037121790465,
          -0.5365819522636401,
          0.33546724504982794,
          0.709807510414665,
          -1.411526231278596,
          0.1236699459010611,
          0.30797864886790227,
          -0.7320151252688502,
          0.9815246074439794,
          0.546198609092013,
          1.7577800559208172,
          0.31626620547227696,
          0.42215646808605684,
          1.4971434747745829,
          -0.13994118394343455,
          0.8020527287884011,
          -0.004972773524476891,
          0.7420408197587705,
          -2.2243504385067503,
          0.11058060408422755,
          -0.07249780625225877,
          0.8482330339326772,
          -0.7747200231185339
         ]
        },
        {
         "boxpoints": false,
         "line": {
          "width": 1.3
         },
         "marker": {
          "color": "rgba(50, 171, 96, 1.0)"
         },
         "name": "C",
         "orientation": "v",
         "type": "box",
         "y": [
          1.463672469166598,
          0.6651197192188135,
          0.37566576496129844,
          1.4791635585415648,
          1.4167798359311785,
          0.6675141209292036,
          0.5894767021021048,
          0.9301212541168372,
          0.27226748556495267,
          -0.06391177027598757,
          1.0010415184193269,
          1.0326165177182174,
          -0.8731298266611605,
          -0.46840514265026345,
          -0.3854634418756403,
          1.2459924037856747,
          0.8457350353558521,
          1.6337799788982934,
          0.7889157293396244,
          -0.6018538929253865,
          -0.545465322430264,
          0.09852540676052758,
          -0.009114980519238224,
          -0.30629952776384767,
          -1.2500465350505152,
          -0.042355212049775645,
          -0.6400215740203627,
          -1.1322927651162251,
          -1.2187668795188207,
          1.6938191102102707,
          -1.492066170203874,
          -0.3502846950994851,
          -1.7995148501102394,
          -1.1519112577389599,
          1.3602019488257686,
          1.0680044955077561,
          -2.161847520754712,
          -0.1555672793909803,
          -0.08755424424509188,
          0.15341729708932367,
          0.8209593576356582,
          0.5078408720603443,
          -0.06243714679218857,
          0.2973074236620757,
          0.7813467485374767,
          0.6973501319285956,
          -1.3783614386516876,
          0.21381270000361954,
          0.13057088665168068,
          -2.0962842050753214,
          -0.9153373599146069,
          -0.9073526341698958,
          0.7407521736326562,
          -1.5693456913844939,
          -0.16817904905543016,
          -0.814255736583778,
          -0.31505303878366353,
          0.6328591794772734,
          0.16821328929726775,
          -1.467656218336898,
          -0.042477711901061595,
          -2.596860879634435,
          0.11885605619163297,
          0.11604594671634334,
          0.45571495458637146,
          -0.8367063080226032,
          -0.4868194124432724,
          -0.6846042002152335,
          0.7787188235294727,
          0.7834546105714999,
          -0.4654595163663431,
          1.0627138382165682,
          -0.9162262576347874,
          0.9987637167369354,
          -0.8419795773955878,
          0.4972884991745363,
          0.5429426100243367,
          -1.2013471669665756,
          -0.22134747995347895,
          -0.9152126365884109,
          -0.6467294188414507,
          -0.02547528848355319,
          0.9620667204717402,
          2.054594371020456,
          -0.5926406463420172,
          -2.2405365890056217,
          -0.17541377487678347,
          0.3838316976959465,
          0.26351375595270154,
          1.80204891106008,
          0.3203700240814719,
          -0.6819345859625005,
          -0.413617630555659,
          0.38409204950645615,
          1.422836558643967,
          -1.208550225097222,
          0.3047803401765312,
          -0.846186163669692,
          0.18881194325830297,
          0.13831523685704977
         ]
        },
        {
         "boxpoints": false,
         "line": {
          "width": 1.3
         },
         "marker": {
          "color": "rgba(128, 0, 128, 1.0)"
         },
         "name": "D",
         "orientation": "v",
         "type": "box",
         "y": [
          -0.518783594996111,
          -2.4134121292767667,
          0.05034939966290155,
          -0.06960957892298734,
          -0.2260588074572653,
          -1.927090999921165,
          0.024635095040146927,
          -0.7441625541298046,
          -0.025683679287609805,
          0.11843513989092828,
          -0.4849087333809206,
          -1.2954358425583201,
          1.0795564645448268,
          -0.6975424576353564,
          -0.2697714644042345,
          1.438968686818738,
          0.39409728828892954,
          -0.6265133870177304,
          -0.07824844526021912,
          -0.08591331765526902,
          0.8049923558872016,
          -1.0295399790894808,
          0.8786188084461379,
          0.46443962318469717,
          1.1761263431906517,
          -0.44440355978282203,
          0.9615156084487653,
          -0.5205899481735078,
          -1.7001403321488082,
          -0.5742156648569211,
          -1.5076041562325455,
          0.14358381613267093,
          1.513624324283302,
          0.20695348581256173,
          -2.4042855181268483,
          1.251628238049774,
          -1.3286629238691323,
          -2.050349258987114,
          0.9419130391059416,
          -0.7692435131584836,
          -0.8103901760540326,
          -0.8559410079422868,
          0.7022159222046942,
          0.03961153229562075,
          0.9446372185380836,
          -0.7598077508633341,
          0.24296278440062496,
          1.6967567370379988,
          -0.3540073619364603,
          1.2807823387911226,
          -0.3048581626816503,
          1.6063731950511038,
          -0.9068007722531073,
          -1.3243575537247236,
          -1.244128218309669,
          -1.850367569260154,
          -0.5710247020667107,
          0.28966820605365357,
          -1.1186418290222262,
          2.8885796606749925,
          -0.25131418682439843,
          -1.2651371623752403,
          -1.7208183825176575,
          -2.379348975057764,
          0.2833705925498279,
          0.9591099681660155,
          -1.0281961398773638,
          0.5430260260149434,
          -1.2345436637795881,
          0.3392535301869327,
          -0.12585274936717322,
          0.5724712772673114,
          1.647704705920134e-05,
          -0.9246796833279284,
          0.5755276455950149,
          1.1969623581801656,
          0.4712654848573027,
          -0.6803956435669573,
          0.6379021895182349,
          0.9897298422219863,
          -1.2442857660093052,
          -0.17387348445545497,
          0.5683303618787926,
          0.10724265170165377,
          0.2778618535670428,
          -0.16522749240533144,
          -0.9385785399474534,
          -0.7750686546066188,
          0.3468413043569452,
          -0.9061856008536254,
          -0.322226460099784,
          -0.462172141008642,
          1.3550041922182134,
          1.2579165177664244,
          -1.2587896313699054,
          -0.6742783069596625,
          0.19371989971395945,
          0.395530183978683,
          -0.6081088049058118,
          0.6488370810754313
         ]
        }
       ],
       "layout": {
        "legend": {
         "bgcolor": "#F5F6F9",
         "font": {
          "color": "#4D5663"
         }
        },
        "paper_bgcolor": "#F5F6F9",
        "plot_bgcolor": "#F5F6F9",
        "template": {
         "data": {
          "bar": [
           {
            "error_x": {
             "color": "#2a3f5f"
            },
            "error_y": {
             "color": "#2a3f5f"
            },
            "marker": {
             "line": {
              "color": "#E5ECF6",
              "width": 0.5
             }
            },
            "type": "bar"
           }
          ],
          "barpolar": [
           {
            "marker": {
             "line": {
              "color": "#E5ECF6",
              "width": 0.5
             }
            },
            "type": "barpolar"
           }
          ],
          "carpet": [
           {
            "aaxis": {
             "endlinecolor": "#2a3f5f",
             "gridcolor": "white",
             "linecolor": "white",
             "minorgridcolor": "white",
             "startlinecolor": "#2a3f5f"
            },
            "baxis": {
             "endlinecolor": "#2a3f5f",
             "gridcolor": "white",
             "linecolor": "white",
             "minorgridcolor": "white",
             "startlinecolor": "#2a3f5f"
            },
            "type": "carpet"
           }
          ],
          "choropleth": [
           {
            "colorbar": {
             "outlinewidth": 0,
             "ticks": ""
            },
            "type": "choropleth"
           }
          ],
          "contour": [
           {
            "colorbar": {
             "outlinewidth": 0,
             "ticks": ""
            },
            "colorscale": [
             [
              0,
              "#0d0887"
             ],
             [
              0.1111111111111111,
              "#46039f"
             ],
             [
              0.2222222222222222,
              "#7201a8"
             ],
             [
              0.3333333333333333,
              "#9c179e"
             ],
             [
              0.4444444444444444,
              "#bd3786"
             ],
             [
              0.5555555555555556,
              "#d8576b"
             ],
             [
              0.6666666666666666,
              "#ed7953"
             ],
             [
              0.7777777777777778,
              "#fb9f3a"
             ],
             [
              0.8888888888888888,
              "#fdca26"
             ],
             [
              1,
              "#f0f921"
             ]
            ],
            "type": "contour"
           }
          ],
          "contourcarpet": [
           {
            "colorbar": {
             "outlinewidth": 0,
             "ticks": ""
            },
            "type": "contourcarpet"
           }
          ],
          "heatmap": [
           {
            "colorbar": {
             "outlinewidth": 0,
             "ticks": ""
            },
            "colorscale": [
             [
              0,
              "#0d0887"
             ],
             [
              0.1111111111111111,
              "#46039f"
             ],
             [
              0.2222222222222222,
              "#7201a8"
             ],
             [
              0.3333333333333333,
              "#9c179e"
             ],
             [
              0.4444444444444444,
              "#bd3786"
             ],
             [
              0.5555555555555556,
              "#d8576b"
             ],
             [
              0.6666666666666666,
              "#ed7953"
             ],
             [
              0.7777777777777778,
              "#fb9f3a"
             ],
             [
              0.8888888888888888,
              "#fdca26"
             ],
             [
              1,
              "#f0f921"
             ]
            ],
            "type": "heatmap"
           }
          ],
          "heatmapgl": [
           {
            "colorbar": {
             "outlinewidth": 0,
             "ticks": ""
            },
            "colorscale": [
             [
              0,
              "#0d0887"
             ],
             [
              0.1111111111111111,
              "#46039f"
             ],
             [
              0.2222222222222222,
              "#7201a8"
             ],
             [
              0.3333333333333333,
              "#9c179e"
             ],
             [
              0.4444444444444444,
              "#bd3786"
             ],
             [
              0.5555555555555556,
              "#d8576b"
             ],
             [
              0.6666666666666666,
              "#ed7953"
             ],
             [
              0.7777777777777778,
              "#fb9f3a"
             ],
             [
              0.8888888888888888,
              "#fdca26"
             ],
             [
              1,
              "#f0f921"
             ]
            ],
            "type": "heatmapgl"
           }
          ],
          "histogram": [
           {
            "marker": {
             "colorbar": {
              "outlinewidth": 0,
              "ticks": ""
             }
            },
            "type": "histogram"
           }
          ],
          "histogram2d": [
           {
            "colorbar": {
             "outlinewidth": 0,
             "ticks": ""
            },
            "colorscale": [
             [
              0,
              "#0d0887"
             ],
             [
              0.1111111111111111,
              "#46039f"
             ],
             [
              0.2222222222222222,
              "#7201a8"
             ],
             [
              0.3333333333333333,
              "#9c179e"
             ],
             [
              0.4444444444444444,
              "#bd3786"
             ],
             [
              0.5555555555555556,
              "#d8576b"
             ],
             [
              0.6666666666666666,
              "#ed7953"
             ],
             [
              0.7777777777777778,
              "#fb9f3a"
             ],
             [
              0.8888888888888888,
              "#fdca26"
             ],
             [
              1,
              "#f0f921"
             ]
            ],
            "type": "histogram2d"
           }
          ],
          "histogram2dcontour": [
           {
            "colorbar": {
             "outlinewidth": 0,
             "ticks": ""
            },
            "colorscale": [
             [
              0,
              "#0d0887"
             ],
             [
              0.1111111111111111,
              "#46039f"
             ],
             [
              0.2222222222222222,
              "#7201a8"
             ],
             [
              0.3333333333333333,
              "#9c179e"
             ],
             [
              0.4444444444444444,
              "#bd3786"
             ],
             [
              0.5555555555555556,
              "#d8576b"
             ],
             [
              0.6666666666666666,
              "#ed7953"
             ],
             [
              0.7777777777777778,
              "#fb9f3a"
             ],
             [
              0.8888888888888888,
              "#fdca26"
             ],
             [
              1,
              "#f0f921"
             ]
            ],
            "type": "histogram2dcontour"
           }
          ],
          "mesh3d": [
           {
            "colorbar": {
             "outlinewidth": 0,
             "ticks": ""
            },
            "type": "mesh3d"
           }
          ],
          "parcoords": [
           {
            "line": {
             "colorbar": {
              "outlinewidth": 0,
              "ticks": ""
             }
            },
            "type": "parcoords"
           }
          ],
          "pie": [
           {
            "automargin": true,
            "type": "pie"
           }
          ],
          "scatter": [
           {
            "marker": {
             "colorbar": {
              "outlinewidth": 0,
              "ticks": ""
             }
            },
            "type": "scatter"
           }
          ],
          "scatter3d": [
           {
            "line": {
             "colorbar": {
              "outlinewidth": 0,
              "ticks": ""
             }
            },
            "marker": {
             "colorbar": {
              "outlinewidth": 0,
              "ticks": ""
             }
            },
            "type": "scatter3d"
           }
          ],
          "scattercarpet": [
           {
            "marker": {
             "colorbar": {
              "outlinewidth": 0,
              "ticks": ""
             }
            },
            "type": "scattercarpet"
           }
          ],
          "scattergeo": [
           {
            "marker": {
             "colorbar": {
              "outlinewidth": 0,
              "ticks": ""
             }
            },
            "type": "scattergeo"
           }
          ],
          "scattergl": [
           {
            "marker": {
             "colorbar": {
              "outlinewidth": 0,
              "ticks": ""
             }
            },
            "type": "scattergl"
           }
          ],
          "scattermapbox": [
           {
            "marker": {
             "colorbar": {
              "outlinewidth": 0,
              "ticks": ""
             }
            },
            "type": "scattermapbox"
           }
          ],
          "scatterpolar": [
           {
            "marker": {
             "colorbar": {
              "outlinewidth": 0,
              "ticks": ""
             }
            },
            "type": "scatterpolar"
           }
          ],
          "scatterpolargl": [
           {
            "marker": {
             "colorbar": {
              "outlinewidth": 0,
              "ticks": ""
             }
            },
            "type": "scatterpolargl"
           }
          ],
          "scatterternary": [
           {
            "marker": {
             "colorbar": {
              "outlinewidth": 0,
              "ticks": ""
             }
            },
            "type": "scatterternary"
           }
          ],
          "surface": [
           {
            "colorbar": {
             "outlinewidth": 0,
             "ticks": ""
            },
            "colorscale": [
             [
              0,
              "#0d0887"
             ],
             [
              0.1111111111111111,
              "#46039f"
             ],
             [
              0.2222222222222222,
              "#7201a8"
             ],
             [
              0.3333333333333333,
              "#9c179e"
             ],
             [
              0.4444444444444444,
              "#bd3786"
             ],
             [
              0.5555555555555556,
              "#d8576b"
             ],
             [
              0.6666666666666666,
              "#ed7953"
             ],
             [
              0.7777777777777778,
              "#fb9f3a"
             ],
             [
              0.8888888888888888,
              "#fdca26"
             ],
             [
              1,
              "#f0f921"
             ]
            ],
            "type": "surface"
           }
          ],
          "table": [
           {
            "cells": {
             "fill": {
              "color": "#EBF0F8"
             },
             "line": {
              "color": "white"
             }
            },
            "header": {
             "fill": {
              "color": "#C8D4E3"
             },
             "line": {
              "color": "white"
             }
            },
            "type": "table"
           }
          ]
         },
         "layout": {
          "annotationdefaults": {
           "arrowcolor": "#2a3f5f",
           "arrowhead": 0,
           "arrowwidth": 1
          },
          "coloraxis": {
           "colorbar": {
            "outlinewidth": 0,
            "ticks": ""
           }
          },
          "colorscale": {
           "diverging": [
            [
             0,
             "#8e0152"
            ],
            [
             0.1,
             "#c51b7d"
            ],
            [
             0.2,
             "#de77ae"
            ],
            [
             0.3,
             "#f1b6da"
            ],
            [
             0.4,
             "#fde0ef"
            ],
            [
             0.5,
             "#f7f7f7"
            ],
            [
             0.6,
             "#e6f5d0"
            ],
            [
             0.7,
             "#b8e186"
            ],
            [
             0.8,
             "#7fbc41"
            ],
            [
             0.9,
             "#4d9221"
            ],
            [
             1,
             "#276419"
            ]
           ],
           "sequential": [
            [
             0,
             "#0d0887"
            ],
            [
             0.1111111111111111,
             "#46039f"
            ],
            [
             0.2222222222222222,
             "#7201a8"
            ],
            [
             0.3333333333333333,
             "#9c179e"
            ],
            [
             0.4444444444444444,
             "#bd3786"
            ],
            [
             0.5555555555555556,
             "#d8576b"
            ],
            [
             0.6666666666666666,
             "#ed7953"
            ],
            [
             0.7777777777777778,
             "#fb9f3a"
            ],
            [
             0.8888888888888888,
             "#fdca26"
            ],
            [
             1,
             "#f0f921"
            ]
           ],
           "sequentialminus": [
            [
             0,
             "#0d0887"
            ],
            [
             0.1111111111111111,
             "#46039f"
            ],
            [
             0.2222222222222222,
             "#7201a8"
            ],
            [
             0.3333333333333333,
             "#9c179e"
            ],
            [
             0.4444444444444444,
             "#bd3786"
            ],
            [
             0.5555555555555556,
             "#d8576b"
            ],
            [
             0.6666666666666666,
             "#ed7953"
            ],
            [
             0.7777777777777778,
             "#fb9f3a"
            ],
            [
             0.8888888888888888,
             "#fdca26"
            ],
            [
             1,
             "#f0f921"
            ]
           ]
          },
          "colorway": [
           "#636efa",
           "#EF553B",
           "#00cc96",
           "#ab63fa",
           "#FFA15A",
           "#19d3f3",
           "#FF6692",
           "#B6E880",
           "#FF97FF",
           "#FECB52"
          ],
          "font": {
           "color": "#2a3f5f"
          },
          "geo": {
           "bgcolor": "white",
           "lakecolor": "white",
           "landcolor": "#E5ECF6",
           "showlakes": true,
           "showland": true,
           "subunitcolor": "white"
          },
          "hoverlabel": {
           "align": "left"
          },
          "hovermode": "closest",
          "mapbox": {
           "style": "light"
          },
          "paper_bgcolor": "white",
          "plot_bgcolor": "#E5ECF6",
          "polar": {
           "angularaxis": {
            "gridcolor": "white",
            "linecolor": "white",
            "ticks": ""
           },
           "bgcolor": "#E5ECF6",
           "radialaxis": {
            "gridcolor": "white",
            "linecolor": "white",
            "ticks": ""
           }
          },
          "scene": {
           "xaxis": {
            "backgroundcolor": "#E5ECF6",
            "gridcolor": "white",
            "gridwidth": 2,
            "linecolor": "white",
            "showbackground": true,
            "ticks": "",
            "zerolinecolor": "white"
           },
           "yaxis": {
            "backgroundcolor": "#E5ECF6",
            "gridcolor": "white",
            "gridwidth": 2,
            "linecolor": "white",
            "showbackground": true,
            "ticks": "",
            "zerolinecolor": "white"
           },
           "zaxis": {
            "backgroundcolor": "#E5ECF6",
            "gridcolor": "white",
            "gridwidth": 2,
            "linecolor": "white",
            "showbackground": true,
            "ticks": "",
            "zerolinecolor": "white"
           }
          },
          "shapedefaults": {
           "line": {
            "color": "#2a3f5f"
           }
          },
          "ternary": {
           "aaxis": {
            "gridcolor": "white",
            "linecolor": "white",
            "ticks": ""
           },
           "baxis": {
            "gridcolor": "white",
            "linecolor": "white",
            "ticks": ""
           },
           "bgcolor": "#E5ECF6",
           "caxis": {
            "gridcolor": "white",
            "linecolor": "white",
            "ticks": ""
           }
          },
          "title": {
           "x": 0.05
          },
          "xaxis": {
           "automargin": true,
           "gridcolor": "white",
           "linecolor": "white",
           "ticks": "",
           "title": {
            "standoff": 15
           },
           "zerolinecolor": "white",
           "zerolinewidth": 2
          },
          "yaxis": {
           "automargin": true,
           "gridcolor": "white",
           "linecolor": "white",
           "ticks": "",
           "title": {
            "standoff": 15
           },
           "zerolinecolor": "white",
           "zerolinewidth": 2
          }
         }
        },
        "title": {
         "font": {
          "color": "#4D5663"
         }
        },
        "xaxis": {
         "gridcolor": "#E1E5ED",
         "showgrid": true,
         "tickfont": {
          "color": "#4D5663"
         },
         "title": {
          "font": {
           "color": "#4D5663"
          },
          "text": ""
         },
         "zerolinecolor": "#E1E5ED"
        },
        "yaxis": {
         "gridcolor": "#E1E5ED",
         "showgrid": true,
         "tickfont": {
          "color": "#4D5663"
         },
         "title": {
          "font": {
           "color": "#4D5663"
          },
          "text": ""
         },
         "zerolinecolor": "#E1E5ED"
        }
       }
      },
      "text/html": [
       "<div>\n",
       "        \n",
       "        \n",
       "            <div id=\"561ece4b-0d71-4615-967b-7965568fea94\" class=\"plotly-graph-div\" style=\"height:525px; width:100%;\"></div>\n",
       "            <script type=\"text/javascript\">\n",
       "                require([\"plotly\"], function(Plotly) {\n",
       "                    window.PLOTLYENV=window.PLOTLYENV || {};\n",
       "                    window.PLOTLYENV.BASE_URL='https://plot.ly';\n",
       "                    \n",
       "                if (document.getElementById(\"561ece4b-0d71-4615-967b-7965568fea94\")) {\n",
       "                    Plotly.newPlot(\n",
       "                        '561ece4b-0d71-4615-967b-7965568fea94',\n",
       "                        [{\"boxpoints\": false, \"line\": {\"width\": 1.3}, \"marker\": {\"color\": \"rgba(255, 153, 51, 1.0)\"}, \"name\": \"A\", \"orientation\": \"v\", \"type\": \"box\", \"y\": [0.49289817131910324, -0.3012398972298208, -0.7816068221605069, -0.8090093152211132, 1.4006830146786922, -0.19482583816277718, 0.0604937012147241, 2.119691209922694, 0.7222242598679914, 1.753235420367374, 0.15830729803447974, -0.6341440309522819, -2.283999111080501, 0.5531241386591951, -2.266708116322684, 0.7042723917299197, 0.6092425758622263, -0.340557220856165, -1.3041616905321494, 0.18497826710035706, 0.021565250924974123, -0.006075820444198791, -2.566727147075182, 0.02730521303181981, -0.9939684925220701, -0.6223666531415607, 1.776870439188865, 0.01793289056711191, 0.05680072212956541, 0.43447933306281233, -1.453567536602802, 0.22397366436895907, -0.47782199024703215, 1.339102396303261, 1.6080823076036965, 0.20166945309703094, -1.4037713891573702, 0.5106776942015245, -1.8190377132273154, -1.0337585498673065, 0.5183548692185115, -1.0257448210609061, 0.3360850564164397, 1.6441074102925999, 1.359625493547863, 0.5732793595532124, -0.5467403903693552, 0.40035282535498895, 0.10515275916863191, -0.5263016957839567, -0.04432663132196094, 0.8299882137593065, 0.288974670977, 1.4516357718944564, -0.4111386022214322, -2.1428502676999592, 1.2035300277031884, -1.623937560391315, -0.3132882723386422, -0.5352367479666442, -0.6950356321246792, -0.33190243398305314, 0.26383380532025796, -0.5184732009735258, 0.5207487437274007, -1.5584295495848832, 1.0170403191939565, 0.07373919242253754, 0.39030351930826057, 0.3832708653059387, -0.6111638533706606, 0.2944432971309082, 0.4591500221941663, -1.3000294349405557, 0.8493654040778634, -0.24454619551784645, 2.5784605090664208, 0.3470148257665814, 0.4275832431758216, -0.02006983310330113, -0.22115821773805194, 0.7441606483066695, -2.147666745538417, 0.4022717625020178, 1.015008131996003, -0.9614527011380453, 0.6427549647493842, 0.26275878026670807, -2.1811228596403294, -0.9651264344972399, -1.0807091355825975, -1.2704353852791637, -1.604220193082267, 2.2757599377870004, -0.7460643325640582, -1.0270656913759506, -0.08472691139075982, -0.4397288250502953, -0.4051011158276595, 0.0030321124322531187]}, {\"boxpoints\": false, \"line\": {\"width\": 1.3}, \"marker\": {\"color\": \"rgba(55, 128, 191, 1.0)\"}, \"name\": \"B\", \"orientation\": \"v\", \"type\": \"box\", \"y\": [1.788094498128622, -0.44535443686305204, -0.7131795159657938, -0.5554106325242337, -0.21586035461825787, -0.697799365135744, 1.097573763569276, 0.035887813880043605, 2.6195040661181466, 0.6079529137881459, 0.7436248459744537, -0.8618502776351192, -0.47747198195992685, 0.22394260599753302, 0.16778779907716984, -0.21439653722728408, -0.28082534999382414, -0.47247468827363853, -0.4506597477838028, 0.6851240964961288, 1.1619213588272501, -1.0702545218773423, 0.4492565916692249, -1.1452374174231343, 0.6940018241869989, 1.7025908336350206, 0.911095428268713, -0.8390868115640266, 0.1663123644197956, 0.3328100887697817, 0.06435393233991418, -0.3710348748026914, -0.9179829095604276, -0.524999408533106, 0.6652896007479878, 1.5838460732342565, -0.006292105652858107, 0.6036323038736936, -0.476844069070269, 1.1387478354050842, 0.03827391299502421, 1.1285586150173448, 0.14647132562841755, 0.4044039554802493, -0.21088510943267336, -1.6753117569624703, -0.3294821012530378, 0.6607752806792838, -0.13058529121836507, 0.22371960616266628, -0.8188759246483298, -0.5854214437337317, -2.491158593278795, -1.0585519213970385, -0.03288668821960335, 1.8329670294391918, 0.605965626089157, -1.0337333776852846, 0.3155519084756224, 1.6015557409146575, 0.6822350410713564, 2.338739883832616, -1.1730419635505192, 0.6391766373700845, 1.289160748481995, -0.5420518881612237, 0.5071628629766942, -0.40457294813531886, 0.7270531601651469, -1.6646222754130013, 0.40243397726927077, 0.34311882064613747, 0.6259398874778561, -1.009481363220773, 0.2245743366277254, 0.6600993412912876, -1.6075531641768765, 0.46316037121790465, -0.5365819522636401, 0.33546724504982794, 0.709807510414665, -1.411526231278596, 0.1236699459010611, 0.30797864886790227, -0.7320151252688502, 0.9815246074439794, 0.546198609092013, 1.7577800559208172, 0.31626620547227696, 0.42215646808605684, 1.4971434747745829, -0.13994118394343455, 0.8020527287884011, -0.004972773524476891, 0.7420408197587705, -2.2243504385067503, 0.11058060408422755, -0.07249780625225877, 0.8482330339326772, -0.7747200231185339]}, {\"boxpoints\": false, \"line\": {\"width\": 1.3}, \"marker\": {\"color\": \"rgba(50, 171, 96, 1.0)\"}, \"name\": \"C\", \"orientation\": \"v\", \"type\": \"box\", \"y\": [1.463672469166598, 0.6651197192188135, 0.37566576496129844, 1.4791635585415648, 1.4167798359311785, 0.6675141209292036, 0.5894767021021048, 0.9301212541168372, 0.27226748556495267, -0.06391177027598757, 1.0010415184193269, 1.0326165177182174, -0.8731298266611605, -0.46840514265026345, -0.3854634418756403, 1.2459924037856747, 0.8457350353558521, 1.6337799788982934, 0.7889157293396244, -0.6018538929253865, -0.545465322430264, 0.09852540676052758, -0.009114980519238224, -0.30629952776384767, -1.2500465350505152, -0.042355212049775645, -0.6400215740203627, -1.1322927651162251, -1.2187668795188207, 1.6938191102102707, -1.492066170203874, -0.3502846950994851, -1.7995148501102394, -1.1519112577389599, 1.3602019488257686, 1.0680044955077561, -2.161847520754712, -0.1555672793909803, -0.08755424424509188, 0.15341729708932367, 0.8209593576356582, 0.5078408720603443, -0.06243714679218857, 0.2973074236620757, 0.7813467485374767, 0.6973501319285956, -1.3783614386516876, 0.21381270000361954, 0.13057088665168068, -2.0962842050753214, -0.9153373599146069, -0.9073526341698958, 0.7407521736326562, -1.5693456913844939, -0.16817904905543016, -0.814255736583778, -0.31505303878366353, 0.6328591794772734, 0.16821328929726775, -1.467656218336898, -0.042477711901061595, -2.596860879634435, 0.11885605619163297, 0.11604594671634334, 0.45571495458637146, -0.8367063080226032, -0.4868194124432724, -0.6846042002152335, 0.7787188235294727, 0.7834546105714999, -0.4654595163663431, 1.0627138382165682, -0.9162262576347874, 0.9987637167369354, -0.8419795773955878, 0.4972884991745363, 0.5429426100243367, -1.2013471669665756, -0.22134747995347895, -0.9152126365884109, -0.6467294188414507, -0.02547528848355319, 0.9620667204717402, 2.054594371020456, -0.5926406463420172, -2.2405365890056217, -0.17541377487678347, 0.3838316976959465, 0.26351375595270154, 1.80204891106008, 0.3203700240814719, -0.6819345859625005, -0.413617630555659, 0.38409204950645615, 1.422836558643967, -1.208550225097222, 0.3047803401765312, -0.846186163669692, 0.18881194325830297, 0.13831523685704977]}, {\"boxpoints\": false, \"line\": {\"width\": 1.3}, \"marker\": {\"color\": \"rgba(128, 0, 128, 1.0)\"}, \"name\": \"D\", \"orientation\": \"v\", \"type\": \"box\", \"y\": [-0.518783594996111, -2.4134121292767667, 0.05034939966290155, -0.06960957892298734, -0.2260588074572653, -1.927090999921165, 0.024635095040146927, -0.7441625541298046, -0.025683679287609805, 0.11843513989092828, -0.4849087333809206, -1.2954358425583201, 1.0795564645448268, -0.6975424576353564, -0.2697714644042345, 1.438968686818738, 0.39409728828892954, -0.6265133870177304, -0.07824844526021912, -0.08591331765526902, 0.8049923558872016, -1.0295399790894808, 0.8786188084461379, 0.46443962318469717, 1.1761263431906517, -0.44440355978282203, 0.9615156084487653, -0.5205899481735078, -1.7001403321488082, -0.5742156648569211, -1.5076041562325455, 0.14358381613267093, 1.513624324283302, 0.20695348581256173, -2.4042855181268483, 1.251628238049774, -1.3286629238691323, -2.050349258987114, 0.9419130391059416, -0.7692435131584836, -0.8103901760540326, -0.8559410079422868, 0.7022159222046942, 0.03961153229562075, 0.9446372185380836, -0.7598077508633341, 0.24296278440062496, 1.6967567370379988, -0.3540073619364603, 1.2807823387911226, -0.3048581626816503, 1.6063731950511038, -0.9068007722531073, -1.3243575537247236, -1.244128218309669, -1.850367569260154, -0.5710247020667107, 0.28966820605365357, -1.1186418290222262, 2.8885796606749925, -0.25131418682439843, -1.2651371623752403, -1.7208183825176575, -2.379348975057764, 0.2833705925498279, 0.9591099681660155, -1.0281961398773638, 0.5430260260149434, -1.2345436637795881, 0.3392535301869327, -0.12585274936717322, 0.5724712772673114, 1.647704705920134e-05, -0.9246796833279284, 0.5755276455950149, 1.1969623581801656, 0.4712654848573027, -0.6803956435669573, 0.6379021895182349, 0.9897298422219863, -1.2442857660093052, -0.17387348445545497, 0.5683303618787926, 0.10724265170165377, 0.2778618535670428, -0.16522749240533144, -0.9385785399474534, -0.7750686546066188, 0.3468413043569452, -0.9061856008536254, -0.322226460099784, -0.462172141008642, 1.3550041922182134, 1.2579165177664244, -1.2587896313699054, -0.6742783069596625, 0.19371989971395945, 0.395530183978683, -0.6081088049058118, 0.6488370810754313]}],\n",
       "                        {\"legend\": {\"bgcolor\": \"#F5F6F9\", \"font\": {\"color\": \"#4D5663\"}}, \"paper_bgcolor\": \"#F5F6F9\", \"plot_bgcolor\": \"#F5F6F9\", \"template\": {\"data\": {\"bar\": [{\"error_x\": {\"color\": \"#2a3f5f\"}, \"error_y\": {\"color\": \"#2a3f5f\"}, \"marker\": {\"line\": {\"color\": \"#E5ECF6\", \"width\": 0.5}}, \"type\": \"bar\"}], \"barpolar\": [{\"marker\": {\"line\": {\"color\": \"#E5ECF6\", \"width\": 0.5}}, \"type\": \"barpolar\"}], \"carpet\": [{\"aaxis\": {\"endlinecolor\": \"#2a3f5f\", \"gridcolor\": \"white\", \"linecolor\": \"white\", \"minorgridcolor\": \"white\", \"startlinecolor\": \"#2a3f5f\"}, \"baxis\": {\"endlinecolor\": \"#2a3f5f\", \"gridcolor\": \"white\", \"linecolor\": \"white\", \"minorgridcolor\": \"white\", \"startlinecolor\": \"#2a3f5f\"}, \"type\": \"carpet\"}], \"choropleth\": [{\"colorbar\": {\"outlinewidth\": 0, \"ticks\": \"\"}, \"type\": \"choropleth\"}], \"contour\": [{\"colorbar\": {\"outlinewidth\": 0, \"ticks\": \"\"}, \"colorscale\": [[0.0, \"#0d0887\"], [0.1111111111111111, \"#46039f\"], [0.2222222222222222, \"#7201a8\"], [0.3333333333333333, \"#9c179e\"], [0.4444444444444444, \"#bd3786\"], [0.5555555555555556, \"#d8576b\"], [0.6666666666666666, \"#ed7953\"], [0.7777777777777778, \"#fb9f3a\"], [0.8888888888888888, \"#fdca26\"], [1.0, \"#f0f921\"]], \"type\": \"contour\"}], \"contourcarpet\": [{\"colorbar\": {\"outlinewidth\": 0, \"ticks\": \"\"}, \"type\": \"contourcarpet\"}], \"heatmap\": [{\"colorbar\": {\"outlinewidth\": 0, \"ticks\": \"\"}, \"colorscale\": [[0.0, \"#0d0887\"], [0.1111111111111111, \"#46039f\"], [0.2222222222222222, \"#7201a8\"], [0.3333333333333333, \"#9c179e\"], [0.4444444444444444, \"#bd3786\"], [0.5555555555555556, \"#d8576b\"], [0.6666666666666666, \"#ed7953\"], [0.7777777777777778, \"#fb9f3a\"], [0.8888888888888888, \"#fdca26\"], [1.0, \"#f0f921\"]], \"type\": \"heatmap\"}], \"heatmapgl\": [{\"colorbar\": {\"outlinewidth\": 0, \"ticks\": \"\"}, \"colorscale\": [[0.0, \"#0d0887\"], [0.1111111111111111, \"#46039f\"], [0.2222222222222222, \"#7201a8\"], [0.3333333333333333, \"#9c179e\"], [0.4444444444444444, \"#bd3786\"], [0.5555555555555556, \"#d8576b\"], [0.6666666666666666, \"#ed7953\"], [0.7777777777777778, \"#fb9f3a\"], [0.8888888888888888, \"#fdca26\"], [1.0, \"#f0f921\"]], \"type\": \"heatmapgl\"}], \"histogram\": [{\"marker\": {\"colorbar\": {\"outlinewidth\": 0, \"ticks\": \"\"}}, \"type\": \"histogram\"}], \"histogram2d\": [{\"colorbar\": {\"outlinewidth\": 0, \"ticks\": \"\"}, \"colorscale\": [[0.0, \"#0d0887\"], [0.1111111111111111, \"#46039f\"], [0.2222222222222222, \"#7201a8\"], [0.3333333333333333, \"#9c179e\"], [0.4444444444444444, \"#bd3786\"], [0.5555555555555556, \"#d8576b\"], [0.6666666666666666, \"#ed7953\"], [0.7777777777777778, \"#fb9f3a\"], [0.8888888888888888, \"#fdca26\"], [1.0, \"#f0f921\"]], \"type\": \"histogram2d\"}], \"histogram2dcontour\": [{\"colorbar\": {\"outlinewidth\": 0, \"ticks\": \"\"}, \"colorscale\": [[0.0, \"#0d0887\"], [0.1111111111111111, \"#46039f\"], [0.2222222222222222, \"#7201a8\"], [0.3333333333333333, \"#9c179e\"], [0.4444444444444444, \"#bd3786\"], [0.5555555555555556, \"#d8576b\"], [0.6666666666666666, \"#ed7953\"], [0.7777777777777778, \"#fb9f3a\"], [0.8888888888888888, \"#fdca26\"], [1.0, \"#f0f921\"]], \"type\": \"histogram2dcontour\"}], \"mesh3d\": [{\"colorbar\": {\"outlinewidth\": 0, \"ticks\": \"\"}, \"type\": \"mesh3d\"}], \"parcoords\": [{\"line\": {\"colorbar\": {\"outlinewidth\": 0, \"ticks\": \"\"}}, \"type\": \"parcoords\"}], \"pie\": [{\"automargin\": true, \"type\": \"pie\"}], \"scatter\": [{\"marker\": {\"colorbar\": {\"outlinewidth\": 0, \"ticks\": \"\"}}, \"type\": \"scatter\"}], \"scatter3d\": [{\"line\": {\"colorbar\": {\"outlinewidth\": 0, \"ticks\": \"\"}}, \"marker\": {\"colorbar\": {\"outlinewidth\": 0, \"ticks\": \"\"}}, \"type\": \"scatter3d\"}], \"scattercarpet\": [{\"marker\": {\"colorbar\": {\"outlinewidth\": 0, \"ticks\": \"\"}}, \"type\": \"scattercarpet\"}], \"scattergeo\": [{\"marker\": {\"colorbar\": {\"outlinewidth\": 0, \"ticks\": \"\"}}, \"type\": \"scattergeo\"}], \"scattergl\": [{\"marker\": {\"colorbar\": {\"outlinewidth\": 0, \"ticks\": \"\"}}, \"type\": \"scattergl\"}], \"scattermapbox\": [{\"marker\": {\"colorbar\": {\"outlinewidth\": 0, \"ticks\": \"\"}}, \"type\": \"scattermapbox\"}], \"scatterpolar\": [{\"marker\": {\"colorbar\": {\"outlinewidth\": 0, \"ticks\": \"\"}}, \"type\": \"scatterpolar\"}], \"scatterpolargl\": [{\"marker\": {\"colorbar\": {\"outlinewidth\": 0, \"ticks\": \"\"}}, \"type\": \"scatterpolargl\"}], \"scatterternary\": [{\"marker\": {\"colorbar\": {\"outlinewidth\": 0, \"ticks\": \"\"}}, \"type\": \"scatterternary\"}], \"surface\": [{\"colorbar\": {\"outlinewidth\": 0, \"ticks\": \"\"}, \"colorscale\": [[0.0, \"#0d0887\"], [0.1111111111111111, \"#46039f\"], [0.2222222222222222, \"#7201a8\"], [0.3333333333333333, \"#9c179e\"], [0.4444444444444444, \"#bd3786\"], [0.5555555555555556, \"#d8576b\"], [0.6666666666666666, \"#ed7953\"], [0.7777777777777778, \"#fb9f3a\"], [0.8888888888888888, \"#fdca26\"], [1.0, \"#f0f921\"]], \"type\": \"surface\"}], \"table\": [{\"cells\": {\"fill\": {\"color\": \"#EBF0F8\"}, \"line\": {\"color\": \"white\"}}, \"header\": {\"fill\": {\"color\": \"#C8D4E3\"}, \"line\": {\"color\": \"white\"}}, \"type\": \"table\"}]}, \"layout\": {\"annotationdefaults\": {\"arrowcolor\": \"#2a3f5f\", \"arrowhead\": 0, \"arrowwidth\": 1}, \"coloraxis\": {\"colorbar\": {\"outlinewidth\": 0, \"ticks\": \"\"}}, \"colorscale\": {\"diverging\": [[0, \"#8e0152\"], [0.1, \"#c51b7d\"], [0.2, \"#de77ae\"], [0.3, \"#f1b6da\"], [0.4, \"#fde0ef\"], [0.5, \"#f7f7f7\"], [0.6, \"#e6f5d0\"], [0.7, \"#b8e186\"], [0.8, \"#7fbc41\"], [0.9, \"#4d9221\"], [1, \"#276419\"]], \"sequential\": [[0.0, \"#0d0887\"], [0.1111111111111111, \"#46039f\"], [0.2222222222222222, \"#7201a8\"], [0.3333333333333333, \"#9c179e\"], [0.4444444444444444, \"#bd3786\"], [0.5555555555555556, \"#d8576b\"], [0.6666666666666666, \"#ed7953\"], [0.7777777777777778, \"#fb9f3a\"], [0.8888888888888888, \"#fdca26\"], [1.0, \"#f0f921\"]], \"sequentialminus\": [[0.0, \"#0d0887\"], [0.1111111111111111, \"#46039f\"], [0.2222222222222222, \"#7201a8\"], [0.3333333333333333, \"#9c179e\"], [0.4444444444444444, \"#bd3786\"], [0.5555555555555556, \"#d8576b\"], [0.6666666666666666, \"#ed7953\"], [0.7777777777777778, \"#fb9f3a\"], [0.8888888888888888, \"#fdca26\"], [1.0, \"#f0f921\"]]}, \"colorway\": [\"#636efa\", \"#EF553B\", \"#00cc96\", \"#ab63fa\", \"#FFA15A\", \"#19d3f3\", \"#FF6692\", \"#B6E880\", \"#FF97FF\", \"#FECB52\"], \"font\": {\"color\": \"#2a3f5f\"}, \"geo\": {\"bgcolor\": \"white\", \"lakecolor\": \"white\", \"landcolor\": \"#E5ECF6\", \"showlakes\": true, \"showland\": true, \"subunitcolor\": \"white\"}, \"hoverlabel\": {\"align\": \"left\"}, \"hovermode\": \"closest\", \"mapbox\": {\"style\": \"light\"}, \"paper_bgcolor\": \"white\", \"plot_bgcolor\": \"#E5ECF6\", \"polar\": {\"angularaxis\": {\"gridcolor\": \"white\", \"linecolor\": \"white\", \"ticks\": \"\"}, \"bgcolor\": \"#E5ECF6\", \"radialaxis\": {\"gridcolor\": \"white\", \"linecolor\": \"white\", \"ticks\": \"\"}}, \"scene\": {\"xaxis\": {\"backgroundcolor\": \"#E5ECF6\", \"gridcolor\": \"white\", \"gridwidth\": 2, \"linecolor\": \"white\", \"showbackground\": true, \"ticks\": \"\", \"zerolinecolor\": \"white\"}, \"yaxis\": {\"backgroundcolor\": \"#E5ECF6\", \"gridcolor\": \"white\", \"gridwidth\": 2, \"linecolor\": \"white\", \"showbackground\": true, \"ticks\": \"\", \"zerolinecolor\": \"white\"}, \"zaxis\": {\"backgroundcolor\": \"#E5ECF6\", \"gridcolor\": \"white\", \"gridwidth\": 2, \"linecolor\": \"white\", \"showbackground\": true, \"ticks\": \"\", \"zerolinecolor\": \"white\"}}, \"shapedefaults\": {\"line\": {\"color\": \"#2a3f5f\"}}, \"ternary\": {\"aaxis\": {\"gridcolor\": \"white\", \"linecolor\": \"white\", \"ticks\": \"\"}, \"baxis\": {\"gridcolor\": \"white\", \"linecolor\": \"white\", \"ticks\": \"\"}, \"bgcolor\": \"#E5ECF6\", \"caxis\": {\"gridcolor\": \"white\", \"linecolor\": \"white\", \"ticks\": \"\"}}, \"title\": {\"x\": 0.05}, \"xaxis\": {\"automargin\": true, \"gridcolor\": \"white\", \"linecolor\": \"white\", \"ticks\": \"\", \"title\": {\"standoff\": 15}, \"zerolinecolor\": \"white\", \"zerolinewidth\": 2}, \"yaxis\": {\"automargin\": true, \"gridcolor\": \"white\", \"linecolor\": \"white\", \"ticks\": \"\", \"title\": {\"standoff\": 15}, \"zerolinecolor\": \"white\", \"zerolinewidth\": 2}}}, \"title\": {\"font\": {\"color\": \"#4D5663\"}}, \"xaxis\": {\"gridcolor\": \"#E1E5ED\", \"showgrid\": true, \"tickfont\": {\"color\": \"#4D5663\"}, \"title\": {\"font\": {\"color\": \"#4D5663\"}, \"text\": \"\"}, \"zerolinecolor\": \"#E1E5ED\"}, \"yaxis\": {\"gridcolor\": \"#E1E5ED\", \"showgrid\": true, \"tickfont\": {\"color\": \"#4D5663\"}, \"title\": {\"font\": {\"color\": \"#4D5663\"}, \"text\": \"\"}, \"zerolinecolor\": \"#E1E5ED\"}},\n",
       "                        {\"showLink\": true, \"linkText\": \"Export to plot.ly\", \"plotlyServerURL\": \"https://plot.ly\", \"responsive\": true}\n",
       "                    ).then(function(){\n",
       "                            \n",
       "var gd = document.getElementById('561ece4b-0d71-4615-967b-7965568fea94');\n",
       "var x = new MutationObserver(function (mutations, observer) {{\n",
       "        var display = window.getComputedStyle(gd).display;\n",
       "        if (!display || display === 'none') {{\n",
       "            console.log([gd, 'removed!']);\n",
       "            Plotly.purge(gd);\n",
       "            observer.disconnect();\n",
       "        }}\n",
       "}});\n",
       "\n",
       "// Listen for the removal of the full notebook cells\n",
       "var notebookContainer = gd.closest('#notebook-container');\n",
       "if (notebookContainer) {{\n",
       "    x.observe(notebookContainer, {childList: true});\n",
       "}}\n",
       "\n",
       "// Listen for the clearing of the current output cell\n",
       "var outputEl = gd.closest('.output');\n",
       "if (outputEl) {{\n",
       "    x.observe(outputEl, {childList: true});\n",
       "}}\n",
       "\n",
       "                        })\n",
       "                };\n",
       "                });\n",
       "            </script>\n",
       "        </div>"
      ]
     },
     "metadata": {},
     "output_type": "display_data"
    }
   ],
   "source": [
    "df.iplot(kind='box')"
   ]
  },
  {
   "cell_type": "code",
   "execution_count": 19,
   "metadata": {},
   "outputs": [],
   "source": [
    "df3 = pd.DataFrame({'x':[1,2,3,4,5],'y':[10,20,30,20,10],'z':[500,400,300,200,100]})"
   ]
  },
  {
   "cell_type": "code",
   "execution_count": 20,
   "metadata": {},
   "outputs": [
    {
     "data": {
      "text/html": [
       "<div>\n",
       "<style scoped>\n",
       "    .dataframe tbody tr th:only-of-type {\n",
       "        vertical-align: middle;\n",
       "    }\n",
       "\n",
       "    .dataframe tbody tr th {\n",
       "        vertical-align: top;\n",
       "    }\n",
       "\n",
       "    .dataframe thead th {\n",
       "        text-align: right;\n",
       "    }\n",
       "</style>\n",
       "<table border=\"1\" class=\"dataframe\">\n",
       "  <thead>\n",
       "    <tr style=\"text-align: right;\">\n",
       "      <th></th>\n",
       "      <th>x</th>\n",
       "      <th>y</th>\n",
       "      <th>z</th>\n",
       "    </tr>\n",
       "  </thead>\n",
       "  <tbody>\n",
       "    <tr>\n",
       "      <th>0</th>\n",
       "      <td>1</td>\n",
       "      <td>10</td>\n",
       "      <td>500</td>\n",
       "    </tr>\n",
       "    <tr>\n",
       "      <th>1</th>\n",
       "      <td>2</td>\n",
       "      <td>20</td>\n",
       "      <td>400</td>\n",
       "    </tr>\n",
       "    <tr>\n",
       "      <th>2</th>\n",
       "      <td>3</td>\n",
       "      <td>30</td>\n",
       "      <td>300</td>\n",
       "    </tr>\n",
       "    <tr>\n",
       "      <th>3</th>\n",
       "      <td>4</td>\n",
       "      <td>20</td>\n",
       "      <td>200</td>\n",
       "    </tr>\n",
       "    <tr>\n",
       "      <th>4</th>\n",
       "      <td>5</td>\n",
       "      <td>10</td>\n",
       "      <td>100</td>\n",
       "    </tr>\n",
       "  </tbody>\n",
       "</table>\n",
       "</div>"
      ],
      "text/plain": [
       "   x   y    z\n",
       "0  1  10  500\n",
       "1  2  20  400\n",
       "2  3  30  300\n",
       "3  4  20  200\n",
       "4  5  10  100"
      ]
     },
     "execution_count": 20,
     "metadata": {},
     "output_type": "execute_result"
    }
   ],
   "source": [
    "df3"
   ]
  },
  {
   "cell_type": "code",
   "execution_count": 21,
   "metadata": {},
   "outputs": [
    {
     "data": {
      "application/vnd.plotly.v1+json": {
       "config": {
        "linkText": "Export to plot.ly",
        "plotlyServerURL": "https://plot.ly",
        "showLink": true
       },
       "data": [
        {
         "colorscale": [
          [
           0,
           "rgb(255, 153, 51)"
          ],
          [
           0.1111111111111111,
           "rgb(55, 128, 191)"
          ],
          [
           0.2222222222222222,
           "rgb(50, 171, 96)"
          ],
          [
           0.3333333333333333,
           "rgb(128, 0, 128)"
          ],
          [
           0.4444444444444444,
           "rgb(219, 64, 82)"
          ],
          [
           0.5555555555555556,
           "rgb(0, 128, 128)"
          ],
          [
           0.6666666666666666,
           "rgb(255, 255, 51)"
          ],
          [
           0.7777777777777778,
           "rgb(128, 128, 0)"
          ],
          [
           0.8888888888888888,
           "rgb(251, 128, 114)"
          ],
          [
           1,
           "rgb(128, 177, 211)"
          ]
         ],
         "type": "surface",
         "x": [
          0,
          1,
          2,
          3,
          4
         ],
         "y": [
          "x",
          "y",
          "z"
         ],
         "z": [
          [
           1,
           2,
           3,
           4,
           5
          ],
          [
           10,
           20,
           30,
           20,
           10
          ],
          [
           500,
           400,
           300,
           200,
           100
          ]
         ]
        }
       ],
       "layout": {
        "legend": {
         "bgcolor": "#F5F6F9",
         "font": {
          "color": "#4D5663"
         }
        },
        "paper_bgcolor": "#F5F6F9",
        "plot_bgcolor": "#F5F6F9",
        "template": {
         "data": {
          "bar": [
           {
            "error_x": {
             "color": "#2a3f5f"
            },
            "error_y": {
             "color": "#2a3f5f"
            },
            "marker": {
             "line": {
              "color": "#E5ECF6",
              "width": 0.5
             }
            },
            "type": "bar"
           }
          ],
          "barpolar": [
           {
            "marker": {
             "line": {
              "color": "#E5ECF6",
              "width": 0.5
             }
            },
            "type": "barpolar"
           }
          ],
          "carpet": [
           {
            "aaxis": {
             "endlinecolor": "#2a3f5f",
             "gridcolor": "white",
             "linecolor": "white",
             "minorgridcolor": "white",
             "startlinecolor": "#2a3f5f"
            },
            "baxis": {
             "endlinecolor": "#2a3f5f",
             "gridcolor": "white",
             "linecolor": "white",
             "minorgridcolor": "white",
             "startlinecolor": "#2a3f5f"
            },
            "type": "carpet"
           }
          ],
          "choropleth": [
           {
            "colorbar": {
             "outlinewidth": 0,
             "ticks": ""
            },
            "type": "choropleth"
           }
          ],
          "contour": [
           {
            "colorbar": {
             "outlinewidth": 0,
             "ticks": ""
            },
            "colorscale": [
             [
              0,
              "#0d0887"
             ],
             [
              0.1111111111111111,
              "#46039f"
             ],
             [
              0.2222222222222222,
              "#7201a8"
             ],
             [
              0.3333333333333333,
              "#9c179e"
             ],
             [
              0.4444444444444444,
              "#bd3786"
             ],
             [
              0.5555555555555556,
              "#d8576b"
             ],
             [
              0.6666666666666666,
              "#ed7953"
             ],
             [
              0.7777777777777778,
              "#fb9f3a"
             ],
             [
              0.8888888888888888,
              "#fdca26"
             ],
             [
              1,
              "#f0f921"
             ]
            ],
            "type": "contour"
           }
          ],
          "contourcarpet": [
           {
            "colorbar": {
             "outlinewidth": 0,
             "ticks": ""
            },
            "type": "contourcarpet"
           }
          ],
          "heatmap": [
           {
            "colorbar": {
             "outlinewidth": 0,
             "ticks": ""
            },
            "colorscale": [
             [
              0,
              "#0d0887"
             ],
             [
              0.1111111111111111,
              "#46039f"
             ],
             [
              0.2222222222222222,
              "#7201a8"
             ],
             [
              0.3333333333333333,
              "#9c179e"
             ],
             [
              0.4444444444444444,
              "#bd3786"
             ],
             [
              0.5555555555555556,
              "#d8576b"
             ],
             [
              0.6666666666666666,
              "#ed7953"
             ],
             [
              0.7777777777777778,
              "#fb9f3a"
             ],
             [
              0.8888888888888888,
              "#fdca26"
             ],
             [
              1,
              "#f0f921"
             ]
            ],
            "type": "heatmap"
           }
          ],
          "heatmapgl": [
           {
            "colorbar": {
             "outlinewidth": 0,
             "ticks": ""
            },
            "colorscale": [
             [
              0,
              "#0d0887"
             ],
             [
              0.1111111111111111,
              "#46039f"
             ],
             [
              0.2222222222222222,
              "#7201a8"
             ],
             [
              0.3333333333333333,
              "#9c179e"
             ],
             [
              0.4444444444444444,
              "#bd3786"
             ],
             [
              0.5555555555555556,
              "#d8576b"
             ],
             [
              0.6666666666666666,
              "#ed7953"
             ],
             [
              0.7777777777777778,
              "#fb9f3a"
             ],
             [
              0.8888888888888888,
              "#fdca26"
             ],
             [
              1,
              "#f0f921"
             ]
            ],
            "type": "heatmapgl"
           }
          ],
          "histogram": [
           {
            "marker": {
             "colorbar": {
              "outlinewidth": 0,
              "ticks": ""
             }
            },
            "type": "histogram"
           }
          ],
          "histogram2d": [
           {
            "colorbar": {
             "outlinewidth": 0,
             "ticks": ""
            },
            "colorscale": [
             [
              0,
              "#0d0887"
             ],
             [
              0.1111111111111111,
              "#46039f"
             ],
             [
              0.2222222222222222,
              "#7201a8"
             ],
             [
              0.3333333333333333,
              "#9c179e"
             ],
             [
              0.4444444444444444,
              "#bd3786"
             ],
             [
              0.5555555555555556,
              "#d8576b"
             ],
             [
              0.6666666666666666,
              "#ed7953"
             ],
             [
              0.7777777777777778,
              "#fb9f3a"
             ],
             [
              0.8888888888888888,
              "#fdca26"
             ],
             [
              1,
              "#f0f921"
             ]
            ],
            "type": "histogram2d"
           }
          ],
          "histogram2dcontour": [
           {
            "colorbar": {
             "outlinewidth": 0,
             "ticks": ""
            },
            "colorscale": [
             [
              0,
              "#0d0887"
             ],
             [
              0.1111111111111111,
              "#46039f"
             ],
             [
              0.2222222222222222,
              "#7201a8"
             ],
             [
              0.3333333333333333,
              "#9c179e"
             ],
             [
              0.4444444444444444,
              "#bd3786"
             ],
             [
              0.5555555555555556,
              "#d8576b"
             ],
             [
              0.6666666666666666,
              "#ed7953"
             ],
             [
              0.7777777777777778,
              "#fb9f3a"
             ],
             [
              0.8888888888888888,
              "#fdca26"
             ],
             [
              1,
              "#f0f921"
             ]
            ],
            "type": "histogram2dcontour"
           }
          ],
          "mesh3d": [
           {
            "colorbar": {
             "outlinewidth": 0,
             "ticks": ""
            },
            "type": "mesh3d"
           }
          ],
          "parcoords": [
           {
            "line": {
             "colorbar": {
              "outlinewidth": 0,
              "ticks": ""
             }
            },
            "type": "parcoords"
           }
          ],
          "pie": [
           {
            "automargin": true,
            "type": "pie"
           }
          ],
          "scatter": [
           {
            "marker": {
             "colorbar": {
              "outlinewidth": 0,
              "ticks": ""
             }
            },
            "type": "scatter"
           }
          ],
          "scatter3d": [
           {
            "line": {
             "colorbar": {
              "outlinewidth": 0,
              "ticks": ""
             }
            },
            "marker": {
             "colorbar": {
              "outlinewidth": 0,
              "ticks": ""
             }
            },
            "type": "scatter3d"
           }
          ],
          "scattercarpet": [
           {
            "marker": {
             "colorbar": {
              "outlinewidth": 0,
              "ticks": ""
             }
            },
            "type": "scattercarpet"
           }
          ],
          "scattergeo": [
           {
            "marker": {
             "colorbar": {
              "outlinewidth": 0,
              "ticks": ""
             }
            },
            "type": "scattergeo"
           }
          ],
          "scattergl": [
           {
            "marker": {
             "colorbar": {
              "outlinewidth": 0,
              "ticks": ""
             }
            },
            "type": "scattergl"
           }
          ],
          "scattermapbox": [
           {
            "marker": {
             "colorbar": {
              "outlinewidth": 0,
              "ticks": ""
             }
            },
            "type": "scattermapbox"
           }
          ],
          "scatterpolar": [
           {
            "marker": {
             "colorbar": {
              "outlinewidth": 0,
              "ticks": ""
             }
            },
            "type": "scatterpolar"
           }
          ],
          "scatterpolargl": [
           {
            "marker": {
             "colorbar": {
              "outlinewidth": 0,
              "ticks": ""
             }
            },
            "type": "scatterpolargl"
           }
          ],
          "scatterternary": [
           {
            "marker": {
             "colorbar": {
              "outlinewidth": 0,
              "ticks": ""
             }
            },
            "type": "scatterternary"
           }
          ],
          "surface": [
           {
            "colorbar": {
             "outlinewidth": 0,
             "ticks": ""
            },
            "colorscale": [
             [
              0,
              "#0d0887"
             ],
             [
              0.1111111111111111,
              "#46039f"
             ],
             [
              0.2222222222222222,
              "#7201a8"
             ],
             [
              0.3333333333333333,
              "#9c179e"
             ],
             [
              0.4444444444444444,
              "#bd3786"
             ],
             [
              0.5555555555555556,
              "#d8576b"
             ],
             [
              0.6666666666666666,
              "#ed7953"
             ],
             [
              0.7777777777777778,
              "#fb9f3a"
             ],
             [
              0.8888888888888888,
              "#fdca26"
             ],
             [
              1,
              "#f0f921"
             ]
            ],
            "type": "surface"
           }
          ],
          "table": [
           {
            "cells": {
             "fill": {
              "color": "#EBF0F8"
             },
             "line": {
              "color": "white"
             }
            },
            "header": {
             "fill": {
              "color": "#C8D4E3"
             },
             "line": {
              "color": "white"
             }
            },
            "type": "table"
           }
          ]
         },
         "layout": {
          "annotationdefaults": {
           "arrowcolor": "#2a3f5f",
           "arrowhead": 0,
           "arrowwidth": 1
          },
          "coloraxis": {
           "colorbar": {
            "outlinewidth": 0,
            "ticks": ""
           }
          },
          "colorscale": {
           "diverging": [
            [
             0,
             "#8e0152"
            ],
            [
             0.1,
             "#c51b7d"
            ],
            [
             0.2,
             "#de77ae"
            ],
            [
             0.3,
             "#f1b6da"
            ],
            [
             0.4,
             "#fde0ef"
            ],
            [
             0.5,
             "#f7f7f7"
            ],
            [
             0.6,
             "#e6f5d0"
            ],
            [
             0.7,
             "#b8e186"
            ],
            [
             0.8,
             "#7fbc41"
            ],
            [
             0.9,
             "#4d9221"
            ],
            [
             1,
             "#276419"
            ]
           ],
           "sequential": [
            [
             0,
             "#0d0887"
            ],
            [
             0.1111111111111111,
             "#46039f"
            ],
            [
             0.2222222222222222,
             "#7201a8"
            ],
            [
             0.3333333333333333,
             "#9c179e"
            ],
            [
             0.4444444444444444,
             "#bd3786"
            ],
            [
             0.5555555555555556,
             "#d8576b"
            ],
            [
             0.6666666666666666,
             "#ed7953"
            ],
            [
             0.7777777777777778,
             "#fb9f3a"
            ],
            [
             0.8888888888888888,
             "#fdca26"
            ],
            [
             1,
             "#f0f921"
            ]
           ],
           "sequentialminus": [
            [
             0,
             "#0d0887"
            ],
            [
             0.1111111111111111,
             "#46039f"
            ],
            [
             0.2222222222222222,
             "#7201a8"
            ],
            [
             0.3333333333333333,
             "#9c179e"
            ],
            [
             0.4444444444444444,
             "#bd3786"
            ],
            [
             0.5555555555555556,
             "#d8576b"
            ],
            [
             0.6666666666666666,
             "#ed7953"
            ],
            [
             0.7777777777777778,
             "#fb9f3a"
            ],
            [
             0.8888888888888888,
             "#fdca26"
            ],
            [
             1,
             "#f0f921"
            ]
           ]
          },
          "colorway": [
           "#636efa",
           "#EF553B",
           "#00cc96",
           "#ab63fa",
           "#FFA15A",
           "#19d3f3",
           "#FF6692",
           "#B6E880",
           "#FF97FF",
           "#FECB52"
          ],
          "font": {
           "color": "#2a3f5f"
          },
          "geo": {
           "bgcolor": "white",
           "lakecolor": "white",
           "landcolor": "#E5ECF6",
           "showlakes": true,
           "showland": true,
           "subunitcolor": "white"
          },
          "hoverlabel": {
           "align": "left"
          },
          "hovermode": "closest",
          "mapbox": {
           "style": "light"
          },
          "paper_bgcolor": "white",
          "plot_bgcolor": "#E5ECF6",
          "polar": {
           "angularaxis": {
            "gridcolor": "white",
            "linecolor": "white",
            "ticks": ""
           },
           "bgcolor": "#E5ECF6",
           "radialaxis": {
            "gridcolor": "white",
            "linecolor": "white",
            "ticks": ""
           }
          },
          "scene": {
           "xaxis": {
            "backgroundcolor": "#E5ECF6",
            "gridcolor": "white",
            "gridwidth": 2,
            "linecolor": "white",
            "showbackground": true,
            "ticks": "",
            "zerolinecolor": "white"
           },
           "yaxis": {
            "backgroundcolor": "#E5ECF6",
            "gridcolor": "white",
            "gridwidth": 2,
            "linecolor": "white",
            "showbackground": true,
            "ticks": "",
            "zerolinecolor": "white"
           },
           "zaxis": {
            "backgroundcolor": "#E5ECF6",
            "gridcolor": "white",
            "gridwidth": 2,
            "linecolor": "white",
            "showbackground": true,
            "ticks": "",
            "zerolinecolor": "white"
           }
          },
          "shapedefaults": {
           "line": {
            "color": "#2a3f5f"
           }
          },
          "ternary": {
           "aaxis": {
            "gridcolor": "white",
            "linecolor": "white",
            "ticks": ""
           },
           "baxis": {
            "gridcolor": "white",
            "linecolor": "white",
            "ticks": ""
           },
           "bgcolor": "#E5ECF6",
           "caxis": {
            "gridcolor": "white",
            "linecolor": "white",
            "ticks": ""
           }
          },
          "title": {
           "x": 0.05
          },
          "xaxis": {
           "automargin": true,
           "gridcolor": "white",
           "linecolor": "white",
           "ticks": "",
           "title": {
            "standoff": 15
           },
           "zerolinecolor": "white",
           "zerolinewidth": 2
          },
          "yaxis": {
           "automargin": true,
           "gridcolor": "white",
           "linecolor": "white",
           "ticks": "",
           "title": {
            "standoff": 15
           },
           "zerolinecolor": "white",
           "zerolinewidth": 2
          }
         }
        },
        "title": {
         "font": {
          "color": "#4D5663"
         }
        },
        "xaxis": {
         "gridcolor": "#E1E5ED",
         "showgrid": true,
         "tickfont": {
          "color": "#4D5663"
         },
         "title": {
          "font": {
           "color": "#4D5663"
          },
          "text": ""
         },
         "zerolinecolor": "#E1E5ED"
        },
        "yaxis": {
         "gridcolor": "#E1E5ED",
         "showgrid": true,
         "tickfont": {
          "color": "#4D5663"
         },
         "title": {
          "font": {
           "color": "#4D5663"
          },
          "text": ""
         },
         "zerolinecolor": "#E1E5ED"
        }
       }
      },
      "text/html": [
       "<div>\n",
       "        \n",
       "        \n",
       "            <div id=\"f29d31b5-288b-42ea-bfea-7adbe456523e\" class=\"plotly-graph-div\" style=\"height:525px; width:100%;\"></div>\n",
       "            <script type=\"text/javascript\">\n",
       "                require([\"plotly\"], function(Plotly) {\n",
       "                    window.PLOTLYENV=window.PLOTLYENV || {};\n",
       "                    window.PLOTLYENV.BASE_URL='https://plot.ly';\n",
       "                    \n",
       "                if (document.getElementById(\"f29d31b5-288b-42ea-bfea-7adbe456523e\")) {\n",
       "                    Plotly.newPlot(\n",
       "                        'f29d31b5-288b-42ea-bfea-7adbe456523e',\n",
       "                        [{\"colorscale\": [[0.0, \"rgb(255, 153, 51)\"], [0.1111111111111111, \"rgb(55, 128, 191)\"], [0.2222222222222222, \"rgb(50, 171, 96)\"], [0.3333333333333333, \"rgb(128, 0, 128)\"], [0.4444444444444444, \"rgb(219, 64, 82)\"], [0.5555555555555556, \"rgb(0, 128, 128)\"], [0.6666666666666666, \"rgb(255, 255, 51)\"], [0.7777777777777778, \"rgb(128, 128, 0)\"], [0.8888888888888888, \"rgb(251, 128, 114)\"], [1.0, \"rgb(128, 177, 211)\"]], \"type\": \"surface\", \"x\": [0, 1, 2, 3, 4], \"y\": [\"x\", \"y\", \"z\"], \"z\": [[1, 2, 3, 4, 5], [10, 20, 30, 20, 10], [500, 400, 300, 200, 100]]}],\n",
       "                        {\"legend\": {\"bgcolor\": \"#F5F6F9\", \"font\": {\"color\": \"#4D5663\"}}, \"paper_bgcolor\": \"#F5F6F9\", \"plot_bgcolor\": \"#F5F6F9\", \"template\": {\"data\": {\"bar\": [{\"error_x\": {\"color\": \"#2a3f5f\"}, \"error_y\": {\"color\": \"#2a3f5f\"}, \"marker\": {\"line\": {\"color\": \"#E5ECF6\", \"width\": 0.5}}, \"type\": \"bar\"}], \"barpolar\": [{\"marker\": {\"line\": {\"color\": \"#E5ECF6\", \"width\": 0.5}}, \"type\": \"barpolar\"}], \"carpet\": [{\"aaxis\": {\"endlinecolor\": \"#2a3f5f\", \"gridcolor\": \"white\", \"linecolor\": \"white\", \"minorgridcolor\": \"white\", \"startlinecolor\": \"#2a3f5f\"}, \"baxis\": {\"endlinecolor\": \"#2a3f5f\", \"gridcolor\": \"white\", \"linecolor\": \"white\", \"minorgridcolor\": \"white\", \"startlinecolor\": \"#2a3f5f\"}, \"type\": \"carpet\"}], \"choropleth\": [{\"colorbar\": {\"outlinewidth\": 0, \"ticks\": \"\"}, \"type\": \"choropleth\"}], \"contour\": [{\"colorbar\": {\"outlinewidth\": 0, \"ticks\": \"\"}, \"colorscale\": [[0.0, \"#0d0887\"], [0.1111111111111111, \"#46039f\"], [0.2222222222222222, \"#7201a8\"], [0.3333333333333333, \"#9c179e\"], [0.4444444444444444, \"#bd3786\"], [0.5555555555555556, \"#d8576b\"], [0.6666666666666666, \"#ed7953\"], [0.7777777777777778, \"#fb9f3a\"], [0.8888888888888888, \"#fdca26\"], [1.0, \"#f0f921\"]], \"type\": \"contour\"}], \"contourcarpet\": [{\"colorbar\": {\"outlinewidth\": 0, \"ticks\": \"\"}, \"type\": \"contourcarpet\"}], \"heatmap\": [{\"colorbar\": {\"outlinewidth\": 0, \"ticks\": \"\"}, \"colorscale\": [[0.0, \"#0d0887\"], [0.1111111111111111, \"#46039f\"], [0.2222222222222222, \"#7201a8\"], [0.3333333333333333, \"#9c179e\"], [0.4444444444444444, \"#bd3786\"], [0.5555555555555556, \"#d8576b\"], [0.6666666666666666, \"#ed7953\"], [0.7777777777777778, \"#fb9f3a\"], [0.8888888888888888, \"#fdca26\"], [1.0, \"#f0f921\"]], \"type\": \"heatmap\"}], \"heatmapgl\": [{\"colorbar\": {\"outlinewidth\": 0, \"ticks\": \"\"}, \"colorscale\": [[0.0, \"#0d0887\"], [0.1111111111111111, \"#46039f\"], [0.2222222222222222, \"#7201a8\"], [0.3333333333333333, \"#9c179e\"], [0.4444444444444444, \"#bd3786\"], [0.5555555555555556, \"#d8576b\"], [0.6666666666666666, \"#ed7953\"], [0.7777777777777778, \"#fb9f3a\"], [0.8888888888888888, \"#fdca26\"], [1.0, \"#f0f921\"]], \"type\": \"heatmapgl\"}], \"histogram\": [{\"marker\": {\"colorbar\": {\"outlinewidth\": 0, \"ticks\": \"\"}}, \"type\": \"histogram\"}], \"histogram2d\": [{\"colorbar\": {\"outlinewidth\": 0, \"ticks\": \"\"}, \"colorscale\": [[0.0, \"#0d0887\"], [0.1111111111111111, \"#46039f\"], [0.2222222222222222, \"#7201a8\"], [0.3333333333333333, \"#9c179e\"], [0.4444444444444444, \"#bd3786\"], [0.5555555555555556, \"#d8576b\"], [0.6666666666666666, \"#ed7953\"], [0.7777777777777778, \"#fb9f3a\"], [0.8888888888888888, \"#fdca26\"], [1.0, \"#f0f921\"]], \"type\": \"histogram2d\"}], \"histogram2dcontour\": [{\"colorbar\": {\"outlinewidth\": 0, \"ticks\": \"\"}, \"colorscale\": [[0.0, \"#0d0887\"], [0.1111111111111111, \"#46039f\"], [0.2222222222222222, \"#7201a8\"], [0.3333333333333333, \"#9c179e\"], [0.4444444444444444, \"#bd3786\"], [0.5555555555555556, \"#d8576b\"], [0.6666666666666666, \"#ed7953\"], [0.7777777777777778, \"#fb9f3a\"], [0.8888888888888888, \"#fdca26\"], [1.0, \"#f0f921\"]], \"type\": \"histogram2dcontour\"}], \"mesh3d\": [{\"colorbar\": {\"outlinewidth\": 0, \"ticks\": \"\"}, \"type\": \"mesh3d\"}], \"parcoords\": [{\"line\": {\"colorbar\": {\"outlinewidth\": 0, \"ticks\": \"\"}}, \"type\": \"parcoords\"}], \"pie\": [{\"automargin\": true, \"type\": \"pie\"}], \"scatter\": [{\"marker\": {\"colorbar\": {\"outlinewidth\": 0, \"ticks\": \"\"}}, \"type\": \"scatter\"}], \"scatter3d\": [{\"line\": {\"colorbar\": {\"outlinewidth\": 0, \"ticks\": \"\"}}, \"marker\": {\"colorbar\": {\"outlinewidth\": 0, \"ticks\": \"\"}}, \"type\": \"scatter3d\"}], \"scattercarpet\": [{\"marker\": {\"colorbar\": {\"outlinewidth\": 0, \"ticks\": \"\"}}, \"type\": \"scattercarpet\"}], \"scattergeo\": [{\"marker\": {\"colorbar\": {\"outlinewidth\": 0, \"ticks\": \"\"}}, \"type\": \"scattergeo\"}], \"scattergl\": [{\"marker\": {\"colorbar\": {\"outlinewidth\": 0, \"ticks\": \"\"}}, \"type\": \"scattergl\"}], \"scattermapbox\": [{\"marker\": {\"colorbar\": {\"outlinewidth\": 0, \"ticks\": \"\"}}, \"type\": \"scattermapbox\"}], \"scatterpolar\": [{\"marker\": {\"colorbar\": {\"outlinewidth\": 0, \"ticks\": \"\"}}, \"type\": \"scatterpolar\"}], \"scatterpolargl\": [{\"marker\": {\"colorbar\": {\"outlinewidth\": 0, \"ticks\": \"\"}}, \"type\": \"scatterpolargl\"}], \"scatterternary\": [{\"marker\": {\"colorbar\": {\"outlinewidth\": 0, \"ticks\": \"\"}}, \"type\": \"scatterternary\"}], \"surface\": [{\"colorbar\": {\"outlinewidth\": 0, \"ticks\": \"\"}, \"colorscale\": [[0.0, \"#0d0887\"], [0.1111111111111111, \"#46039f\"], [0.2222222222222222, \"#7201a8\"], [0.3333333333333333, \"#9c179e\"], [0.4444444444444444, \"#bd3786\"], [0.5555555555555556, \"#d8576b\"], [0.6666666666666666, \"#ed7953\"], [0.7777777777777778, \"#fb9f3a\"], [0.8888888888888888, \"#fdca26\"], [1.0, \"#f0f921\"]], \"type\": \"surface\"}], \"table\": [{\"cells\": {\"fill\": {\"color\": \"#EBF0F8\"}, \"line\": {\"color\": \"white\"}}, \"header\": {\"fill\": {\"color\": \"#C8D4E3\"}, \"line\": {\"color\": \"white\"}}, \"type\": \"table\"}]}, \"layout\": {\"annotationdefaults\": {\"arrowcolor\": \"#2a3f5f\", \"arrowhead\": 0, \"arrowwidth\": 1}, \"coloraxis\": {\"colorbar\": {\"outlinewidth\": 0, \"ticks\": \"\"}}, \"colorscale\": {\"diverging\": [[0, \"#8e0152\"], [0.1, \"#c51b7d\"], [0.2, \"#de77ae\"], [0.3, \"#f1b6da\"], [0.4, \"#fde0ef\"], [0.5, \"#f7f7f7\"], [0.6, \"#e6f5d0\"], [0.7, \"#b8e186\"], [0.8, \"#7fbc41\"], [0.9, \"#4d9221\"], [1, \"#276419\"]], \"sequential\": [[0.0, \"#0d0887\"], [0.1111111111111111, \"#46039f\"], [0.2222222222222222, \"#7201a8\"], [0.3333333333333333, \"#9c179e\"], [0.4444444444444444, \"#bd3786\"], [0.5555555555555556, \"#d8576b\"], [0.6666666666666666, \"#ed7953\"], [0.7777777777777778, \"#fb9f3a\"], [0.8888888888888888, \"#fdca26\"], [1.0, \"#f0f921\"]], \"sequentialminus\": [[0.0, \"#0d0887\"], [0.1111111111111111, \"#46039f\"], [0.2222222222222222, \"#7201a8\"], [0.3333333333333333, \"#9c179e\"], [0.4444444444444444, \"#bd3786\"], [0.5555555555555556, \"#d8576b\"], [0.6666666666666666, \"#ed7953\"], [0.7777777777777778, \"#fb9f3a\"], [0.8888888888888888, \"#fdca26\"], [1.0, \"#f0f921\"]]}, \"colorway\": [\"#636efa\", \"#EF553B\", \"#00cc96\", \"#ab63fa\", \"#FFA15A\", \"#19d3f3\", \"#FF6692\", \"#B6E880\", \"#FF97FF\", \"#FECB52\"], \"font\": {\"color\": \"#2a3f5f\"}, \"geo\": {\"bgcolor\": \"white\", \"lakecolor\": \"white\", \"landcolor\": \"#E5ECF6\", \"showlakes\": true, \"showland\": true, \"subunitcolor\": \"white\"}, \"hoverlabel\": {\"align\": \"left\"}, \"hovermode\": \"closest\", \"mapbox\": {\"style\": \"light\"}, \"paper_bgcolor\": \"white\", \"plot_bgcolor\": \"#E5ECF6\", \"polar\": {\"angularaxis\": {\"gridcolor\": \"white\", \"linecolor\": \"white\", \"ticks\": \"\"}, \"bgcolor\": \"#E5ECF6\", \"radialaxis\": {\"gridcolor\": \"white\", \"linecolor\": \"white\", \"ticks\": \"\"}}, \"scene\": {\"xaxis\": {\"backgroundcolor\": \"#E5ECF6\", \"gridcolor\": \"white\", \"gridwidth\": 2, \"linecolor\": \"white\", \"showbackground\": true, \"ticks\": \"\", \"zerolinecolor\": \"white\"}, \"yaxis\": {\"backgroundcolor\": \"#E5ECF6\", \"gridcolor\": \"white\", \"gridwidth\": 2, \"linecolor\": \"white\", \"showbackground\": true, \"ticks\": \"\", \"zerolinecolor\": \"white\"}, \"zaxis\": {\"backgroundcolor\": \"#E5ECF6\", \"gridcolor\": \"white\", \"gridwidth\": 2, \"linecolor\": \"white\", \"showbackground\": true, \"ticks\": \"\", \"zerolinecolor\": \"white\"}}, \"shapedefaults\": {\"line\": {\"color\": \"#2a3f5f\"}}, \"ternary\": {\"aaxis\": {\"gridcolor\": \"white\", \"linecolor\": \"white\", \"ticks\": \"\"}, \"baxis\": {\"gridcolor\": \"white\", \"linecolor\": \"white\", \"ticks\": \"\"}, \"bgcolor\": \"#E5ECF6\", \"caxis\": {\"gridcolor\": \"white\", \"linecolor\": \"white\", \"ticks\": \"\"}}, \"title\": {\"x\": 0.05}, \"xaxis\": {\"automargin\": true, \"gridcolor\": \"white\", \"linecolor\": \"white\", \"ticks\": \"\", \"title\": {\"standoff\": 15}, \"zerolinecolor\": \"white\", \"zerolinewidth\": 2}, \"yaxis\": {\"automargin\": true, \"gridcolor\": \"white\", \"linecolor\": \"white\", \"ticks\": \"\", \"title\": {\"standoff\": 15}, \"zerolinecolor\": \"white\", \"zerolinewidth\": 2}}}, \"title\": {\"font\": {\"color\": \"#4D5663\"}}, \"xaxis\": {\"gridcolor\": \"#E1E5ED\", \"showgrid\": true, \"tickfont\": {\"color\": \"#4D5663\"}, \"title\": {\"font\": {\"color\": \"#4D5663\"}, \"text\": \"\"}, \"zerolinecolor\": \"#E1E5ED\"}, \"yaxis\": {\"gridcolor\": \"#E1E5ED\", \"showgrid\": true, \"tickfont\": {\"color\": \"#4D5663\"}, \"title\": {\"font\": {\"color\": \"#4D5663\"}, \"text\": \"\"}, \"zerolinecolor\": \"#E1E5ED\"}},\n",
       "                        {\"showLink\": true, \"linkText\": \"Export to plot.ly\", \"plotlyServerURL\": \"https://plot.ly\", \"responsive\": true}\n",
       "                    ).then(function(){\n",
       "                            \n",
       "var gd = document.getElementById('f29d31b5-288b-42ea-bfea-7adbe456523e');\n",
       "var x = new MutationObserver(function (mutations, observer) {{\n",
       "        var display = window.getComputedStyle(gd).display;\n",
       "        if (!display || display === 'none') {{\n",
       "            console.log([gd, 'removed!']);\n",
       "            Plotly.purge(gd);\n",
       "            observer.disconnect();\n",
       "        }}\n",
       "}});\n",
       "\n",
       "// Listen for the removal of the full notebook cells\n",
       "var notebookContainer = gd.closest('#notebook-container');\n",
       "if (notebookContainer) {{\n",
       "    x.observe(notebookContainer, {childList: true});\n",
       "}}\n",
       "\n",
       "// Listen for the clearing of the current output cell\n",
       "var outputEl = gd.closest('.output');\n",
       "if (outputEl) {{\n",
       "    x.observe(outputEl, {childList: true});\n",
       "}}\n",
       "\n",
       "                        })\n",
       "                };\n",
       "                });\n",
       "            </script>\n",
       "        </div>"
      ]
     },
     "metadata": {},
     "output_type": "display_data"
    }
   ],
   "source": [
    "df3.iplot('surface')"
   ]
  },
  {
   "cell_type": "code",
   "execution_count": 22,
   "metadata": {},
   "outputs": [],
   "source": [
    "df4 = pd.DataFrame({'x':[1,2,3,4,5],'y':[10,20,30,20,10],'z':[5,4,3,2,1]})"
   ]
  },
  {
   "cell_type": "code",
   "execution_count": 23,
   "metadata": {},
   "outputs": [
    {
     "data": {
      "application/vnd.plotly.v1+json": {
       "config": {
        "linkText": "Export to plot.ly",
        "plotlyServerURL": "https://plot.ly",
        "showLink": true
       },
       "data": [
        {
         "colorscale": [
          [
           0,
           "rgb(165,0,38)"
          ],
          [
           0.1,
           "rgb(215,48,39)"
          ],
          [
           0.2,
           "rgb(244,109,67)"
          ],
          [
           0.3,
           "rgb(253,174,97)"
          ],
          [
           0.4,
           "rgb(254,224,144)"
          ],
          [
           0.5,
           "rgb(255,255,191)"
          ],
          [
           0.6,
           "rgb(224,243,248)"
          ],
          [
           0.7,
           "rgb(171,217,233)"
          ],
          [
           0.8,
           "rgb(116,173,209)"
          ],
          [
           0.9,
           "rgb(69,117,180)"
          ],
          [
           1,
           "rgb(49,54,149)"
          ]
         ],
         "type": "surface",
         "x": [
          0,
          1,
          2,
          3,
          4
         ],
         "y": [
          "x",
          "y",
          "z"
         ],
         "z": [
          [
           1,
           2,
           3,
           4,
           5
          ],
          [
           10,
           20,
           30,
           20,
           10
          ],
          [
           5,
           4,
           3,
           2,
           1
          ]
         ]
        }
       ],
       "layout": {
        "legend": {
         "bgcolor": "#F5F6F9",
         "font": {
          "color": "#4D5663"
         }
        },
        "paper_bgcolor": "#F5F6F9",
        "plot_bgcolor": "#F5F6F9",
        "template": {
         "data": {
          "bar": [
           {
            "error_x": {
             "color": "#2a3f5f"
            },
            "error_y": {
             "color": "#2a3f5f"
            },
            "marker": {
             "line": {
              "color": "#E5ECF6",
              "width": 0.5
             }
            },
            "type": "bar"
           }
          ],
          "barpolar": [
           {
            "marker": {
             "line": {
              "color": "#E5ECF6",
              "width": 0.5
             }
            },
            "type": "barpolar"
           }
          ],
          "carpet": [
           {
            "aaxis": {
             "endlinecolor": "#2a3f5f",
             "gridcolor": "white",
             "linecolor": "white",
             "minorgridcolor": "white",
             "startlinecolor": "#2a3f5f"
            },
            "baxis": {
             "endlinecolor": "#2a3f5f",
             "gridcolor": "white",
             "linecolor": "white",
             "minorgridcolor": "white",
             "startlinecolor": "#2a3f5f"
            },
            "type": "carpet"
           }
          ],
          "choropleth": [
           {
            "colorbar": {
             "outlinewidth": 0,
             "ticks": ""
            },
            "type": "choropleth"
           }
          ],
          "contour": [
           {
            "colorbar": {
             "outlinewidth": 0,
             "ticks": ""
            },
            "colorscale": [
             [
              0,
              "#0d0887"
             ],
             [
              0.1111111111111111,
              "#46039f"
             ],
             [
              0.2222222222222222,
              "#7201a8"
             ],
             [
              0.3333333333333333,
              "#9c179e"
             ],
             [
              0.4444444444444444,
              "#bd3786"
             ],
             [
              0.5555555555555556,
              "#d8576b"
             ],
             [
              0.6666666666666666,
              "#ed7953"
             ],
             [
              0.7777777777777778,
              "#fb9f3a"
             ],
             [
              0.8888888888888888,
              "#fdca26"
             ],
             [
              1,
              "#f0f921"
             ]
            ],
            "type": "contour"
           }
          ],
          "contourcarpet": [
           {
            "colorbar": {
             "outlinewidth": 0,
             "ticks": ""
            },
            "type": "contourcarpet"
           }
          ],
          "heatmap": [
           {
            "colorbar": {
             "outlinewidth": 0,
             "ticks": ""
            },
            "colorscale": [
             [
              0,
              "#0d0887"
             ],
             [
              0.1111111111111111,
              "#46039f"
             ],
             [
              0.2222222222222222,
              "#7201a8"
             ],
             [
              0.3333333333333333,
              "#9c179e"
             ],
             [
              0.4444444444444444,
              "#bd3786"
             ],
             [
              0.5555555555555556,
              "#d8576b"
             ],
             [
              0.6666666666666666,
              "#ed7953"
             ],
             [
              0.7777777777777778,
              "#fb9f3a"
             ],
             [
              0.8888888888888888,
              "#fdca26"
             ],
             [
              1,
              "#f0f921"
             ]
            ],
            "type": "heatmap"
           }
          ],
          "heatmapgl": [
           {
            "colorbar": {
             "outlinewidth": 0,
             "ticks": ""
            },
            "colorscale": [
             [
              0,
              "#0d0887"
             ],
             [
              0.1111111111111111,
              "#46039f"
             ],
             [
              0.2222222222222222,
              "#7201a8"
             ],
             [
              0.3333333333333333,
              "#9c179e"
             ],
             [
              0.4444444444444444,
              "#bd3786"
             ],
             [
              0.5555555555555556,
              "#d8576b"
             ],
             [
              0.6666666666666666,
              "#ed7953"
             ],
             [
              0.7777777777777778,
              "#fb9f3a"
             ],
             [
              0.8888888888888888,
              "#fdca26"
             ],
             [
              1,
              "#f0f921"
             ]
            ],
            "type": "heatmapgl"
           }
          ],
          "histogram": [
           {
            "marker": {
             "colorbar": {
              "outlinewidth": 0,
              "ticks": ""
             }
            },
            "type": "histogram"
           }
          ],
          "histogram2d": [
           {
            "colorbar": {
             "outlinewidth": 0,
             "ticks": ""
            },
            "colorscale": [
             [
              0,
              "#0d0887"
             ],
             [
              0.1111111111111111,
              "#46039f"
             ],
             [
              0.2222222222222222,
              "#7201a8"
             ],
             [
              0.3333333333333333,
              "#9c179e"
             ],
             [
              0.4444444444444444,
              "#bd3786"
             ],
             [
              0.5555555555555556,
              "#d8576b"
             ],
             [
              0.6666666666666666,
              "#ed7953"
             ],
             [
              0.7777777777777778,
              "#fb9f3a"
             ],
             [
              0.8888888888888888,
              "#fdca26"
             ],
             [
              1,
              "#f0f921"
             ]
            ],
            "type": "histogram2d"
           }
          ],
          "histogram2dcontour": [
           {
            "colorbar": {
             "outlinewidth": 0,
             "ticks": ""
            },
            "colorscale": [
             [
              0,
              "#0d0887"
             ],
             [
              0.1111111111111111,
              "#46039f"
             ],
             [
              0.2222222222222222,
              "#7201a8"
             ],
             [
              0.3333333333333333,
              "#9c179e"
             ],
             [
              0.4444444444444444,
              "#bd3786"
             ],
             [
              0.5555555555555556,
              "#d8576b"
             ],
             [
              0.6666666666666666,
              "#ed7953"
             ],
             [
              0.7777777777777778,
              "#fb9f3a"
             ],
             [
              0.8888888888888888,
              "#fdca26"
             ],
             [
              1,
              "#f0f921"
             ]
            ],
            "type": "histogram2dcontour"
           }
          ],
          "mesh3d": [
           {
            "colorbar": {
             "outlinewidth": 0,
             "ticks": ""
            },
            "type": "mesh3d"
           }
          ],
          "parcoords": [
           {
            "line": {
             "colorbar": {
              "outlinewidth": 0,
              "ticks": ""
             }
            },
            "type": "parcoords"
           }
          ],
          "pie": [
           {
            "automargin": true,
            "type": "pie"
           }
          ],
          "scatter": [
           {
            "marker": {
             "colorbar": {
              "outlinewidth": 0,
              "ticks": ""
             }
            },
            "type": "scatter"
           }
          ],
          "scatter3d": [
           {
            "line": {
             "colorbar": {
              "outlinewidth": 0,
              "ticks": ""
             }
            },
            "marker": {
             "colorbar": {
              "outlinewidth": 0,
              "ticks": ""
             }
            },
            "type": "scatter3d"
           }
          ],
          "scattercarpet": [
           {
            "marker": {
             "colorbar": {
              "outlinewidth": 0,
              "ticks": ""
             }
            },
            "type": "scattercarpet"
           }
          ],
          "scattergeo": [
           {
            "marker": {
             "colorbar": {
              "outlinewidth": 0,
              "ticks": ""
             }
            },
            "type": "scattergeo"
           }
          ],
          "scattergl": [
           {
            "marker": {
             "colorbar": {
              "outlinewidth": 0,
              "ticks": ""
             }
            },
            "type": "scattergl"
           }
          ],
          "scattermapbox": [
           {
            "marker": {
             "colorbar": {
              "outlinewidth": 0,
              "ticks": ""
             }
            },
            "type": "scattermapbox"
           }
          ],
          "scatterpolar": [
           {
            "marker": {
             "colorbar": {
              "outlinewidth": 0,
              "ticks": ""
             }
            },
            "type": "scatterpolar"
           }
          ],
          "scatterpolargl": [
           {
            "marker": {
             "colorbar": {
              "outlinewidth": 0,
              "ticks": ""
             }
            },
            "type": "scatterpolargl"
           }
          ],
          "scatterternary": [
           {
            "marker": {
             "colorbar": {
              "outlinewidth": 0,
              "ticks": ""
             }
            },
            "type": "scatterternary"
           }
          ],
          "surface": [
           {
            "colorbar": {
             "outlinewidth": 0,
             "ticks": ""
            },
            "colorscale": [
             [
              0,
              "#0d0887"
             ],
             [
              0.1111111111111111,
              "#46039f"
             ],
             [
              0.2222222222222222,
              "#7201a8"
             ],
             [
              0.3333333333333333,
              "#9c179e"
             ],
             [
              0.4444444444444444,
              "#bd3786"
             ],
             [
              0.5555555555555556,
              "#d8576b"
             ],
             [
              0.6666666666666666,
              "#ed7953"
             ],
             [
              0.7777777777777778,
              "#fb9f3a"
             ],
             [
              0.8888888888888888,
              "#fdca26"
             ],
             [
              1,
              "#f0f921"
             ]
            ],
            "type": "surface"
           }
          ],
          "table": [
           {
            "cells": {
             "fill": {
              "color": "#EBF0F8"
             },
             "line": {
              "color": "white"
             }
            },
            "header": {
             "fill": {
              "color": "#C8D4E3"
             },
             "line": {
              "color": "white"
             }
            },
            "type": "table"
           }
          ]
         },
         "layout": {
          "annotationdefaults": {
           "arrowcolor": "#2a3f5f",
           "arrowhead": 0,
           "arrowwidth": 1
          },
          "coloraxis": {
           "colorbar": {
            "outlinewidth": 0,
            "ticks": ""
           }
          },
          "colorscale": {
           "diverging": [
            [
             0,
             "#8e0152"
            ],
            [
             0.1,
             "#c51b7d"
            ],
            [
             0.2,
             "#de77ae"
            ],
            [
             0.3,
             "#f1b6da"
            ],
            [
             0.4,
             "#fde0ef"
            ],
            [
             0.5,
             "#f7f7f7"
            ],
            [
             0.6,
             "#e6f5d0"
            ],
            [
             0.7,
             "#b8e186"
            ],
            [
             0.8,
             "#7fbc41"
            ],
            [
             0.9,
             "#4d9221"
            ],
            [
             1,
             "#276419"
            ]
           ],
           "sequential": [
            [
             0,
             "#0d0887"
            ],
            [
             0.1111111111111111,
             "#46039f"
            ],
            [
             0.2222222222222222,
             "#7201a8"
            ],
            [
             0.3333333333333333,
             "#9c179e"
            ],
            [
             0.4444444444444444,
             "#bd3786"
            ],
            [
             0.5555555555555556,
             "#d8576b"
            ],
            [
             0.6666666666666666,
             "#ed7953"
            ],
            [
             0.7777777777777778,
             "#fb9f3a"
            ],
            [
             0.8888888888888888,
             "#fdca26"
            ],
            [
             1,
             "#f0f921"
            ]
           ],
           "sequentialminus": [
            [
             0,
             "#0d0887"
            ],
            [
             0.1111111111111111,
             "#46039f"
            ],
            [
             0.2222222222222222,
             "#7201a8"
            ],
            [
             0.3333333333333333,
             "#9c179e"
            ],
            [
             0.4444444444444444,
             "#bd3786"
            ],
            [
             0.5555555555555556,
             "#d8576b"
            ],
            [
             0.6666666666666666,
             "#ed7953"
            ],
            [
             0.7777777777777778,
             "#fb9f3a"
            ],
            [
             0.8888888888888888,
             "#fdca26"
            ],
            [
             1,
             "#f0f921"
            ]
           ]
          },
          "colorway": [
           "#636efa",
           "#EF553B",
           "#00cc96",
           "#ab63fa",
           "#FFA15A",
           "#19d3f3",
           "#FF6692",
           "#B6E880",
           "#FF97FF",
           "#FECB52"
          ],
          "font": {
           "color": "#2a3f5f"
          },
          "geo": {
           "bgcolor": "white",
           "lakecolor": "white",
           "landcolor": "#E5ECF6",
           "showlakes": true,
           "showland": true,
           "subunitcolor": "white"
          },
          "hoverlabel": {
           "align": "left"
          },
          "hovermode": "closest",
          "mapbox": {
           "style": "light"
          },
          "paper_bgcolor": "white",
          "plot_bgcolor": "#E5ECF6",
          "polar": {
           "angularaxis": {
            "gridcolor": "white",
            "linecolor": "white",
            "ticks": ""
           },
           "bgcolor": "#E5ECF6",
           "radialaxis": {
            "gridcolor": "white",
            "linecolor": "white",
            "ticks": ""
           }
          },
          "scene": {
           "xaxis": {
            "backgroundcolor": "#E5ECF6",
            "gridcolor": "white",
            "gridwidth": 2,
            "linecolor": "white",
            "showbackground": true,
            "ticks": "",
            "zerolinecolor": "white"
           },
           "yaxis": {
            "backgroundcolor": "#E5ECF6",
            "gridcolor": "white",
            "gridwidth": 2,
            "linecolor": "white",
            "showbackground": true,
            "ticks": "",
            "zerolinecolor": "white"
           },
           "zaxis": {
            "backgroundcolor": "#E5ECF6",
            "gridcolor": "white",
            "gridwidth": 2,
            "linecolor": "white",
            "showbackground": true,
            "ticks": "",
            "zerolinecolor": "white"
           }
          },
          "shapedefaults": {
           "line": {
            "color": "#2a3f5f"
           }
          },
          "ternary": {
           "aaxis": {
            "gridcolor": "white",
            "linecolor": "white",
            "ticks": ""
           },
           "baxis": {
            "gridcolor": "white",
            "linecolor": "white",
            "ticks": ""
           },
           "bgcolor": "#E5ECF6",
           "caxis": {
            "gridcolor": "white",
            "linecolor": "white",
            "ticks": ""
           }
          },
          "title": {
           "x": 0.05
          },
          "xaxis": {
           "automargin": true,
           "gridcolor": "white",
           "linecolor": "white",
           "ticks": "",
           "title": {
            "standoff": 15
           },
           "zerolinecolor": "white",
           "zerolinewidth": 2
          },
          "yaxis": {
           "automargin": true,
           "gridcolor": "white",
           "linecolor": "white",
           "ticks": "",
           "title": {
            "standoff": 15
           },
           "zerolinecolor": "white",
           "zerolinewidth": 2
          }
         }
        },
        "title": {
         "font": {
          "color": "#4D5663"
         }
        },
        "xaxis": {
         "gridcolor": "#E1E5ED",
         "showgrid": true,
         "tickfont": {
          "color": "#4D5663"
         },
         "title": {
          "font": {
           "color": "#4D5663"
          },
          "text": ""
         },
         "zerolinecolor": "#E1E5ED"
        },
        "yaxis": {
         "gridcolor": "#E1E5ED",
         "showgrid": true,
         "tickfont": {
          "color": "#4D5663"
         },
         "title": {
          "font": {
           "color": "#4D5663"
          },
          "text": ""
         },
         "zerolinecolor": "#E1E5ED"
        }
       }
      },
      "text/html": [
       "<div>\n",
       "        \n",
       "        \n",
       "            <div id=\"6972b9ce-c019-4695-ad35-a25e3d59d0c1\" class=\"plotly-graph-div\" style=\"height:525px; width:100%;\"></div>\n",
       "            <script type=\"text/javascript\">\n",
       "                require([\"plotly\"], function(Plotly) {\n",
       "                    window.PLOTLYENV=window.PLOTLYENV || {};\n",
       "                    window.PLOTLYENV.BASE_URL='https://plot.ly';\n",
       "                    \n",
       "                if (document.getElementById(\"6972b9ce-c019-4695-ad35-a25e3d59d0c1\")) {\n",
       "                    Plotly.newPlot(\n",
       "                        '6972b9ce-c019-4695-ad35-a25e3d59d0c1',\n",
       "                        [{\"colorscale\": [[0.0, \"rgb(165,0,38)\"], [0.1, \"rgb(215,48,39)\"], [0.2, \"rgb(244,109,67)\"], [0.3, \"rgb(253,174,97)\"], [0.4, \"rgb(254,224,144)\"], [0.5, \"rgb(255,255,191)\"], [0.6, \"rgb(224,243,248)\"], [0.7, \"rgb(171,217,233)\"], [0.8, \"rgb(116,173,209)\"], [0.9, \"rgb(69,117,180)\"], [1.0, \"rgb(49,54,149)\"]], \"type\": \"surface\", \"x\": [0, 1, 2, 3, 4], \"y\": [\"x\", \"y\", \"z\"], \"z\": [[1, 2, 3, 4, 5], [10, 20, 30, 20, 10], [5, 4, 3, 2, 1]]}],\n",
       "                        {\"legend\": {\"bgcolor\": \"#F5F6F9\", \"font\": {\"color\": \"#4D5663\"}}, \"paper_bgcolor\": \"#F5F6F9\", \"plot_bgcolor\": \"#F5F6F9\", \"template\": {\"data\": {\"bar\": [{\"error_x\": {\"color\": \"#2a3f5f\"}, \"error_y\": {\"color\": \"#2a3f5f\"}, \"marker\": {\"line\": {\"color\": \"#E5ECF6\", \"width\": 0.5}}, \"type\": \"bar\"}], \"barpolar\": [{\"marker\": {\"line\": {\"color\": \"#E5ECF6\", \"width\": 0.5}}, \"type\": \"barpolar\"}], \"carpet\": [{\"aaxis\": {\"endlinecolor\": \"#2a3f5f\", \"gridcolor\": \"white\", \"linecolor\": \"white\", \"minorgridcolor\": \"white\", \"startlinecolor\": \"#2a3f5f\"}, \"baxis\": {\"endlinecolor\": \"#2a3f5f\", \"gridcolor\": \"white\", \"linecolor\": \"white\", \"minorgridcolor\": \"white\", \"startlinecolor\": \"#2a3f5f\"}, \"type\": \"carpet\"}], \"choropleth\": [{\"colorbar\": {\"outlinewidth\": 0, \"ticks\": \"\"}, \"type\": \"choropleth\"}], \"contour\": [{\"colorbar\": {\"outlinewidth\": 0, \"ticks\": \"\"}, \"colorscale\": [[0.0, \"#0d0887\"], [0.1111111111111111, \"#46039f\"], [0.2222222222222222, \"#7201a8\"], [0.3333333333333333, \"#9c179e\"], [0.4444444444444444, \"#bd3786\"], [0.5555555555555556, \"#d8576b\"], [0.6666666666666666, \"#ed7953\"], [0.7777777777777778, \"#fb9f3a\"], [0.8888888888888888, \"#fdca26\"], [1.0, \"#f0f921\"]], \"type\": \"contour\"}], \"contourcarpet\": [{\"colorbar\": {\"outlinewidth\": 0, \"ticks\": \"\"}, \"type\": \"contourcarpet\"}], \"heatmap\": [{\"colorbar\": {\"outlinewidth\": 0, \"ticks\": \"\"}, \"colorscale\": [[0.0, \"#0d0887\"], [0.1111111111111111, \"#46039f\"], [0.2222222222222222, \"#7201a8\"], [0.3333333333333333, \"#9c179e\"], [0.4444444444444444, \"#bd3786\"], [0.5555555555555556, \"#d8576b\"], [0.6666666666666666, \"#ed7953\"], [0.7777777777777778, \"#fb9f3a\"], [0.8888888888888888, \"#fdca26\"], [1.0, \"#f0f921\"]], \"type\": \"heatmap\"}], \"heatmapgl\": [{\"colorbar\": {\"outlinewidth\": 0, \"ticks\": \"\"}, \"colorscale\": [[0.0, \"#0d0887\"], [0.1111111111111111, \"#46039f\"], [0.2222222222222222, \"#7201a8\"], [0.3333333333333333, \"#9c179e\"], [0.4444444444444444, \"#bd3786\"], [0.5555555555555556, \"#d8576b\"], [0.6666666666666666, \"#ed7953\"], [0.7777777777777778, \"#fb9f3a\"], [0.8888888888888888, \"#fdca26\"], [1.0, \"#f0f921\"]], \"type\": \"heatmapgl\"}], \"histogram\": [{\"marker\": {\"colorbar\": {\"outlinewidth\": 0, \"ticks\": \"\"}}, \"type\": \"histogram\"}], \"histogram2d\": [{\"colorbar\": {\"outlinewidth\": 0, \"ticks\": \"\"}, \"colorscale\": [[0.0, \"#0d0887\"], [0.1111111111111111, \"#46039f\"], [0.2222222222222222, \"#7201a8\"], [0.3333333333333333, \"#9c179e\"], [0.4444444444444444, \"#bd3786\"], [0.5555555555555556, \"#d8576b\"], [0.6666666666666666, \"#ed7953\"], [0.7777777777777778, \"#fb9f3a\"], [0.8888888888888888, \"#fdca26\"], [1.0, \"#f0f921\"]], \"type\": \"histogram2d\"}], \"histogram2dcontour\": [{\"colorbar\": {\"outlinewidth\": 0, \"ticks\": \"\"}, \"colorscale\": [[0.0, \"#0d0887\"], [0.1111111111111111, \"#46039f\"], [0.2222222222222222, \"#7201a8\"], [0.3333333333333333, \"#9c179e\"], [0.4444444444444444, \"#bd3786\"], [0.5555555555555556, \"#d8576b\"], [0.6666666666666666, \"#ed7953\"], [0.7777777777777778, \"#fb9f3a\"], [0.8888888888888888, \"#fdca26\"], [1.0, \"#f0f921\"]], \"type\": \"histogram2dcontour\"}], \"mesh3d\": [{\"colorbar\": {\"outlinewidth\": 0, \"ticks\": \"\"}, \"type\": \"mesh3d\"}], \"parcoords\": [{\"line\": {\"colorbar\": {\"outlinewidth\": 0, \"ticks\": \"\"}}, \"type\": \"parcoords\"}], \"pie\": [{\"automargin\": true, \"type\": \"pie\"}], \"scatter\": [{\"marker\": {\"colorbar\": {\"outlinewidth\": 0, \"ticks\": \"\"}}, \"type\": \"scatter\"}], \"scatter3d\": [{\"line\": {\"colorbar\": {\"outlinewidth\": 0, \"ticks\": \"\"}}, \"marker\": {\"colorbar\": {\"outlinewidth\": 0, \"ticks\": \"\"}}, \"type\": \"scatter3d\"}], \"scattercarpet\": [{\"marker\": {\"colorbar\": {\"outlinewidth\": 0, \"ticks\": \"\"}}, \"type\": \"scattercarpet\"}], \"scattergeo\": [{\"marker\": {\"colorbar\": {\"outlinewidth\": 0, \"ticks\": \"\"}}, \"type\": \"scattergeo\"}], \"scattergl\": [{\"marker\": {\"colorbar\": {\"outlinewidth\": 0, \"ticks\": \"\"}}, \"type\": \"scattergl\"}], \"scattermapbox\": [{\"marker\": {\"colorbar\": {\"outlinewidth\": 0, \"ticks\": \"\"}}, \"type\": \"scattermapbox\"}], \"scatterpolar\": [{\"marker\": {\"colorbar\": {\"outlinewidth\": 0, \"ticks\": \"\"}}, \"type\": \"scatterpolar\"}], \"scatterpolargl\": [{\"marker\": {\"colorbar\": {\"outlinewidth\": 0, \"ticks\": \"\"}}, \"type\": \"scatterpolargl\"}], \"scatterternary\": [{\"marker\": {\"colorbar\": {\"outlinewidth\": 0, \"ticks\": \"\"}}, \"type\": \"scatterternary\"}], \"surface\": [{\"colorbar\": {\"outlinewidth\": 0, \"ticks\": \"\"}, \"colorscale\": [[0.0, \"#0d0887\"], [0.1111111111111111, \"#46039f\"], [0.2222222222222222, \"#7201a8\"], [0.3333333333333333, \"#9c179e\"], [0.4444444444444444, \"#bd3786\"], [0.5555555555555556, \"#d8576b\"], [0.6666666666666666, \"#ed7953\"], [0.7777777777777778, \"#fb9f3a\"], [0.8888888888888888, \"#fdca26\"], [1.0, \"#f0f921\"]], \"type\": \"surface\"}], \"table\": [{\"cells\": {\"fill\": {\"color\": \"#EBF0F8\"}, \"line\": {\"color\": \"white\"}}, \"header\": {\"fill\": {\"color\": \"#C8D4E3\"}, \"line\": {\"color\": \"white\"}}, \"type\": \"table\"}]}, \"layout\": {\"annotationdefaults\": {\"arrowcolor\": \"#2a3f5f\", \"arrowhead\": 0, \"arrowwidth\": 1}, \"coloraxis\": {\"colorbar\": {\"outlinewidth\": 0, \"ticks\": \"\"}}, \"colorscale\": {\"diverging\": [[0, \"#8e0152\"], [0.1, \"#c51b7d\"], [0.2, \"#de77ae\"], [0.3, \"#f1b6da\"], [0.4, \"#fde0ef\"], [0.5, \"#f7f7f7\"], [0.6, \"#e6f5d0\"], [0.7, \"#b8e186\"], [0.8, \"#7fbc41\"], [0.9, \"#4d9221\"], [1, \"#276419\"]], \"sequential\": [[0.0, \"#0d0887\"], [0.1111111111111111, \"#46039f\"], [0.2222222222222222, \"#7201a8\"], [0.3333333333333333, \"#9c179e\"], [0.4444444444444444, \"#bd3786\"], [0.5555555555555556, \"#d8576b\"], [0.6666666666666666, \"#ed7953\"], [0.7777777777777778, \"#fb9f3a\"], [0.8888888888888888, \"#fdca26\"], [1.0, \"#f0f921\"]], \"sequentialminus\": [[0.0, \"#0d0887\"], [0.1111111111111111, \"#46039f\"], [0.2222222222222222, \"#7201a8\"], [0.3333333333333333, \"#9c179e\"], [0.4444444444444444, \"#bd3786\"], [0.5555555555555556, \"#d8576b\"], [0.6666666666666666, \"#ed7953\"], [0.7777777777777778, \"#fb9f3a\"], [0.8888888888888888, \"#fdca26\"], [1.0, \"#f0f921\"]]}, \"colorway\": [\"#636efa\", \"#EF553B\", \"#00cc96\", \"#ab63fa\", \"#FFA15A\", \"#19d3f3\", \"#FF6692\", \"#B6E880\", \"#FF97FF\", \"#FECB52\"], \"font\": {\"color\": \"#2a3f5f\"}, \"geo\": {\"bgcolor\": \"white\", \"lakecolor\": \"white\", \"landcolor\": \"#E5ECF6\", \"showlakes\": true, \"showland\": true, \"subunitcolor\": \"white\"}, \"hoverlabel\": {\"align\": \"left\"}, \"hovermode\": \"closest\", \"mapbox\": {\"style\": \"light\"}, \"paper_bgcolor\": \"white\", \"plot_bgcolor\": \"#E5ECF6\", \"polar\": {\"angularaxis\": {\"gridcolor\": \"white\", \"linecolor\": \"white\", \"ticks\": \"\"}, \"bgcolor\": \"#E5ECF6\", \"radialaxis\": {\"gridcolor\": \"white\", \"linecolor\": \"white\", \"ticks\": \"\"}}, \"scene\": {\"xaxis\": {\"backgroundcolor\": \"#E5ECF6\", \"gridcolor\": \"white\", \"gridwidth\": 2, \"linecolor\": \"white\", \"showbackground\": true, \"ticks\": \"\", \"zerolinecolor\": \"white\"}, \"yaxis\": {\"backgroundcolor\": \"#E5ECF6\", \"gridcolor\": \"white\", \"gridwidth\": 2, \"linecolor\": \"white\", \"showbackground\": true, \"ticks\": \"\", \"zerolinecolor\": \"white\"}, \"zaxis\": {\"backgroundcolor\": \"#E5ECF6\", \"gridcolor\": \"white\", \"gridwidth\": 2, \"linecolor\": \"white\", \"showbackground\": true, \"ticks\": \"\", \"zerolinecolor\": \"white\"}}, \"shapedefaults\": {\"line\": {\"color\": \"#2a3f5f\"}}, \"ternary\": {\"aaxis\": {\"gridcolor\": \"white\", \"linecolor\": \"white\", \"ticks\": \"\"}, \"baxis\": {\"gridcolor\": \"white\", \"linecolor\": \"white\", \"ticks\": \"\"}, \"bgcolor\": \"#E5ECF6\", \"caxis\": {\"gridcolor\": \"white\", \"linecolor\": \"white\", \"ticks\": \"\"}}, \"title\": {\"x\": 0.05}, \"xaxis\": {\"automargin\": true, \"gridcolor\": \"white\", \"linecolor\": \"white\", \"ticks\": \"\", \"title\": {\"standoff\": 15}, \"zerolinecolor\": \"white\", \"zerolinewidth\": 2}, \"yaxis\": {\"automargin\": true, \"gridcolor\": \"white\", \"linecolor\": \"white\", \"ticks\": \"\", \"title\": {\"standoff\": 15}, \"zerolinecolor\": \"white\", \"zerolinewidth\": 2}}}, \"title\": {\"font\": {\"color\": \"#4D5663\"}}, \"xaxis\": {\"gridcolor\": \"#E1E5ED\", \"showgrid\": true, \"tickfont\": {\"color\": \"#4D5663\"}, \"title\": {\"font\": {\"color\": \"#4D5663\"}, \"text\": \"\"}, \"zerolinecolor\": \"#E1E5ED\"}, \"yaxis\": {\"gridcolor\": \"#E1E5ED\", \"showgrid\": true, \"tickfont\": {\"color\": \"#4D5663\"}, \"title\": {\"font\": {\"color\": \"#4D5663\"}, \"text\": \"\"}, \"zerolinecolor\": \"#E1E5ED\"}},\n",
       "                        {\"showLink\": true, \"linkText\": \"Export to plot.ly\", \"plotlyServerURL\": \"https://plot.ly\", \"responsive\": true}\n",
       "                    ).then(function(){\n",
       "                            \n",
       "var gd = document.getElementById('6972b9ce-c019-4695-ad35-a25e3d59d0c1');\n",
       "var x = new MutationObserver(function (mutations, observer) {{\n",
       "        var display = window.getComputedStyle(gd).display;\n",
       "        if (!display || display === 'none') {{\n",
       "            console.log([gd, 'removed!']);\n",
       "            Plotly.purge(gd);\n",
       "            observer.disconnect();\n",
       "        }}\n",
       "}});\n",
       "\n",
       "// Listen for the removal of the full notebook cells\n",
       "var notebookContainer = gd.closest('#notebook-container');\n",
       "if (notebookContainer) {{\n",
       "    x.observe(notebookContainer, {childList: true});\n",
       "}}\n",
       "\n",
       "// Listen for the clearing of the current output cell\n",
       "var outputEl = gd.closest('.output');\n",
       "if (outputEl) {{\n",
       "    x.observe(outputEl, {childList: true});\n",
       "}}\n",
       "\n",
       "                        })\n",
       "                };\n",
       "                });\n",
       "            </script>\n",
       "        </div>"
      ]
     },
     "metadata": {},
     "output_type": "display_data"
    }
   ],
   "source": [
    "df4.iplot('surface',colorscale='rdylbu')"
   ]
  },
  {
   "cell_type": "code",
   "execution_count": 24,
   "metadata": {},
   "outputs": [
    {
     "data": {
      "application/vnd.plotly.v1+json": {
       "config": {
        "linkText": "Export to plot.ly",
        "plotlyServerURL": "https://plot.ly",
        "showLink": true
       },
       "data": [
        {
         "histfunc": "count",
         "histnorm": "",
         "marker": {
          "color": "rgba(255, 153, 51, 1.0)",
          "line": {
           "color": "#4D5663",
           "width": 1.3
          }
         },
         "name": "A",
         "nbinsx": 50,
         "opacity": 0.8,
         "orientation": "v",
         "type": "histogram",
         "x": [
          0.49289817131910324,
          -0.3012398972298208,
          -0.7816068221605069,
          -0.8090093152211132,
          1.4006830146786922,
          -0.19482583816277718,
          0.0604937012147241,
          2.119691209922694,
          0.7222242598679914,
          1.753235420367374,
          0.15830729803447974,
          -0.6341440309522819,
          -2.283999111080501,
          0.5531241386591951,
          -2.266708116322684,
          0.7042723917299197,
          0.6092425758622263,
          -0.340557220856165,
          -1.3041616905321494,
          0.18497826710035706,
          0.021565250924974123,
          -0.006075820444198791,
          -2.566727147075182,
          0.02730521303181981,
          -0.9939684925220701,
          -0.6223666531415607,
          1.776870439188865,
          0.01793289056711191,
          0.05680072212956541,
          0.43447933306281233,
          -1.453567536602802,
          0.22397366436895907,
          -0.47782199024703215,
          1.339102396303261,
          1.6080823076036965,
          0.20166945309703094,
          -1.4037713891573702,
          0.5106776942015245,
          -1.8190377132273154,
          -1.0337585498673065,
          0.5183548692185115,
          -1.0257448210609061,
          0.3360850564164397,
          1.6441074102925999,
          1.359625493547863,
          0.5732793595532124,
          -0.5467403903693552,
          0.40035282535498895,
          0.10515275916863191,
          -0.5263016957839567,
          -0.04432663132196094,
          0.8299882137593065,
          0.288974670977,
          1.4516357718944564,
          -0.4111386022214322,
          -2.1428502676999592,
          1.2035300277031884,
          -1.623937560391315,
          -0.3132882723386422,
          -0.5352367479666442,
          -0.6950356321246792,
          -0.33190243398305314,
          0.26383380532025796,
          -0.5184732009735258,
          0.5207487437274007,
          -1.5584295495848832,
          1.0170403191939565,
          0.07373919242253754,
          0.39030351930826057,
          0.3832708653059387,
          -0.6111638533706606,
          0.2944432971309082,
          0.4591500221941663,
          -1.3000294349405557,
          0.8493654040778634,
          -0.24454619551784645,
          2.5784605090664208,
          0.3470148257665814,
          0.4275832431758216,
          -0.02006983310330113,
          -0.22115821773805194,
          0.7441606483066695,
          -2.147666745538417,
          0.4022717625020178,
          1.015008131996003,
          -0.9614527011380453,
          0.6427549647493842,
          0.26275878026670807,
          -2.1811228596403294,
          -0.9651264344972399,
          -1.0807091355825975,
          -1.2704353852791637,
          -1.604220193082267,
          2.2757599377870004,
          -0.7460643325640582,
          -1.0270656913759506,
          -0.08472691139075982,
          -0.4397288250502953,
          -0.4051011158276595,
          0.0030321124322531187
         ]
        }
       ],
       "layout": {
        "barmode": "overlay",
        "legend": {
         "bgcolor": "#F5F6F9",
         "font": {
          "color": "#4D5663"
         }
        },
        "paper_bgcolor": "#F5F6F9",
        "plot_bgcolor": "#F5F6F9",
        "template": {
         "data": {
          "bar": [
           {
            "error_x": {
             "color": "#2a3f5f"
            },
            "error_y": {
             "color": "#2a3f5f"
            },
            "marker": {
             "line": {
              "color": "#E5ECF6",
              "width": 0.5
             }
            },
            "type": "bar"
           }
          ],
          "barpolar": [
           {
            "marker": {
             "line": {
              "color": "#E5ECF6",
              "width": 0.5
             }
            },
            "type": "barpolar"
           }
          ],
          "carpet": [
           {
            "aaxis": {
             "endlinecolor": "#2a3f5f",
             "gridcolor": "white",
             "linecolor": "white",
             "minorgridcolor": "white",
             "startlinecolor": "#2a3f5f"
            },
            "baxis": {
             "endlinecolor": "#2a3f5f",
             "gridcolor": "white",
             "linecolor": "white",
             "minorgridcolor": "white",
             "startlinecolor": "#2a3f5f"
            },
            "type": "carpet"
           }
          ],
          "choropleth": [
           {
            "colorbar": {
             "outlinewidth": 0,
             "ticks": ""
            },
            "type": "choropleth"
           }
          ],
          "contour": [
           {
            "colorbar": {
             "outlinewidth": 0,
             "ticks": ""
            },
            "colorscale": [
             [
              0,
              "#0d0887"
             ],
             [
              0.1111111111111111,
              "#46039f"
             ],
             [
              0.2222222222222222,
              "#7201a8"
             ],
             [
              0.3333333333333333,
              "#9c179e"
             ],
             [
              0.4444444444444444,
              "#bd3786"
             ],
             [
              0.5555555555555556,
              "#d8576b"
             ],
             [
              0.6666666666666666,
              "#ed7953"
             ],
             [
              0.7777777777777778,
              "#fb9f3a"
             ],
             [
              0.8888888888888888,
              "#fdca26"
             ],
             [
              1,
              "#f0f921"
             ]
            ],
            "type": "contour"
           }
          ],
          "contourcarpet": [
           {
            "colorbar": {
             "outlinewidth": 0,
             "ticks": ""
            },
            "type": "contourcarpet"
           }
          ],
          "heatmap": [
           {
            "colorbar": {
             "outlinewidth": 0,
             "ticks": ""
            },
            "colorscale": [
             [
              0,
              "#0d0887"
             ],
             [
              0.1111111111111111,
              "#46039f"
             ],
             [
              0.2222222222222222,
              "#7201a8"
             ],
             [
              0.3333333333333333,
              "#9c179e"
             ],
             [
              0.4444444444444444,
              "#bd3786"
             ],
             [
              0.5555555555555556,
              "#d8576b"
             ],
             [
              0.6666666666666666,
              "#ed7953"
             ],
             [
              0.7777777777777778,
              "#fb9f3a"
             ],
             [
              0.8888888888888888,
              "#fdca26"
             ],
             [
              1,
              "#f0f921"
             ]
            ],
            "type": "heatmap"
           }
          ],
          "heatmapgl": [
           {
            "colorbar": {
             "outlinewidth": 0,
             "ticks": ""
            },
            "colorscale": [
             [
              0,
              "#0d0887"
             ],
             [
              0.1111111111111111,
              "#46039f"
             ],
             [
              0.2222222222222222,
              "#7201a8"
             ],
             [
              0.3333333333333333,
              "#9c179e"
             ],
             [
              0.4444444444444444,
              "#bd3786"
             ],
             [
              0.5555555555555556,
              "#d8576b"
             ],
             [
              0.6666666666666666,
              "#ed7953"
             ],
             [
              0.7777777777777778,
              "#fb9f3a"
             ],
             [
              0.8888888888888888,
              "#fdca26"
             ],
             [
              1,
              "#f0f921"
             ]
            ],
            "type": "heatmapgl"
           }
          ],
          "histogram": [
           {
            "marker": {
             "colorbar": {
              "outlinewidth": 0,
              "ticks": ""
             }
            },
            "type": "histogram"
           }
          ],
          "histogram2d": [
           {
            "colorbar": {
             "outlinewidth": 0,
             "ticks": ""
            },
            "colorscale": [
             [
              0,
              "#0d0887"
             ],
             [
              0.1111111111111111,
              "#46039f"
             ],
             [
              0.2222222222222222,
              "#7201a8"
             ],
             [
              0.3333333333333333,
              "#9c179e"
             ],
             [
              0.4444444444444444,
              "#bd3786"
             ],
             [
              0.5555555555555556,
              "#d8576b"
             ],
             [
              0.6666666666666666,
              "#ed7953"
             ],
             [
              0.7777777777777778,
              "#fb9f3a"
             ],
             [
              0.8888888888888888,
              "#fdca26"
             ],
             [
              1,
              "#f0f921"
             ]
            ],
            "type": "histogram2d"
           }
          ],
          "histogram2dcontour": [
           {
            "colorbar": {
             "outlinewidth": 0,
             "ticks": ""
            },
            "colorscale": [
             [
              0,
              "#0d0887"
             ],
             [
              0.1111111111111111,
              "#46039f"
             ],
             [
              0.2222222222222222,
              "#7201a8"
             ],
             [
              0.3333333333333333,
              "#9c179e"
             ],
             [
              0.4444444444444444,
              "#bd3786"
             ],
             [
              0.5555555555555556,
              "#d8576b"
             ],
             [
              0.6666666666666666,
              "#ed7953"
             ],
             [
              0.7777777777777778,
              "#fb9f3a"
             ],
             [
              0.8888888888888888,
              "#fdca26"
             ],
             [
              1,
              "#f0f921"
             ]
            ],
            "type": "histogram2dcontour"
           }
          ],
          "mesh3d": [
           {
            "colorbar": {
             "outlinewidth": 0,
             "ticks": ""
            },
            "type": "mesh3d"
           }
          ],
          "parcoords": [
           {
            "line": {
             "colorbar": {
              "outlinewidth": 0,
              "ticks": ""
             }
            },
            "type": "parcoords"
           }
          ],
          "pie": [
           {
            "automargin": true,
            "type": "pie"
           }
          ],
          "scatter": [
           {
            "marker": {
             "colorbar": {
              "outlinewidth": 0,
              "ticks": ""
             }
            },
            "type": "scatter"
           }
          ],
          "scatter3d": [
           {
            "line": {
             "colorbar": {
              "outlinewidth": 0,
              "ticks": ""
             }
            },
            "marker": {
             "colorbar": {
              "outlinewidth": 0,
              "ticks": ""
             }
            },
            "type": "scatter3d"
           }
          ],
          "scattercarpet": [
           {
            "marker": {
             "colorbar": {
              "outlinewidth": 0,
              "ticks": ""
             }
            },
            "type": "scattercarpet"
           }
          ],
          "scattergeo": [
           {
            "marker": {
             "colorbar": {
              "outlinewidth": 0,
              "ticks": ""
             }
            },
            "type": "scattergeo"
           }
          ],
          "scattergl": [
           {
            "marker": {
             "colorbar": {
              "outlinewidth": 0,
              "ticks": ""
             }
            },
            "type": "scattergl"
           }
          ],
          "scattermapbox": [
           {
            "marker": {
             "colorbar": {
              "outlinewidth": 0,
              "ticks": ""
             }
            },
            "type": "scattermapbox"
           }
          ],
          "scatterpolar": [
           {
            "marker": {
             "colorbar": {
              "outlinewidth": 0,
              "ticks": ""
             }
            },
            "type": "scatterpolar"
           }
          ],
          "scatterpolargl": [
           {
            "marker": {
             "colorbar": {
              "outlinewidth": 0,
              "ticks": ""
             }
            },
            "type": "scatterpolargl"
           }
          ],
          "scatterternary": [
           {
            "marker": {
             "colorbar": {
              "outlinewidth": 0,
              "ticks": ""
             }
            },
            "type": "scatterternary"
           }
          ],
          "surface": [
           {
            "colorbar": {
             "outlinewidth": 0,
             "ticks": ""
            },
            "colorscale": [
             [
              0,
              "#0d0887"
             ],
             [
              0.1111111111111111,
              "#46039f"
             ],
             [
              0.2222222222222222,
              "#7201a8"
             ],
             [
              0.3333333333333333,
              "#9c179e"
             ],
             [
              0.4444444444444444,
              "#bd3786"
             ],
             [
              0.5555555555555556,
              "#d8576b"
             ],
             [
              0.6666666666666666,
              "#ed7953"
             ],
             [
              0.7777777777777778,
              "#fb9f3a"
             ],
             [
              0.8888888888888888,
              "#fdca26"
             ],
             [
              1,
              "#f0f921"
             ]
            ],
            "type": "surface"
           }
          ],
          "table": [
           {
            "cells": {
             "fill": {
              "color": "#EBF0F8"
             },
             "line": {
              "color": "white"
             }
            },
            "header": {
             "fill": {
              "color": "#C8D4E3"
             },
             "line": {
              "color": "white"
             }
            },
            "type": "table"
           }
          ]
         },
         "layout": {
          "annotationdefaults": {
           "arrowcolor": "#2a3f5f",
           "arrowhead": 0,
           "arrowwidth": 1
          },
          "coloraxis": {
           "colorbar": {
            "outlinewidth": 0,
            "ticks": ""
           }
          },
          "colorscale": {
           "diverging": [
            [
             0,
             "#8e0152"
            ],
            [
             0.1,
             "#c51b7d"
            ],
            [
             0.2,
             "#de77ae"
            ],
            [
             0.3,
             "#f1b6da"
            ],
            [
             0.4,
             "#fde0ef"
            ],
            [
             0.5,
             "#f7f7f7"
            ],
            [
             0.6,
             "#e6f5d0"
            ],
            [
             0.7,
             "#b8e186"
            ],
            [
             0.8,
             "#7fbc41"
            ],
            [
             0.9,
             "#4d9221"
            ],
            [
             1,
             "#276419"
            ]
           ],
           "sequential": [
            [
             0,
             "#0d0887"
            ],
            [
             0.1111111111111111,
             "#46039f"
            ],
            [
             0.2222222222222222,
             "#7201a8"
            ],
            [
             0.3333333333333333,
             "#9c179e"
            ],
            [
             0.4444444444444444,
             "#bd3786"
            ],
            [
             0.5555555555555556,
             "#d8576b"
            ],
            [
             0.6666666666666666,
             "#ed7953"
            ],
            [
             0.7777777777777778,
             "#fb9f3a"
            ],
            [
             0.8888888888888888,
             "#fdca26"
            ],
            [
             1,
             "#f0f921"
            ]
           ],
           "sequentialminus": [
            [
             0,
             "#0d0887"
            ],
            [
             0.1111111111111111,
             "#46039f"
            ],
            [
             0.2222222222222222,
             "#7201a8"
            ],
            [
             0.3333333333333333,
             "#9c179e"
            ],
            [
             0.4444444444444444,
             "#bd3786"
            ],
            [
             0.5555555555555556,
             "#d8576b"
            ],
            [
             0.6666666666666666,
             "#ed7953"
            ],
            [
             0.7777777777777778,
             "#fb9f3a"
            ],
            [
             0.8888888888888888,
             "#fdca26"
            ],
            [
             1,
             "#f0f921"
            ]
           ]
          },
          "colorway": [
           "#636efa",
           "#EF553B",
           "#00cc96",
           "#ab63fa",
           "#FFA15A",
           "#19d3f3",
           "#FF6692",
           "#B6E880",
           "#FF97FF",
           "#FECB52"
          ],
          "font": {
           "color": "#2a3f5f"
          },
          "geo": {
           "bgcolor": "white",
           "lakecolor": "white",
           "landcolor": "#E5ECF6",
           "showlakes": true,
           "showland": true,
           "subunitcolor": "white"
          },
          "hoverlabel": {
           "align": "left"
          },
          "hovermode": "closest",
          "mapbox": {
           "style": "light"
          },
          "paper_bgcolor": "white",
          "plot_bgcolor": "#E5ECF6",
          "polar": {
           "angularaxis": {
            "gridcolor": "white",
            "linecolor": "white",
            "ticks": ""
           },
           "bgcolor": "#E5ECF6",
           "radialaxis": {
            "gridcolor": "white",
            "linecolor": "white",
            "ticks": ""
           }
          },
          "scene": {
           "xaxis": {
            "backgroundcolor": "#E5ECF6",
            "gridcolor": "white",
            "gridwidth": 2,
            "linecolor": "white",
            "showbackground": true,
            "ticks": "",
            "zerolinecolor": "white"
           },
           "yaxis": {
            "backgroundcolor": "#E5ECF6",
            "gridcolor": "white",
            "gridwidth": 2,
            "linecolor": "white",
            "showbackground": true,
            "ticks": "",
            "zerolinecolor": "white"
           },
           "zaxis": {
            "backgroundcolor": "#E5ECF6",
            "gridcolor": "white",
            "gridwidth": 2,
            "linecolor": "white",
            "showbackground": true,
            "ticks": "",
            "zerolinecolor": "white"
           }
          },
          "shapedefaults": {
           "line": {
            "color": "#2a3f5f"
           }
          },
          "ternary": {
           "aaxis": {
            "gridcolor": "white",
            "linecolor": "white",
            "ticks": ""
           },
           "baxis": {
            "gridcolor": "white",
            "linecolor": "white",
            "ticks": ""
           },
           "bgcolor": "#E5ECF6",
           "caxis": {
            "gridcolor": "white",
            "linecolor": "white",
            "ticks": ""
           }
          },
          "title": {
           "x": 0.05
          },
          "xaxis": {
           "automargin": true,
           "gridcolor": "white",
           "linecolor": "white",
           "ticks": "",
           "title": {
            "standoff": 15
           },
           "zerolinecolor": "white",
           "zerolinewidth": 2
          },
          "yaxis": {
           "automargin": true,
           "gridcolor": "white",
           "linecolor": "white",
           "ticks": "",
           "title": {
            "standoff": 15
           },
           "zerolinecolor": "white",
           "zerolinewidth": 2
          }
         }
        },
        "title": {
         "font": {
          "color": "#4D5663"
         }
        },
        "xaxis": {
         "gridcolor": "#E1E5ED",
         "showgrid": true,
         "tickfont": {
          "color": "#4D5663"
         },
         "title": {
          "font": {
           "color": "#4D5663"
          },
          "text": ""
         },
         "zerolinecolor": "#E1E5ED"
        },
        "yaxis": {
         "gridcolor": "#E1E5ED",
         "showgrid": true,
         "tickfont": {
          "color": "#4D5663"
         },
         "title": {
          "font": {
           "color": "#4D5663"
          },
          "text": ""
         },
         "zerolinecolor": "#E1E5ED"
        }
       }
      },
      "text/html": [
       "<div>\n",
       "        \n",
       "        \n",
       "            <div id=\"c52b1e61-cfb2-40c9-a575-5120dea76136\" class=\"plotly-graph-div\" style=\"height:525px; width:100%;\"></div>\n",
       "            <script type=\"text/javascript\">\n",
       "                require([\"plotly\"], function(Plotly) {\n",
       "                    window.PLOTLYENV=window.PLOTLYENV || {};\n",
       "                    window.PLOTLYENV.BASE_URL='https://plot.ly';\n",
       "                    \n",
       "                if (document.getElementById(\"c52b1e61-cfb2-40c9-a575-5120dea76136\")) {\n",
       "                    Plotly.newPlot(\n",
       "                        'c52b1e61-cfb2-40c9-a575-5120dea76136',\n",
       "                        [{\"histfunc\": \"count\", \"histnorm\": \"\", \"marker\": {\"color\": \"rgba(255, 153, 51, 1.0)\", \"line\": {\"color\": \"#4D5663\", \"width\": 1.3}}, \"name\": \"A\", \"nbinsx\": 50, \"opacity\": 0.8, \"orientation\": \"v\", \"type\": \"histogram\", \"x\": [0.49289817131910324, -0.3012398972298208, -0.7816068221605069, -0.8090093152211132, 1.4006830146786922, -0.19482583816277718, 0.0604937012147241, 2.119691209922694, 0.7222242598679914, 1.753235420367374, 0.15830729803447974, -0.6341440309522819, -2.283999111080501, 0.5531241386591951, -2.266708116322684, 0.7042723917299197, 0.6092425758622263, -0.340557220856165, -1.3041616905321494, 0.18497826710035706, 0.021565250924974123, -0.006075820444198791, -2.566727147075182, 0.02730521303181981, -0.9939684925220701, -0.6223666531415607, 1.776870439188865, 0.01793289056711191, 0.05680072212956541, 0.43447933306281233, -1.453567536602802, 0.22397366436895907, -0.47782199024703215, 1.339102396303261, 1.6080823076036965, 0.20166945309703094, -1.4037713891573702, 0.5106776942015245, -1.8190377132273154, -1.0337585498673065, 0.5183548692185115, -1.0257448210609061, 0.3360850564164397, 1.6441074102925999, 1.359625493547863, 0.5732793595532124, -0.5467403903693552, 0.40035282535498895, 0.10515275916863191, -0.5263016957839567, -0.04432663132196094, 0.8299882137593065, 0.288974670977, 1.4516357718944564, -0.4111386022214322, -2.1428502676999592, 1.2035300277031884, -1.623937560391315, -0.3132882723386422, -0.5352367479666442, -0.6950356321246792, -0.33190243398305314, 0.26383380532025796, -0.5184732009735258, 0.5207487437274007, -1.5584295495848832, 1.0170403191939565, 0.07373919242253754, 0.39030351930826057, 0.3832708653059387, -0.6111638533706606, 0.2944432971309082, 0.4591500221941663, -1.3000294349405557, 0.8493654040778634, -0.24454619551784645, 2.5784605090664208, 0.3470148257665814, 0.4275832431758216, -0.02006983310330113, -0.22115821773805194, 0.7441606483066695, -2.147666745538417, 0.4022717625020178, 1.015008131996003, -0.9614527011380453, 0.6427549647493842, 0.26275878026670807, -2.1811228596403294, -0.9651264344972399, -1.0807091355825975, -1.2704353852791637, -1.604220193082267, 2.2757599377870004, -0.7460643325640582, -1.0270656913759506, -0.08472691139075982, -0.4397288250502953, -0.4051011158276595, 0.0030321124322531187]}],\n",
       "                        {\"barmode\": \"overlay\", \"legend\": {\"bgcolor\": \"#F5F6F9\", \"font\": {\"color\": \"#4D5663\"}}, \"paper_bgcolor\": \"#F5F6F9\", \"plot_bgcolor\": \"#F5F6F9\", \"template\": {\"data\": {\"bar\": [{\"error_x\": {\"color\": \"#2a3f5f\"}, \"error_y\": {\"color\": \"#2a3f5f\"}, \"marker\": {\"line\": {\"color\": \"#E5ECF6\", \"width\": 0.5}}, \"type\": \"bar\"}], \"barpolar\": [{\"marker\": {\"line\": {\"color\": \"#E5ECF6\", \"width\": 0.5}}, \"type\": \"barpolar\"}], \"carpet\": [{\"aaxis\": {\"endlinecolor\": \"#2a3f5f\", \"gridcolor\": \"white\", \"linecolor\": \"white\", \"minorgridcolor\": \"white\", \"startlinecolor\": \"#2a3f5f\"}, \"baxis\": {\"endlinecolor\": \"#2a3f5f\", \"gridcolor\": \"white\", \"linecolor\": \"white\", \"minorgridcolor\": \"white\", \"startlinecolor\": \"#2a3f5f\"}, \"type\": \"carpet\"}], \"choropleth\": [{\"colorbar\": {\"outlinewidth\": 0, \"ticks\": \"\"}, \"type\": \"choropleth\"}], \"contour\": [{\"colorbar\": {\"outlinewidth\": 0, \"ticks\": \"\"}, \"colorscale\": [[0.0, \"#0d0887\"], [0.1111111111111111, \"#46039f\"], [0.2222222222222222, \"#7201a8\"], [0.3333333333333333, \"#9c179e\"], [0.4444444444444444, \"#bd3786\"], [0.5555555555555556, \"#d8576b\"], [0.6666666666666666, \"#ed7953\"], [0.7777777777777778, \"#fb9f3a\"], [0.8888888888888888, \"#fdca26\"], [1.0, \"#f0f921\"]], \"type\": \"contour\"}], \"contourcarpet\": [{\"colorbar\": {\"outlinewidth\": 0, \"ticks\": \"\"}, \"type\": \"contourcarpet\"}], \"heatmap\": [{\"colorbar\": {\"outlinewidth\": 0, \"ticks\": \"\"}, \"colorscale\": [[0.0, \"#0d0887\"], [0.1111111111111111, \"#46039f\"], [0.2222222222222222, \"#7201a8\"], [0.3333333333333333, \"#9c179e\"], [0.4444444444444444, \"#bd3786\"], [0.5555555555555556, \"#d8576b\"], [0.6666666666666666, \"#ed7953\"], [0.7777777777777778, \"#fb9f3a\"], [0.8888888888888888, \"#fdca26\"], [1.0, \"#f0f921\"]], \"type\": \"heatmap\"}], \"heatmapgl\": [{\"colorbar\": {\"outlinewidth\": 0, \"ticks\": \"\"}, \"colorscale\": [[0.0, \"#0d0887\"], [0.1111111111111111, \"#46039f\"], [0.2222222222222222, \"#7201a8\"], [0.3333333333333333, \"#9c179e\"], [0.4444444444444444, \"#bd3786\"], [0.5555555555555556, \"#d8576b\"], [0.6666666666666666, \"#ed7953\"], [0.7777777777777778, \"#fb9f3a\"], [0.8888888888888888, \"#fdca26\"], [1.0, \"#f0f921\"]], \"type\": \"heatmapgl\"}], \"histogram\": [{\"marker\": {\"colorbar\": {\"outlinewidth\": 0, \"ticks\": \"\"}}, \"type\": \"histogram\"}], \"histogram2d\": [{\"colorbar\": {\"outlinewidth\": 0, \"ticks\": \"\"}, \"colorscale\": [[0.0, \"#0d0887\"], [0.1111111111111111, \"#46039f\"], [0.2222222222222222, \"#7201a8\"], [0.3333333333333333, \"#9c179e\"], [0.4444444444444444, \"#bd3786\"], [0.5555555555555556, \"#d8576b\"], [0.6666666666666666, \"#ed7953\"], [0.7777777777777778, \"#fb9f3a\"], [0.8888888888888888, \"#fdca26\"], [1.0, \"#f0f921\"]], \"type\": \"histogram2d\"}], \"histogram2dcontour\": [{\"colorbar\": {\"outlinewidth\": 0, \"ticks\": \"\"}, \"colorscale\": [[0.0, \"#0d0887\"], [0.1111111111111111, \"#46039f\"], [0.2222222222222222, \"#7201a8\"], [0.3333333333333333, \"#9c179e\"], [0.4444444444444444, \"#bd3786\"], [0.5555555555555556, \"#d8576b\"], [0.6666666666666666, \"#ed7953\"], [0.7777777777777778, \"#fb9f3a\"], [0.8888888888888888, \"#fdca26\"], [1.0, \"#f0f921\"]], \"type\": \"histogram2dcontour\"}], \"mesh3d\": [{\"colorbar\": {\"outlinewidth\": 0, \"ticks\": \"\"}, \"type\": \"mesh3d\"}], \"parcoords\": [{\"line\": {\"colorbar\": {\"outlinewidth\": 0, \"ticks\": \"\"}}, \"type\": \"parcoords\"}], \"pie\": [{\"automargin\": true, \"type\": \"pie\"}], \"scatter\": [{\"marker\": {\"colorbar\": {\"outlinewidth\": 0, \"ticks\": \"\"}}, \"type\": \"scatter\"}], \"scatter3d\": [{\"line\": {\"colorbar\": {\"outlinewidth\": 0, \"ticks\": \"\"}}, \"marker\": {\"colorbar\": {\"outlinewidth\": 0, \"ticks\": \"\"}}, \"type\": \"scatter3d\"}], \"scattercarpet\": [{\"marker\": {\"colorbar\": {\"outlinewidth\": 0, \"ticks\": \"\"}}, \"type\": \"scattercarpet\"}], \"scattergeo\": [{\"marker\": {\"colorbar\": {\"outlinewidth\": 0, \"ticks\": \"\"}}, \"type\": \"scattergeo\"}], \"scattergl\": [{\"marker\": {\"colorbar\": {\"outlinewidth\": 0, \"ticks\": \"\"}}, \"type\": \"scattergl\"}], \"scattermapbox\": [{\"marker\": {\"colorbar\": {\"outlinewidth\": 0, \"ticks\": \"\"}}, \"type\": \"scattermapbox\"}], \"scatterpolar\": [{\"marker\": {\"colorbar\": {\"outlinewidth\": 0, \"ticks\": \"\"}}, \"type\": \"scatterpolar\"}], \"scatterpolargl\": [{\"marker\": {\"colorbar\": {\"outlinewidth\": 0, \"ticks\": \"\"}}, \"type\": \"scatterpolargl\"}], \"scatterternary\": [{\"marker\": {\"colorbar\": {\"outlinewidth\": 0, \"ticks\": \"\"}}, \"type\": \"scatterternary\"}], \"surface\": [{\"colorbar\": {\"outlinewidth\": 0, \"ticks\": \"\"}, \"colorscale\": [[0.0, \"#0d0887\"], [0.1111111111111111, \"#46039f\"], [0.2222222222222222, \"#7201a8\"], [0.3333333333333333, \"#9c179e\"], [0.4444444444444444, \"#bd3786\"], [0.5555555555555556, \"#d8576b\"], [0.6666666666666666, \"#ed7953\"], [0.7777777777777778, \"#fb9f3a\"], [0.8888888888888888, \"#fdca26\"], [1.0, \"#f0f921\"]], \"type\": \"surface\"}], \"table\": [{\"cells\": {\"fill\": {\"color\": \"#EBF0F8\"}, \"line\": {\"color\": \"white\"}}, \"header\": {\"fill\": {\"color\": \"#C8D4E3\"}, \"line\": {\"color\": \"white\"}}, \"type\": \"table\"}]}, \"layout\": {\"annotationdefaults\": {\"arrowcolor\": \"#2a3f5f\", \"arrowhead\": 0, \"arrowwidth\": 1}, \"coloraxis\": {\"colorbar\": {\"outlinewidth\": 0, \"ticks\": \"\"}}, \"colorscale\": {\"diverging\": [[0, \"#8e0152\"], [0.1, \"#c51b7d\"], [0.2, \"#de77ae\"], [0.3, \"#f1b6da\"], [0.4, \"#fde0ef\"], [0.5, \"#f7f7f7\"], [0.6, \"#e6f5d0\"], [0.7, \"#b8e186\"], [0.8, \"#7fbc41\"], [0.9, \"#4d9221\"], [1, \"#276419\"]], \"sequential\": [[0.0, \"#0d0887\"], [0.1111111111111111, \"#46039f\"], [0.2222222222222222, \"#7201a8\"], [0.3333333333333333, \"#9c179e\"], [0.4444444444444444, \"#bd3786\"], [0.5555555555555556, \"#d8576b\"], [0.6666666666666666, \"#ed7953\"], [0.7777777777777778, \"#fb9f3a\"], [0.8888888888888888, \"#fdca26\"], [1.0, \"#f0f921\"]], \"sequentialminus\": [[0.0, \"#0d0887\"], [0.1111111111111111, \"#46039f\"], [0.2222222222222222, \"#7201a8\"], [0.3333333333333333, \"#9c179e\"], [0.4444444444444444, \"#bd3786\"], [0.5555555555555556, \"#d8576b\"], [0.6666666666666666, \"#ed7953\"], [0.7777777777777778, \"#fb9f3a\"], [0.8888888888888888, \"#fdca26\"], [1.0, \"#f0f921\"]]}, \"colorway\": [\"#636efa\", \"#EF553B\", \"#00cc96\", \"#ab63fa\", \"#FFA15A\", \"#19d3f3\", \"#FF6692\", \"#B6E880\", \"#FF97FF\", \"#FECB52\"], \"font\": {\"color\": \"#2a3f5f\"}, \"geo\": {\"bgcolor\": \"white\", \"lakecolor\": \"white\", \"landcolor\": \"#E5ECF6\", \"showlakes\": true, \"showland\": true, \"subunitcolor\": \"white\"}, \"hoverlabel\": {\"align\": \"left\"}, \"hovermode\": \"closest\", \"mapbox\": {\"style\": \"light\"}, \"paper_bgcolor\": \"white\", \"plot_bgcolor\": \"#E5ECF6\", \"polar\": {\"angularaxis\": {\"gridcolor\": \"white\", \"linecolor\": \"white\", \"ticks\": \"\"}, \"bgcolor\": \"#E5ECF6\", \"radialaxis\": {\"gridcolor\": \"white\", \"linecolor\": \"white\", \"ticks\": \"\"}}, \"scene\": {\"xaxis\": {\"backgroundcolor\": \"#E5ECF6\", \"gridcolor\": \"white\", \"gridwidth\": 2, \"linecolor\": \"white\", \"showbackground\": true, \"ticks\": \"\", \"zerolinecolor\": \"white\"}, \"yaxis\": {\"backgroundcolor\": \"#E5ECF6\", \"gridcolor\": \"white\", \"gridwidth\": 2, \"linecolor\": \"white\", \"showbackground\": true, \"ticks\": \"\", \"zerolinecolor\": \"white\"}, \"zaxis\": {\"backgroundcolor\": \"#E5ECF6\", \"gridcolor\": \"white\", \"gridwidth\": 2, \"linecolor\": \"white\", \"showbackground\": true, \"ticks\": \"\", \"zerolinecolor\": \"white\"}}, \"shapedefaults\": {\"line\": {\"color\": \"#2a3f5f\"}}, \"ternary\": {\"aaxis\": {\"gridcolor\": \"white\", \"linecolor\": \"white\", \"ticks\": \"\"}, \"baxis\": {\"gridcolor\": \"white\", \"linecolor\": \"white\", \"ticks\": \"\"}, \"bgcolor\": \"#E5ECF6\", \"caxis\": {\"gridcolor\": \"white\", \"linecolor\": \"white\", \"ticks\": \"\"}}, \"title\": {\"x\": 0.05}, \"xaxis\": {\"automargin\": true, \"gridcolor\": \"white\", \"linecolor\": \"white\", \"ticks\": \"\", \"title\": {\"standoff\": 15}, \"zerolinecolor\": \"white\", \"zerolinewidth\": 2}, \"yaxis\": {\"automargin\": true, \"gridcolor\": \"white\", \"linecolor\": \"white\", \"ticks\": \"\", \"title\": {\"standoff\": 15}, \"zerolinecolor\": \"white\", \"zerolinewidth\": 2}}}, \"title\": {\"font\": {\"color\": \"#4D5663\"}}, \"xaxis\": {\"gridcolor\": \"#E1E5ED\", \"showgrid\": true, \"tickfont\": {\"color\": \"#4D5663\"}, \"title\": {\"font\": {\"color\": \"#4D5663\"}, \"text\": \"\"}, \"zerolinecolor\": \"#E1E5ED\"}, \"yaxis\": {\"gridcolor\": \"#E1E5ED\", \"showgrid\": true, \"tickfont\": {\"color\": \"#4D5663\"}, \"title\": {\"font\": {\"color\": \"#4D5663\"}, \"text\": \"\"}, \"zerolinecolor\": \"#E1E5ED\"}},\n",
       "                        {\"showLink\": true, \"linkText\": \"Export to plot.ly\", \"plotlyServerURL\": \"https://plot.ly\", \"responsive\": true}\n",
       "                    ).then(function(){\n",
       "                            \n",
       "var gd = document.getElementById('c52b1e61-cfb2-40c9-a575-5120dea76136');\n",
       "var x = new MutationObserver(function (mutations, observer) {{\n",
       "        var display = window.getComputedStyle(gd).display;\n",
       "        if (!display || display === 'none') {{\n",
       "            console.log([gd, 'removed!']);\n",
       "            Plotly.purge(gd);\n",
       "            observer.disconnect();\n",
       "        }}\n",
       "}});\n",
       "\n",
       "// Listen for the removal of the full notebook cells\n",
       "var notebookContainer = gd.closest('#notebook-container');\n",
       "if (notebookContainer) {{\n",
       "    x.observe(notebookContainer, {childList: true});\n",
       "}}\n",
       "\n",
       "// Listen for the clearing of the current output cell\n",
       "var outputEl = gd.closest('.output');\n",
       "if (outputEl) {{\n",
       "    x.observe(outputEl, {childList: true});\n",
       "}}\n",
       "\n",
       "                        })\n",
       "                };\n",
       "                });\n",
       "            </script>\n",
       "        </div>"
      ]
     },
     "metadata": {},
     "output_type": "display_data"
    }
   ],
   "source": [
    "df['A'].iplot(kind='hist',bins=50)"
   ]
  },
  {
   "cell_type": "code",
   "execution_count": 25,
   "metadata": {},
   "outputs": [
    {
     "data": {
      "application/vnd.plotly.v1+json": {
       "config": {
        "linkText": "Export to plot.ly",
        "plotlyServerURL": "https://plot.ly",
        "showLink": true
       },
       "data": [
        {
         "histfunc": "count",
         "histnorm": "",
         "marker": {
          "color": "rgba(255, 153, 51, 1.0)",
          "line": {
           "color": "#4D5663",
           "width": 1.3
          }
         },
         "name": "A",
         "opacity": 0.8,
         "orientation": "v",
         "type": "histogram",
         "x": [
          0.49289817131910324,
          -0.3012398972298208,
          -0.7816068221605069,
          -0.8090093152211132,
          1.4006830146786922,
          -0.19482583816277718,
          0.0604937012147241,
          2.119691209922694,
          0.7222242598679914,
          1.753235420367374,
          0.15830729803447974,
          -0.6341440309522819,
          -2.283999111080501,
          0.5531241386591951,
          -2.266708116322684,
          0.7042723917299197,
          0.6092425758622263,
          -0.340557220856165,
          -1.3041616905321494,
          0.18497826710035706,
          0.021565250924974123,
          -0.006075820444198791,
          -2.566727147075182,
          0.02730521303181981,
          -0.9939684925220701,
          -0.6223666531415607,
          1.776870439188865,
          0.01793289056711191,
          0.05680072212956541,
          0.43447933306281233,
          -1.453567536602802,
          0.22397366436895907,
          -0.47782199024703215,
          1.339102396303261,
          1.6080823076036965,
          0.20166945309703094,
          -1.4037713891573702,
          0.5106776942015245,
          -1.8190377132273154,
          -1.0337585498673065,
          0.5183548692185115,
          -1.0257448210609061,
          0.3360850564164397,
          1.6441074102925999,
          1.359625493547863,
          0.5732793595532124,
          -0.5467403903693552,
          0.40035282535498895,
          0.10515275916863191,
          -0.5263016957839567,
          -0.04432663132196094,
          0.8299882137593065,
          0.288974670977,
          1.4516357718944564,
          -0.4111386022214322,
          -2.1428502676999592,
          1.2035300277031884,
          -1.623937560391315,
          -0.3132882723386422,
          -0.5352367479666442,
          -0.6950356321246792,
          -0.33190243398305314,
          0.26383380532025796,
          -0.5184732009735258,
          0.5207487437274007,
          -1.5584295495848832,
          1.0170403191939565,
          0.07373919242253754,
          0.39030351930826057,
          0.3832708653059387,
          -0.6111638533706606,
          0.2944432971309082,
          0.4591500221941663,
          -1.3000294349405557,
          0.8493654040778634,
          -0.24454619551784645,
          2.5784605090664208,
          0.3470148257665814,
          0.4275832431758216,
          -0.02006983310330113,
          -0.22115821773805194,
          0.7441606483066695,
          -2.147666745538417,
          0.4022717625020178,
          1.015008131996003,
          -0.9614527011380453,
          0.6427549647493842,
          0.26275878026670807,
          -2.1811228596403294,
          -0.9651264344972399,
          -1.0807091355825975,
          -1.2704353852791637,
          -1.604220193082267,
          2.2757599377870004,
          -0.7460643325640582,
          -1.0270656913759506,
          -0.08472691139075982,
          -0.4397288250502953,
          -0.4051011158276595,
          0.0030321124322531187
         ]
        },
        {
         "histfunc": "count",
         "histnorm": "",
         "marker": {
          "color": "rgba(55, 128, 191, 1.0)",
          "line": {
           "color": "#4D5663",
           "width": 1.3
          }
         },
         "name": "B",
         "opacity": 0.8,
         "orientation": "v",
         "type": "histogram",
         "x": [
          1.788094498128622,
          -0.44535443686305204,
          -0.7131795159657938,
          -0.5554106325242337,
          -0.21586035461825787,
          -0.697799365135744,
          1.097573763569276,
          0.035887813880043605,
          2.6195040661181466,
          0.6079529137881459,
          0.7436248459744537,
          -0.8618502776351192,
          -0.47747198195992685,
          0.22394260599753302,
          0.16778779907716984,
          -0.21439653722728408,
          -0.28082534999382414,
          -0.47247468827363853,
          -0.4506597477838028,
          0.6851240964961288,
          1.1619213588272501,
          -1.0702545218773423,
          0.4492565916692249,
          -1.1452374174231343,
          0.6940018241869989,
          1.7025908336350206,
          0.911095428268713,
          -0.8390868115640266,
          0.1663123644197956,
          0.3328100887697817,
          0.06435393233991418,
          -0.3710348748026914,
          -0.9179829095604276,
          -0.524999408533106,
          0.6652896007479878,
          1.5838460732342565,
          -0.006292105652858107,
          0.6036323038736936,
          -0.476844069070269,
          1.1387478354050842,
          0.03827391299502421,
          1.1285586150173448,
          0.14647132562841755,
          0.4044039554802493,
          -0.21088510943267336,
          -1.6753117569624703,
          -0.3294821012530378,
          0.6607752806792838,
          -0.13058529121836507,
          0.22371960616266628,
          -0.8188759246483298,
          -0.5854214437337317,
          -2.491158593278795,
          -1.0585519213970385,
          -0.03288668821960335,
          1.8329670294391918,
          0.605965626089157,
          -1.0337333776852846,
          0.3155519084756224,
          1.6015557409146575,
          0.6822350410713564,
          2.338739883832616,
          -1.1730419635505192,
          0.6391766373700845,
          1.289160748481995,
          -0.5420518881612237,
          0.5071628629766942,
          -0.40457294813531886,
          0.7270531601651469,
          -1.6646222754130013,
          0.40243397726927077,
          0.34311882064613747,
          0.6259398874778561,
          -1.009481363220773,
          0.2245743366277254,
          0.6600993412912876,
          -1.6075531641768765,
          0.46316037121790465,
          -0.5365819522636401,
          0.33546724504982794,
          0.709807510414665,
          -1.411526231278596,
          0.1236699459010611,
          0.30797864886790227,
          -0.7320151252688502,
          0.9815246074439794,
          0.546198609092013,
          1.7577800559208172,
          0.31626620547227696,
          0.42215646808605684,
          1.4971434747745829,
          -0.13994118394343455,
          0.8020527287884011,
          -0.004972773524476891,
          0.7420408197587705,
          -2.2243504385067503,
          0.11058060408422755,
          -0.07249780625225877,
          0.8482330339326772,
          -0.7747200231185339
         ]
        },
        {
         "histfunc": "count",
         "histnorm": "",
         "marker": {
          "color": "rgba(50, 171, 96, 1.0)",
          "line": {
           "color": "#4D5663",
           "width": 1.3
          }
         },
         "name": "C",
         "opacity": 0.8,
         "orientation": "v",
         "type": "histogram",
         "x": [
          1.463672469166598,
          0.6651197192188135,
          0.37566576496129844,
          1.4791635585415648,
          1.4167798359311785,
          0.6675141209292036,
          0.5894767021021048,
          0.9301212541168372,
          0.27226748556495267,
          -0.06391177027598757,
          1.0010415184193269,
          1.0326165177182174,
          -0.8731298266611605,
          -0.46840514265026345,
          -0.3854634418756403,
          1.2459924037856747,
          0.8457350353558521,
          1.6337799788982934,
          0.7889157293396244,
          -0.6018538929253865,
          -0.545465322430264,
          0.09852540676052758,
          -0.009114980519238224,
          -0.30629952776384767,
          -1.2500465350505152,
          -0.042355212049775645,
          -0.6400215740203627,
          -1.1322927651162251,
          -1.2187668795188207,
          1.6938191102102707,
          -1.492066170203874,
          -0.3502846950994851,
          -1.7995148501102394,
          -1.1519112577389599,
          1.3602019488257686,
          1.0680044955077561,
          -2.161847520754712,
          -0.1555672793909803,
          -0.08755424424509188,
          0.15341729708932367,
          0.8209593576356582,
          0.5078408720603443,
          -0.06243714679218857,
          0.2973074236620757,
          0.7813467485374767,
          0.6973501319285956,
          -1.3783614386516876,
          0.21381270000361954,
          0.13057088665168068,
          -2.0962842050753214,
          -0.9153373599146069,
          -0.9073526341698958,
          0.7407521736326562,
          -1.5693456913844939,
          -0.16817904905543016,
          -0.814255736583778,
          -0.31505303878366353,
          0.6328591794772734,
          0.16821328929726775,
          -1.467656218336898,
          -0.042477711901061595,
          -2.596860879634435,
          0.11885605619163297,
          0.11604594671634334,
          0.45571495458637146,
          -0.8367063080226032,
          -0.4868194124432724,
          -0.6846042002152335,
          0.7787188235294727,
          0.7834546105714999,
          -0.4654595163663431,
          1.0627138382165682,
          -0.9162262576347874,
          0.9987637167369354,
          -0.8419795773955878,
          0.4972884991745363,
          0.5429426100243367,
          -1.2013471669665756,
          -0.22134747995347895,
          -0.9152126365884109,
          -0.6467294188414507,
          -0.02547528848355319,
          0.9620667204717402,
          2.054594371020456,
          -0.5926406463420172,
          -2.2405365890056217,
          -0.17541377487678347,
          0.3838316976959465,
          0.26351375595270154,
          1.80204891106008,
          0.3203700240814719,
          -0.6819345859625005,
          -0.413617630555659,
          0.38409204950645615,
          1.422836558643967,
          -1.208550225097222,
          0.3047803401765312,
          -0.846186163669692,
          0.18881194325830297,
          0.13831523685704977
         ]
        },
        {
         "histfunc": "count",
         "histnorm": "",
         "marker": {
          "color": "rgba(128, 0, 128, 1.0)",
          "line": {
           "color": "#4D5663",
           "width": 1.3
          }
         },
         "name": "D",
         "opacity": 0.8,
         "orientation": "v",
         "type": "histogram",
         "x": [
          -0.518783594996111,
          -2.4134121292767667,
          0.05034939966290155,
          -0.06960957892298734,
          -0.2260588074572653,
          -1.927090999921165,
          0.024635095040146927,
          -0.7441625541298046,
          -0.025683679287609805,
          0.11843513989092828,
          -0.4849087333809206,
          -1.2954358425583201,
          1.0795564645448268,
          -0.6975424576353564,
          -0.2697714644042345,
          1.438968686818738,
          0.39409728828892954,
          -0.6265133870177304,
          -0.07824844526021912,
          -0.08591331765526902,
          0.8049923558872016,
          -1.0295399790894808,
          0.8786188084461379,
          0.46443962318469717,
          1.1761263431906517,
          -0.44440355978282203,
          0.9615156084487653,
          -0.5205899481735078,
          -1.7001403321488082,
          -0.5742156648569211,
          -1.5076041562325455,
          0.14358381613267093,
          1.513624324283302,
          0.20695348581256173,
          -2.4042855181268483,
          1.251628238049774,
          -1.3286629238691323,
          -2.050349258987114,
          0.9419130391059416,
          -0.7692435131584836,
          -0.8103901760540326,
          -0.8559410079422868,
          0.7022159222046942,
          0.03961153229562075,
          0.9446372185380836,
          -0.7598077508633341,
          0.24296278440062496,
          1.6967567370379988,
          -0.3540073619364603,
          1.2807823387911226,
          -0.3048581626816503,
          1.6063731950511038,
          -0.9068007722531073,
          -1.3243575537247236,
          -1.244128218309669,
          -1.850367569260154,
          -0.5710247020667107,
          0.28966820605365357,
          -1.1186418290222262,
          2.8885796606749925,
          -0.25131418682439843,
          -1.2651371623752403,
          -1.7208183825176575,
          -2.379348975057764,
          0.2833705925498279,
          0.9591099681660155,
          -1.0281961398773638,
          0.5430260260149434,
          -1.2345436637795881,
          0.3392535301869327,
          -0.12585274936717322,
          0.5724712772673114,
          1.647704705920134e-05,
          -0.9246796833279284,
          0.5755276455950149,
          1.1969623581801656,
          0.4712654848573027,
          -0.6803956435669573,
          0.6379021895182349,
          0.9897298422219863,
          -1.2442857660093052,
          -0.17387348445545497,
          0.5683303618787926,
          0.10724265170165377,
          0.2778618535670428,
          -0.16522749240533144,
          -0.9385785399474534,
          -0.7750686546066188,
          0.3468413043569452,
          -0.9061856008536254,
          -0.322226460099784,
          -0.462172141008642,
          1.3550041922182134,
          1.2579165177664244,
          -1.2587896313699054,
          -0.6742783069596625,
          0.19371989971395945,
          0.395530183978683,
          -0.6081088049058118,
          0.6488370810754313
         ]
        }
       ],
       "layout": {
        "barmode": "overlay",
        "legend": {
         "bgcolor": "#F5F6F9",
         "font": {
          "color": "#4D5663"
         }
        },
        "paper_bgcolor": "#F5F6F9",
        "plot_bgcolor": "#F5F6F9",
        "template": {
         "data": {
          "bar": [
           {
            "error_x": {
             "color": "#2a3f5f"
            },
            "error_y": {
             "color": "#2a3f5f"
            },
            "marker": {
             "line": {
              "color": "#E5ECF6",
              "width": 0.5
             }
            },
            "type": "bar"
           }
          ],
          "barpolar": [
           {
            "marker": {
             "line": {
              "color": "#E5ECF6",
              "width": 0.5
             }
            },
            "type": "barpolar"
           }
          ],
          "carpet": [
           {
            "aaxis": {
             "endlinecolor": "#2a3f5f",
             "gridcolor": "white",
             "linecolor": "white",
             "minorgridcolor": "white",
             "startlinecolor": "#2a3f5f"
            },
            "baxis": {
             "endlinecolor": "#2a3f5f",
             "gridcolor": "white",
             "linecolor": "white",
             "minorgridcolor": "white",
             "startlinecolor": "#2a3f5f"
            },
            "type": "carpet"
           }
          ],
          "choropleth": [
           {
            "colorbar": {
             "outlinewidth": 0,
             "ticks": ""
            },
            "type": "choropleth"
           }
          ],
          "contour": [
           {
            "colorbar": {
             "outlinewidth": 0,
             "ticks": ""
            },
            "colorscale": [
             [
              0,
              "#0d0887"
             ],
             [
              0.1111111111111111,
              "#46039f"
             ],
             [
              0.2222222222222222,
              "#7201a8"
             ],
             [
              0.3333333333333333,
              "#9c179e"
             ],
             [
              0.4444444444444444,
              "#bd3786"
             ],
             [
              0.5555555555555556,
              "#d8576b"
             ],
             [
              0.6666666666666666,
              "#ed7953"
             ],
             [
              0.7777777777777778,
              "#fb9f3a"
             ],
             [
              0.8888888888888888,
              "#fdca26"
             ],
             [
              1,
              "#f0f921"
             ]
            ],
            "type": "contour"
           }
          ],
          "contourcarpet": [
           {
            "colorbar": {
             "outlinewidth": 0,
             "ticks": ""
            },
            "type": "contourcarpet"
           }
          ],
          "heatmap": [
           {
            "colorbar": {
             "outlinewidth": 0,
             "ticks": ""
            },
            "colorscale": [
             [
              0,
              "#0d0887"
             ],
             [
              0.1111111111111111,
              "#46039f"
             ],
             [
              0.2222222222222222,
              "#7201a8"
             ],
             [
              0.3333333333333333,
              "#9c179e"
             ],
             [
              0.4444444444444444,
              "#bd3786"
             ],
             [
              0.5555555555555556,
              "#d8576b"
             ],
             [
              0.6666666666666666,
              "#ed7953"
             ],
             [
              0.7777777777777778,
              "#fb9f3a"
             ],
             [
              0.8888888888888888,
              "#fdca26"
             ],
             [
              1,
              "#f0f921"
             ]
            ],
            "type": "heatmap"
           }
          ],
          "heatmapgl": [
           {
            "colorbar": {
             "outlinewidth": 0,
             "ticks": ""
            },
            "colorscale": [
             [
              0,
              "#0d0887"
             ],
             [
              0.1111111111111111,
              "#46039f"
             ],
             [
              0.2222222222222222,
              "#7201a8"
             ],
             [
              0.3333333333333333,
              "#9c179e"
             ],
             [
              0.4444444444444444,
              "#bd3786"
             ],
             [
              0.5555555555555556,
              "#d8576b"
             ],
             [
              0.6666666666666666,
              "#ed7953"
             ],
             [
              0.7777777777777778,
              "#fb9f3a"
             ],
             [
              0.8888888888888888,
              "#fdca26"
             ],
             [
              1,
              "#f0f921"
             ]
            ],
            "type": "heatmapgl"
           }
          ],
          "histogram": [
           {
            "marker": {
             "colorbar": {
              "outlinewidth": 0,
              "ticks": ""
             }
            },
            "type": "histogram"
           }
          ],
          "histogram2d": [
           {
            "colorbar": {
             "outlinewidth": 0,
             "ticks": ""
            },
            "colorscale": [
             [
              0,
              "#0d0887"
             ],
             [
              0.1111111111111111,
              "#46039f"
             ],
             [
              0.2222222222222222,
              "#7201a8"
             ],
             [
              0.3333333333333333,
              "#9c179e"
             ],
             [
              0.4444444444444444,
              "#bd3786"
             ],
             [
              0.5555555555555556,
              "#d8576b"
             ],
             [
              0.6666666666666666,
              "#ed7953"
             ],
             [
              0.7777777777777778,
              "#fb9f3a"
             ],
             [
              0.8888888888888888,
              "#fdca26"
             ],
             [
              1,
              "#f0f921"
             ]
            ],
            "type": "histogram2d"
           }
          ],
          "histogram2dcontour": [
           {
            "colorbar": {
             "outlinewidth": 0,
             "ticks": ""
            },
            "colorscale": [
             [
              0,
              "#0d0887"
             ],
             [
              0.1111111111111111,
              "#46039f"
             ],
             [
              0.2222222222222222,
              "#7201a8"
             ],
             [
              0.3333333333333333,
              "#9c179e"
             ],
             [
              0.4444444444444444,
              "#bd3786"
             ],
             [
              0.5555555555555556,
              "#d8576b"
             ],
             [
              0.6666666666666666,
              "#ed7953"
             ],
             [
              0.7777777777777778,
              "#fb9f3a"
             ],
             [
              0.8888888888888888,
              "#fdca26"
             ],
             [
              1,
              "#f0f921"
             ]
            ],
            "type": "histogram2dcontour"
           }
          ],
          "mesh3d": [
           {
            "colorbar": {
             "outlinewidth": 0,
             "ticks": ""
            },
            "type": "mesh3d"
           }
          ],
          "parcoords": [
           {
            "line": {
             "colorbar": {
              "outlinewidth": 0,
              "ticks": ""
             }
            },
            "type": "parcoords"
           }
          ],
          "pie": [
           {
            "automargin": true,
            "type": "pie"
           }
          ],
          "scatter": [
           {
            "marker": {
             "colorbar": {
              "outlinewidth": 0,
              "ticks": ""
             }
            },
            "type": "scatter"
           }
          ],
          "scatter3d": [
           {
            "line": {
             "colorbar": {
              "outlinewidth": 0,
              "ticks": ""
             }
            },
            "marker": {
             "colorbar": {
              "outlinewidth": 0,
              "ticks": ""
             }
            },
            "type": "scatter3d"
           }
          ],
          "scattercarpet": [
           {
            "marker": {
             "colorbar": {
              "outlinewidth": 0,
              "ticks": ""
             }
            },
            "type": "scattercarpet"
           }
          ],
          "scattergeo": [
           {
            "marker": {
             "colorbar": {
              "outlinewidth": 0,
              "ticks": ""
             }
            },
            "type": "scattergeo"
           }
          ],
          "scattergl": [
           {
            "marker": {
             "colorbar": {
              "outlinewidth": 0,
              "ticks": ""
             }
            },
            "type": "scattergl"
           }
          ],
          "scattermapbox": [
           {
            "marker": {
             "colorbar": {
              "outlinewidth": 0,
              "ticks": ""
             }
            },
            "type": "scattermapbox"
           }
          ],
          "scatterpolar": [
           {
            "marker": {
             "colorbar": {
              "outlinewidth": 0,
              "ticks": ""
             }
            },
            "type": "scatterpolar"
           }
          ],
          "scatterpolargl": [
           {
            "marker": {
             "colorbar": {
              "outlinewidth": 0,
              "ticks": ""
             }
            },
            "type": "scatterpolargl"
           }
          ],
          "scatterternary": [
           {
            "marker": {
             "colorbar": {
              "outlinewidth": 0,
              "ticks": ""
             }
            },
            "type": "scatterternary"
           }
          ],
          "surface": [
           {
            "colorbar": {
             "outlinewidth": 0,
             "ticks": ""
            },
            "colorscale": [
             [
              0,
              "#0d0887"
             ],
             [
              0.1111111111111111,
              "#46039f"
             ],
             [
              0.2222222222222222,
              "#7201a8"
             ],
             [
              0.3333333333333333,
              "#9c179e"
             ],
             [
              0.4444444444444444,
              "#bd3786"
             ],
             [
              0.5555555555555556,
              "#d8576b"
             ],
             [
              0.6666666666666666,
              "#ed7953"
             ],
             [
              0.7777777777777778,
              "#fb9f3a"
             ],
             [
              0.8888888888888888,
              "#fdca26"
             ],
             [
              1,
              "#f0f921"
             ]
            ],
            "type": "surface"
           }
          ],
          "table": [
           {
            "cells": {
             "fill": {
              "color": "#EBF0F8"
             },
             "line": {
              "color": "white"
             }
            },
            "header": {
             "fill": {
              "color": "#C8D4E3"
             },
             "line": {
              "color": "white"
             }
            },
            "type": "table"
           }
          ]
         },
         "layout": {
          "annotationdefaults": {
           "arrowcolor": "#2a3f5f",
           "arrowhead": 0,
           "arrowwidth": 1
          },
          "coloraxis": {
           "colorbar": {
            "outlinewidth": 0,
            "ticks": ""
           }
          },
          "colorscale": {
           "diverging": [
            [
             0,
             "#8e0152"
            ],
            [
             0.1,
             "#c51b7d"
            ],
            [
             0.2,
             "#de77ae"
            ],
            [
             0.3,
             "#f1b6da"
            ],
            [
             0.4,
             "#fde0ef"
            ],
            [
             0.5,
             "#f7f7f7"
            ],
            [
             0.6,
             "#e6f5d0"
            ],
            [
             0.7,
             "#b8e186"
            ],
            [
             0.8,
             "#7fbc41"
            ],
            [
             0.9,
             "#4d9221"
            ],
            [
             1,
             "#276419"
            ]
           ],
           "sequential": [
            [
             0,
             "#0d0887"
            ],
            [
             0.1111111111111111,
             "#46039f"
            ],
            [
             0.2222222222222222,
             "#7201a8"
            ],
            [
             0.3333333333333333,
             "#9c179e"
            ],
            [
             0.4444444444444444,
             "#bd3786"
            ],
            [
             0.5555555555555556,
             "#d8576b"
            ],
            [
             0.6666666666666666,
             "#ed7953"
            ],
            [
             0.7777777777777778,
             "#fb9f3a"
            ],
            [
             0.8888888888888888,
             "#fdca26"
            ],
            [
             1,
             "#f0f921"
            ]
           ],
           "sequentialminus": [
            [
             0,
             "#0d0887"
            ],
            [
             0.1111111111111111,
             "#46039f"
            ],
            [
             0.2222222222222222,
             "#7201a8"
            ],
            [
             0.3333333333333333,
             "#9c179e"
            ],
            [
             0.4444444444444444,
             "#bd3786"
            ],
            [
             0.5555555555555556,
             "#d8576b"
            ],
            [
             0.6666666666666666,
             "#ed7953"
            ],
            [
             0.7777777777777778,
             "#fb9f3a"
            ],
            [
             0.8888888888888888,
             "#fdca26"
            ],
            [
             1,
             "#f0f921"
            ]
           ]
          },
          "colorway": [
           "#636efa",
           "#EF553B",
           "#00cc96",
           "#ab63fa",
           "#FFA15A",
           "#19d3f3",
           "#FF6692",
           "#B6E880",
           "#FF97FF",
           "#FECB52"
          ],
          "font": {
           "color": "#2a3f5f"
          },
          "geo": {
           "bgcolor": "white",
           "lakecolor": "white",
           "landcolor": "#E5ECF6",
           "showlakes": true,
           "showland": true,
           "subunitcolor": "white"
          },
          "hoverlabel": {
           "align": "left"
          },
          "hovermode": "closest",
          "mapbox": {
           "style": "light"
          },
          "paper_bgcolor": "white",
          "plot_bgcolor": "#E5ECF6",
          "polar": {
           "angularaxis": {
            "gridcolor": "white",
            "linecolor": "white",
            "ticks": ""
           },
           "bgcolor": "#E5ECF6",
           "radialaxis": {
            "gridcolor": "white",
            "linecolor": "white",
            "ticks": ""
           }
          },
          "scene": {
           "xaxis": {
            "backgroundcolor": "#E5ECF6",
            "gridcolor": "white",
            "gridwidth": 2,
            "linecolor": "white",
            "showbackground": true,
            "ticks": "",
            "zerolinecolor": "white"
           },
           "yaxis": {
            "backgroundcolor": "#E5ECF6",
            "gridcolor": "white",
            "gridwidth": 2,
            "linecolor": "white",
            "showbackground": true,
            "ticks": "",
            "zerolinecolor": "white"
           },
           "zaxis": {
            "backgroundcolor": "#E5ECF6",
            "gridcolor": "white",
            "gridwidth": 2,
            "linecolor": "white",
            "showbackground": true,
            "ticks": "",
            "zerolinecolor": "white"
           }
          },
          "shapedefaults": {
           "line": {
            "color": "#2a3f5f"
           }
          },
          "ternary": {
           "aaxis": {
            "gridcolor": "white",
            "linecolor": "white",
            "ticks": ""
           },
           "baxis": {
            "gridcolor": "white",
            "linecolor": "white",
            "ticks": ""
           },
           "bgcolor": "#E5ECF6",
           "caxis": {
            "gridcolor": "white",
            "linecolor": "white",
            "ticks": ""
           }
          },
          "title": {
           "x": 0.05
          },
          "xaxis": {
           "automargin": true,
           "gridcolor": "white",
           "linecolor": "white",
           "ticks": "",
           "title": {
            "standoff": 15
           },
           "zerolinecolor": "white",
           "zerolinewidth": 2
          },
          "yaxis": {
           "automargin": true,
           "gridcolor": "white",
           "linecolor": "white",
           "ticks": "",
           "title": {
            "standoff": 15
           },
           "zerolinecolor": "white",
           "zerolinewidth": 2
          }
         }
        },
        "title": {
         "font": {
          "color": "#4D5663"
         }
        },
        "xaxis": {
         "gridcolor": "#E1E5ED",
         "showgrid": true,
         "tickfont": {
          "color": "#4D5663"
         },
         "title": {
          "font": {
           "color": "#4D5663"
          },
          "text": ""
         },
         "zerolinecolor": "#E1E5ED"
        },
        "yaxis": {
         "gridcolor": "#E1E5ED",
         "showgrid": true,
         "tickfont": {
          "color": "#4D5663"
         },
         "title": {
          "font": {
           "color": "#4D5663"
          },
          "text": ""
         },
         "zerolinecolor": "#E1E5ED"
        }
       }
      },
      "text/html": [
       "<div>\n",
       "        \n",
       "        \n",
       "            <div id=\"254f2e9a-95e3-4249-8c67-667df42ea669\" class=\"plotly-graph-div\" style=\"height:525px; width:100%;\"></div>\n",
       "            <script type=\"text/javascript\">\n",
       "                require([\"plotly\"], function(Plotly) {\n",
       "                    window.PLOTLYENV=window.PLOTLYENV || {};\n",
       "                    window.PLOTLYENV.BASE_URL='https://plot.ly';\n",
       "                    \n",
       "                if (document.getElementById(\"254f2e9a-95e3-4249-8c67-667df42ea669\")) {\n",
       "                    Plotly.newPlot(\n",
       "                        '254f2e9a-95e3-4249-8c67-667df42ea669',\n",
       "                        [{\"histfunc\": \"count\", \"histnorm\": \"\", \"marker\": {\"color\": \"rgba(255, 153, 51, 1.0)\", \"line\": {\"color\": \"#4D5663\", \"width\": 1.3}}, \"name\": \"A\", \"opacity\": 0.8, \"orientation\": \"v\", \"type\": \"histogram\", \"x\": [0.49289817131910324, -0.3012398972298208, -0.7816068221605069, -0.8090093152211132, 1.4006830146786922, -0.19482583816277718, 0.0604937012147241, 2.119691209922694, 0.7222242598679914, 1.753235420367374, 0.15830729803447974, -0.6341440309522819, -2.283999111080501, 0.5531241386591951, -2.266708116322684, 0.7042723917299197, 0.6092425758622263, -0.340557220856165, -1.3041616905321494, 0.18497826710035706, 0.021565250924974123, -0.006075820444198791, -2.566727147075182, 0.02730521303181981, -0.9939684925220701, -0.6223666531415607, 1.776870439188865, 0.01793289056711191, 0.05680072212956541, 0.43447933306281233, -1.453567536602802, 0.22397366436895907, -0.47782199024703215, 1.339102396303261, 1.6080823076036965, 0.20166945309703094, -1.4037713891573702, 0.5106776942015245, -1.8190377132273154, -1.0337585498673065, 0.5183548692185115, -1.0257448210609061, 0.3360850564164397, 1.6441074102925999, 1.359625493547863, 0.5732793595532124, -0.5467403903693552, 0.40035282535498895, 0.10515275916863191, -0.5263016957839567, -0.04432663132196094, 0.8299882137593065, 0.288974670977, 1.4516357718944564, -0.4111386022214322, -2.1428502676999592, 1.2035300277031884, -1.623937560391315, -0.3132882723386422, -0.5352367479666442, -0.6950356321246792, -0.33190243398305314, 0.26383380532025796, -0.5184732009735258, 0.5207487437274007, -1.5584295495848832, 1.0170403191939565, 0.07373919242253754, 0.39030351930826057, 0.3832708653059387, -0.6111638533706606, 0.2944432971309082, 0.4591500221941663, -1.3000294349405557, 0.8493654040778634, -0.24454619551784645, 2.5784605090664208, 0.3470148257665814, 0.4275832431758216, -0.02006983310330113, -0.22115821773805194, 0.7441606483066695, -2.147666745538417, 0.4022717625020178, 1.015008131996003, -0.9614527011380453, 0.6427549647493842, 0.26275878026670807, -2.1811228596403294, -0.9651264344972399, -1.0807091355825975, -1.2704353852791637, -1.604220193082267, 2.2757599377870004, -0.7460643325640582, -1.0270656913759506, -0.08472691139075982, -0.4397288250502953, -0.4051011158276595, 0.0030321124322531187]}, {\"histfunc\": \"count\", \"histnorm\": \"\", \"marker\": {\"color\": \"rgba(55, 128, 191, 1.0)\", \"line\": {\"color\": \"#4D5663\", \"width\": 1.3}}, \"name\": \"B\", \"opacity\": 0.8, \"orientation\": \"v\", \"type\": \"histogram\", \"x\": [1.788094498128622, -0.44535443686305204, -0.7131795159657938, -0.5554106325242337, -0.21586035461825787, -0.697799365135744, 1.097573763569276, 0.035887813880043605, 2.6195040661181466, 0.6079529137881459, 0.7436248459744537, -0.8618502776351192, -0.47747198195992685, 0.22394260599753302, 0.16778779907716984, -0.21439653722728408, -0.28082534999382414, -0.47247468827363853, -0.4506597477838028, 0.6851240964961288, 1.1619213588272501, -1.0702545218773423, 0.4492565916692249, -1.1452374174231343, 0.6940018241869989, 1.7025908336350206, 0.911095428268713, -0.8390868115640266, 0.1663123644197956, 0.3328100887697817, 0.06435393233991418, -0.3710348748026914, -0.9179829095604276, -0.524999408533106, 0.6652896007479878, 1.5838460732342565, -0.006292105652858107, 0.6036323038736936, -0.476844069070269, 1.1387478354050842, 0.03827391299502421, 1.1285586150173448, 0.14647132562841755, 0.4044039554802493, -0.21088510943267336, -1.6753117569624703, -0.3294821012530378, 0.6607752806792838, -0.13058529121836507, 0.22371960616266628, -0.8188759246483298, -0.5854214437337317, -2.491158593278795, -1.0585519213970385, -0.03288668821960335, 1.8329670294391918, 0.605965626089157, -1.0337333776852846, 0.3155519084756224, 1.6015557409146575, 0.6822350410713564, 2.338739883832616, -1.1730419635505192, 0.6391766373700845, 1.289160748481995, -0.5420518881612237, 0.5071628629766942, -0.40457294813531886, 0.7270531601651469, -1.6646222754130013, 0.40243397726927077, 0.34311882064613747, 0.6259398874778561, -1.009481363220773, 0.2245743366277254, 0.6600993412912876, -1.6075531641768765, 0.46316037121790465, -0.5365819522636401, 0.33546724504982794, 0.709807510414665, -1.411526231278596, 0.1236699459010611, 0.30797864886790227, -0.7320151252688502, 0.9815246074439794, 0.546198609092013, 1.7577800559208172, 0.31626620547227696, 0.42215646808605684, 1.4971434747745829, -0.13994118394343455, 0.8020527287884011, -0.004972773524476891, 0.7420408197587705, -2.2243504385067503, 0.11058060408422755, -0.07249780625225877, 0.8482330339326772, -0.7747200231185339]}, {\"histfunc\": \"count\", \"histnorm\": \"\", \"marker\": {\"color\": \"rgba(50, 171, 96, 1.0)\", \"line\": {\"color\": \"#4D5663\", \"width\": 1.3}}, \"name\": \"C\", \"opacity\": 0.8, \"orientation\": \"v\", \"type\": \"histogram\", \"x\": [1.463672469166598, 0.6651197192188135, 0.37566576496129844, 1.4791635585415648, 1.4167798359311785, 0.6675141209292036, 0.5894767021021048, 0.9301212541168372, 0.27226748556495267, -0.06391177027598757, 1.0010415184193269, 1.0326165177182174, -0.8731298266611605, -0.46840514265026345, -0.3854634418756403, 1.2459924037856747, 0.8457350353558521, 1.6337799788982934, 0.7889157293396244, -0.6018538929253865, -0.545465322430264, 0.09852540676052758, -0.009114980519238224, -0.30629952776384767, -1.2500465350505152, -0.042355212049775645, -0.6400215740203627, -1.1322927651162251, -1.2187668795188207, 1.6938191102102707, -1.492066170203874, -0.3502846950994851, -1.7995148501102394, -1.1519112577389599, 1.3602019488257686, 1.0680044955077561, -2.161847520754712, -0.1555672793909803, -0.08755424424509188, 0.15341729708932367, 0.8209593576356582, 0.5078408720603443, -0.06243714679218857, 0.2973074236620757, 0.7813467485374767, 0.6973501319285956, -1.3783614386516876, 0.21381270000361954, 0.13057088665168068, -2.0962842050753214, -0.9153373599146069, -0.9073526341698958, 0.7407521736326562, -1.5693456913844939, -0.16817904905543016, -0.814255736583778, -0.31505303878366353, 0.6328591794772734, 0.16821328929726775, -1.467656218336898, -0.042477711901061595, -2.596860879634435, 0.11885605619163297, 0.11604594671634334, 0.45571495458637146, -0.8367063080226032, -0.4868194124432724, -0.6846042002152335, 0.7787188235294727, 0.7834546105714999, -0.4654595163663431, 1.0627138382165682, -0.9162262576347874, 0.9987637167369354, -0.8419795773955878, 0.4972884991745363, 0.5429426100243367, -1.2013471669665756, -0.22134747995347895, -0.9152126365884109, -0.6467294188414507, -0.02547528848355319, 0.9620667204717402, 2.054594371020456, -0.5926406463420172, -2.2405365890056217, -0.17541377487678347, 0.3838316976959465, 0.26351375595270154, 1.80204891106008, 0.3203700240814719, -0.6819345859625005, -0.413617630555659, 0.38409204950645615, 1.422836558643967, -1.208550225097222, 0.3047803401765312, -0.846186163669692, 0.18881194325830297, 0.13831523685704977]}, {\"histfunc\": \"count\", \"histnorm\": \"\", \"marker\": {\"color\": \"rgba(128, 0, 128, 1.0)\", \"line\": {\"color\": \"#4D5663\", \"width\": 1.3}}, \"name\": \"D\", \"opacity\": 0.8, \"orientation\": \"v\", \"type\": \"histogram\", \"x\": [-0.518783594996111, -2.4134121292767667, 0.05034939966290155, -0.06960957892298734, -0.2260588074572653, -1.927090999921165, 0.024635095040146927, -0.7441625541298046, -0.025683679287609805, 0.11843513989092828, -0.4849087333809206, -1.2954358425583201, 1.0795564645448268, -0.6975424576353564, -0.2697714644042345, 1.438968686818738, 0.39409728828892954, -0.6265133870177304, -0.07824844526021912, -0.08591331765526902, 0.8049923558872016, -1.0295399790894808, 0.8786188084461379, 0.46443962318469717, 1.1761263431906517, -0.44440355978282203, 0.9615156084487653, -0.5205899481735078, -1.7001403321488082, -0.5742156648569211, -1.5076041562325455, 0.14358381613267093, 1.513624324283302, 0.20695348581256173, -2.4042855181268483, 1.251628238049774, -1.3286629238691323, -2.050349258987114, 0.9419130391059416, -0.7692435131584836, -0.8103901760540326, -0.8559410079422868, 0.7022159222046942, 0.03961153229562075, 0.9446372185380836, -0.7598077508633341, 0.24296278440062496, 1.6967567370379988, -0.3540073619364603, 1.2807823387911226, -0.3048581626816503, 1.6063731950511038, -0.9068007722531073, -1.3243575537247236, -1.244128218309669, -1.850367569260154, -0.5710247020667107, 0.28966820605365357, -1.1186418290222262, 2.8885796606749925, -0.25131418682439843, -1.2651371623752403, -1.7208183825176575, -2.379348975057764, 0.2833705925498279, 0.9591099681660155, -1.0281961398773638, 0.5430260260149434, -1.2345436637795881, 0.3392535301869327, -0.12585274936717322, 0.5724712772673114, 1.647704705920134e-05, -0.9246796833279284, 0.5755276455950149, 1.1969623581801656, 0.4712654848573027, -0.6803956435669573, 0.6379021895182349, 0.9897298422219863, -1.2442857660093052, -0.17387348445545497, 0.5683303618787926, 0.10724265170165377, 0.2778618535670428, -0.16522749240533144, -0.9385785399474534, -0.7750686546066188, 0.3468413043569452, -0.9061856008536254, -0.322226460099784, -0.462172141008642, 1.3550041922182134, 1.2579165177664244, -1.2587896313699054, -0.6742783069596625, 0.19371989971395945, 0.395530183978683, -0.6081088049058118, 0.6488370810754313]}],\n",
       "                        {\"barmode\": \"overlay\", \"legend\": {\"bgcolor\": \"#F5F6F9\", \"font\": {\"color\": \"#4D5663\"}}, \"paper_bgcolor\": \"#F5F6F9\", \"plot_bgcolor\": \"#F5F6F9\", \"template\": {\"data\": {\"bar\": [{\"error_x\": {\"color\": \"#2a3f5f\"}, \"error_y\": {\"color\": \"#2a3f5f\"}, \"marker\": {\"line\": {\"color\": \"#E5ECF6\", \"width\": 0.5}}, \"type\": \"bar\"}], \"barpolar\": [{\"marker\": {\"line\": {\"color\": \"#E5ECF6\", \"width\": 0.5}}, \"type\": \"barpolar\"}], \"carpet\": [{\"aaxis\": {\"endlinecolor\": \"#2a3f5f\", \"gridcolor\": \"white\", \"linecolor\": \"white\", \"minorgridcolor\": \"white\", \"startlinecolor\": \"#2a3f5f\"}, \"baxis\": {\"endlinecolor\": \"#2a3f5f\", \"gridcolor\": \"white\", \"linecolor\": \"white\", \"minorgridcolor\": \"white\", \"startlinecolor\": \"#2a3f5f\"}, \"type\": \"carpet\"}], \"choropleth\": [{\"colorbar\": {\"outlinewidth\": 0, \"ticks\": \"\"}, \"type\": \"choropleth\"}], \"contour\": [{\"colorbar\": {\"outlinewidth\": 0, \"ticks\": \"\"}, \"colorscale\": [[0.0, \"#0d0887\"], [0.1111111111111111, \"#46039f\"], [0.2222222222222222, \"#7201a8\"], [0.3333333333333333, \"#9c179e\"], [0.4444444444444444, \"#bd3786\"], [0.5555555555555556, \"#d8576b\"], [0.6666666666666666, \"#ed7953\"], [0.7777777777777778, \"#fb9f3a\"], [0.8888888888888888, \"#fdca26\"], [1.0, \"#f0f921\"]], \"type\": \"contour\"}], \"contourcarpet\": [{\"colorbar\": {\"outlinewidth\": 0, \"ticks\": \"\"}, \"type\": \"contourcarpet\"}], \"heatmap\": [{\"colorbar\": {\"outlinewidth\": 0, \"ticks\": \"\"}, \"colorscale\": [[0.0, \"#0d0887\"], [0.1111111111111111, \"#46039f\"], [0.2222222222222222, \"#7201a8\"], [0.3333333333333333, \"#9c179e\"], [0.4444444444444444, \"#bd3786\"], [0.5555555555555556, \"#d8576b\"], [0.6666666666666666, \"#ed7953\"], [0.7777777777777778, \"#fb9f3a\"], [0.8888888888888888, \"#fdca26\"], [1.0, \"#f0f921\"]], \"type\": \"heatmap\"}], \"heatmapgl\": [{\"colorbar\": {\"outlinewidth\": 0, \"ticks\": \"\"}, \"colorscale\": [[0.0, \"#0d0887\"], [0.1111111111111111, \"#46039f\"], [0.2222222222222222, \"#7201a8\"], [0.3333333333333333, \"#9c179e\"], [0.4444444444444444, \"#bd3786\"], [0.5555555555555556, \"#d8576b\"], [0.6666666666666666, \"#ed7953\"], [0.7777777777777778, \"#fb9f3a\"], [0.8888888888888888, \"#fdca26\"], [1.0, \"#f0f921\"]], \"type\": \"heatmapgl\"}], \"histogram\": [{\"marker\": {\"colorbar\": {\"outlinewidth\": 0, \"ticks\": \"\"}}, \"type\": \"histogram\"}], \"histogram2d\": [{\"colorbar\": {\"outlinewidth\": 0, \"ticks\": \"\"}, \"colorscale\": [[0.0, \"#0d0887\"], [0.1111111111111111, \"#46039f\"], [0.2222222222222222, \"#7201a8\"], [0.3333333333333333, \"#9c179e\"], [0.4444444444444444, \"#bd3786\"], [0.5555555555555556, \"#d8576b\"], [0.6666666666666666, \"#ed7953\"], [0.7777777777777778, \"#fb9f3a\"], [0.8888888888888888, \"#fdca26\"], [1.0, \"#f0f921\"]], \"type\": \"histogram2d\"}], \"histogram2dcontour\": [{\"colorbar\": {\"outlinewidth\": 0, \"ticks\": \"\"}, \"colorscale\": [[0.0, \"#0d0887\"], [0.1111111111111111, \"#46039f\"], [0.2222222222222222, \"#7201a8\"], [0.3333333333333333, \"#9c179e\"], [0.4444444444444444, \"#bd3786\"], [0.5555555555555556, \"#d8576b\"], [0.6666666666666666, \"#ed7953\"], [0.7777777777777778, \"#fb9f3a\"], [0.8888888888888888, \"#fdca26\"], [1.0, \"#f0f921\"]], \"type\": \"histogram2dcontour\"}], \"mesh3d\": [{\"colorbar\": {\"outlinewidth\": 0, \"ticks\": \"\"}, \"type\": \"mesh3d\"}], \"parcoords\": [{\"line\": {\"colorbar\": {\"outlinewidth\": 0, \"ticks\": \"\"}}, \"type\": \"parcoords\"}], \"pie\": [{\"automargin\": true, \"type\": \"pie\"}], \"scatter\": [{\"marker\": {\"colorbar\": {\"outlinewidth\": 0, \"ticks\": \"\"}}, \"type\": \"scatter\"}], \"scatter3d\": [{\"line\": {\"colorbar\": {\"outlinewidth\": 0, \"ticks\": \"\"}}, \"marker\": {\"colorbar\": {\"outlinewidth\": 0, \"ticks\": \"\"}}, \"type\": \"scatter3d\"}], \"scattercarpet\": [{\"marker\": {\"colorbar\": {\"outlinewidth\": 0, \"ticks\": \"\"}}, \"type\": \"scattercarpet\"}], \"scattergeo\": [{\"marker\": {\"colorbar\": {\"outlinewidth\": 0, \"ticks\": \"\"}}, \"type\": \"scattergeo\"}], \"scattergl\": [{\"marker\": {\"colorbar\": {\"outlinewidth\": 0, \"ticks\": \"\"}}, \"type\": \"scattergl\"}], \"scattermapbox\": [{\"marker\": {\"colorbar\": {\"outlinewidth\": 0, \"ticks\": \"\"}}, \"type\": \"scattermapbox\"}], \"scatterpolar\": [{\"marker\": {\"colorbar\": {\"outlinewidth\": 0, \"ticks\": \"\"}}, \"type\": \"scatterpolar\"}], \"scatterpolargl\": [{\"marker\": {\"colorbar\": {\"outlinewidth\": 0, \"ticks\": \"\"}}, \"type\": \"scatterpolargl\"}], \"scatterternary\": [{\"marker\": {\"colorbar\": {\"outlinewidth\": 0, \"ticks\": \"\"}}, \"type\": \"scatterternary\"}], \"surface\": [{\"colorbar\": {\"outlinewidth\": 0, \"ticks\": \"\"}, \"colorscale\": [[0.0, \"#0d0887\"], [0.1111111111111111, \"#46039f\"], [0.2222222222222222, \"#7201a8\"], [0.3333333333333333, \"#9c179e\"], [0.4444444444444444, \"#bd3786\"], [0.5555555555555556, \"#d8576b\"], [0.6666666666666666, \"#ed7953\"], [0.7777777777777778, \"#fb9f3a\"], [0.8888888888888888, \"#fdca26\"], [1.0, \"#f0f921\"]], \"type\": \"surface\"}], \"table\": [{\"cells\": {\"fill\": {\"color\": \"#EBF0F8\"}, \"line\": {\"color\": \"white\"}}, \"header\": {\"fill\": {\"color\": \"#C8D4E3\"}, \"line\": {\"color\": \"white\"}}, \"type\": \"table\"}]}, \"layout\": {\"annotationdefaults\": {\"arrowcolor\": \"#2a3f5f\", \"arrowhead\": 0, \"arrowwidth\": 1}, \"coloraxis\": {\"colorbar\": {\"outlinewidth\": 0, \"ticks\": \"\"}}, \"colorscale\": {\"diverging\": [[0, \"#8e0152\"], [0.1, \"#c51b7d\"], [0.2, \"#de77ae\"], [0.3, \"#f1b6da\"], [0.4, \"#fde0ef\"], [0.5, \"#f7f7f7\"], [0.6, \"#e6f5d0\"], [0.7, \"#b8e186\"], [0.8, \"#7fbc41\"], [0.9, \"#4d9221\"], [1, \"#276419\"]], \"sequential\": [[0.0, \"#0d0887\"], [0.1111111111111111, \"#46039f\"], [0.2222222222222222, \"#7201a8\"], [0.3333333333333333, \"#9c179e\"], [0.4444444444444444, \"#bd3786\"], [0.5555555555555556, \"#d8576b\"], [0.6666666666666666, \"#ed7953\"], [0.7777777777777778, \"#fb9f3a\"], [0.8888888888888888, \"#fdca26\"], [1.0, \"#f0f921\"]], \"sequentialminus\": [[0.0, \"#0d0887\"], [0.1111111111111111, \"#46039f\"], [0.2222222222222222, \"#7201a8\"], [0.3333333333333333, \"#9c179e\"], [0.4444444444444444, \"#bd3786\"], [0.5555555555555556, \"#d8576b\"], [0.6666666666666666, \"#ed7953\"], [0.7777777777777778, \"#fb9f3a\"], [0.8888888888888888, \"#fdca26\"], [1.0, \"#f0f921\"]]}, \"colorway\": [\"#636efa\", \"#EF553B\", \"#00cc96\", \"#ab63fa\", \"#FFA15A\", \"#19d3f3\", \"#FF6692\", \"#B6E880\", \"#FF97FF\", \"#FECB52\"], \"font\": {\"color\": \"#2a3f5f\"}, \"geo\": {\"bgcolor\": \"white\", \"lakecolor\": \"white\", \"landcolor\": \"#E5ECF6\", \"showlakes\": true, \"showland\": true, \"subunitcolor\": \"white\"}, \"hoverlabel\": {\"align\": \"left\"}, \"hovermode\": \"closest\", \"mapbox\": {\"style\": \"light\"}, \"paper_bgcolor\": \"white\", \"plot_bgcolor\": \"#E5ECF6\", \"polar\": {\"angularaxis\": {\"gridcolor\": \"white\", \"linecolor\": \"white\", \"ticks\": \"\"}, \"bgcolor\": \"#E5ECF6\", \"radialaxis\": {\"gridcolor\": \"white\", \"linecolor\": \"white\", \"ticks\": \"\"}}, \"scene\": {\"xaxis\": {\"backgroundcolor\": \"#E5ECF6\", \"gridcolor\": \"white\", \"gridwidth\": 2, \"linecolor\": \"white\", \"showbackground\": true, \"ticks\": \"\", \"zerolinecolor\": \"white\"}, \"yaxis\": {\"backgroundcolor\": \"#E5ECF6\", \"gridcolor\": \"white\", \"gridwidth\": 2, \"linecolor\": \"white\", \"showbackground\": true, \"ticks\": \"\", \"zerolinecolor\": \"white\"}, \"zaxis\": {\"backgroundcolor\": \"#E5ECF6\", \"gridcolor\": \"white\", \"gridwidth\": 2, \"linecolor\": \"white\", \"showbackground\": true, \"ticks\": \"\", \"zerolinecolor\": \"white\"}}, \"shapedefaults\": {\"line\": {\"color\": \"#2a3f5f\"}}, \"ternary\": {\"aaxis\": {\"gridcolor\": \"white\", \"linecolor\": \"white\", \"ticks\": \"\"}, \"baxis\": {\"gridcolor\": \"white\", \"linecolor\": \"white\", \"ticks\": \"\"}, \"bgcolor\": \"#E5ECF6\", \"caxis\": {\"gridcolor\": \"white\", \"linecolor\": \"white\", \"ticks\": \"\"}}, \"title\": {\"x\": 0.05}, \"xaxis\": {\"automargin\": true, \"gridcolor\": \"white\", \"linecolor\": \"white\", \"ticks\": \"\", \"title\": {\"standoff\": 15}, \"zerolinecolor\": \"white\", \"zerolinewidth\": 2}, \"yaxis\": {\"automargin\": true, \"gridcolor\": \"white\", \"linecolor\": \"white\", \"ticks\": \"\", \"title\": {\"standoff\": 15}, \"zerolinecolor\": \"white\", \"zerolinewidth\": 2}}}, \"title\": {\"font\": {\"color\": \"#4D5663\"}}, \"xaxis\": {\"gridcolor\": \"#E1E5ED\", \"showgrid\": true, \"tickfont\": {\"color\": \"#4D5663\"}, \"title\": {\"font\": {\"color\": \"#4D5663\"}, \"text\": \"\"}, \"zerolinecolor\": \"#E1E5ED\"}, \"yaxis\": {\"gridcolor\": \"#E1E5ED\", \"showgrid\": true, \"tickfont\": {\"color\": \"#4D5663\"}, \"title\": {\"font\": {\"color\": \"#4D5663\"}, \"text\": \"\"}, \"zerolinecolor\": \"#E1E5ED\"}},\n",
       "                        {\"showLink\": true, \"linkText\": \"Export to plot.ly\", \"plotlyServerURL\": \"https://plot.ly\", \"responsive\": true}\n",
       "                    ).then(function(){\n",
       "                            \n",
       "var gd = document.getElementById('254f2e9a-95e3-4249-8c67-667df42ea669');\n",
       "var x = new MutationObserver(function (mutations, observer) {{\n",
       "        var display = window.getComputedStyle(gd).display;\n",
       "        if (!display || display === 'none') {{\n",
       "            console.log([gd, 'removed!']);\n",
       "            Plotly.purge(gd);\n",
       "            observer.disconnect();\n",
       "        }}\n",
       "}});\n",
       "\n",
       "// Listen for the removal of the full notebook cells\n",
       "var notebookContainer = gd.closest('#notebook-container');\n",
       "if (notebookContainer) {{\n",
       "    x.observe(notebookContainer, {childList: true});\n",
       "}}\n",
       "\n",
       "// Listen for the clearing of the current output cell\n",
       "var outputEl = gd.closest('.output');\n",
       "if (outputEl) {{\n",
       "    x.observe(outputEl, {childList: true});\n",
       "}}\n",
       "\n",
       "                        })\n",
       "                };\n",
       "                });\n",
       "            </script>\n",
       "        </div>"
      ]
     },
     "metadata": {},
     "output_type": "display_data"
    }
   ],
   "source": [
    "df.iplot(kind='hist')"
   ]
  },
  {
   "cell_type": "code",
   "execution_count": 26,
   "metadata": {},
   "outputs": [
    {
     "name": "stderr",
     "output_type": "stream",
     "text": [
      "C:\\ProgramData\\Anaconda3\\lib\\site-packages\\cufflinks\\plotlytools.py:849: FutureWarning:\n",
      "\n",
      "The pandas.np module is deprecated and will be removed from pandas in a future version. Import numpy directly instead\n",
      "\n",
      "C:\\ProgramData\\Anaconda3\\lib\\site-packages\\cufflinks\\plotlytools.py:850: FutureWarning:\n",
      "\n",
      "The pandas.np module is deprecated and will be removed from pandas in a future version. Import numpy directly instead\n",
      "\n"
     ]
    },
    {
     "data": {
      "application/vnd.plotly.v1+json": {
       "config": {
        "linkText": "Export to plot.ly",
        "plotlyServerURL": "https://plot.ly",
        "showLink": true
       },
       "data": [
        {
         "line": {
          "color": "rgba(255, 153, 51, 1.0)",
          "dash": "solid",
          "shape": "linear",
          "width": 1.3
         },
         "mode": "lines",
         "name": "A",
         "text": "",
         "type": "scatter",
         "x": [
          0,
          1,
          2,
          3,
          4,
          5,
          6,
          7,
          8,
          9,
          10,
          11,
          12,
          13,
          14,
          15,
          16,
          17,
          18,
          19,
          20,
          21,
          22,
          23,
          24,
          25,
          26,
          27,
          28,
          29,
          30,
          31,
          32,
          33,
          34,
          35,
          36,
          37,
          38,
          39,
          40,
          41,
          42,
          43,
          44,
          45,
          46,
          47,
          48,
          49,
          50,
          51,
          52,
          53,
          54,
          55,
          56,
          57,
          58,
          59,
          60,
          61,
          62,
          63,
          64,
          65,
          66,
          67,
          68,
          69,
          70,
          71,
          72,
          73,
          74,
          75,
          76,
          77,
          78,
          79,
          80,
          81,
          82,
          83,
          84,
          85,
          86,
          87,
          88,
          89,
          90,
          91,
          92,
          93,
          94,
          95,
          96,
          97,
          98,
          99
         ],
         "y": [
          0.49289817131910324,
          -0.3012398972298208,
          -0.7816068221605069,
          -0.8090093152211132,
          1.4006830146786922,
          -0.19482583816277718,
          0.0604937012147241,
          2.119691209922694,
          0.7222242598679914,
          1.753235420367374,
          0.15830729803447974,
          -0.6341440309522819,
          -2.283999111080501,
          0.5531241386591951,
          -2.266708116322684,
          0.7042723917299197,
          0.6092425758622263,
          -0.340557220856165,
          -1.3041616905321494,
          0.18497826710035706,
          0.021565250924974123,
          -0.006075820444198791,
          -2.566727147075182,
          0.02730521303181981,
          -0.9939684925220701,
          -0.6223666531415607,
          1.776870439188865,
          0.01793289056711191,
          0.05680072212956541,
          0.43447933306281233,
          -1.453567536602802,
          0.22397366436895907,
          -0.47782199024703215,
          1.339102396303261,
          1.6080823076036965,
          0.20166945309703094,
          -1.4037713891573702,
          0.5106776942015245,
          -1.8190377132273154,
          -1.0337585498673065,
          0.5183548692185115,
          -1.0257448210609061,
          0.3360850564164397,
          1.6441074102925999,
          1.359625493547863,
          0.5732793595532124,
          -0.5467403903693552,
          0.40035282535498895,
          0.10515275916863191,
          -0.5263016957839567,
          -0.04432663132196094,
          0.8299882137593065,
          0.288974670977,
          1.4516357718944564,
          -0.4111386022214322,
          -2.1428502676999592,
          1.2035300277031884,
          -1.623937560391315,
          -0.3132882723386422,
          -0.5352367479666442,
          -0.6950356321246792,
          -0.33190243398305314,
          0.26383380532025796,
          -0.5184732009735258,
          0.5207487437274007,
          -1.5584295495848832,
          1.0170403191939565,
          0.07373919242253754,
          0.39030351930826057,
          0.3832708653059387,
          -0.6111638533706606,
          0.2944432971309082,
          0.4591500221941663,
          -1.3000294349405557,
          0.8493654040778634,
          -0.24454619551784645,
          2.5784605090664208,
          0.3470148257665814,
          0.4275832431758216,
          -0.02006983310330113,
          -0.22115821773805194,
          0.7441606483066695,
          -2.147666745538417,
          0.4022717625020178,
          1.015008131996003,
          -0.9614527011380453,
          0.6427549647493842,
          0.26275878026670807,
          -2.1811228596403294,
          -0.9651264344972399,
          -1.0807091355825975,
          -1.2704353852791637,
          -1.604220193082267,
          2.2757599377870004,
          -0.7460643325640582,
          -1.0270656913759506,
          -0.08472691139075982,
          -0.4397288250502953,
          -0.4051011158276595,
          0.0030321124322531187
         ]
        },
        {
         "line": {
          "color": "rgba(55, 128, 191, 1.0)",
          "dash": "solid",
          "shape": "linear",
          "width": 1.3
         },
         "mode": "lines",
         "name": "B",
         "text": "",
         "type": "scatter",
         "x": [
          0,
          1,
          2,
          3,
          4,
          5,
          6,
          7,
          8,
          9,
          10,
          11,
          12,
          13,
          14,
          15,
          16,
          17,
          18,
          19,
          20,
          21,
          22,
          23,
          24,
          25,
          26,
          27,
          28,
          29,
          30,
          31,
          32,
          33,
          34,
          35,
          36,
          37,
          38,
          39,
          40,
          41,
          42,
          43,
          44,
          45,
          46,
          47,
          48,
          49,
          50,
          51,
          52,
          53,
          54,
          55,
          56,
          57,
          58,
          59,
          60,
          61,
          62,
          63,
          64,
          65,
          66,
          67,
          68,
          69,
          70,
          71,
          72,
          73,
          74,
          75,
          76,
          77,
          78,
          79,
          80,
          81,
          82,
          83,
          84,
          85,
          86,
          87,
          88,
          89,
          90,
          91,
          92,
          93,
          94,
          95,
          96,
          97,
          98,
          99
         ],
         "y": [
          1.788094498128622,
          -0.44535443686305204,
          -0.7131795159657938,
          -0.5554106325242337,
          -0.21586035461825787,
          -0.697799365135744,
          1.097573763569276,
          0.035887813880043605,
          2.6195040661181466,
          0.6079529137881459,
          0.7436248459744537,
          -0.8618502776351192,
          -0.47747198195992685,
          0.22394260599753302,
          0.16778779907716984,
          -0.21439653722728408,
          -0.28082534999382414,
          -0.47247468827363853,
          -0.4506597477838028,
          0.6851240964961288,
          1.1619213588272501,
          -1.0702545218773423,
          0.4492565916692249,
          -1.1452374174231343,
          0.6940018241869989,
          1.7025908336350206,
          0.911095428268713,
          -0.8390868115640266,
          0.1663123644197956,
          0.3328100887697817,
          0.06435393233991418,
          -0.3710348748026914,
          -0.9179829095604276,
          -0.524999408533106,
          0.6652896007479878,
          1.5838460732342565,
          -0.006292105652858107,
          0.6036323038736936,
          -0.476844069070269,
          1.1387478354050842,
          0.03827391299502421,
          1.1285586150173448,
          0.14647132562841755,
          0.4044039554802493,
          -0.21088510943267336,
          -1.6753117569624703,
          -0.3294821012530378,
          0.6607752806792838,
          -0.13058529121836507,
          0.22371960616266628,
          -0.8188759246483298,
          -0.5854214437337317,
          -2.491158593278795,
          -1.0585519213970385,
          -0.03288668821960335,
          1.8329670294391918,
          0.605965626089157,
          -1.0337333776852846,
          0.3155519084756224,
          1.6015557409146575,
          0.6822350410713564,
          2.338739883832616,
          -1.1730419635505192,
          0.6391766373700845,
          1.289160748481995,
          -0.5420518881612237,
          0.5071628629766942,
          -0.40457294813531886,
          0.7270531601651469,
          -1.6646222754130013,
          0.40243397726927077,
          0.34311882064613747,
          0.6259398874778561,
          -1.009481363220773,
          0.2245743366277254,
          0.6600993412912876,
          -1.6075531641768765,
          0.46316037121790465,
          -0.5365819522636401,
          0.33546724504982794,
          0.709807510414665,
          -1.411526231278596,
          0.1236699459010611,
          0.30797864886790227,
          -0.7320151252688502,
          0.9815246074439794,
          0.546198609092013,
          1.7577800559208172,
          0.31626620547227696,
          0.42215646808605684,
          1.4971434747745829,
          -0.13994118394343455,
          0.8020527287884011,
          -0.004972773524476891,
          0.7420408197587705,
          -2.2243504385067503,
          0.11058060408422755,
          -0.07249780625225877,
          0.8482330339326772,
          -0.7747200231185339
         ]
        },
        {
         "connectgaps": false,
         "fill": "tozeroy",
         "line": {
          "color": "green",
          "dash": "solid",
          "shape": "linear",
          "width": 0.5
         },
         "mode": "lines",
         "name": "Spread",
         "showlegend": false,
         "type": "scatter",
         "x": [
          0,
          1,
          2,
          3,
          4,
          5,
          6,
          7,
          8,
          9,
          10,
          11,
          12,
          13,
          14,
          15,
          16,
          17,
          18,
          19,
          20,
          21,
          22,
          23,
          24,
          25,
          26,
          27,
          28,
          29,
          30,
          31,
          32,
          33,
          34,
          35,
          36,
          37,
          38,
          39,
          40,
          41,
          42,
          43,
          44,
          45,
          46,
          47,
          48,
          49,
          50,
          51,
          52,
          53,
          54,
          55,
          56,
          57,
          58,
          59,
          60,
          61,
          62,
          63,
          64,
          65,
          66,
          67,
          68,
          69,
          70,
          71,
          72,
          73,
          74,
          75,
          76,
          77,
          78,
          79,
          80,
          81,
          82,
          83,
          84,
          85,
          86,
          87,
          88,
          89,
          90,
          91,
          92,
          93,
          94,
          95,
          96,
          97,
          98,
          99
         ],
         "xaxis": "x2",
         "y": [
          "",
          0.14411453963323123,
          "",
          "",
          1.61654336929695,
          0.5029735269729668,
          "",
          2.0838033960426503,
          "",
          1.145282506579228,
          "",
          0.22770624668283734,
          "",
          0.32918153266166206,
          "",
          0.9186689289572039,
          0.8900679258560504,
          0.1319174674174735,
          "",
          "",
          "",
          1.0641787014331434,
          "",
          1.1725426304549542,
          "",
          "",
          0.865775010920152,
          0.8570197021311385,
          "",
          0.10166924429303065,
          "",
          0.5950085391716504,
          0.44016091931339546,
          1.864101804836367,
          0.9427927068557087,
          "",
          "",
          "",
          "",
          "",
          0.4800809562234873,
          "",
          0.18961373078802216,
          1.2397034548123504,
          1.5705106029805365,
          2.2485911165156827,
          "",
          "",
          0.23573805038699697,
          "",
          0.7745492933263689,
          1.4154096574930382,
          2.780133264255795,
          2.5101876932914946,
          "",
          "",
          0.5975644016140313,
          "",
          "",
          "",
          "",
          "",
          1.4368757688707772,
          "",
          "",
          "",
          0.5098774562172623,
          0.4783121405578564,
          "",
          2.04789314071894,
          "",
          "",
          "",
          "",
          0.624791067450138,
          "",
          4.1860136732432975,
          "",
          0.9641651954394617,
          "",
          "",
          2.1556868795852657,
          "",
          0.09429311363411552,
          1.747023257264853,
          "",
          0.0965563556573712,
          "",
          "",
          "",
          "",
          "",
          "",
          2.2807327113114773,
          "",
          1.1972847471307997,
          "",
          "",
          "",
          0.777752135550787
         ],
         "yaxis": "y2"
        },
        {
         "connectgaps": false,
         "fill": "tozeroy",
         "line": {
          "color": "red",
          "dash": "solid",
          "shape": "linear",
          "width": 0.5
         },
         "mode": "lines",
         "name": "Spread",
         "showlegend": false,
         "type": "scatter",
         "x": [
          0,
          1,
          2,
          3,
          4,
          5,
          6,
          7,
          8,
          9,
          10,
          11,
          12,
          13,
          14,
          15,
          16,
          17,
          18,
          19,
          20,
          21,
          22,
          23,
          24,
          25,
          26,
          27,
          28,
          29,
          30,
          31,
          32,
          33,
          34,
          35,
          36,
          37,
          38,
          39,
          40,
          41,
          42,
          43,
          44,
          45,
          46,
          47,
          48,
          49,
          50,
          51,
          52,
          53,
          54,
          55,
          56,
          57,
          58,
          59,
          60,
          61,
          62,
          63,
          64,
          65,
          66,
          67,
          68,
          69,
          70,
          71,
          72,
          73,
          74,
          75,
          76,
          77,
          78,
          79,
          80,
          81,
          82,
          83,
          84,
          85,
          86,
          87,
          88,
          89,
          90,
          91,
          92,
          93,
          94,
          95,
          96,
          97,
          98,
          99
         ],
         "xaxis": "x2",
         "y": [
          -1.2951963268095188,
          "",
          -0.06842730619471316,
          -0.25359868269687946,
          "",
          "",
          -1.0370800623545517,
          "",
          -1.8972798062501552,
          "",
          -0.5853175479399739,
          "",
          -1.806527129120574,
          "",
          -2.4344959153998538,
          "",
          "",
          "",
          -0.8535019427483466,
          -0.5001458293957718,
          -1.140356107902276,
          "",
          -3.015983738744407,
          "",
          -1.687970316709069,
          -2.324957486776581,
          "",
          "",
          -0.1095116422902302,
          "",
          -1.5179214689427163,
          "",
          "",
          "",
          "",
          -1.3821766201372256,
          -1.397479283504512,
          -0.09295460967216906,
          -1.3421936441570463,
          -2.1725063852723907,
          "",
          -2.154303436078251,
          "",
          "",
          "",
          "",
          -0.2172582891163174,
          -0.26042245532429487,
          "",
          -0.750021301946623,
          "",
          "",
          "",
          "",
          -0.3782519140018289,
          -3.9758172971391508,
          "",
          -0.5902041827060305,
          -0.6288401808142646,
          -2.1367924888813015,
          -1.3772706731960356,
          -2.670642317815669,
          "",
          -1.1576498383436102,
          -0.7684120047545943,
          -1.0163776614236595,
          "",
          "",
          -0.3367496408568863,
          "",
          -1.0135978306399314,
          -0.048675523515229246,
          -0.16678986528368983,
          -0.2905480717197826,
          "",
          -0.904645536809134,
          "",
          -0.11614554545132327,
          "",
          -0.35553707815312907,
          -0.930965728152717,
          "",
          -2.271336691439478,
          "",
          "",
          -1.9429773085820248,
          "",
          -1.4950212756541092,
          -2.4973890651126065,
          -1.3872829025832967,
          -2.5778526103571804,
          -1.130494201335729,
          -2.406272921870668,
          "",
          -1.4881051523228286,
          "",
          -0.19530751547498737,
          -0.36723101879803655,
          -1.2533341497603367,
          ""
         ],
         "yaxis": "y2"
        }
       ],
       "layout": {
        "hovermode": "x",
        "legend": {
         "bgcolor": "#F5F6F9",
         "font": {
          "color": "#4D5663"
         }
        },
        "paper_bgcolor": "#F5F6F9",
        "plot_bgcolor": "#F5F6F9",
        "template": {
         "data": {
          "bar": [
           {
            "error_x": {
             "color": "#2a3f5f"
            },
            "error_y": {
             "color": "#2a3f5f"
            },
            "marker": {
             "line": {
              "color": "#E5ECF6",
              "width": 0.5
             }
            },
            "type": "bar"
           }
          ],
          "barpolar": [
           {
            "marker": {
             "line": {
              "color": "#E5ECF6",
              "width": 0.5
             }
            },
            "type": "barpolar"
           }
          ],
          "carpet": [
           {
            "aaxis": {
             "endlinecolor": "#2a3f5f",
             "gridcolor": "white",
             "linecolor": "white",
             "minorgridcolor": "white",
             "startlinecolor": "#2a3f5f"
            },
            "baxis": {
             "endlinecolor": "#2a3f5f",
             "gridcolor": "white",
             "linecolor": "white",
             "minorgridcolor": "white",
             "startlinecolor": "#2a3f5f"
            },
            "type": "carpet"
           }
          ],
          "choropleth": [
           {
            "colorbar": {
             "outlinewidth": 0,
             "ticks": ""
            },
            "type": "choropleth"
           }
          ],
          "contour": [
           {
            "colorbar": {
             "outlinewidth": 0,
             "ticks": ""
            },
            "colorscale": [
             [
              0,
              "#0d0887"
             ],
             [
              0.1111111111111111,
              "#46039f"
             ],
             [
              0.2222222222222222,
              "#7201a8"
             ],
             [
              0.3333333333333333,
              "#9c179e"
             ],
             [
              0.4444444444444444,
              "#bd3786"
             ],
             [
              0.5555555555555556,
              "#d8576b"
             ],
             [
              0.6666666666666666,
              "#ed7953"
             ],
             [
              0.7777777777777778,
              "#fb9f3a"
             ],
             [
              0.8888888888888888,
              "#fdca26"
             ],
             [
              1,
              "#f0f921"
             ]
            ],
            "type": "contour"
           }
          ],
          "contourcarpet": [
           {
            "colorbar": {
             "outlinewidth": 0,
             "ticks": ""
            },
            "type": "contourcarpet"
           }
          ],
          "heatmap": [
           {
            "colorbar": {
             "outlinewidth": 0,
             "ticks": ""
            },
            "colorscale": [
             [
              0,
              "#0d0887"
             ],
             [
              0.1111111111111111,
              "#46039f"
             ],
             [
              0.2222222222222222,
              "#7201a8"
             ],
             [
              0.3333333333333333,
              "#9c179e"
             ],
             [
              0.4444444444444444,
              "#bd3786"
             ],
             [
              0.5555555555555556,
              "#d8576b"
             ],
             [
              0.6666666666666666,
              "#ed7953"
             ],
             [
              0.7777777777777778,
              "#fb9f3a"
             ],
             [
              0.8888888888888888,
              "#fdca26"
             ],
             [
              1,
              "#f0f921"
             ]
            ],
            "type": "heatmap"
           }
          ],
          "heatmapgl": [
           {
            "colorbar": {
             "outlinewidth": 0,
             "ticks": ""
            },
            "colorscale": [
             [
              0,
              "#0d0887"
             ],
             [
              0.1111111111111111,
              "#46039f"
             ],
             [
              0.2222222222222222,
              "#7201a8"
             ],
             [
              0.3333333333333333,
              "#9c179e"
             ],
             [
              0.4444444444444444,
              "#bd3786"
             ],
             [
              0.5555555555555556,
              "#d8576b"
             ],
             [
              0.6666666666666666,
              "#ed7953"
             ],
             [
              0.7777777777777778,
              "#fb9f3a"
             ],
             [
              0.8888888888888888,
              "#fdca26"
             ],
             [
              1,
              "#f0f921"
             ]
            ],
            "type": "heatmapgl"
           }
          ],
          "histogram": [
           {
            "marker": {
             "colorbar": {
              "outlinewidth": 0,
              "ticks": ""
             }
            },
            "type": "histogram"
           }
          ],
          "histogram2d": [
           {
            "colorbar": {
             "outlinewidth": 0,
             "ticks": ""
            },
            "colorscale": [
             [
              0,
              "#0d0887"
             ],
             [
              0.1111111111111111,
              "#46039f"
             ],
             [
              0.2222222222222222,
              "#7201a8"
             ],
             [
              0.3333333333333333,
              "#9c179e"
             ],
             [
              0.4444444444444444,
              "#bd3786"
             ],
             [
              0.5555555555555556,
              "#d8576b"
             ],
             [
              0.6666666666666666,
              "#ed7953"
             ],
             [
              0.7777777777777778,
              "#fb9f3a"
             ],
             [
              0.8888888888888888,
              "#fdca26"
             ],
             [
              1,
              "#f0f921"
             ]
            ],
            "type": "histogram2d"
           }
          ],
          "histogram2dcontour": [
           {
            "colorbar": {
             "outlinewidth": 0,
             "ticks": ""
            },
            "colorscale": [
             [
              0,
              "#0d0887"
             ],
             [
              0.1111111111111111,
              "#46039f"
             ],
             [
              0.2222222222222222,
              "#7201a8"
             ],
             [
              0.3333333333333333,
              "#9c179e"
             ],
             [
              0.4444444444444444,
              "#bd3786"
             ],
             [
              0.5555555555555556,
              "#d8576b"
             ],
             [
              0.6666666666666666,
              "#ed7953"
             ],
             [
              0.7777777777777778,
              "#fb9f3a"
             ],
             [
              0.8888888888888888,
              "#fdca26"
             ],
             [
              1,
              "#f0f921"
             ]
            ],
            "type": "histogram2dcontour"
           }
          ],
          "mesh3d": [
           {
            "colorbar": {
             "outlinewidth": 0,
             "ticks": ""
            },
            "type": "mesh3d"
           }
          ],
          "parcoords": [
           {
            "line": {
             "colorbar": {
              "outlinewidth": 0,
              "ticks": ""
             }
            },
            "type": "parcoords"
           }
          ],
          "pie": [
           {
            "automargin": true,
            "type": "pie"
           }
          ],
          "scatter": [
           {
            "marker": {
             "colorbar": {
              "outlinewidth": 0,
              "ticks": ""
             }
            },
            "type": "scatter"
           }
          ],
          "scatter3d": [
           {
            "line": {
             "colorbar": {
              "outlinewidth": 0,
              "ticks": ""
             }
            },
            "marker": {
             "colorbar": {
              "outlinewidth": 0,
              "ticks": ""
             }
            },
            "type": "scatter3d"
           }
          ],
          "scattercarpet": [
           {
            "marker": {
             "colorbar": {
              "outlinewidth": 0,
              "ticks": ""
             }
            },
            "type": "scattercarpet"
           }
          ],
          "scattergeo": [
           {
            "marker": {
             "colorbar": {
              "outlinewidth": 0,
              "ticks": ""
             }
            },
            "type": "scattergeo"
           }
          ],
          "scattergl": [
           {
            "marker": {
             "colorbar": {
              "outlinewidth": 0,
              "ticks": ""
             }
            },
            "type": "scattergl"
           }
          ],
          "scattermapbox": [
           {
            "marker": {
             "colorbar": {
              "outlinewidth": 0,
              "ticks": ""
             }
            },
            "type": "scattermapbox"
           }
          ],
          "scatterpolar": [
           {
            "marker": {
             "colorbar": {
              "outlinewidth": 0,
              "ticks": ""
             }
            },
            "type": "scatterpolar"
           }
          ],
          "scatterpolargl": [
           {
            "marker": {
             "colorbar": {
              "outlinewidth": 0,
              "ticks": ""
             }
            },
            "type": "scatterpolargl"
           }
          ],
          "scatterternary": [
           {
            "marker": {
             "colorbar": {
              "outlinewidth": 0,
              "ticks": ""
             }
            },
            "type": "scatterternary"
           }
          ],
          "surface": [
           {
            "colorbar": {
             "outlinewidth": 0,
             "ticks": ""
            },
            "colorscale": [
             [
              0,
              "#0d0887"
             ],
             [
              0.1111111111111111,
              "#46039f"
             ],
             [
              0.2222222222222222,
              "#7201a8"
             ],
             [
              0.3333333333333333,
              "#9c179e"
             ],
             [
              0.4444444444444444,
              "#bd3786"
             ],
             [
              0.5555555555555556,
              "#d8576b"
             ],
             [
              0.6666666666666666,
              "#ed7953"
             ],
             [
              0.7777777777777778,
              "#fb9f3a"
             ],
             [
              0.8888888888888888,
              "#fdca26"
             ],
             [
              1,
              "#f0f921"
             ]
            ],
            "type": "surface"
           }
          ],
          "table": [
           {
            "cells": {
             "fill": {
              "color": "#EBF0F8"
             },
             "line": {
              "color": "white"
             }
            },
            "header": {
             "fill": {
              "color": "#C8D4E3"
             },
             "line": {
              "color": "white"
             }
            },
            "type": "table"
           }
          ]
         },
         "layout": {
          "annotationdefaults": {
           "arrowcolor": "#2a3f5f",
           "arrowhead": 0,
           "arrowwidth": 1
          },
          "coloraxis": {
           "colorbar": {
            "outlinewidth": 0,
            "ticks": ""
           }
          },
          "colorscale": {
           "diverging": [
            [
             0,
             "#8e0152"
            ],
            [
             0.1,
             "#c51b7d"
            ],
            [
             0.2,
             "#de77ae"
            ],
            [
             0.3,
             "#f1b6da"
            ],
            [
             0.4,
             "#fde0ef"
            ],
            [
             0.5,
             "#f7f7f7"
            ],
            [
             0.6,
             "#e6f5d0"
            ],
            [
             0.7,
             "#b8e186"
            ],
            [
             0.8,
             "#7fbc41"
            ],
            [
             0.9,
             "#4d9221"
            ],
            [
             1,
             "#276419"
            ]
           ],
           "sequential": [
            [
             0,
             "#0d0887"
            ],
            [
             0.1111111111111111,
             "#46039f"
            ],
            [
             0.2222222222222222,
             "#7201a8"
            ],
            [
             0.3333333333333333,
             "#9c179e"
            ],
            [
             0.4444444444444444,
             "#bd3786"
            ],
            [
             0.5555555555555556,
             "#d8576b"
            ],
            [
             0.6666666666666666,
             "#ed7953"
            ],
            [
             0.7777777777777778,
             "#fb9f3a"
            ],
            [
             0.8888888888888888,
             "#fdca26"
            ],
            [
             1,
             "#f0f921"
            ]
           ],
           "sequentialminus": [
            [
             0,
             "#0d0887"
            ],
            [
             0.1111111111111111,
             "#46039f"
            ],
            [
             0.2222222222222222,
             "#7201a8"
            ],
            [
             0.3333333333333333,
             "#9c179e"
            ],
            [
             0.4444444444444444,
             "#bd3786"
            ],
            [
             0.5555555555555556,
             "#d8576b"
            ],
            [
             0.6666666666666666,
             "#ed7953"
            ],
            [
             0.7777777777777778,
             "#fb9f3a"
            ],
            [
             0.8888888888888888,
             "#fdca26"
            ],
            [
             1,
             "#f0f921"
            ]
           ]
          },
          "colorway": [
           "#636efa",
           "#EF553B",
           "#00cc96",
           "#ab63fa",
           "#FFA15A",
           "#19d3f3",
           "#FF6692",
           "#B6E880",
           "#FF97FF",
           "#FECB52"
          ],
          "font": {
           "color": "#2a3f5f"
          },
          "geo": {
           "bgcolor": "white",
           "lakecolor": "white",
           "landcolor": "#E5ECF6",
           "showlakes": true,
           "showland": true,
           "subunitcolor": "white"
          },
          "hoverlabel": {
           "align": "left"
          },
          "hovermode": "closest",
          "mapbox": {
           "style": "light"
          },
          "paper_bgcolor": "white",
          "plot_bgcolor": "#E5ECF6",
          "polar": {
           "angularaxis": {
            "gridcolor": "white",
            "linecolor": "white",
            "ticks": ""
           },
           "bgcolor": "#E5ECF6",
           "radialaxis": {
            "gridcolor": "white",
            "linecolor": "white",
            "ticks": ""
           }
          },
          "scene": {
           "xaxis": {
            "backgroundcolor": "#E5ECF6",
            "gridcolor": "white",
            "gridwidth": 2,
            "linecolor": "white",
            "showbackground": true,
            "ticks": "",
            "zerolinecolor": "white"
           },
           "yaxis": {
            "backgroundcolor": "#E5ECF6",
            "gridcolor": "white",
            "gridwidth": 2,
            "linecolor": "white",
            "showbackground": true,
            "ticks": "",
            "zerolinecolor": "white"
           },
           "zaxis": {
            "backgroundcolor": "#E5ECF6",
            "gridcolor": "white",
            "gridwidth": 2,
            "linecolor": "white",
            "showbackground": true,
            "ticks": "",
            "zerolinecolor": "white"
           }
          },
          "shapedefaults": {
           "line": {
            "color": "#2a3f5f"
           }
          },
          "ternary": {
           "aaxis": {
            "gridcolor": "white",
            "linecolor": "white",
            "ticks": ""
           },
           "baxis": {
            "gridcolor": "white",
            "linecolor": "white",
            "ticks": ""
           },
           "bgcolor": "#E5ECF6",
           "caxis": {
            "gridcolor": "white",
            "linecolor": "white",
            "ticks": ""
           }
          },
          "title": {
           "x": 0.05
          },
          "xaxis": {
           "automargin": true,
           "gridcolor": "white",
           "linecolor": "white",
           "ticks": "",
           "title": {
            "standoff": 15
           },
           "zerolinecolor": "white",
           "zerolinewidth": 2
          },
          "yaxis": {
           "automargin": true,
           "gridcolor": "white",
           "linecolor": "white",
           "ticks": "",
           "title": {
            "standoff": 15
           },
           "zerolinecolor": "white",
           "zerolinewidth": 2
          }
         }
        },
        "title": {
         "font": {
          "color": "#4D5663"
         }
        },
        "xaxis": {
         "gridcolor": "#E1E5ED",
         "showgrid": true,
         "tickfont": {
          "color": "#4D5663"
         },
         "title": {
          "font": {
           "color": "#4D5663"
          },
          "text": ""
         },
         "zerolinecolor": "#E1E5ED"
        },
        "xaxis2": {
         "anchor": "y2",
         "gridcolor": "#E1E5ED",
         "showgrid": true,
         "showticklabels": false,
         "tickfont": {
          "color": "#4D5663"
         },
         "title": {
          "font": {
           "color": "#4D5663"
          },
          "text": ""
         },
         "zerolinecolor": "#E1E5ED"
        },
        "yaxis": {
         "domain": [
          0.3,
          1
         ],
         "gridcolor": "#E1E5ED",
         "showgrid": true,
         "tickfont": {
          "color": "#4D5663"
         },
         "title": {
          "font": {
           "color": "#4D5663"
          },
          "text": ""
         },
         "zerolinecolor": "#E1E5ED"
        },
        "yaxis2": {
         "domain": [
          0,
          0.25
         ],
         "gridcolor": "#E1E5ED",
         "showgrid": true,
         "tickfont": {
          "color": "#4D5663"
         },
         "title": {
          "font": {
           "color": "#4D5663"
          },
          "text": "Spread"
         },
         "zerolinecolor": "#E1E5ED"
        }
       }
      },
      "text/html": [
       "<div>\n",
       "        \n",
       "        \n",
       "            <div id=\"96762282-605d-4fb9-97a3-255d79ad1d01\" class=\"plotly-graph-div\" style=\"height:525px; width:100%;\"></div>\n",
       "            <script type=\"text/javascript\">\n",
       "                require([\"plotly\"], function(Plotly) {\n",
       "                    window.PLOTLYENV=window.PLOTLYENV || {};\n",
       "                    window.PLOTLYENV.BASE_URL='https://plot.ly';\n",
       "                    \n",
       "                if (document.getElementById(\"96762282-605d-4fb9-97a3-255d79ad1d01\")) {\n",
       "                    Plotly.newPlot(\n",
       "                        '96762282-605d-4fb9-97a3-255d79ad1d01',\n",
       "                        [{\"line\": {\"color\": \"rgba(255, 153, 51, 1.0)\", \"dash\": \"solid\", \"shape\": \"linear\", \"width\": 1.3}, \"mode\": \"lines\", \"name\": \"A\", \"text\": \"\", \"type\": \"scatter\", \"x\": [0, 1, 2, 3, 4, 5, 6, 7, 8, 9, 10, 11, 12, 13, 14, 15, 16, 17, 18, 19, 20, 21, 22, 23, 24, 25, 26, 27, 28, 29, 30, 31, 32, 33, 34, 35, 36, 37, 38, 39, 40, 41, 42, 43, 44, 45, 46, 47, 48, 49, 50, 51, 52, 53, 54, 55, 56, 57, 58, 59, 60, 61, 62, 63, 64, 65, 66, 67, 68, 69, 70, 71, 72, 73, 74, 75, 76, 77, 78, 79, 80, 81, 82, 83, 84, 85, 86, 87, 88, 89, 90, 91, 92, 93, 94, 95, 96, 97, 98, 99], \"y\": [0.49289817131910324, -0.3012398972298208, -0.7816068221605069, -0.8090093152211132, 1.4006830146786922, -0.19482583816277718, 0.0604937012147241, 2.119691209922694, 0.7222242598679914, 1.753235420367374, 0.15830729803447974, -0.6341440309522819, -2.283999111080501, 0.5531241386591951, -2.266708116322684, 0.7042723917299197, 0.6092425758622263, -0.340557220856165, -1.3041616905321494, 0.18497826710035706, 0.021565250924974123, -0.006075820444198791, -2.566727147075182, 0.02730521303181981, -0.9939684925220701, -0.6223666531415607, 1.776870439188865, 0.01793289056711191, 0.05680072212956541, 0.43447933306281233, -1.453567536602802, 0.22397366436895907, -0.47782199024703215, 1.339102396303261, 1.6080823076036965, 0.20166945309703094, -1.4037713891573702, 0.5106776942015245, -1.8190377132273154, -1.0337585498673065, 0.5183548692185115, -1.0257448210609061, 0.3360850564164397, 1.6441074102925999, 1.359625493547863, 0.5732793595532124, -0.5467403903693552, 0.40035282535498895, 0.10515275916863191, -0.5263016957839567, -0.04432663132196094, 0.8299882137593065, 0.288974670977, 1.4516357718944564, -0.4111386022214322, -2.1428502676999592, 1.2035300277031884, -1.623937560391315, -0.3132882723386422, -0.5352367479666442, -0.6950356321246792, -0.33190243398305314, 0.26383380532025796, -0.5184732009735258, 0.5207487437274007, -1.5584295495848832, 1.0170403191939565, 0.07373919242253754, 0.39030351930826057, 0.3832708653059387, -0.6111638533706606, 0.2944432971309082, 0.4591500221941663, -1.3000294349405557, 0.8493654040778634, -0.24454619551784645, 2.5784605090664208, 0.3470148257665814, 0.4275832431758216, -0.02006983310330113, -0.22115821773805194, 0.7441606483066695, -2.147666745538417, 0.4022717625020178, 1.015008131996003, -0.9614527011380453, 0.6427549647493842, 0.26275878026670807, -2.1811228596403294, -0.9651264344972399, -1.0807091355825975, -1.2704353852791637, -1.604220193082267, 2.2757599377870004, -0.7460643325640582, -1.0270656913759506, -0.08472691139075982, -0.4397288250502953, -0.4051011158276595, 0.0030321124322531187]}, {\"line\": {\"color\": \"rgba(55, 128, 191, 1.0)\", \"dash\": \"solid\", \"shape\": \"linear\", \"width\": 1.3}, \"mode\": \"lines\", \"name\": \"B\", \"text\": \"\", \"type\": \"scatter\", \"x\": [0, 1, 2, 3, 4, 5, 6, 7, 8, 9, 10, 11, 12, 13, 14, 15, 16, 17, 18, 19, 20, 21, 22, 23, 24, 25, 26, 27, 28, 29, 30, 31, 32, 33, 34, 35, 36, 37, 38, 39, 40, 41, 42, 43, 44, 45, 46, 47, 48, 49, 50, 51, 52, 53, 54, 55, 56, 57, 58, 59, 60, 61, 62, 63, 64, 65, 66, 67, 68, 69, 70, 71, 72, 73, 74, 75, 76, 77, 78, 79, 80, 81, 82, 83, 84, 85, 86, 87, 88, 89, 90, 91, 92, 93, 94, 95, 96, 97, 98, 99], \"y\": [1.788094498128622, -0.44535443686305204, -0.7131795159657938, -0.5554106325242337, -0.21586035461825787, -0.697799365135744, 1.097573763569276, 0.035887813880043605, 2.6195040661181466, 0.6079529137881459, 0.7436248459744537, -0.8618502776351192, -0.47747198195992685, 0.22394260599753302, 0.16778779907716984, -0.21439653722728408, -0.28082534999382414, -0.47247468827363853, -0.4506597477838028, 0.6851240964961288, 1.1619213588272501, -1.0702545218773423, 0.4492565916692249, -1.1452374174231343, 0.6940018241869989, 1.7025908336350206, 0.911095428268713, -0.8390868115640266, 0.1663123644197956, 0.3328100887697817, 0.06435393233991418, -0.3710348748026914, -0.9179829095604276, -0.524999408533106, 0.6652896007479878, 1.5838460732342565, -0.006292105652858107, 0.6036323038736936, -0.476844069070269, 1.1387478354050842, 0.03827391299502421, 1.1285586150173448, 0.14647132562841755, 0.4044039554802493, -0.21088510943267336, -1.6753117569624703, -0.3294821012530378, 0.6607752806792838, -0.13058529121836507, 0.22371960616266628, -0.8188759246483298, -0.5854214437337317, -2.491158593278795, -1.0585519213970385, -0.03288668821960335, 1.8329670294391918, 0.605965626089157, -1.0337333776852846, 0.3155519084756224, 1.6015557409146575, 0.6822350410713564, 2.338739883832616, -1.1730419635505192, 0.6391766373700845, 1.289160748481995, -0.5420518881612237, 0.5071628629766942, -0.40457294813531886, 0.7270531601651469, -1.6646222754130013, 0.40243397726927077, 0.34311882064613747, 0.6259398874778561, -1.009481363220773, 0.2245743366277254, 0.6600993412912876, -1.6075531641768765, 0.46316037121790465, -0.5365819522636401, 0.33546724504982794, 0.709807510414665, -1.411526231278596, 0.1236699459010611, 0.30797864886790227, -0.7320151252688502, 0.9815246074439794, 0.546198609092013, 1.7577800559208172, 0.31626620547227696, 0.42215646808605684, 1.4971434747745829, -0.13994118394343455, 0.8020527287884011, -0.004972773524476891, 0.7420408197587705, -2.2243504385067503, 0.11058060408422755, -0.07249780625225877, 0.8482330339326772, -0.7747200231185339]}, {\"connectgaps\": false, \"fill\": \"tozeroy\", \"line\": {\"color\": \"green\", \"dash\": \"solid\", \"shape\": \"linear\", \"width\": 0.5}, \"mode\": \"lines\", \"name\": \"Spread\", \"showlegend\": false, \"type\": \"scatter\", \"x\": [0, 1, 2, 3, 4, 5, 6, 7, 8, 9, 10, 11, 12, 13, 14, 15, 16, 17, 18, 19, 20, 21, 22, 23, 24, 25, 26, 27, 28, 29, 30, 31, 32, 33, 34, 35, 36, 37, 38, 39, 40, 41, 42, 43, 44, 45, 46, 47, 48, 49, 50, 51, 52, 53, 54, 55, 56, 57, 58, 59, 60, 61, 62, 63, 64, 65, 66, 67, 68, 69, 70, 71, 72, 73, 74, 75, 76, 77, 78, 79, 80, 81, 82, 83, 84, 85, 86, 87, 88, 89, 90, 91, 92, 93, 94, 95, 96, 97, 98, 99], \"xaxis\": \"x2\", \"y\": [\"\", 0.14411453963323123, \"\", \"\", 1.61654336929695, 0.5029735269729668, \"\", 2.0838033960426503, \"\", 1.145282506579228, \"\", 0.22770624668283734, \"\", 0.32918153266166206, \"\", 0.9186689289572039, 0.8900679258560504, 0.1319174674174735, \"\", \"\", \"\", 1.0641787014331434, \"\", 1.1725426304549542, \"\", \"\", 0.865775010920152, 0.8570197021311385, \"\", 0.10166924429303065, \"\", 0.5950085391716504, 0.44016091931339546, 1.864101804836367, 0.9427927068557087, \"\", \"\", \"\", \"\", \"\", 0.4800809562234873, \"\", 0.18961373078802216, 1.2397034548123504, 1.5705106029805365, 2.2485911165156827, \"\", \"\", 0.23573805038699697, \"\", 0.7745492933263689, 1.4154096574930382, 2.780133264255795, 2.5101876932914946, \"\", \"\", 0.5975644016140313, \"\", \"\", \"\", \"\", \"\", 1.4368757688707772, \"\", \"\", \"\", 0.5098774562172623, 0.4783121405578564, \"\", 2.04789314071894, \"\", \"\", \"\", \"\", 0.624791067450138, \"\", 4.1860136732432975, \"\", 0.9641651954394617, \"\", \"\", 2.1556868795852657, \"\", 0.09429311363411552, 1.747023257264853, \"\", 0.0965563556573712, \"\", \"\", \"\", \"\", \"\", \"\", 2.2807327113114773, \"\", 1.1972847471307997, \"\", \"\", \"\", 0.777752135550787], \"yaxis\": \"y2\"}, {\"connectgaps\": false, \"fill\": \"tozeroy\", \"line\": {\"color\": \"red\", \"dash\": \"solid\", \"shape\": \"linear\", \"width\": 0.5}, \"mode\": \"lines\", \"name\": \"Spread\", \"showlegend\": false, \"type\": \"scatter\", \"x\": [0, 1, 2, 3, 4, 5, 6, 7, 8, 9, 10, 11, 12, 13, 14, 15, 16, 17, 18, 19, 20, 21, 22, 23, 24, 25, 26, 27, 28, 29, 30, 31, 32, 33, 34, 35, 36, 37, 38, 39, 40, 41, 42, 43, 44, 45, 46, 47, 48, 49, 50, 51, 52, 53, 54, 55, 56, 57, 58, 59, 60, 61, 62, 63, 64, 65, 66, 67, 68, 69, 70, 71, 72, 73, 74, 75, 76, 77, 78, 79, 80, 81, 82, 83, 84, 85, 86, 87, 88, 89, 90, 91, 92, 93, 94, 95, 96, 97, 98, 99], \"xaxis\": \"x2\", \"y\": [-1.2951963268095188, \"\", -0.06842730619471316, -0.25359868269687946, \"\", \"\", -1.0370800623545517, \"\", -1.8972798062501552, \"\", -0.5853175479399739, \"\", -1.806527129120574, \"\", -2.4344959153998538, \"\", \"\", \"\", -0.8535019427483466, -0.5001458293957718, -1.140356107902276, \"\", -3.015983738744407, \"\", -1.687970316709069, -2.324957486776581, \"\", \"\", -0.1095116422902302, \"\", -1.5179214689427163, \"\", \"\", \"\", \"\", -1.3821766201372256, -1.397479283504512, -0.09295460967216906, -1.3421936441570463, -2.1725063852723907, \"\", -2.154303436078251, \"\", \"\", \"\", \"\", -0.2172582891163174, -0.26042245532429487, \"\", -0.750021301946623, \"\", \"\", \"\", \"\", -0.3782519140018289, -3.9758172971391508, \"\", -0.5902041827060305, -0.6288401808142646, -2.1367924888813015, -1.3772706731960356, -2.670642317815669, \"\", -1.1576498383436102, -0.7684120047545943, -1.0163776614236595, \"\", \"\", -0.3367496408568863, \"\", -1.0135978306399314, -0.048675523515229246, -0.16678986528368983, -0.2905480717197826, \"\", -0.904645536809134, \"\", -0.11614554545132327, \"\", -0.35553707815312907, -0.930965728152717, \"\", -2.271336691439478, \"\", \"\", -1.9429773085820248, \"\", -1.4950212756541092, -2.4973890651126065, -1.3872829025832967, -2.5778526103571804, -1.130494201335729, -2.406272921870668, \"\", -1.4881051523228286, \"\", -0.19530751547498737, -0.36723101879803655, -1.2533341497603367, \"\"], \"yaxis\": \"y2\"}],\n",
       "                        {\"hovermode\": \"x\", \"legend\": {\"bgcolor\": \"#F5F6F9\", \"font\": {\"color\": \"#4D5663\"}}, \"paper_bgcolor\": \"#F5F6F9\", \"plot_bgcolor\": \"#F5F6F9\", \"template\": {\"data\": {\"bar\": [{\"error_x\": {\"color\": \"#2a3f5f\"}, \"error_y\": {\"color\": \"#2a3f5f\"}, \"marker\": {\"line\": {\"color\": \"#E5ECF6\", \"width\": 0.5}}, \"type\": \"bar\"}], \"barpolar\": [{\"marker\": {\"line\": {\"color\": \"#E5ECF6\", \"width\": 0.5}}, \"type\": \"barpolar\"}], \"carpet\": [{\"aaxis\": {\"endlinecolor\": \"#2a3f5f\", \"gridcolor\": \"white\", \"linecolor\": \"white\", \"minorgridcolor\": \"white\", \"startlinecolor\": \"#2a3f5f\"}, \"baxis\": {\"endlinecolor\": \"#2a3f5f\", \"gridcolor\": \"white\", \"linecolor\": \"white\", \"minorgridcolor\": \"white\", \"startlinecolor\": \"#2a3f5f\"}, \"type\": \"carpet\"}], \"choropleth\": [{\"colorbar\": {\"outlinewidth\": 0, \"ticks\": \"\"}, \"type\": \"choropleth\"}], \"contour\": [{\"colorbar\": {\"outlinewidth\": 0, \"ticks\": \"\"}, \"colorscale\": [[0.0, \"#0d0887\"], [0.1111111111111111, \"#46039f\"], [0.2222222222222222, \"#7201a8\"], [0.3333333333333333, \"#9c179e\"], [0.4444444444444444, \"#bd3786\"], [0.5555555555555556, \"#d8576b\"], [0.6666666666666666, \"#ed7953\"], [0.7777777777777778, \"#fb9f3a\"], [0.8888888888888888, \"#fdca26\"], [1.0, \"#f0f921\"]], \"type\": \"contour\"}], \"contourcarpet\": [{\"colorbar\": {\"outlinewidth\": 0, \"ticks\": \"\"}, \"type\": \"contourcarpet\"}], \"heatmap\": [{\"colorbar\": {\"outlinewidth\": 0, \"ticks\": \"\"}, \"colorscale\": [[0.0, \"#0d0887\"], [0.1111111111111111, \"#46039f\"], [0.2222222222222222, \"#7201a8\"], [0.3333333333333333, \"#9c179e\"], [0.4444444444444444, \"#bd3786\"], [0.5555555555555556, \"#d8576b\"], [0.6666666666666666, \"#ed7953\"], [0.7777777777777778, \"#fb9f3a\"], [0.8888888888888888, \"#fdca26\"], [1.0, \"#f0f921\"]], \"type\": \"heatmap\"}], \"heatmapgl\": [{\"colorbar\": {\"outlinewidth\": 0, \"ticks\": \"\"}, \"colorscale\": [[0.0, \"#0d0887\"], [0.1111111111111111, \"#46039f\"], [0.2222222222222222, \"#7201a8\"], [0.3333333333333333, \"#9c179e\"], [0.4444444444444444, \"#bd3786\"], [0.5555555555555556, \"#d8576b\"], [0.6666666666666666, \"#ed7953\"], [0.7777777777777778, \"#fb9f3a\"], [0.8888888888888888, \"#fdca26\"], [1.0, \"#f0f921\"]], \"type\": \"heatmapgl\"}], \"histogram\": [{\"marker\": {\"colorbar\": {\"outlinewidth\": 0, \"ticks\": \"\"}}, \"type\": \"histogram\"}], \"histogram2d\": [{\"colorbar\": {\"outlinewidth\": 0, \"ticks\": \"\"}, \"colorscale\": [[0.0, \"#0d0887\"], [0.1111111111111111, \"#46039f\"], [0.2222222222222222, \"#7201a8\"], [0.3333333333333333, \"#9c179e\"], [0.4444444444444444, \"#bd3786\"], [0.5555555555555556, \"#d8576b\"], [0.6666666666666666, \"#ed7953\"], [0.7777777777777778, \"#fb9f3a\"], [0.8888888888888888, \"#fdca26\"], [1.0, \"#f0f921\"]], \"type\": \"histogram2d\"}], \"histogram2dcontour\": [{\"colorbar\": {\"outlinewidth\": 0, \"ticks\": \"\"}, \"colorscale\": [[0.0, \"#0d0887\"], [0.1111111111111111, \"#46039f\"], [0.2222222222222222, \"#7201a8\"], [0.3333333333333333, \"#9c179e\"], [0.4444444444444444, \"#bd3786\"], [0.5555555555555556, \"#d8576b\"], [0.6666666666666666, \"#ed7953\"], [0.7777777777777778, \"#fb9f3a\"], [0.8888888888888888, \"#fdca26\"], [1.0, \"#f0f921\"]], \"type\": \"histogram2dcontour\"}], \"mesh3d\": [{\"colorbar\": {\"outlinewidth\": 0, \"ticks\": \"\"}, \"type\": \"mesh3d\"}], \"parcoords\": [{\"line\": {\"colorbar\": {\"outlinewidth\": 0, \"ticks\": \"\"}}, \"type\": \"parcoords\"}], \"pie\": [{\"automargin\": true, \"type\": \"pie\"}], \"scatter\": [{\"marker\": {\"colorbar\": {\"outlinewidth\": 0, \"ticks\": \"\"}}, \"type\": \"scatter\"}], \"scatter3d\": [{\"line\": {\"colorbar\": {\"outlinewidth\": 0, \"ticks\": \"\"}}, \"marker\": {\"colorbar\": {\"outlinewidth\": 0, \"ticks\": \"\"}}, \"type\": \"scatter3d\"}], \"scattercarpet\": [{\"marker\": {\"colorbar\": {\"outlinewidth\": 0, \"ticks\": \"\"}}, \"type\": \"scattercarpet\"}], \"scattergeo\": [{\"marker\": {\"colorbar\": {\"outlinewidth\": 0, \"ticks\": \"\"}}, \"type\": \"scattergeo\"}], \"scattergl\": [{\"marker\": {\"colorbar\": {\"outlinewidth\": 0, \"ticks\": \"\"}}, \"type\": \"scattergl\"}], \"scattermapbox\": [{\"marker\": {\"colorbar\": {\"outlinewidth\": 0, \"ticks\": \"\"}}, \"type\": \"scattermapbox\"}], \"scatterpolar\": [{\"marker\": {\"colorbar\": {\"outlinewidth\": 0, \"ticks\": \"\"}}, \"type\": \"scatterpolar\"}], \"scatterpolargl\": [{\"marker\": {\"colorbar\": {\"outlinewidth\": 0, \"ticks\": \"\"}}, \"type\": \"scatterpolargl\"}], \"scatterternary\": [{\"marker\": {\"colorbar\": {\"outlinewidth\": 0, \"ticks\": \"\"}}, \"type\": \"scatterternary\"}], \"surface\": [{\"colorbar\": {\"outlinewidth\": 0, \"ticks\": \"\"}, \"colorscale\": [[0.0, \"#0d0887\"], [0.1111111111111111, \"#46039f\"], [0.2222222222222222, \"#7201a8\"], [0.3333333333333333, \"#9c179e\"], [0.4444444444444444, \"#bd3786\"], [0.5555555555555556, \"#d8576b\"], [0.6666666666666666, \"#ed7953\"], [0.7777777777777778, \"#fb9f3a\"], [0.8888888888888888, \"#fdca26\"], [1.0, \"#f0f921\"]], \"type\": \"surface\"}], \"table\": [{\"cells\": {\"fill\": {\"color\": \"#EBF0F8\"}, \"line\": {\"color\": \"white\"}}, \"header\": {\"fill\": {\"color\": \"#C8D4E3\"}, \"line\": {\"color\": \"white\"}}, \"type\": \"table\"}]}, \"layout\": {\"annotationdefaults\": {\"arrowcolor\": \"#2a3f5f\", \"arrowhead\": 0, \"arrowwidth\": 1}, \"coloraxis\": {\"colorbar\": {\"outlinewidth\": 0, \"ticks\": \"\"}}, \"colorscale\": {\"diverging\": [[0, \"#8e0152\"], [0.1, \"#c51b7d\"], [0.2, \"#de77ae\"], [0.3, \"#f1b6da\"], [0.4, \"#fde0ef\"], [0.5, \"#f7f7f7\"], [0.6, \"#e6f5d0\"], [0.7, \"#b8e186\"], [0.8, \"#7fbc41\"], [0.9, \"#4d9221\"], [1, \"#276419\"]], \"sequential\": [[0.0, \"#0d0887\"], [0.1111111111111111, \"#46039f\"], [0.2222222222222222, \"#7201a8\"], [0.3333333333333333, \"#9c179e\"], [0.4444444444444444, \"#bd3786\"], [0.5555555555555556, \"#d8576b\"], [0.6666666666666666, \"#ed7953\"], [0.7777777777777778, \"#fb9f3a\"], [0.8888888888888888, \"#fdca26\"], [1.0, \"#f0f921\"]], \"sequentialminus\": [[0.0, \"#0d0887\"], [0.1111111111111111, \"#46039f\"], [0.2222222222222222, \"#7201a8\"], [0.3333333333333333, \"#9c179e\"], [0.4444444444444444, \"#bd3786\"], [0.5555555555555556, \"#d8576b\"], [0.6666666666666666, \"#ed7953\"], [0.7777777777777778, \"#fb9f3a\"], [0.8888888888888888, \"#fdca26\"], [1.0, \"#f0f921\"]]}, \"colorway\": [\"#636efa\", \"#EF553B\", \"#00cc96\", \"#ab63fa\", \"#FFA15A\", \"#19d3f3\", \"#FF6692\", \"#B6E880\", \"#FF97FF\", \"#FECB52\"], \"font\": {\"color\": \"#2a3f5f\"}, \"geo\": {\"bgcolor\": \"white\", \"lakecolor\": \"white\", \"landcolor\": \"#E5ECF6\", \"showlakes\": true, \"showland\": true, \"subunitcolor\": \"white\"}, \"hoverlabel\": {\"align\": \"left\"}, \"hovermode\": \"closest\", \"mapbox\": {\"style\": \"light\"}, \"paper_bgcolor\": \"white\", \"plot_bgcolor\": \"#E5ECF6\", \"polar\": {\"angularaxis\": {\"gridcolor\": \"white\", \"linecolor\": \"white\", \"ticks\": \"\"}, \"bgcolor\": \"#E5ECF6\", \"radialaxis\": {\"gridcolor\": \"white\", \"linecolor\": \"white\", \"ticks\": \"\"}}, \"scene\": {\"xaxis\": {\"backgroundcolor\": \"#E5ECF6\", \"gridcolor\": \"white\", \"gridwidth\": 2, \"linecolor\": \"white\", \"showbackground\": true, \"ticks\": \"\", \"zerolinecolor\": \"white\"}, \"yaxis\": {\"backgroundcolor\": \"#E5ECF6\", \"gridcolor\": \"white\", \"gridwidth\": 2, \"linecolor\": \"white\", \"showbackground\": true, \"ticks\": \"\", \"zerolinecolor\": \"white\"}, \"zaxis\": {\"backgroundcolor\": \"#E5ECF6\", \"gridcolor\": \"white\", \"gridwidth\": 2, \"linecolor\": \"white\", \"showbackground\": true, \"ticks\": \"\", \"zerolinecolor\": \"white\"}}, \"shapedefaults\": {\"line\": {\"color\": \"#2a3f5f\"}}, \"ternary\": {\"aaxis\": {\"gridcolor\": \"white\", \"linecolor\": \"white\", \"ticks\": \"\"}, \"baxis\": {\"gridcolor\": \"white\", \"linecolor\": \"white\", \"ticks\": \"\"}, \"bgcolor\": \"#E5ECF6\", \"caxis\": {\"gridcolor\": \"white\", \"linecolor\": \"white\", \"ticks\": \"\"}}, \"title\": {\"x\": 0.05}, \"xaxis\": {\"automargin\": true, \"gridcolor\": \"white\", \"linecolor\": \"white\", \"ticks\": \"\", \"title\": {\"standoff\": 15}, \"zerolinecolor\": \"white\", \"zerolinewidth\": 2}, \"yaxis\": {\"automargin\": true, \"gridcolor\": \"white\", \"linecolor\": \"white\", \"ticks\": \"\", \"title\": {\"standoff\": 15}, \"zerolinecolor\": \"white\", \"zerolinewidth\": 2}}}, \"title\": {\"font\": {\"color\": \"#4D5663\"}}, \"xaxis\": {\"gridcolor\": \"#E1E5ED\", \"showgrid\": true, \"tickfont\": {\"color\": \"#4D5663\"}, \"title\": {\"font\": {\"color\": \"#4D5663\"}, \"text\": \"\"}, \"zerolinecolor\": \"#E1E5ED\"}, \"xaxis2\": {\"anchor\": \"y2\", \"gridcolor\": \"#E1E5ED\", \"showgrid\": true, \"showticklabels\": false, \"tickfont\": {\"color\": \"#4D5663\"}, \"title\": {\"font\": {\"color\": \"#4D5663\"}, \"text\": \"\"}, \"zerolinecolor\": \"#E1E5ED\"}, \"yaxis\": {\"domain\": [0.3, 1], \"gridcolor\": \"#E1E5ED\", \"showgrid\": true, \"tickfont\": {\"color\": \"#4D5663\"}, \"title\": {\"font\": {\"color\": \"#4D5663\"}, \"text\": \"\"}, \"zerolinecolor\": \"#E1E5ED\"}, \"yaxis2\": {\"domain\": [0, 0.25], \"gridcolor\": \"#E1E5ED\", \"showgrid\": true, \"tickfont\": {\"color\": \"#4D5663\"}, \"title\": {\"font\": {\"color\": \"#4D5663\"}, \"text\": \"Spread\"}, \"zerolinecolor\": \"#E1E5ED\"}},\n",
       "                        {\"showLink\": true, \"linkText\": \"Export to plot.ly\", \"plotlyServerURL\": \"https://plot.ly\", \"responsive\": true}\n",
       "                    ).then(function(){\n",
       "                            \n",
       "var gd = document.getElementById('96762282-605d-4fb9-97a3-255d79ad1d01');\n",
       "var x = new MutationObserver(function (mutations, observer) {{\n",
       "        var display = window.getComputedStyle(gd).display;\n",
       "        if (!display || display === 'none') {{\n",
       "            console.log([gd, 'removed!']);\n",
       "            Plotly.purge(gd);\n",
       "            observer.disconnect();\n",
       "        }}\n",
       "}});\n",
       "\n",
       "// Listen for the removal of the full notebook cells\n",
       "var notebookContainer = gd.closest('#notebook-container');\n",
       "if (notebookContainer) {{\n",
       "    x.observe(notebookContainer, {childList: true});\n",
       "}}\n",
       "\n",
       "// Listen for the clearing of the current output cell\n",
       "var outputEl = gd.closest('.output');\n",
       "if (outputEl) {{\n",
       "    x.observe(outputEl, {childList: true});\n",
       "}}\n",
       "\n",
       "                        })\n",
       "                };\n",
       "                });\n",
       "            </script>\n",
       "        </div>"
      ]
     },
     "metadata": {},
     "output_type": "display_data"
    }
   ],
   "source": [
    "df[['A','B']].iplot(kind='spread')"
   ]
  },
  {
   "cell_type": "code",
   "execution_count": 27,
   "metadata": {},
   "outputs": [
    {
     "data": {
      "application/vnd.plotly.v1+json": {
       "config": {
        "linkText": "Export to plot.ly",
        "plotlyServerURL": "https://plot.ly",
        "showLink": true
       },
       "data": [
        {
         "marker": {
          "color": [
           "rgb(255, 153, 51)",
           "rgb(55, 128, 191)",
           "rgb(50, 171, 96)",
           "rgb(128, 0, 128)",
           "rgb(219, 64, 82)",
           "rgb(0, 128, 128)",
           "rgb(255, 255, 51)",
           "rgb(128, 128, 0)",
           "rgb(251, 128, 114)",
           "rgb(128, 177, 211)"
          ],
          "line": {
           "width": 1.3
          },
          "size": [
           99,
           82,
           75,
           99,
           98,
           82,
           80,
           87,
           73,
           66,
           89,
           90,
           49,
           57,
           59,
           94,
           86,
           102,
           84,
           54,
           56,
           69,
           67,
           61,
           40,
           66,
           54,
           43,
           41,
           104,
           35,
           60,
           29,
           43,
           97,
           90,
           21,
           64,
           65,
           71,
           85,
           78,
           66,
           74,
           84,
           82,
           38,
           72,
           70,
           22,
           48,
           48,
           83,
           34,
           64,
           50,
           61,
           81,
           71,
           36,
           66,
           12,
           70,
           70,
           77,
           49,
           57,
           53,
           84,
           84,
           57,
           90,
           48,
           89,
           49,
           78,
           79,
           42,
           63,
           48,
           53,
           67,
           88,
           112,
           55,
           19,
           64,
           76,
           73,
           106,
           74,
           53,
           58,
           76,
           98,
           41,
           74,
           49,
           71,
           70
          ],
          "symbol": "circle"
         },
         "mode": "markers",
         "text": "",
         "type": "scatter",
         "x": [
          0.49289817131910324,
          -0.3012398972298208,
          -0.7816068221605069,
          -0.8090093152211132,
          1.4006830146786922,
          -0.19482583816277718,
          0.0604937012147241,
          2.119691209922694,
          0.7222242598679914,
          1.753235420367374,
          0.15830729803447974,
          -0.6341440309522819,
          -2.283999111080501,
          0.5531241386591951,
          -2.266708116322684,
          0.7042723917299197,
          0.6092425758622263,
          -0.340557220856165,
          -1.3041616905321494,
          0.18497826710035706,
          0.021565250924974123,
          -0.006075820444198791,
          -2.566727147075182,
          0.02730521303181981,
          -0.9939684925220701,
          -0.6223666531415607,
          1.776870439188865,
          0.01793289056711191,
          0.05680072212956541,
          0.43447933306281233,
          -1.453567536602802,
          0.22397366436895907,
          -0.47782199024703215,
          1.339102396303261,
          1.6080823076036965,
          0.20166945309703094,
          -1.4037713891573702,
          0.5106776942015245,
          -1.8190377132273154,
          -1.0337585498673065,
          0.5183548692185115,
          -1.0257448210609061,
          0.3360850564164397,
          1.6441074102925999,
          1.359625493547863,
          0.5732793595532124,
          -0.5467403903693552,
          0.40035282535498895,
          0.10515275916863191,
          -0.5263016957839567,
          -0.04432663132196094,
          0.8299882137593065,
          0.288974670977,
          1.4516357718944564,
          -0.4111386022214322,
          -2.1428502676999592,
          1.2035300277031884,
          -1.623937560391315,
          -0.3132882723386422,
          -0.5352367479666442,
          -0.6950356321246792,
          -0.33190243398305314,
          0.26383380532025796,
          -0.5184732009735258,
          0.5207487437274007,
          -1.5584295495848832,
          1.0170403191939565,
          0.07373919242253754,
          0.39030351930826057,
          0.3832708653059387,
          -0.6111638533706606,
          0.2944432971309082,
          0.4591500221941663,
          -1.3000294349405557,
          0.8493654040778634,
          -0.24454619551784645,
          2.5784605090664208,
          0.3470148257665814,
          0.4275832431758216,
          -0.02006983310330113,
          -0.22115821773805194,
          0.7441606483066695,
          -2.147666745538417,
          0.4022717625020178,
          1.015008131996003,
          -0.9614527011380453,
          0.6427549647493842,
          0.26275878026670807,
          -2.1811228596403294,
          -0.9651264344972399,
          -1.0807091355825975,
          -1.2704353852791637,
          -1.604220193082267,
          2.2757599377870004,
          -0.7460643325640582,
          -1.0270656913759506,
          -0.08472691139075982,
          -0.4397288250502953,
          -0.4051011158276595,
          0.0030321124322531187
         ],
         "y": [
          1.788094498128622,
          -0.44535443686305204,
          -0.7131795159657938,
          -0.5554106325242337,
          -0.21586035461825787,
          -0.697799365135744,
          1.097573763569276,
          0.035887813880043605,
          2.6195040661181466,
          0.6079529137881459,
          0.7436248459744537,
          -0.8618502776351192,
          -0.47747198195992685,
          0.22394260599753302,
          0.16778779907716984,
          -0.21439653722728408,
          -0.28082534999382414,
          -0.47247468827363853,
          -0.4506597477838028,
          0.6851240964961288,
          1.1619213588272501,
          -1.0702545218773423,
          0.4492565916692249,
          -1.1452374174231343,
          0.6940018241869989,
          1.7025908336350206,
          0.911095428268713,
          -0.8390868115640266,
          0.1663123644197956,
          0.3328100887697817,
          0.06435393233991418,
          -0.3710348748026914,
          -0.9179829095604276,
          -0.524999408533106,
          0.6652896007479878,
          1.5838460732342565,
          -0.006292105652858107,
          0.6036323038736936,
          -0.476844069070269,
          1.1387478354050842,
          0.03827391299502421,
          1.1285586150173448,
          0.14647132562841755,
          0.4044039554802493,
          -0.21088510943267336,
          -1.6753117569624703,
          -0.3294821012530378,
          0.6607752806792838,
          -0.13058529121836507,
          0.22371960616266628,
          -0.8188759246483298,
          -0.5854214437337317,
          -2.491158593278795,
          -1.0585519213970385,
          -0.03288668821960335,
          1.8329670294391918,
          0.605965626089157,
          -1.0337333776852846,
          0.3155519084756224,
          1.6015557409146575,
          0.6822350410713564,
          2.338739883832616,
          -1.1730419635505192,
          0.6391766373700845,
          1.289160748481995,
          -0.5420518881612237,
          0.5071628629766942,
          -0.40457294813531886,
          0.7270531601651469,
          -1.6646222754130013,
          0.40243397726927077,
          0.34311882064613747,
          0.6259398874778561,
          -1.009481363220773,
          0.2245743366277254,
          0.6600993412912876,
          -1.6075531641768765,
          0.46316037121790465,
          -0.5365819522636401,
          0.33546724504982794,
          0.709807510414665,
          -1.411526231278596,
          0.1236699459010611,
          0.30797864886790227,
          -0.7320151252688502,
          0.9815246074439794,
          0.546198609092013,
          1.7577800559208172,
          0.31626620547227696,
          0.42215646808605684,
          1.4971434747745829,
          -0.13994118394343455,
          0.8020527287884011,
          -0.004972773524476891,
          0.7420408197587705,
          -2.2243504385067503,
          0.11058060408422755,
          -0.07249780625225877,
          0.8482330339326772,
          -0.7747200231185339
         ]
        }
       ],
       "layout": {
        "legend": {
         "bgcolor": "#F5F6F9",
         "font": {
          "color": "#4D5663"
         }
        },
        "paper_bgcolor": "#F5F6F9",
        "plot_bgcolor": "#F5F6F9",
        "template": {
         "data": {
          "bar": [
           {
            "error_x": {
             "color": "#2a3f5f"
            },
            "error_y": {
             "color": "#2a3f5f"
            },
            "marker": {
             "line": {
              "color": "#E5ECF6",
              "width": 0.5
             }
            },
            "type": "bar"
           }
          ],
          "barpolar": [
           {
            "marker": {
             "line": {
              "color": "#E5ECF6",
              "width": 0.5
             }
            },
            "type": "barpolar"
           }
          ],
          "carpet": [
           {
            "aaxis": {
             "endlinecolor": "#2a3f5f",
             "gridcolor": "white",
             "linecolor": "white",
             "minorgridcolor": "white",
             "startlinecolor": "#2a3f5f"
            },
            "baxis": {
             "endlinecolor": "#2a3f5f",
             "gridcolor": "white",
             "linecolor": "white",
             "minorgridcolor": "white",
             "startlinecolor": "#2a3f5f"
            },
            "type": "carpet"
           }
          ],
          "choropleth": [
           {
            "colorbar": {
             "outlinewidth": 0,
             "ticks": ""
            },
            "type": "choropleth"
           }
          ],
          "contour": [
           {
            "colorbar": {
             "outlinewidth": 0,
             "ticks": ""
            },
            "colorscale": [
             [
              0,
              "#0d0887"
             ],
             [
              0.1111111111111111,
              "#46039f"
             ],
             [
              0.2222222222222222,
              "#7201a8"
             ],
             [
              0.3333333333333333,
              "#9c179e"
             ],
             [
              0.4444444444444444,
              "#bd3786"
             ],
             [
              0.5555555555555556,
              "#d8576b"
             ],
             [
              0.6666666666666666,
              "#ed7953"
             ],
             [
              0.7777777777777778,
              "#fb9f3a"
             ],
             [
              0.8888888888888888,
              "#fdca26"
             ],
             [
              1,
              "#f0f921"
             ]
            ],
            "type": "contour"
           }
          ],
          "contourcarpet": [
           {
            "colorbar": {
             "outlinewidth": 0,
             "ticks": ""
            },
            "type": "contourcarpet"
           }
          ],
          "heatmap": [
           {
            "colorbar": {
             "outlinewidth": 0,
             "ticks": ""
            },
            "colorscale": [
             [
              0,
              "#0d0887"
             ],
             [
              0.1111111111111111,
              "#46039f"
             ],
             [
              0.2222222222222222,
              "#7201a8"
             ],
             [
              0.3333333333333333,
              "#9c179e"
             ],
             [
              0.4444444444444444,
              "#bd3786"
             ],
             [
              0.5555555555555556,
              "#d8576b"
             ],
             [
              0.6666666666666666,
              "#ed7953"
             ],
             [
              0.7777777777777778,
              "#fb9f3a"
             ],
             [
              0.8888888888888888,
              "#fdca26"
             ],
             [
              1,
              "#f0f921"
             ]
            ],
            "type": "heatmap"
           }
          ],
          "heatmapgl": [
           {
            "colorbar": {
             "outlinewidth": 0,
             "ticks": ""
            },
            "colorscale": [
             [
              0,
              "#0d0887"
             ],
             [
              0.1111111111111111,
              "#46039f"
             ],
             [
              0.2222222222222222,
              "#7201a8"
             ],
             [
              0.3333333333333333,
              "#9c179e"
             ],
             [
              0.4444444444444444,
              "#bd3786"
             ],
             [
              0.5555555555555556,
              "#d8576b"
             ],
             [
              0.6666666666666666,
              "#ed7953"
             ],
             [
              0.7777777777777778,
              "#fb9f3a"
             ],
             [
              0.8888888888888888,
              "#fdca26"
             ],
             [
              1,
              "#f0f921"
             ]
            ],
            "type": "heatmapgl"
           }
          ],
          "histogram": [
           {
            "marker": {
             "colorbar": {
              "outlinewidth": 0,
              "ticks": ""
             }
            },
            "type": "histogram"
           }
          ],
          "histogram2d": [
           {
            "colorbar": {
             "outlinewidth": 0,
             "ticks": ""
            },
            "colorscale": [
             [
              0,
              "#0d0887"
             ],
             [
              0.1111111111111111,
              "#46039f"
             ],
             [
              0.2222222222222222,
              "#7201a8"
             ],
             [
              0.3333333333333333,
              "#9c179e"
             ],
             [
              0.4444444444444444,
              "#bd3786"
             ],
             [
              0.5555555555555556,
              "#d8576b"
             ],
             [
              0.6666666666666666,
              "#ed7953"
             ],
             [
              0.7777777777777778,
              "#fb9f3a"
             ],
             [
              0.8888888888888888,
              "#fdca26"
             ],
             [
              1,
              "#f0f921"
             ]
            ],
            "type": "histogram2d"
           }
          ],
          "histogram2dcontour": [
           {
            "colorbar": {
             "outlinewidth": 0,
             "ticks": ""
            },
            "colorscale": [
             [
              0,
              "#0d0887"
             ],
             [
              0.1111111111111111,
              "#46039f"
             ],
             [
              0.2222222222222222,
              "#7201a8"
             ],
             [
              0.3333333333333333,
              "#9c179e"
             ],
             [
              0.4444444444444444,
              "#bd3786"
             ],
             [
              0.5555555555555556,
              "#d8576b"
             ],
             [
              0.6666666666666666,
              "#ed7953"
             ],
             [
              0.7777777777777778,
              "#fb9f3a"
             ],
             [
              0.8888888888888888,
              "#fdca26"
             ],
             [
              1,
              "#f0f921"
             ]
            ],
            "type": "histogram2dcontour"
           }
          ],
          "mesh3d": [
           {
            "colorbar": {
             "outlinewidth": 0,
             "ticks": ""
            },
            "type": "mesh3d"
           }
          ],
          "parcoords": [
           {
            "line": {
             "colorbar": {
              "outlinewidth": 0,
              "ticks": ""
             }
            },
            "type": "parcoords"
           }
          ],
          "pie": [
           {
            "automargin": true,
            "type": "pie"
           }
          ],
          "scatter": [
           {
            "marker": {
             "colorbar": {
              "outlinewidth": 0,
              "ticks": ""
             }
            },
            "type": "scatter"
           }
          ],
          "scatter3d": [
           {
            "line": {
             "colorbar": {
              "outlinewidth": 0,
              "ticks": ""
             }
            },
            "marker": {
             "colorbar": {
              "outlinewidth": 0,
              "ticks": ""
             }
            },
            "type": "scatter3d"
           }
          ],
          "scattercarpet": [
           {
            "marker": {
             "colorbar": {
              "outlinewidth": 0,
              "ticks": ""
             }
            },
            "type": "scattercarpet"
           }
          ],
          "scattergeo": [
           {
            "marker": {
             "colorbar": {
              "outlinewidth": 0,
              "ticks": ""
             }
            },
            "type": "scattergeo"
           }
          ],
          "scattergl": [
           {
            "marker": {
             "colorbar": {
              "outlinewidth": 0,
              "ticks": ""
             }
            },
            "type": "scattergl"
           }
          ],
          "scattermapbox": [
           {
            "marker": {
             "colorbar": {
              "outlinewidth": 0,
              "ticks": ""
             }
            },
            "type": "scattermapbox"
           }
          ],
          "scatterpolar": [
           {
            "marker": {
             "colorbar": {
              "outlinewidth": 0,
              "ticks": ""
             }
            },
            "type": "scatterpolar"
           }
          ],
          "scatterpolargl": [
           {
            "marker": {
             "colorbar": {
              "outlinewidth": 0,
              "ticks": ""
             }
            },
            "type": "scatterpolargl"
           }
          ],
          "scatterternary": [
           {
            "marker": {
             "colorbar": {
              "outlinewidth": 0,
              "ticks": ""
             }
            },
            "type": "scatterternary"
           }
          ],
          "surface": [
           {
            "colorbar": {
             "outlinewidth": 0,
             "ticks": ""
            },
            "colorscale": [
             [
              0,
              "#0d0887"
             ],
             [
              0.1111111111111111,
              "#46039f"
             ],
             [
              0.2222222222222222,
              "#7201a8"
             ],
             [
              0.3333333333333333,
              "#9c179e"
             ],
             [
              0.4444444444444444,
              "#bd3786"
             ],
             [
              0.5555555555555556,
              "#d8576b"
             ],
             [
              0.6666666666666666,
              "#ed7953"
             ],
             [
              0.7777777777777778,
              "#fb9f3a"
             ],
             [
              0.8888888888888888,
              "#fdca26"
             ],
             [
              1,
              "#f0f921"
             ]
            ],
            "type": "surface"
           }
          ],
          "table": [
           {
            "cells": {
             "fill": {
              "color": "#EBF0F8"
             },
             "line": {
              "color": "white"
             }
            },
            "header": {
             "fill": {
              "color": "#C8D4E3"
             },
             "line": {
              "color": "white"
             }
            },
            "type": "table"
           }
          ]
         },
         "layout": {
          "annotationdefaults": {
           "arrowcolor": "#2a3f5f",
           "arrowhead": 0,
           "arrowwidth": 1
          },
          "coloraxis": {
           "colorbar": {
            "outlinewidth": 0,
            "ticks": ""
           }
          },
          "colorscale": {
           "diverging": [
            [
             0,
             "#8e0152"
            ],
            [
             0.1,
             "#c51b7d"
            ],
            [
             0.2,
             "#de77ae"
            ],
            [
             0.3,
             "#f1b6da"
            ],
            [
             0.4,
             "#fde0ef"
            ],
            [
             0.5,
             "#f7f7f7"
            ],
            [
             0.6,
             "#e6f5d0"
            ],
            [
             0.7,
             "#b8e186"
            ],
            [
             0.8,
             "#7fbc41"
            ],
            [
             0.9,
             "#4d9221"
            ],
            [
             1,
             "#276419"
            ]
           ],
           "sequential": [
            [
             0,
             "#0d0887"
            ],
            [
             0.1111111111111111,
             "#46039f"
            ],
            [
             0.2222222222222222,
             "#7201a8"
            ],
            [
             0.3333333333333333,
             "#9c179e"
            ],
            [
             0.4444444444444444,
             "#bd3786"
            ],
            [
             0.5555555555555556,
             "#d8576b"
            ],
            [
             0.6666666666666666,
             "#ed7953"
            ],
            [
             0.7777777777777778,
             "#fb9f3a"
            ],
            [
             0.8888888888888888,
             "#fdca26"
            ],
            [
             1,
             "#f0f921"
            ]
           ],
           "sequentialminus": [
            [
             0,
             "#0d0887"
            ],
            [
             0.1111111111111111,
             "#46039f"
            ],
            [
             0.2222222222222222,
             "#7201a8"
            ],
            [
             0.3333333333333333,
             "#9c179e"
            ],
            [
             0.4444444444444444,
             "#bd3786"
            ],
            [
             0.5555555555555556,
             "#d8576b"
            ],
            [
             0.6666666666666666,
             "#ed7953"
            ],
            [
             0.7777777777777778,
             "#fb9f3a"
            ],
            [
             0.8888888888888888,
             "#fdca26"
            ],
            [
             1,
             "#f0f921"
            ]
           ]
          },
          "colorway": [
           "#636efa",
           "#EF553B",
           "#00cc96",
           "#ab63fa",
           "#FFA15A",
           "#19d3f3",
           "#FF6692",
           "#B6E880",
           "#FF97FF",
           "#FECB52"
          ],
          "font": {
           "color": "#2a3f5f"
          },
          "geo": {
           "bgcolor": "white",
           "lakecolor": "white",
           "landcolor": "#E5ECF6",
           "showlakes": true,
           "showland": true,
           "subunitcolor": "white"
          },
          "hoverlabel": {
           "align": "left"
          },
          "hovermode": "closest",
          "mapbox": {
           "style": "light"
          },
          "paper_bgcolor": "white",
          "plot_bgcolor": "#E5ECF6",
          "polar": {
           "angularaxis": {
            "gridcolor": "white",
            "linecolor": "white",
            "ticks": ""
           },
           "bgcolor": "#E5ECF6",
           "radialaxis": {
            "gridcolor": "white",
            "linecolor": "white",
            "ticks": ""
           }
          },
          "scene": {
           "xaxis": {
            "backgroundcolor": "#E5ECF6",
            "gridcolor": "white",
            "gridwidth": 2,
            "linecolor": "white",
            "showbackground": true,
            "ticks": "",
            "zerolinecolor": "white"
           },
           "yaxis": {
            "backgroundcolor": "#E5ECF6",
            "gridcolor": "white",
            "gridwidth": 2,
            "linecolor": "white",
            "showbackground": true,
            "ticks": "",
            "zerolinecolor": "white"
           },
           "zaxis": {
            "backgroundcolor": "#E5ECF6",
            "gridcolor": "white",
            "gridwidth": 2,
            "linecolor": "white",
            "showbackground": true,
            "ticks": "",
            "zerolinecolor": "white"
           }
          },
          "shapedefaults": {
           "line": {
            "color": "#2a3f5f"
           }
          },
          "ternary": {
           "aaxis": {
            "gridcolor": "white",
            "linecolor": "white",
            "ticks": ""
           },
           "baxis": {
            "gridcolor": "white",
            "linecolor": "white",
            "ticks": ""
           },
           "bgcolor": "#E5ECF6",
           "caxis": {
            "gridcolor": "white",
            "linecolor": "white",
            "ticks": ""
           }
          },
          "title": {
           "x": 0.05
          },
          "xaxis": {
           "automargin": true,
           "gridcolor": "white",
           "linecolor": "white",
           "ticks": "",
           "title": {
            "standoff": 15
           },
           "zerolinecolor": "white",
           "zerolinewidth": 2
          },
          "yaxis": {
           "automargin": true,
           "gridcolor": "white",
           "linecolor": "white",
           "ticks": "",
           "title": {
            "standoff": 15
           },
           "zerolinecolor": "white",
           "zerolinewidth": 2
          }
         }
        },
        "title": {
         "font": {
          "color": "#4D5663"
         }
        },
        "xaxis": {
         "gridcolor": "#E1E5ED",
         "showgrid": true,
         "tickfont": {
          "color": "#4D5663"
         },
         "title": {
          "font": {
           "color": "#4D5663"
          },
          "text": ""
         },
         "zerolinecolor": "#E1E5ED"
        },
        "yaxis": {
         "gridcolor": "#E1E5ED",
         "showgrid": true,
         "tickfont": {
          "color": "#4D5663"
         },
         "title": {
          "font": {
           "color": "#4D5663"
          },
          "text": ""
         },
         "zerolinecolor": "#E1E5ED"
        }
       }
      },
      "text/html": [
       "<div>\n",
       "        \n",
       "        \n",
       "            <div id=\"804dcda6-0a91-4c1f-8e9f-2b42029fd639\" class=\"plotly-graph-div\" style=\"height:525px; width:100%;\"></div>\n",
       "            <script type=\"text/javascript\">\n",
       "                require([\"plotly\"], function(Plotly) {\n",
       "                    window.PLOTLYENV=window.PLOTLYENV || {};\n",
       "                    window.PLOTLYENV.BASE_URL='https://plot.ly';\n",
       "                    \n",
       "                if (document.getElementById(\"804dcda6-0a91-4c1f-8e9f-2b42029fd639\")) {\n",
       "                    Plotly.newPlot(\n",
       "                        '804dcda6-0a91-4c1f-8e9f-2b42029fd639',\n",
       "                        [{\"marker\": {\"color\": [\"rgb(255, 153, 51)\", \"rgb(55, 128, 191)\", \"rgb(50, 171, 96)\", \"rgb(128, 0, 128)\", \"rgb(219, 64, 82)\", \"rgb(0, 128, 128)\", \"rgb(255, 255, 51)\", \"rgb(128, 128, 0)\", \"rgb(251, 128, 114)\", \"rgb(128, 177, 211)\"], \"line\": {\"width\": 1.3}, \"size\": [99, 82, 75, 99, 98, 82, 80, 87, 73, 66, 89, 90, 49, 57, 59, 94, 86, 102, 84, 54, 56, 69, 67, 61, 40, 66, 54, 43, 41, 104, 35, 60, 29, 43, 97, 90, 21, 64, 65, 71, 85, 78, 66, 74, 84, 82, 38, 72, 70, 22, 48, 48, 83, 34, 64, 50, 61, 81, 71, 36, 66, 12, 70, 70, 77, 49, 57, 53, 84, 84, 57, 90, 48, 89, 49, 78, 79, 42, 63, 48, 53, 67, 88, 112, 55, 19, 64, 76, 73, 106, 74, 53, 58, 76, 98, 41, 74, 49, 71, 70], \"symbol\": \"circle\"}, \"mode\": \"markers\", \"text\": \"\", \"type\": \"scatter\", \"x\": [0.49289817131910324, -0.3012398972298208, -0.7816068221605069, -0.8090093152211132, 1.4006830146786922, -0.19482583816277718, 0.0604937012147241, 2.119691209922694, 0.7222242598679914, 1.753235420367374, 0.15830729803447974, -0.6341440309522819, -2.283999111080501, 0.5531241386591951, -2.266708116322684, 0.7042723917299197, 0.6092425758622263, -0.340557220856165, -1.3041616905321494, 0.18497826710035706, 0.021565250924974123, -0.006075820444198791, -2.566727147075182, 0.02730521303181981, -0.9939684925220701, -0.6223666531415607, 1.776870439188865, 0.01793289056711191, 0.05680072212956541, 0.43447933306281233, -1.453567536602802, 0.22397366436895907, -0.47782199024703215, 1.339102396303261, 1.6080823076036965, 0.20166945309703094, -1.4037713891573702, 0.5106776942015245, -1.8190377132273154, -1.0337585498673065, 0.5183548692185115, -1.0257448210609061, 0.3360850564164397, 1.6441074102925999, 1.359625493547863, 0.5732793595532124, -0.5467403903693552, 0.40035282535498895, 0.10515275916863191, -0.5263016957839567, -0.04432663132196094, 0.8299882137593065, 0.288974670977, 1.4516357718944564, -0.4111386022214322, -2.1428502676999592, 1.2035300277031884, -1.623937560391315, -0.3132882723386422, -0.5352367479666442, -0.6950356321246792, -0.33190243398305314, 0.26383380532025796, -0.5184732009735258, 0.5207487437274007, -1.5584295495848832, 1.0170403191939565, 0.07373919242253754, 0.39030351930826057, 0.3832708653059387, -0.6111638533706606, 0.2944432971309082, 0.4591500221941663, -1.3000294349405557, 0.8493654040778634, -0.24454619551784645, 2.5784605090664208, 0.3470148257665814, 0.4275832431758216, -0.02006983310330113, -0.22115821773805194, 0.7441606483066695, -2.147666745538417, 0.4022717625020178, 1.015008131996003, -0.9614527011380453, 0.6427549647493842, 0.26275878026670807, -2.1811228596403294, -0.9651264344972399, -1.0807091355825975, -1.2704353852791637, -1.604220193082267, 2.2757599377870004, -0.7460643325640582, -1.0270656913759506, -0.08472691139075982, -0.4397288250502953, -0.4051011158276595, 0.0030321124322531187], \"y\": [1.788094498128622, -0.44535443686305204, -0.7131795159657938, -0.5554106325242337, -0.21586035461825787, -0.697799365135744, 1.097573763569276, 0.035887813880043605, 2.6195040661181466, 0.6079529137881459, 0.7436248459744537, -0.8618502776351192, -0.47747198195992685, 0.22394260599753302, 0.16778779907716984, -0.21439653722728408, -0.28082534999382414, -0.47247468827363853, -0.4506597477838028, 0.6851240964961288, 1.1619213588272501, -1.0702545218773423, 0.4492565916692249, -1.1452374174231343, 0.6940018241869989, 1.7025908336350206, 0.911095428268713, -0.8390868115640266, 0.1663123644197956, 0.3328100887697817, 0.06435393233991418, -0.3710348748026914, -0.9179829095604276, -0.524999408533106, 0.6652896007479878, 1.5838460732342565, -0.006292105652858107, 0.6036323038736936, -0.476844069070269, 1.1387478354050842, 0.03827391299502421, 1.1285586150173448, 0.14647132562841755, 0.4044039554802493, -0.21088510943267336, -1.6753117569624703, -0.3294821012530378, 0.6607752806792838, -0.13058529121836507, 0.22371960616266628, -0.8188759246483298, -0.5854214437337317, -2.491158593278795, -1.0585519213970385, -0.03288668821960335, 1.8329670294391918, 0.605965626089157, -1.0337333776852846, 0.3155519084756224, 1.6015557409146575, 0.6822350410713564, 2.338739883832616, -1.1730419635505192, 0.6391766373700845, 1.289160748481995, -0.5420518881612237, 0.5071628629766942, -0.40457294813531886, 0.7270531601651469, -1.6646222754130013, 0.40243397726927077, 0.34311882064613747, 0.6259398874778561, -1.009481363220773, 0.2245743366277254, 0.6600993412912876, -1.6075531641768765, 0.46316037121790465, -0.5365819522636401, 0.33546724504982794, 0.709807510414665, -1.411526231278596, 0.1236699459010611, 0.30797864886790227, -0.7320151252688502, 0.9815246074439794, 0.546198609092013, 1.7577800559208172, 0.31626620547227696, 0.42215646808605684, 1.4971434747745829, -0.13994118394343455, 0.8020527287884011, -0.004972773524476891, 0.7420408197587705, -2.2243504385067503, 0.11058060408422755, -0.07249780625225877, 0.8482330339326772, -0.7747200231185339]}],\n",
       "                        {\"legend\": {\"bgcolor\": \"#F5F6F9\", \"font\": {\"color\": \"#4D5663\"}}, \"paper_bgcolor\": \"#F5F6F9\", \"plot_bgcolor\": \"#F5F6F9\", \"template\": {\"data\": {\"bar\": [{\"error_x\": {\"color\": \"#2a3f5f\"}, \"error_y\": {\"color\": \"#2a3f5f\"}, \"marker\": {\"line\": {\"color\": \"#E5ECF6\", \"width\": 0.5}}, \"type\": \"bar\"}], \"barpolar\": [{\"marker\": {\"line\": {\"color\": \"#E5ECF6\", \"width\": 0.5}}, \"type\": \"barpolar\"}], \"carpet\": [{\"aaxis\": {\"endlinecolor\": \"#2a3f5f\", \"gridcolor\": \"white\", \"linecolor\": \"white\", \"minorgridcolor\": \"white\", \"startlinecolor\": \"#2a3f5f\"}, \"baxis\": {\"endlinecolor\": \"#2a3f5f\", \"gridcolor\": \"white\", \"linecolor\": \"white\", \"minorgridcolor\": \"white\", \"startlinecolor\": \"#2a3f5f\"}, \"type\": \"carpet\"}], \"choropleth\": [{\"colorbar\": {\"outlinewidth\": 0, \"ticks\": \"\"}, \"type\": \"choropleth\"}], \"contour\": [{\"colorbar\": {\"outlinewidth\": 0, \"ticks\": \"\"}, \"colorscale\": [[0.0, \"#0d0887\"], [0.1111111111111111, \"#46039f\"], [0.2222222222222222, \"#7201a8\"], [0.3333333333333333, \"#9c179e\"], [0.4444444444444444, \"#bd3786\"], [0.5555555555555556, \"#d8576b\"], [0.6666666666666666, \"#ed7953\"], [0.7777777777777778, \"#fb9f3a\"], [0.8888888888888888, \"#fdca26\"], [1.0, \"#f0f921\"]], \"type\": \"contour\"}], \"contourcarpet\": [{\"colorbar\": {\"outlinewidth\": 0, \"ticks\": \"\"}, \"type\": \"contourcarpet\"}], \"heatmap\": [{\"colorbar\": {\"outlinewidth\": 0, \"ticks\": \"\"}, \"colorscale\": [[0.0, \"#0d0887\"], [0.1111111111111111, \"#46039f\"], [0.2222222222222222, \"#7201a8\"], [0.3333333333333333, \"#9c179e\"], [0.4444444444444444, \"#bd3786\"], [0.5555555555555556, \"#d8576b\"], [0.6666666666666666, \"#ed7953\"], [0.7777777777777778, \"#fb9f3a\"], [0.8888888888888888, \"#fdca26\"], [1.0, \"#f0f921\"]], \"type\": \"heatmap\"}], \"heatmapgl\": [{\"colorbar\": {\"outlinewidth\": 0, \"ticks\": \"\"}, \"colorscale\": [[0.0, \"#0d0887\"], [0.1111111111111111, \"#46039f\"], [0.2222222222222222, \"#7201a8\"], [0.3333333333333333, \"#9c179e\"], [0.4444444444444444, \"#bd3786\"], [0.5555555555555556, \"#d8576b\"], [0.6666666666666666, \"#ed7953\"], [0.7777777777777778, \"#fb9f3a\"], [0.8888888888888888, \"#fdca26\"], [1.0, \"#f0f921\"]], \"type\": \"heatmapgl\"}], \"histogram\": [{\"marker\": {\"colorbar\": {\"outlinewidth\": 0, \"ticks\": \"\"}}, \"type\": \"histogram\"}], \"histogram2d\": [{\"colorbar\": {\"outlinewidth\": 0, \"ticks\": \"\"}, \"colorscale\": [[0.0, \"#0d0887\"], [0.1111111111111111, \"#46039f\"], [0.2222222222222222, \"#7201a8\"], [0.3333333333333333, \"#9c179e\"], [0.4444444444444444, \"#bd3786\"], [0.5555555555555556, \"#d8576b\"], [0.6666666666666666, \"#ed7953\"], [0.7777777777777778, \"#fb9f3a\"], [0.8888888888888888, \"#fdca26\"], [1.0, \"#f0f921\"]], \"type\": \"histogram2d\"}], \"histogram2dcontour\": [{\"colorbar\": {\"outlinewidth\": 0, \"ticks\": \"\"}, \"colorscale\": [[0.0, \"#0d0887\"], [0.1111111111111111, \"#46039f\"], [0.2222222222222222, \"#7201a8\"], [0.3333333333333333, \"#9c179e\"], [0.4444444444444444, \"#bd3786\"], [0.5555555555555556, \"#d8576b\"], [0.6666666666666666, \"#ed7953\"], [0.7777777777777778, \"#fb9f3a\"], [0.8888888888888888, \"#fdca26\"], [1.0, \"#f0f921\"]], \"type\": \"histogram2dcontour\"}], \"mesh3d\": [{\"colorbar\": {\"outlinewidth\": 0, \"ticks\": \"\"}, \"type\": \"mesh3d\"}], \"parcoords\": [{\"line\": {\"colorbar\": {\"outlinewidth\": 0, \"ticks\": \"\"}}, \"type\": \"parcoords\"}], \"pie\": [{\"automargin\": true, \"type\": \"pie\"}], \"scatter\": [{\"marker\": {\"colorbar\": {\"outlinewidth\": 0, \"ticks\": \"\"}}, \"type\": \"scatter\"}], \"scatter3d\": [{\"line\": {\"colorbar\": {\"outlinewidth\": 0, \"ticks\": \"\"}}, \"marker\": {\"colorbar\": {\"outlinewidth\": 0, \"ticks\": \"\"}}, \"type\": \"scatter3d\"}], \"scattercarpet\": [{\"marker\": {\"colorbar\": {\"outlinewidth\": 0, \"ticks\": \"\"}}, \"type\": \"scattercarpet\"}], \"scattergeo\": [{\"marker\": {\"colorbar\": {\"outlinewidth\": 0, \"ticks\": \"\"}}, \"type\": \"scattergeo\"}], \"scattergl\": [{\"marker\": {\"colorbar\": {\"outlinewidth\": 0, \"ticks\": \"\"}}, \"type\": \"scattergl\"}], \"scattermapbox\": [{\"marker\": {\"colorbar\": {\"outlinewidth\": 0, \"ticks\": \"\"}}, \"type\": \"scattermapbox\"}], \"scatterpolar\": [{\"marker\": {\"colorbar\": {\"outlinewidth\": 0, \"ticks\": \"\"}}, \"type\": \"scatterpolar\"}], \"scatterpolargl\": [{\"marker\": {\"colorbar\": {\"outlinewidth\": 0, \"ticks\": \"\"}}, \"type\": \"scatterpolargl\"}], \"scatterternary\": [{\"marker\": {\"colorbar\": {\"outlinewidth\": 0, \"ticks\": \"\"}}, \"type\": \"scatterternary\"}], \"surface\": [{\"colorbar\": {\"outlinewidth\": 0, \"ticks\": \"\"}, \"colorscale\": [[0.0, \"#0d0887\"], [0.1111111111111111, \"#46039f\"], [0.2222222222222222, \"#7201a8\"], [0.3333333333333333, \"#9c179e\"], [0.4444444444444444, \"#bd3786\"], [0.5555555555555556, \"#d8576b\"], [0.6666666666666666, \"#ed7953\"], [0.7777777777777778, \"#fb9f3a\"], [0.8888888888888888, \"#fdca26\"], [1.0, \"#f0f921\"]], \"type\": \"surface\"}], \"table\": [{\"cells\": {\"fill\": {\"color\": \"#EBF0F8\"}, \"line\": {\"color\": \"white\"}}, \"header\": {\"fill\": {\"color\": \"#C8D4E3\"}, \"line\": {\"color\": \"white\"}}, \"type\": \"table\"}]}, \"layout\": {\"annotationdefaults\": {\"arrowcolor\": \"#2a3f5f\", \"arrowhead\": 0, \"arrowwidth\": 1}, \"coloraxis\": {\"colorbar\": {\"outlinewidth\": 0, \"ticks\": \"\"}}, \"colorscale\": {\"diverging\": [[0, \"#8e0152\"], [0.1, \"#c51b7d\"], [0.2, \"#de77ae\"], [0.3, \"#f1b6da\"], [0.4, \"#fde0ef\"], [0.5, \"#f7f7f7\"], [0.6, \"#e6f5d0\"], [0.7, \"#b8e186\"], [0.8, \"#7fbc41\"], [0.9, \"#4d9221\"], [1, \"#276419\"]], \"sequential\": [[0.0, \"#0d0887\"], [0.1111111111111111, \"#46039f\"], [0.2222222222222222, \"#7201a8\"], [0.3333333333333333, \"#9c179e\"], [0.4444444444444444, \"#bd3786\"], [0.5555555555555556, \"#d8576b\"], [0.6666666666666666, \"#ed7953\"], [0.7777777777777778, \"#fb9f3a\"], [0.8888888888888888, \"#fdca26\"], [1.0, \"#f0f921\"]], \"sequentialminus\": [[0.0, \"#0d0887\"], [0.1111111111111111, \"#46039f\"], [0.2222222222222222, \"#7201a8\"], [0.3333333333333333, \"#9c179e\"], [0.4444444444444444, \"#bd3786\"], [0.5555555555555556, \"#d8576b\"], [0.6666666666666666, \"#ed7953\"], [0.7777777777777778, \"#fb9f3a\"], [0.8888888888888888, \"#fdca26\"], [1.0, \"#f0f921\"]]}, \"colorway\": [\"#636efa\", \"#EF553B\", \"#00cc96\", \"#ab63fa\", \"#FFA15A\", \"#19d3f3\", \"#FF6692\", \"#B6E880\", \"#FF97FF\", \"#FECB52\"], \"font\": {\"color\": \"#2a3f5f\"}, \"geo\": {\"bgcolor\": \"white\", \"lakecolor\": \"white\", \"landcolor\": \"#E5ECF6\", \"showlakes\": true, \"showland\": true, \"subunitcolor\": \"white\"}, \"hoverlabel\": {\"align\": \"left\"}, \"hovermode\": \"closest\", \"mapbox\": {\"style\": \"light\"}, \"paper_bgcolor\": \"white\", \"plot_bgcolor\": \"#E5ECF6\", \"polar\": {\"angularaxis\": {\"gridcolor\": \"white\", \"linecolor\": \"white\", \"ticks\": \"\"}, \"bgcolor\": \"#E5ECF6\", \"radialaxis\": {\"gridcolor\": \"white\", \"linecolor\": \"white\", \"ticks\": \"\"}}, \"scene\": {\"xaxis\": {\"backgroundcolor\": \"#E5ECF6\", \"gridcolor\": \"white\", \"gridwidth\": 2, \"linecolor\": \"white\", \"showbackground\": true, \"ticks\": \"\", \"zerolinecolor\": \"white\"}, \"yaxis\": {\"backgroundcolor\": \"#E5ECF6\", \"gridcolor\": \"white\", \"gridwidth\": 2, \"linecolor\": \"white\", \"showbackground\": true, \"ticks\": \"\", \"zerolinecolor\": \"white\"}, \"zaxis\": {\"backgroundcolor\": \"#E5ECF6\", \"gridcolor\": \"white\", \"gridwidth\": 2, \"linecolor\": \"white\", \"showbackground\": true, \"ticks\": \"\", \"zerolinecolor\": \"white\"}}, \"shapedefaults\": {\"line\": {\"color\": \"#2a3f5f\"}}, \"ternary\": {\"aaxis\": {\"gridcolor\": \"white\", \"linecolor\": \"white\", \"ticks\": \"\"}, \"baxis\": {\"gridcolor\": \"white\", \"linecolor\": \"white\", \"ticks\": \"\"}, \"bgcolor\": \"#E5ECF6\", \"caxis\": {\"gridcolor\": \"white\", \"linecolor\": \"white\", \"ticks\": \"\"}}, \"title\": {\"x\": 0.05}, \"xaxis\": {\"automargin\": true, \"gridcolor\": \"white\", \"linecolor\": \"white\", \"ticks\": \"\", \"title\": {\"standoff\": 15}, \"zerolinecolor\": \"white\", \"zerolinewidth\": 2}, \"yaxis\": {\"automargin\": true, \"gridcolor\": \"white\", \"linecolor\": \"white\", \"ticks\": \"\", \"title\": {\"standoff\": 15}, \"zerolinecolor\": \"white\", \"zerolinewidth\": 2}}}, \"title\": {\"font\": {\"color\": \"#4D5663\"}}, \"xaxis\": {\"gridcolor\": \"#E1E5ED\", \"showgrid\": true, \"tickfont\": {\"color\": \"#4D5663\"}, \"title\": {\"font\": {\"color\": \"#4D5663\"}, \"text\": \"\"}, \"zerolinecolor\": \"#E1E5ED\"}, \"yaxis\": {\"gridcolor\": \"#E1E5ED\", \"showgrid\": true, \"tickfont\": {\"color\": \"#4D5663\"}, \"title\": {\"font\": {\"color\": \"#4D5663\"}, \"text\": \"\"}, \"zerolinecolor\": \"#E1E5ED\"}},\n",
       "                        {\"showLink\": true, \"linkText\": \"Export to plot.ly\", \"plotlyServerURL\": \"https://plot.ly\", \"responsive\": true}\n",
       "                    ).then(function(){\n",
       "                            \n",
       "var gd = document.getElementById('804dcda6-0a91-4c1f-8e9f-2b42029fd639');\n",
       "var x = new MutationObserver(function (mutations, observer) {{\n",
       "        var display = window.getComputedStyle(gd).display;\n",
       "        if (!display || display === 'none') {{\n",
       "            console.log([gd, 'removed!']);\n",
       "            Plotly.purge(gd);\n",
       "            observer.disconnect();\n",
       "        }}\n",
       "}});\n",
       "\n",
       "// Listen for the removal of the full notebook cells\n",
       "var notebookContainer = gd.closest('#notebook-container');\n",
       "if (notebookContainer) {{\n",
       "    x.observe(notebookContainer, {childList: true});\n",
       "}}\n",
       "\n",
       "// Listen for the clearing of the current output cell\n",
       "var outputEl = gd.closest('.output');\n",
       "if (outputEl) {{\n",
       "    x.observe(outputEl, {childList: true});\n",
       "}}\n",
       "\n",
       "                        })\n",
       "                };\n",
       "                });\n",
       "            </script>\n",
       "        </div>"
      ]
     },
     "metadata": {},
     "output_type": "display_data"
    }
   ],
   "source": [
    "df.iplot(kind='bubble',x='A',y='B',size='C')"
   ]
  },
  {
   "cell_type": "code",
   "execution_count": 28,
   "metadata": {},
   "outputs": [
    {
     "data": {
      "application/vnd.plotly.v1+json": {
       "config": {
        "linkText": "Export to plot.ly",
        "plotlyServerURL": "https://plot.ly",
        "showLink": true
       },
       "data": [
        {
         "histfunc": "count",
         "histnorm": "",
         "marker": {
          "color": "rgba(255, 153, 51, 1.0)",
          "line": {
           "color": "#4D5663",
           "width": 1.3
          }
         },
         "name": "A",
         "nbinsx": 10,
         "opacity": 0.8,
         "orientation": "v",
         "type": "histogram",
         "x": [
          0.49289817131910324,
          -0.3012398972298208,
          -0.7816068221605069,
          -0.8090093152211132,
          1.4006830146786922,
          -0.19482583816277718,
          0.0604937012147241,
          2.119691209922694,
          0.7222242598679914,
          1.753235420367374,
          0.15830729803447974,
          -0.6341440309522819,
          -2.283999111080501,
          0.5531241386591951,
          -2.266708116322684,
          0.7042723917299197,
          0.6092425758622263,
          -0.340557220856165,
          -1.3041616905321494,
          0.18497826710035706,
          0.021565250924974123,
          -0.006075820444198791,
          -2.566727147075182,
          0.02730521303181981,
          -0.9939684925220701,
          -0.6223666531415607,
          1.776870439188865,
          0.01793289056711191,
          0.05680072212956541,
          0.43447933306281233,
          -1.453567536602802,
          0.22397366436895907,
          -0.47782199024703215,
          1.339102396303261,
          1.6080823076036965,
          0.20166945309703094,
          -1.4037713891573702,
          0.5106776942015245,
          -1.8190377132273154,
          -1.0337585498673065,
          0.5183548692185115,
          -1.0257448210609061,
          0.3360850564164397,
          1.6441074102925999,
          1.359625493547863,
          0.5732793595532124,
          -0.5467403903693552,
          0.40035282535498895,
          0.10515275916863191,
          -0.5263016957839567,
          -0.04432663132196094,
          0.8299882137593065,
          0.288974670977,
          1.4516357718944564,
          -0.4111386022214322,
          -2.1428502676999592,
          1.2035300277031884,
          -1.623937560391315,
          -0.3132882723386422,
          -0.5352367479666442,
          -0.6950356321246792,
          -0.33190243398305314,
          0.26383380532025796,
          -0.5184732009735258,
          0.5207487437274007,
          -1.5584295495848832,
          1.0170403191939565,
          0.07373919242253754,
          0.39030351930826057,
          0.3832708653059387,
          -0.6111638533706606,
          0.2944432971309082,
          0.4591500221941663,
          -1.3000294349405557,
          0.8493654040778634,
          -0.24454619551784645,
          2.5784605090664208,
          0.3470148257665814,
          0.4275832431758216,
          -0.02006983310330113,
          -0.22115821773805194,
          0.7441606483066695,
          -2.147666745538417,
          0.4022717625020178,
          1.015008131996003,
          -0.9614527011380453,
          0.6427549647493842,
          0.26275878026670807,
          -2.1811228596403294,
          -0.9651264344972399,
          -1.0807091355825975,
          -1.2704353852791637,
          -1.604220193082267,
          2.2757599377870004,
          -0.7460643325640582,
          -1.0270656913759506,
          -0.08472691139075982,
          -0.4397288250502953,
          -0.4051011158276595,
          0.0030321124322531187
         ],
         "xaxis": "x",
         "yaxis": "y"
        },
        {
         "line": {
          "color": "rgba(128, 128, 128, 1.0)",
          "dash": "solid",
          "shape": "linear",
          "width": 1.3
         },
         "marker": {
          "size": 2,
          "symbol": "circle"
         },
         "mode": "markers",
         "name": "A",
         "text": "",
         "type": "scatter",
         "x": [
          1.788094498128622,
          -0.44535443686305204,
          -0.7131795159657938,
          -0.5554106325242337,
          -0.21586035461825787,
          -0.697799365135744,
          1.097573763569276,
          0.035887813880043605,
          2.6195040661181466,
          0.6079529137881459,
          0.7436248459744537,
          -0.8618502776351192,
          -0.47747198195992685,
          0.22394260599753302,
          0.16778779907716984,
          -0.21439653722728408,
          -0.28082534999382414,
          -0.47247468827363853,
          -0.4506597477838028,
          0.6851240964961288,
          1.1619213588272501,
          -1.0702545218773423,
          0.4492565916692249,
          -1.1452374174231343,
          0.6940018241869989,
          1.7025908336350206,
          0.911095428268713,
          -0.8390868115640266,
          0.1663123644197956,
          0.3328100887697817,
          0.06435393233991418,
          -0.3710348748026914,
          -0.9179829095604276,
          -0.524999408533106,
          0.6652896007479878,
          1.5838460732342565,
          -0.006292105652858107,
          0.6036323038736936,
          -0.476844069070269,
          1.1387478354050842,
          0.03827391299502421,
          1.1285586150173448,
          0.14647132562841755,
          0.4044039554802493,
          -0.21088510943267336,
          -1.6753117569624703,
          -0.3294821012530378,
          0.6607752806792838,
          -0.13058529121836507,
          0.22371960616266628,
          -0.8188759246483298,
          -0.5854214437337317,
          -2.491158593278795,
          -1.0585519213970385,
          -0.03288668821960335,
          1.8329670294391918,
          0.605965626089157,
          -1.0337333776852846,
          0.3155519084756224,
          1.6015557409146575,
          0.6822350410713564,
          2.338739883832616,
          -1.1730419635505192,
          0.6391766373700845,
          1.289160748481995,
          -0.5420518881612237,
          0.5071628629766942,
          -0.40457294813531886,
          0.7270531601651469,
          -1.6646222754130013,
          0.40243397726927077,
          0.34311882064613747,
          0.6259398874778561,
          -1.009481363220773,
          0.2245743366277254,
          0.6600993412912876,
          -1.6075531641768765,
          0.46316037121790465,
          -0.5365819522636401,
          0.33546724504982794,
          0.709807510414665,
          -1.411526231278596,
          0.1236699459010611,
          0.30797864886790227,
          -0.7320151252688502,
          0.9815246074439794,
          0.546198609092013,
          1.7577800559208172,
          0.31626620547227696,
          0.42215646808605684,
          1.4971434747745829,
          -0.13994118394343455,
          0.8020527287884011,
          -0.004972773524476891,
          0.7420408197587705,
          -2.2243504385067503,
          0.11058060408422755,
          -0.07249780625225877,
          0.8482330339326772,
          -0.7747200231185339
         ],
         "xaxis": "x2",
         "y": [
          0.49289817131910324,
          -0.3012398972298208,
          -0.7816068221605069,
          -0.8090093152211132,
          1.4006830146786922,
          -0.19482583816277718,
          0.0604937012147241,
          2.119691209922694,
          0.7222242598679914,
          1.753235420367374,
          0.15830729803447974,
          -0.6341440309522819,
          -2.283999111080501,
          0.5531241386591951,
          -2.266708116322684,
          0.7042723917299197,
          0.6092425758622263,
          -0.340557220856165,
          -1.3041616905321494,
          0.18497826710035706,
          0.021565250924974123,
          -0.006075820444198791,
          -2.566727147075182,
          0.02730521303181981,
          -0.9939684925220701,
          -0.6223666531415607,
          1.776870439188865,
          0.01793289056711191,
          0.05680072212956541,
          0.43447933306281233,
          -1.453567536602802,
          0.22397366436895907,
          -0.47782199024703215,
          1.339102396303261,
          1.6080823076036965,
          0.20166945309703094,
          -1.4037713891573702,
          0.5106776942015245,
          -1.8190377132273154,
          -1.0337585498673065,
          0.5183548692185115,
          -1.0257448210609061,
          0.3360850564164397,
          1.6441074102925999,
          1.359625493547863,
          0.5732793595532124,
          -0.5467403903693552,
          0.40035282535498895,
          0.10515275916863191,
          -0.5263016957839567,
          -0.04432663132196094,
          0.8299882137593065,
          0.288974670977,
          1.4516357718944564,
          -0.4111386022214322,
          -2.1428502676999592,
          1.2035300277031884,
          -1.623937560391315,
          -0.3132882723386422,
          -0.5352367479666442,
          -0.6950356321246792,
          -0.33190243398305314,
          0.26383380532025796,
          -0.5184732009735258,
          0.5207487437274007,
          -1.5584295495848832,
          1.0170403191939565,
          0.07373919242253754,
          0.39030351930826057,
          0.3832708653059387,
          -0.6111638533706606,
          0.2944432971309082,
          0.4591500221941663,
          -1.3000294349405557,
          0.8493654040778634,
          -0.24454619551784645,
          2.5784605090664208,
          0.3470148257665814,
          0.4275832431758216,
          -0.02006983310330113,
          -0.22115821773805194,
          0.7441606483066695,
          -2.147666745538417,
          0.4022717625020178,
          1.015008131996003,
          -0.9614527011380453,
          0.6427549647493842,
          0.26275878026670807,
          -2.1811228596403294,
          -0.9651264344972399,
          -1.0807091355825975,
          -1.2704353852791637,
          -1.604220193082267,
          2.2757599377870004,
          -0.7460643325640582,
          -1.0270656913759506,
          -0.08472691139075982,
          -0.4397288250502953,
          -0.4051011158276595,
          0.0030321124322531187
         ],
         "yaxis": "y2"
        },
        {
         "line": {
          "color": "rgba(128, 128, 128, 1.0)",
          "dash": "solid",
          "shape": "linear",
          "width": 1.3
         },
         "marker": {
          "size": 2,
          "symbol": "circle"
         },
         "mode": "markers",
         "name": "A",
         "text": "",
         "type": "scatter",
         "x": [
          1.463672469166598,
          0.6651197192188135,
          0.37566576496129844,
          1.4791635585415648,
          1.4167798359311785,
          0.6675141209292036,
          0.5894767021021048,
          0.9301212541168372,
          0.27226748556495267,
          -0.06391177027598757,
          1.0010415184193269,
          1.0326165177182174,
          -0.8731298266611605,
          -0.46840514265026345,
          -0.3854634418756403,
          1.2459924037856747,
          0.8457350353558521,
          1.6337799788982934,
          0.7889157293396244,
          -0.6018538929253865,
          -0.545465322430264,
          0.09852540676052758,
          -0.009114980519238224,
          -0.30629952776384767,
          -1.2500465350505152,
          -0.042355212049775645,
          -0.6400215740203627,
          -1.1322927651162251,
          -1.2187668795188207,
          1.6938191102102707,
          -1.492066170203874,
          -0.3502846950994851,
          -1.7995148501102394,
          -1.1519112577389599,
          1.3602019488257686,
          1.0680044955077561,
          -2.161847520754712,
          -0.1555672793909803,
          -0.08755424424509188,
          0.15341729708932367,
          0.8209593576356582,
          0.5078408720603443,
          -0.06243714679218857,
          0.2973074236620757,
          0.7813467485374767,
          0.6973501319285956,
          -1.3783614386516876,
          0.21381270000361954,
          0.13057088665168068,
          -2.0962842050753214,
          -0.9153373599146069,
          -0.9073526341698958,
          0.7407521736326562,
          -1.5693456913844939,
          -0.16817904905543016,
          -0.814255736583778,
          -0.31505303878366353,
          0.6328591794772734,
          0.16821328929726775,
          -1.467656218336898,
          -0.042477711901061595,
          -2.596860879634435,
          0.11885605619163297,
          0.11604594671634334,
          0.45571495458637146,
          -0.8367063080226032,
          -0.4868194124432724,
          -0.6846042002152335,
          0.7787188235294727,
          0.7834546105714999,
          -0.4654595163663431,
          1.0627138382165682,
          -0.9162262576347874,
          0.9987637167369354,
          -0.8419795773955878,
          0.4972884991745363,
          0.5429426100243367,
          -1.2013471669665756,
          -0.22134747995347895,
          -0.9152126365884109,
          -0.6467294188414507,
          -0.02547528848355319,
          0.9620667204717402,
          2.054594371020456,
          -0.5926406463420172,
          -2.2405365890056217,
          -0.17541377487678347,
          0.3838316976959465,
          0.26351375595270154,
          1.80204891106008,
          0.3203700240814719,
          -0.6819345859625005,
          -0.413617630555659,
          0.38409204950645615,
          1.422836558643967,
          -1.208550225097222,
          0.3047803401765312,
          -0.846186163669692,
          0.18881194325830297,
          0.13831523685704977
         ],
         "xaxis": "x3",
         "y": [
          0.49289817131910324,
          -0.3012398972298208,
          -0.7816068221605069,
          -0.8090093152211132,
          1.4006830146786922,
          -0.19482583816277718,
          0.0604937012147241,
          2.119691209922694,
          0.7222242598679914,
          1.753235420367374,
          0.15830729803447974,
          -0.6341440309522819,
          -2.283999111080501,
          0.5531241386591951,
          -2.266708116322684,
          0.7042723917299197,
          0.6092425758622263,
          -0.340557220856165,
          -1.3041616905321494,
          0.18497826710035706,
          0.021565250924974123,
          -0.006075820444198791,
          -2.566727147075182,
          0.02730521303181981,
          -0.9939684925220701,
          -0.6223666531415607,
          1.776870439188865,
          0.01793289056711191,
          0.05680072212956541,
          0.43447933306281233,
          -1.453567536602802,
          0.22397366436895907,
          -0.47782199024703215,
          1.339102396303261,
          1.6080823076036965,
          0.20166945309703094,
          -1.4037713891573702,
          0.5106776942015245,
          -1.8190377132273154,
          -1.0337585498673065,
          0.5183548692185115,
          -1.0257448210609061,
          0.3360850564164397,
          1.6441074102925999,
          1.359625493547863,
          0.5732793595532124,
          -0.5467403903693552,
          0.40035282535498895,
          0.10515275916863191,
          -0.5263016957839567,
          -0.04432663132196094,
          0.8299882137593065,
          0.288974670977,
          1.4516357718944564,
          -0.4111386022214322,
          -2.1428502676999592,
          1.2035300277031884,
          -1.623937560391315,
          -0.3132882723386422,
          -0.5352367479666442,
          -0.6950356321246792,
          -0.33190243398305314,
          0.26383380532025796,
          -0.5184732009735258,
          0.5207487437274007,
          -1.5584295495848832,
          1.0170403191939565,
          0.07373919242253754,
          0.39030351930826057,
          0.3832708653059387,
          -0.6111638533706606,
          0.2944432971309082,
          0.4591500221941663,
          -1.3000294349405557,
          0.8493654040778634,
          -0.24454619551784645,
          2.5784605090664208,
          0.3470148257665814,
          0.4275832431758216,
          -0.02006983310330113,
          -0.22115821773805194,
          0.7441606483066695,
          -2.147666745538417,
          0.4022717625020178,
          1.015008131996003,
          -0.9614527011380453,
          0.6427549647493842,
          0.26275878026670807,
          -2.1811228596403294,
          -0.9651264344972399,
          -1.0807091355825975,
          -1.2704353852791637,
          -1.604220193082267,
          2.2757599377870004,
          -0.7460643325640582,
          -1.0270656913759506,
          -0.08472691139075982,
          -0.4397288250502953,
          -0.4051011158276595,
          0.0030321124322531187
         ],
         "yaxis": "y3"
        },
        {
         "line": {
          "color": "rgba(128, 128, 128, 1.0)",
          "dash": "solid",
          "shape": "linear",
          "width": 1.3
         },
         "marker": {
          "size": 2,
          "symbol": "circle"
         },
         "mode": "markers",
         "name": "A",
         "text": "",
         "type": "scatter",
         "x": [
          -0.518783594996111,
          -2.4134121292767667,
          0.05034939966290155,
          -0.06960957892298734,
          -0.2260588074572653,
          -1.927090999921165,
          0.024635095040146927,
          -0.7441625541298046,
          -0.025683679287609805,
          0.11843513989092828,
          -0.4849087333809206,
          -1.2954358425583201,
          1.0795564645448268,
          -0.6975424576353564,
          -0.2697714644042345,
          1.438968686818738,
          0.39409728828892954,
          -0.6265133870177304,
          -0.07824844526021912,
          -0.08591331765526902,
          0.8049923558872016,
          -1.0295399790894808,
          0.8786188084461379,
          0.46443962318469717,
          1.1761263431906517,
          -0.44440355978282203,
          0.9615156084487653,
          -0.5205899481735078,
          -1.7001403321488082,
          -0.5742156648569211,
          -1.5076041562325455,
          0.14358381613267093,
          1.513624324283302,
          0.20695348581256173,
          -2.4042855181268483,
          1.251628238049774,
          -1.3286629238691323,
          -2.050349258987114,
          0.9419130391059416,
          -0.7692435131584836,
          -0.8103901760540326,
          -0.8559410079422868,
          0.7022159222046942,
          0.03961153229562075,
          0.9446372185380836,
          -0.7598077508633341,
          0.24296278440062496,
          1.6967567370379988,
          -0.3540073619364603,
          1.2807823387911226,
          -0.3048581626816503,
          1.6063731950511038,
          -0.9068007722531073,
          -1.3243575537247236,
          -1.244128218309669,
          -1.850367569260154,
          -0.5710247020667107,
          0.28966820605365357,
          -1.1186418290222262,
          2.8885796606749925,
          -0.25131418682439843,
          -1.2651371623752403,
          -1.7208183825176575,
          -2.379348975057764,
          0.2833705925498279,
          0.9591099681660155,
          -1.0281961398773638,
          0.5430260260149434,
          -1.2345436637795881,
          0.3392535301869327,
          -0.12585274936717322,
          0.5724712772673114,
          1.647704705920134e-05,
          -0.9246796833279284,
          0.5755276455950149,
          1.1969623581801656,
          0.4712654848573027,
          -0.6803956435669573,
          0.6379021895182349,
          0.9897298422219863,
          -1.2442857660093052,
          -0.17387348445545497,
          0.5683303618787926,
          0.10724265170165377,
          0.2778618535670428,
          -0.16522749240533144,
          -0.9385785399474534,
          -0.7750686546066188,
          0.3468413043569452,
          -0.9061856008536254,
          -0.322226460099784,
          -0.462172141008642,
          1.3550041922182134,
          1.2579165177664244,
          -1.2587896313699054,
          -0.6742783069596625,
          0.19371989971395945,
          0.395530183978683,
          -0.6081088049058118,
          0.6488370810754313
         ],
         "xaxis": "x4",
         "y": [
          0.49289817131910324,
          -0.3012398972298208,
          -0.7816068221605069,
          -0.8090093152211132,
          1.4006830146786922,
          -0.19482583816277718,
          0.0604937012147241,
          2.119691209922694,
          0.7222242598679914,
          1.753235420367374,
          0.15830729803447974,
          -0.6341440309522819,
          -2.283999111080501,
          0.5531241386591951,
          -2.266708116322684,
          0.7042723917299197,
          0.6092425758622263,
          -0.340557220856165,
          -1.3041616905321494,
          0.18497826710035706,
          0.021565250924974123,
          -0.006075820444198791,
          -2.566727147075182,
          0.02730521303181981,
          -0.9939684925220701,
          -0.6223666531415607,
          1.776870439188865,
          0.01793289056711191,
          0.05680072212956541,
          0.43447933306281233,
          -1.453567536602802,
          0.22397366436895907,
          -0.47782199024703215,
          1.339102396303261,
          1.6080823076036965,
          0.20166945309703094,
          -1.4037713891573702,
          0.5106776942015245,
          -1.8190377132273154,
          -1.0337585498673065,
          0.5183548692185115,
          -1.0257448210609061,
          0.3360850564164397,
          1.6441074102925999,
          1.359625493547863,
          0.5732793595532124,
          -0.5467403903693552,
          0.40035282535498895,
          0.10515275916863191,
          -0.5263016957839567,
          -0.04432663132196094,
          0.8299882137593065,
          0.288974670977,
          1.4516357718944564,
          -0.4111386022214322,
          -2.1428502676999592,
          1.2035300277031884,
          -1.623937560391315,
          -0.3132882723386422,
          -0.5352367479666442,
          -0.6950356321246792,
          -0.33190243398305314,
          0.26383380532025796,
          -0.5184732009735258,
          0.5207487437274007,
          -1.5584295495848832,
          1.0170403191939565,
          0.07373919242253754,
          0.39030351930826057,
          0.3832708653059387,
          -0.6111638533706606,
          0.2944432971309082,
          0.4591500221941663,
          -1.3000294349405557,
          0.8493654040778634,
          -0.24454619551784645,
          2.5784605090664208,
          0.3470148257665814,
          0.4275832431758216,
          -0.02006983310330113,
          -0.22115821773805194,
          0.7441606483066695,
          -2.147666745538417,
          0.4022717625020178,
          1.015008131996003,
          -0.9614527011380453,
          0.6427549647493842,
          0.26275878026670807,
          -2.1811228596403294,
          -0.9651264344972399,
          -1.0807091355825975,
          -1.2704353852791637,
          -1.604220193082267,
          2.2757599377870004,
          -0.7460643325640582,
          -1.0270656913759506,
          -0.08472691139075982,
          -0.4397288250502953,
          -0.4051011158276595,
          0.0030321124322531187
         ],
         "yaxis": "y4"
        },
        {
         "line": {
          "color": "rgba(128, 128, 128, 1.0)",
          "dash": "solid",
          "shape": "linear",
          "width": 1.3
         },
         "marker": {
          "size": 2,
          "symbol": "circle"
         },
         "mode": "markers",
         "name": "B",
         "text": "",
         "type": "scatter",
         "x": [
          0.49289817131910324,
          -0.3012398972298208,
          -0.7816068221605069,
          -0.8090093152211132,
          1.4006830146786922,
          -0.19482583816277718,
          0.0604937012147241,
          2.119691209922694,
          0.7222242598679914,
          1.753235420367374,
          0.15830729803447974,
          -0.6341440309522819,
          -2.283999111080501,
          0.5531241386591951,
          -2.266708116322684,
          0.7042723917299197,
          0.6092425758622263,
          -0.340557220856165,
          -1.3041616905321494,
          0.18497826710035706,
          0.021565250924974123,
          -0.006075820444198791,
          -2.566727147075182,
          0.02730521303181981,
          -0.9939684925220701,
          -0.6223666531415607,
          1.776870439188865,
          0.01793289056711191,
          0.05680072212956541,
          0.43447933306281233,
          -1.453567536602802,
          0.22397366436895907,
          -0.47782199024703215,
          1.339102396303261,
          1.6080823076036965,
          0.20166945309703094,
          -1.4037713891573702,
          0.5106776942015245,
          -1.8190377132273154,
          -1.0337585498673065,
          0.5183548692185115,
          -1.0257448210609061,
          0.3360850564164397,
          1.6441074102925999,
          1.359625493547863,
          0.5732793595532124,
          -0.5467403903693552,
          0.40035282535498895,
          0.10515275916863191,
          -0.5263016957839567,
          -0.04432663132196094,
          0.8299882137593065,
          0.288974670977,
          1.4516357718944564,
          -0.4111386022214322,
          -2.1428502676999592,
          1.2035300277031884,
          -1.623937560391315,
          -0.3132882723386422,
          -0.5352367479666442,
          -0.6950356321246792,
          -0.33190243398305314,
          0.26383380532025796,
          -0.5184732009735258,
          0.5207487437274007,
          -1.5584295495848832,
          1.0170403191939565,
          0.07373919242253754,
          0.39030351930826057,
          0.3832708653059387,
          -0.6111638533706606,
          0.2944432971309082,
          0.4591500221941663,
          -1.3000294349405557,
          0.8493654040778634,
          -0.24454619551784645,
          2.5784605090664208,
          0.3470148257665814,
          0.4275832431758216,
          -0.02006983310330113,
          -0.22115821773805194,
          0.7441606483066695,
          -2.147666745538417,
          0.4022717625020178,
          1.015008131996003,
          -0.9614527011380453,
          0.6427549647493842,
          0.26275878026670807,
          -2.1811228596403294,
          -0.9651264344972399,
          -1.0807091355825975,
          -1.2704353852791637,
          -1.604220193082267,
          2.2757599377870004,
          -0.7460643325640582,
          -1.0270656913759506,
          -0.08472691139075982,
          -0.4397288250502953,
          -0.4051011158276595,
          0.0030321124322531187
         ],
         "xaxis": "x5",
         "y": [
          1.788094498128622,
          -0.44535443686305204,
          -0.7131795159657938,
          -0.5554106325242337,
          -0.21586035461825787,
          -0.697799365135744,
          1.097573763569276,
          0.035887813880043605,
          2.6195040661181466,
          0.6079529137881459,
          0.7436248459744537,
          -0.8618502776351192,
          -0.47747198195992685,
          0.22394260599753302,
          0.16778779907716984,
          -0.21439653722728408,
          -0.28082534999382414,
          -0.47247468827363853,
          -0.4506597477838028,
          0.6851240964961288,
          1.1619213588272501,
          -1.0702545218773423,
          0.4492565916692249,
          -1.1452374174231343,
          0.6940018241869989,
          1.7025908336350206,
          0.911095428268713,
          -0.8390868115640266,
          0.1663123644197956,
          0.3328100887697817,
          0.06435393233991418,
          -0.3710348748026914,
          -0.9179829095604276,
          -0.524999408533106,
          0.6652896007479878,
          1.5838460732342565,
          -0.006292105652858107,
          0.6036323038736936,
          -0.476844069070269,
          1.1387478354050842,
          0.03827391299502421,
          1.1285586150173448,
          0.14647132562841755,
          0.4044039554802493,
          -0.21088510943267336,
          -1.6753117569624703,
          -0.3294821012530378,
          0.6607752806792838,
          -0.13058529121836507,
          0.22371960616266628,
          -0.8188759246483298,
          -0.5854214437337317,
          -2.491158593278795,
          -1.0585519213970385,
          -0.03288668821960335,
          1.8329670294391918,
          0.605965626089157,
          -1.0337333776852846,
          0.3155519084756224,
          1.6015557409146575,
          0.6822350410713564,
          2.338739883832616,
          -1.1730419635505192,
          0.6391766373700845,
          1.289160748481995,
          -0.5420518881612237,
          0.5071628629766942,
          -0.40457294813531886,
          0.7270531601651469,
          -1.6646222754130013,
          0.40243397726927077,
          0.34311882064613747,
          0.6259398874778561,
          -1.009481363220773,
          0.2245743366277254,
          0.6600993412912876,
          -1.6075531641768765,
          0.46316037121790465,
          -0.5365819522636401,
          0.33546724504982794,
          0.709807510414665,
          -1.411526231278596,
          0.1236699459010611,
          0.30797864886790227,
          -0.7320151252688502,
          0.9815246074439794,
          0.546198609092013,
          1.7577800559208172,
          0.31626620547227696,
          0.42215646808605684,
          1.4971434747745829,
          -0.13994118394343455,
          0.8020527287884011,
          -0.004972773524476891,
          0.7420408197587705,
          -2.2243504385067503,
          0.11058060408422755,
          -0.07249780625225877,
          0.8482330339326772,
          -0.7747200231185339
         ],
         "yaxis": "y5"
        },
        {
         "histfunc": "count",
         "histnorm": "",
         "marker": {
          "color": "rgba(55, 128, 191, 1.0)",
          "line": {
           "color": "#4D5663",
           "width": 1.3
          }
         },
         "name": "B",
         "nbinsx": 10,
         "opacity": 0.8,
         "orientation": "v",
         "type": "histogram",
         "x": [
          1.788094498128622,
          -0.44535443686305204,
          -0.7131795159657938,
          -0.5554106325242337,
          -0.21586035461825787,
          -0.697799365135744,
          1.097573763569276,
          0.035887813880043605,
          2.6195040661181466,
          0.6079529137881459,
          0.7436248459744537,
          -0.8618502776351192,
          -0.47747198195992685,
          0.22394260599753302,
          0.16778779907716984,
          -0.21439653722728408,
          -0.28082534999382414,
          -0.47247468827363853,
          -0.4506597477838028,
          0.6851240964961288,
          1.1619213588272501,
          -1.0702545218773423,
          0.4492565916692249,
          -1.1452374174231343,
          0.6940018241869989,
          1.7025908336350206,
          0.911095428268713,
          -0.8390868115640266,
          0.1663123644197956,
          0.3328100887697817,
          0.06435393233991418,
          -0.3710348748026914,
          -0.9179829095604276,
          -0.524999408533106,
          0.6652896007479878,
          1.5838460732342565,
          -0.006292105652858107,
          0.6036323038736936,
          -0.476844069070269,
          1.1387478354050842,
          0.03827391299502421,
          1.1285586150173448,
          0.14647132562841755,
          0.4044039554802493,
          -0.21088510943267336,
          -1.6753117569624703,
          -0.3294821012530378,
          0.6607752806792838,
          -0.13058529121836507,
          0.22371960616266628,
          -0.8188759246483298,
          -0.5854214437337317,
          -2.491158593278795,
          -1.0585519213970385,
          -0.03288668821960335,
          1.8329670294391918,
          0.605965626089157,
          -1.0337333776852846,
          0.3155519084756224,
          1.6015557409146575,
          0.6822350410713564,
          2.338739883832616,
          -1.1730419635505192,
          0.6391766373700845,
          1.289160748481995,
          -0.5420518881612237,
          0.5071628629766942,
          -0.40457294813531886,
          0.7270531601651469,
          -1.6646222754130013,
          0.40243397726927077,
          0.34311882064613747,
          0.6259398874778561,
          -1.009481363220773,
          0.2245743366277254,
          0.6600993412912876,
          -1.6075531641768765,
          0.46316037121790465,
          -0.5365819522636401,
          0.33546724504982794,
          0.709807510414665,
          -1.411526231278596,
          0.1236699459010611,
          0.30797864886790227,
          -0.7320151252688502,
          0.9815246074439794,
          0.546198609092013,
          1.7577800559208172,
          0.31626620547227696,
          0.42215646808605684,
          1.4971434747745829,
          -0.13994118394343455,
          0.8020527287884011,
          -0.004972773524476891,
          0.7420408197587705,
          -2.2243504385067503,
          0.11058060408422755,
          -0.07249780625225877,
          0.8482330339326772,
          -0.7747200231185339
         ],
         "xaxis": "x6",
         "yaxis": "y6"
        },
        {
         "line": {
          "color": "rgba(128, 128, 128, 1.0)",
          "dash": "solid",
          "shape": "linear",
          "width": 1.3
         },
         "marker": {
          "size": 2,
          "symbol": "circle"
         },
         "mode": "markers",
         "name": "B",
         "text": "",
         "type": "scatter",
         "x": [
          1.463672469166598,
          0.6651197192188135,
          0.37566576496129844,
          1.4791635585415648,
          1.4167798359311785,
          0.6675141209292036,
          0.5894767021021048,
          0.9301212541168372,
          0.27226748556495267,
          -0.06391177027598757,
          1.0010415184193269,
          1.0326165177182174,
          -0.8731298266611605,
          -0.46840514265026345,
          -0.3854634418756403,
          1.2459924037856747,
          0.8457350353558521,
          1.6337799788982934,
          0.7889157293396244,
          -0.6018538929253865,
          -0.545465322430264,
          0.09852540676052758,
          -0.009114980519238224,
          -0.30629952776384767,
          -1.2500465350505152,
          -0.042355212049775645,
          -0.6400215740203627,
          -1.1322927651162251,
          -1.2187668795188207,
          1.6938191102102707,
          -1.492066170203874,
          -0.3502846950994851,
          -1.7995148501102394,
          -1.1519112577389599,
          1.3602019488257686,
          1.0680044955077561,
          -2.161847520754712,
          -0.1555672793909803,
          -0.08755424424509188,
          0.15341729708932367,
          0.8209593576356582,
          0.5078408720603443,
          -0.06243714679218857,
          0.2973074236620757,
          0.7813467485374767,
          0.6973501319285956,
          -1.3783614386516876,
          0.21381270000361954,
          0.13057088665168068,
          -2.0962842050753214,
          -0.9153373599146069,
          -0.9073526341698958,
          0.7407521736326562,
          -1.5693456913844939,
          -0.16817904905543016,
          -0.814255736583778,
          -0.31505303878366353,
          0.6328591794772734,
          0.16821328929726775,
          -1.467656218336898,
          -0.042477711901061595,
          -2.596860879634435,
          0.11885605619163297,
          0.11604594671634334,
          0.45571495458637146,
          -0.8367063080226032,
          -0.4868194124432724,
          -0.6846042002152335,
          0.7787188235294727,
          0.7834546105714999,
          -0.4654595163663431,
          1.0627138382165682,
          -0.9162262576347874,
          0.9987637167369354,
          -0.8419795773955878,
          0.4972884991745363,
          0.5429426100243367,
          -1.2013471669665756,
          -0.22134747995347895,
          -0.9152126365884109,
          -0.6467294188414507,
          -0.02547528848355319,
          0.9620667204717402,
          2.054594371020456,
          -0.5926406463420172,
          -2.2405365890056217,
          -0.17541377487678347,
          0.3838316976959465,
          0.26351375595270154,
          1.80204891106008,
          0.3203700240814719,
          -0.6819345859625005,
          -0.413617630555659,
          0.38409204950645615,
          1.422836558643967,
          -1.208550225097222,
          0.3047803401765312,
          -0.846186163669692,
          0.18881194325830297,
          0.13831523685704977
         ],
         "xaxis": "x7",
         "y": [
          1.788094498128622,
          -0.44535443686305204,
          -0.7131795159657938,
          -0.5554106325242337,
          -0.21586035461825787,
          -0.697799365135744,
          1.097573763569276,
          0.035887813880043605,
          2.6195040661181466,
          0.6079529137881459,
          0.7436248459744537,
          -0.8618502776351192,
          -0.47747198195992685,
          0.22394260599753302,
          0.16778779907716984,
          -0.21439653722728408,
          -0.28082534999382414,
          -0.47247468827363853,
          -0.4506597477838028,
          0.6851240964961288,
          1.1619213588272501,
          -1.0702545218773423,
          0.4492565916692249,
          -1.1452374174231343,
          0.6940018241869989,
          1.7025908336350206,
          0.911095428268713,
          -0.8390868115640266,
          0.1663123644197956,
          0.3328100887697817,
          0.06435393233991418,
          -0.3710348748026914,
          -0.9179829095604276,
          -0.524999408533106,
          0.6652896007479878,
          1.5838460732342565,
          -0.006292105652858107,
          0.6036323038736936,
          -0.476844069070269,
          1.1387478354050842,
          0.03827391299502421,
          1.1285586150173448,
          0.14647132562841755,
          0.4044039554802493,
          -0.21088510943267336,
          -1.6753117569624703,
          -0.3294821012530378,
          0.6607752806792838,
          -0.13058529121836507,
          0.22371960616266628,
          -0.8188759246483298,
          -0.5854214437337317,
          -2.491158593278795,
          -1.0585519213970385,
          -0.03288668821960335,
          1.8329670294391918,
          0.605965626089157,
          -1.0337333776852846,
          0.3155519084756224,
          1.6015557409146575,
          0.6822350410713564,
          2.338739883832616,
          -1.1730419635505192,
          0.6391766373700845,
          1.289160748481995,
          -0.5420518881612237,
          0.5071628629766942,
          -0.40457294813531886,
          0.7270531601651469,
          -1.6646222754130013,
          0.40243397726927077,
          0.34311882064613747,
          0.6259398874778561,
          -1.009481363220773,
          0.2245743366277254,
          0.6600993412912876,
          -1.6075531641768765,
          0.46316037121790465,
          -0.5365819522636401,
          0.33546724504982794,
          0.709807510414665,
          -1.411526231278596,
          0.1236699459010611,
          0.30797864886790227,
          -0.7320151252688502,
          0.9815246074439794,
          0.546198609092013,
          1.7577800559208172,
          0.31626620547227696,
          0.42215646808605684,
          1.4971434747745829,
          -0.13994118394343455,
          0.8020527287884011,
          -0.004972773524476891,
          0.7420408197587705,
          -2.2243504385067503,
          0.11058060408422755,
          -0.07249780625225877,
          0.8482330339326772,
          -0.7747200231185339
         ],
         "yaxis": "y7"
        },
        {
         "line": {
          "color": "rgba(128, 128, 128, 1.0)",
          "dash": "solid",
          "shape": "linear",
          "width": 1.3
         },
         "marker": {
          "size": 2,
          "symbol": "circle"
         },
         "mode": "markers",
         "name": "B",
         "text": "",
         "type": "scatter",
         "x": [
          -0.518783594996111,
          -2.4134121292767667,
          0.05034939966290155,
          -0.06960957892298734,
          -0.2260588074572653,
          -1.927090999921165,
          0.024635095040146927,
          -0.7441625541298046,
          -0.025683679287609805,
          0.11843513989092828,
          -0.4849087333809206,
          -1.2954358425583201,
          1.0795564645448268,
          -0.6975424576353564,
          -0.2697714644042345,
          1.438968686818738,
          0.39409728828892954,
          -0.6265133870177304,
          -0.07824844526021912,
          -0.08591331765526902,
          0.8049923558872016,
          -1.0295399790894808,
          0.8786188084461379,
          0.46443962318469717,
          1.1761263431906517,
          -0.44440355978282203,
          0.9615156084487653,
          -0.5205899481735078,
          -1.7001403321488082,
          -0.5742156648569211,
          -1.5076041562325455,
          0.14358381613267093,
          1.513624324283302,
          0.20695348581256173,
          -2.4042855181268483,
          1.251628238049774,
          -1.3286629238691323,
          -2.050349258987114,
          0.9419130391059416,
          -0.7692435131584836,
          -0.8103901760540326,
          -0.8559410079422868,
          0.7022159222046942,
          0.03961153229562075,
          0.9446372185380836,
          -0.7598077508633341,
          0.24296278440062496,
          1.6967567370379988,
          -0.3540073619364603,
          1.2807823387911226,
          -0.3048581626816503,
          1.6063731950511038,
          -0.9068007722531073,
          -1.3243575537247236,
          -1.244128218309669,
          -1.850367569260154,
          -0.5710247020667107,
          0.28966820605365357,
          -1.1186418290222262,
          2.8885796606749925,
          -0.25131418682439843,
          -1.2651371623752403,
          -1.7208183825176575,
          -2.379348975057764,
          0.2833705925498279,
          0.9591099681660155,
          -1.0281961398773638,
          0.5430260260149434,
          -1.2345436637795881,
          0.3392535301869327,
          -0.12585274936717322,
          0.5724712772673114,
          1.647704705920134e-05,
          -0.9246796833279284,
          0.5755276455950149,
          1.1969623581801656,
          0.4712654848573027,
          -0.6803956435669573,
          0.6379021895182349,
          0.9897298422219863,
          -1.2442857660093052,
          -0.17387348445545497,
          0.5683303618787926,
          0.10724265170165377,
          0.2778618535670428,
          -0.16522749240533144,
          -0.9385785399474534,
          -0.7750686546066188,
          0.3468413043569452,
          -0.9061856008536254,
          -0.322226460099784,
          -0.462172141008642,
          1.3550041922182134,
          1.2579165177664244,
          -1.2587896313699054,
          -0.6742783069596625,
          0.19371989971395945,
          0.395530183978683,
          -0.6081088049058118,
          0.6488370810754313
         ],
         "xaxis": "x8",
         "y": [
          1.788094498128622,
          -0.44535443686305204,
          -0.7131795159657938,
          -0.5554106325242337,
          -0.21586035461825787,
          -0.697799365135744,
          1.097573763569276,
          0.035887813880043605,
          2.6195040661181466,
          0.6079529137881459,
          0.7436248459744537,
          -0.8618502776351192,
          -0.47747198195992685,
          0.22394260599753302,
          0.16778779907716984,
          -0.21439653722728408,
          -0.28082534999382414,
          -0.47247468827363853,
          -0.4506597477838028,
          0.6851240964961288,
          1.1619213588272501,
          -1.0702545218773423,
          0.4492565916692249,
          -1.1452374174231343,
          0.6940018241869989,
          1.7025908336350206,
          0.911095428268713,
          -0.8390868115640266,
          0.1663123644197956,
          0.3328100887697817,
          0.06435393233991418,
          -0.3710348748026914,
          -0.9179829095604276,
          -0.524999408533106,
          0.6652896007479878,
          1.5838460732342565,
          -0.006292105652858107,
          0.6036323038736936,
          -0.476844069070269,
          1.1387478354050842,
          0.03827391299502421,
          1.1285586150173448,
          0.14647132562841755,
          0.4044039554802493,
          -0.21088510943267336,
          -1.6753117569624703,
          -0.3294821012530378,
          0.6607752806792838,
          -0.13058529121836507,
          0.22371960616266628,
          -0.8188759246483298,
          -0.5854214437337317,
          -2.491158593278795,
          -1.0585519213970385,
          -0.03288668821960335,
          1.8329670294391918,
          0.605965626089157,
          -1.0337333776852846,
          0.3155519084756224,
          1.6015557409146575,
          0.6822350410713564,
          2.338739883832616,
          -1.1730419635505192,
          0.6391766373700845,
          1.289160748481995,
          -0.5420518881612237,
          0.5071628629766942,
          -0.40457294813531886,
          0.7270531601651469,
          -1.6646222754130013,
          0.40243397726927077,
          0.34311882064613747,
          0.6259398874778561,
          -1.009481363220773,
          0.2245743366277254,
          0.6600993412912876,
          -1.6075531641768765,
          0.46316037121790465,
          -0.5365819522636401,
          0.33546724504982794,
          0.709807510414665,
          -1.411526231278596,
          0.1236699459010611,
          0.30797864886790227,
          -0.7320151252688502,
          0.9815246074439794,
          0.546198609092013,
          1.7577800559208172,
          0.31626620547227696,
          0.42215646808605684,
          1.4971434747745829,
          -0.13994118394343455,
          0.8020527287884011,
          -0.004972773524476891,
          0.7420408197587705,
          -2.2243504385067503,
          0.11058060408422755,
          -0.07249780625225877,
          0.8482330339326772,
          -0.7747200231185339
         ],
         "yaxis": "y8"
        },
        {
         "line": {
          "color": "rgba(128, 128, 128, 1.0)",
          "dash": "solid",
          "shape": "linear",
          "width": 1.3
         },
         "marker": {
          "size": 2,
          "symbol": "circle"
         },
         "mode": "markers",
         "name": "C",
         "text": "",
         "type": "scatter",
         "x": [
          0.49289817131910324,
          -0.3012398972298208,
          -0.7816068221605069,
          -0.8090093152211132,
          1.4006830146786922,
          -0.19482583816277718,
          0.0604937012147241,
          2.119691209922694,
          0.7222242598679914,
          1.753235420367374,
          0.15830729803447974,
          -0.6341440309522819,
          -2.283999111080501,
          0.5531241386591951,
          -2.266708116322684,
          0.7042723917299197,
          0.6092425758622263,
          -0.340557220856165,
          -1.3041616905321494,
          0.18497826710035706,
          0.021565250924974123,
          -0.006075820444198791,
          -2.566727147075182,
          0.02730521303181981,
          -0.9939684925220701,
          -0.6223666531415607,
          1.776870439188865,
          0.01793289056711191,
          0.05680072212956541,
          0.43447933306281233,
          -1.453567536602802,
          0.22397366436895907,
          -0.47782199024703215,
          1.339102396303261,
          1.6080823076036965,
          0.20166945309703094,
          -1.4037713891573702,
          0.5106776942015245,
          -1.8190377132273154,
          -1.0337585498673065,
          0.5183548692185115,
          -1.0257448210609061,
          0.3360850564164397,
          1.6441074102925999,
          1.359625493547863,
          0.5732793595532124,
          -0.5467403903693552,
          0.40035282535498895,
          0.10515275916863191,
          -0.5263016957839567,
          -0.04432663132196094,
          0.8299882137593065,
          0.288974670977,
          1.4516357718944564,
          -0.4111386022214322,
          -2.1428502676999592,
          1.2035300277031884,
          -1.623937560391315,
          -0.3132882723386422,
          -0.5352367479666442,
          -0.6950356321246792,
          -0.33190243398305314,
          0.26383380532025796,
          -0.5184732009735258,
          0.5207487437274007,
          -1.5584295495848832,
          1.0170403191939565,
          0.07373919242253754,
          0.39030351930826057,
          0.3832708653059387,
          -0.6111638533706606,
          0.2944432971309082,
          0.4591500221941663,
          -1.3000294349405557,
          0.8493654040778634,
          -0.24454619551784645,
          2.5784605090664208,
          0.3470148257665814,
          0.4275832431758216,
          -0.02006983310330113,
          -0.22115821773805194,
          0.7441606483066695,
          -2.147666745538417,
          0.4022717625020178,
          1.015008131996003,
          -0.9614527011380453,
          0.6427549647493842,
          0.26275878026670807,
          -2.1811228596403294,
          -0.9651264344972399,
          -1.0807091355825975,
          -1.2704353852791637,
          -1.604220193082267,
          2.2757599377870004,
          -0.7460643325640582,
          -1.0270656913759506,
          -0.08472691139075982,
          -0.4397288250502953,
          -0.4051011158276595,
          0.0030321124322531187
         ],
         "xaxis": "x9",
         "y": [
          1.463672469166598,
          0.6651197192188135,
          0.37566576496129844,
          1.4791635585415648,
          1.4167798359311785,
          0.6675141209292036,
          0.5894767021021048,
          0.9301212541168372,
          0.27226748556495267,
          -0.06391177027598757,
          1.0010415184193269,
          1.0326165177182174,
          -0.8731298266611605,
          -0.46840514265026345,
          -0.3854634418756403,
          1.2459924037856747,
          0.8457350353558521,
          1.6337799788982934,
          0.7889157293396244,
          -0.6018538929253865,
          -0.545465322430264,
          0.09852540676052758,
          -0.009114980519238224,
          -0.30629952776384767,
          -1.2500465350505152,
          -0.042355212049775645,
          -0.6400215740203627,
          -1.1322927651162251,
          -1.2187668795188207,
          1.6938191102102707,
          -1.492066170203874,
          -0.3502846950994851,
          -1.7995148501102394,
          -1.1519112577389599,
          1.3602019488257686,
          1.0680044955077561,
          -2.161847520754712,
          -0.1555672793909803,
          -0.08755424424509188,
          0.15341729708932367,
          0.8209593576356582,
          0.5078408720603443,
          -0.06243714679218857,
          0.2973074236620757,
          0.7813467485374767,
          0.6973501319285956,
          -1.3783614386516876,
          0.21381270000361954,
          0.13057088665168068,
          -2.0962842050753214,
          -0.9153373599146069,
          -0.9073526341698958,
          0.7407521736326562,
          -1.5693456913844939,
          -0.16817904905543016,
          -0.814255736583778,
          -0.31505303878366353,
          0.6328591794772734,
          0.16821328929726775,
          -1.467656218336898,
          -0.042477711901061595,
          -2.596860879634435,
          0.11885605619163297,
          0.11604594671634334,
          0.45571495458637146,
          -0.8367063080226032,
          -0.4868194124432724,
          -0.6846042002152335,
          0.7787188235294727,
          0.7834546105714999,
          -0.4654595163663431,
          1.0627138382165682,
          -0.9162262576347874,
          0.9987637167369354,
          -0.8419795773955878,
          0.4972884991745363,
          0.5429426100243367,
          -1.2013471669665756,
          -0.22134747995347895,
          -0.9152126365884109,
          -0.6467294188414507,
          -0.02547528848355319,
          0.9620667204717402,
          2.054594371020456,
          -0.5926406463420172,
          -2.2405365890056217,
          -0.17541377487678347,
          0.3838316976959465,
          0.26351375595270154,
          1.80204891106008,
          0.3203700240814719,
          -0.6819345859625005,
          -0.413617630555659,
          0.38409204950645615,
          1.422836558643967,
          -1.208550225097222,
          0.3047803401765312,
          -0.846186163669692,
          0.18881194325830297,
          0.13831523685704977
         ],
         "yaxis": "y9"
        },
        {
         "line": {
          "color": "rgba(128, 128, 128, 1.0)",
          "dash": "solid",
          "shape": "linear",
          "width": 1.3
         },
         "marker": {
          "size": 2,
          "symbol": "circle"
         },
         "mode": "markers",
         "name": "C",
         "text": "",
         "type": "scatter",
         "x": [
          1.788094498128622,
          -0.44535443686305204,
          -0.7131795159657938,
          -0.5554106325242337,
          -0.21586035461825787,
          -0.697799365135744,
          1.097573763569276,
          0.035887813880043605,
          2.6195040661181466,
          0.6079529137881459,
          0.7436248459744537,
          -0.8618502776351192,
          -0.47747198195992685,
          0.22394260599753302,
          0.16778779907716984,
          -0.21439653722728408,
          -0.28082534999382414,
          -0.47247468827363853,
          -0.4506597477838028,
          0.6851240964961288,
          1.1619213588272501,
          -1.0702545218773423,
          0.4492565916692249,
          -1.1452374174231343,
          0.6940018241869989,
          1.7025908336350206,
          0.911095428268713,
          -0.8390868115640266,
          0.1663123644197956,
          0.3328100887697817,
          0.06435393233991418,
          -0.3710348748026914,
          -0.9179829095604276,
          -0.524999408533106,
          0.6652896007479878,
          1.5838460732342565,
          -0.006292105652858107,
          0.6036323038736936,
          -0.476844069070269,
          1.1387478354050842,
          0.03827391299502421,
          1.1285586150173448,
          0.14647132562841755,
          0.4044039554802493,
          -0.21088510943267336,
          -1.6753117569624703,
          -0.3294821012530378,
          0.6607752806792838,
          -0.13058529121836507,
          0.22371960616266628,
          -0.8188759246483298,
          -0.5854214437337317,
          -2.491158593278795,
          -1.0585519213970385,
          -0.03288668821960335,
          1.8329670294391918,
          0.605965626089157,
          -1.0337333776852846,
          0.3155519084756224,
          1.6015557409146575,
          0.6822350410713564,
          2.338739883832616,
          -1.1730419635505192,
          0.6391766373700845,
          1.289160748481995,
          -0.5420518881612237,
          0.5071628629766942,
          -0.40457294813531886,
          0.7270531601651469,
          -1.6646222754130013,
          0.40243397726927077,
          0.34311882064613747,
          0.6259398874778561,
          -1.009481363220773,
          0.2245743366277254,
          0.6600993412912876,
          -1.6075531641768765,
          0.46316037121790465,
          -0.5365819522636401,
          0.33546724504982794,
          0.709807510414665,
          -1.411526231278596,
          0.1236699459010611,
          0.30797864886790227,
          -0.7320151252688502,
          0.9815246074439794,
          0.546198609092013,
          1.7577800559208172,
          0.31626620547227696,
          0.42215646808605684,
          1.4971434747745829,
          -0.13994118394343455,
          0.8020527287884011,
          -0.004972773524476891,
          0.7420408197587705,
          -2.2243504385067503,
          0.11058060408422755,
          -0.07249780625225877,
          0.8482330339326772,
          -0.7747200231185339
         ],
         "xaxis": "x10",
         "y": [
          1.463672469166598,
          0.6651197192188135,
          0.37566576496129844,
          1.4791635585415648,
          1.4167798359311785,
          0.6675141209292036,
          0.5894767021021048,
          0.9301212541168372,
          0.27226748556495267,
          -0.06391177027598757,
          1.0010415184193269,
          1.0326165177182174,
          -0.8731298266611605,
          -0.46840514265026345,
          -0.3854634418756403,
          1.2459924037856747,
          0.8457350353558521,
          1.6337799788982934,
          0.7889157293396244,
          -0.6018538929253865,
          -0.545465322430264,
          0.09852540676052758,
          -0.009114980519238224,
          -0.30629952776384767,
          -1.2500465350505152,
          -0.042355212049775645,
          -0.6400215740203627,
          -1.1322927651162251,
          -1.2187668795188207,
          1.6938191102102707,
          -1.492066170203874,
          -0.3502846950994851,
          -1.7995148501102394,
          -1.1519112577389599,
          1.3602019488257686,
          1.0680044955077561,
          -2.161847520754712,
          -0.1555672793909803,
          -0.08755424424509188,
          0.15341729708932367,
          0.8209593576356582,
          0.5078408720603443,
          -0.06243714679218857,
          0.2973074236620757,
          0.7813467485374767,
          0.6973501319285956,
          -1.3783614386516876,
          0.21381270000361954,
          0.13057088665168068,
          -2.0962842050753214,
          -0.9153373599146069,
          -0.9073526341698958,
          0.7407521736326562,
          -1.5693456913844939,
          -0.16817904905543016,
          -0.814255736583778,
          -0.31505303878366353,
          0.6328591794772734,
          0.16821328929726775,
          -1.467656218336898,
          -0.042477711901061595,
          -2.596860879634435,
          0.11885605619163297,
          0.11604594671634334,
          0.45571495458637146,
          -0.8367063080226032,
          -0.4868194124432724,
          -0.6846042002152335,
          0.7787188235294727,
          0.7834546105714999,
          -0.4654595163663431,
          1.0627138382165682,
          -0.9162262576347874,
          0.9987637167369354,
          -0.8419795773955878,
          0.4972884991745363,
          0.5429426100243367,
          -1.2013471669665756,
          -0.22134747995347895,
          -0.9152126365884109,
          -0.6467294188414507,
          -0.02547528848355319,
          0.9620667204717402,
          2.054594371020456,
          -0.5926406463420172,
          -2.2405365890056217,
          -0.17541377487678347,
          0.3838316976959465,
          0.26351375595270154,
          1.80204891106008,
          0.3203700240814719,
          -0.6819345859625005,
          -0.413617630555659,
          0.38409204950645615,
          1.422836558643967,
          -1.208550225097222,
          0.3047803401765312,
          -0.846186163669692,
          0.18881194325830297,
          0.13831523685704977
         ],
         "yaxis": "y10"
        },
        {
         "histfunc": "count",
         "histnorm": "",
         "marker": {
          "color": "rgba(50, 171, 96, 1.0)",
          "line": {
           "color": "#4D5663",
           "width": 1.3
          }
         },
         "name": "C",
         "nbinsx": 10,
         "opacity": 0.8,
         "orientation": "v",
         "type": "histogram",
         "x": [
          1.463672469166598,
          0.6651197192188135,
          0.37566576496129844,
          1.4791635585415648,
          1.4167798359311785,
          0.6675141209292036,
          0.5894767021021048,
          0.9301212541168372,
          0.27226748556495267,
          -0.06391177027598757,
          1.0010415184193269,
          1.0326165177182174,
          -0.8731298266611605,
          -0.46840514265026345,
          -0.3854634418756403,
          1.2459924037856747,
          0.8457350353558521,
          1.6337799788982934,
          0.7889157293396244,
          -0.6018538929253865,
          -0.545465322430264,
          0.09852540676052758,
          -0.009114980519238224,
          -0.30629952776384767,
          -1.2500465350505152,
          -0.042355212049775645,
          -0.6400215740203627,
          -1.1322927651162251,
          -1.2187668795188207,
          1.6938191102102707,
          -1.492066170203874,
          -0.3502846950994851,
          -1.7995148501102394,
          -1.1519112577389599,
          1.3602019488257686,
          1.0680044955077561,
          -2.161847520754712,
          -0.1555672793909803,
          -0.08755424424509188,
          0.15341729708932367,
          0.8209593576356582,
          0.5078408720603443,
          -0.06243714679218857,
          0.2973074236620757,
          0.7813467485374767,
          0.6973501319285956,
          -1.3783614386516876,
          0.21381270000361954,
          0.13057088665168068,
          -2.0962842050753214,
          -0.9153373599146069,
          -0.9073526341698958,
          0.7407521736326562,
          -1.5693456913844939,
          -0.16817904905543016,
          -0.814255736583778,
          -0.31505303878366353,
          0.6328591794772734,
          0.16821328929726775,
          -1.467656218336898,
          -0.042477711901061595,
          -2.596860879634435,
          0.11885605619163297,
          0.11604594671634334,
          0.45571495458637146,
          -0.8367063080226032,
          -0.4868194124432724,
          -0.6846042002152335,
          0.7787188235294727,
          0.7834546105714999,
          -0.4654595163663431,
          1.0627138382165682,
          -0.9162262576347874,
          0.9987637167369354,
          -0.8419795773955878,
          0.4972884991745363,
          0.5429426100243367,
          -1.2013471669665756,
          -0.22134747995347895,
          -0.9152126365884109,
          -0.6467294188414507,
          -0.02547528848355319,
          0.9620667204717402,
          2.054594371020456,
          -0.5926406463420172,
          -2.2405365890056217,
          -0.17541377487678347,
          0.3838316976959465,
          0.26351375595270154,
          1.80204891106008,
          0.3203700240814719,
          -0.6819345859625005,
          -0.413617630555659,
          0.38409204950645615,
          1.422836558643967,
          -1.208550225097222,
          0.3047803401765312,
          -0.846186163669692,
          0.18881194325830297,
          0.13831523685704977
         ],
         "xaxis": "x11",
         "yaxis": "y11"
        },
        {
         "line": {
          "color": "rgba(128, 128, 128, 1.0)",
          "dash": "solid",
          "shape": "linear",
          "width": 1.3
         },
         "marker": {
          "size": 2,
          "symbol": "circle"
         },
         "mode": "markers",
         "name": "C",
         "text": "",
         "type": "scatter",
         "x": [
          -0.518783594996111,
          -2.4134121292767667,
          0.05034939966290155,
          -0.06960957892298734,
          -0.2260588074572653,
          -1.927090999921165,
          0.024635095040146927,
          -0.7441625541298046,
          -0.025683679287609805,
          0.11843513989092828,
          -0.4849087333809206,
          -1.2954358425583201,
          1.0795564645448268,
          -0.6975424576353564,
          -0.2697714644042345,
          1.438968686818738,
          0.39409728828892954,
          -0.6265133870177304,
          -0.07824844526021912,
          -0.08591331765526902,
          0.8049923558872016,
          -1.0295399790894808,
          0.8786188084461379,
          0.46443962318469717,
          1.1761263431906517,
          -0.44440355978282203,
          0.9615156084487653,
          -0.5205899481735078,
          -1.7001403321488082,
          -0.5742156648569211,
          -1.5076041562325455,
          0.14358381613267093,
          1.513624324283302,
          0.20695348581256173,
          -2.4042855181268483,
          1.251628238049774,
          -1.3286629238691323,
          -2.050349258987114,
          0.9419130391059416,
          -0.7692435131584836,
          -0.8103901760540326,
          -0.8559410079422868,
          0.7022159222046942,
          0.03961153229562075,
          0.9446372185380836,
          -0.7598077508633341,
          0.24296278440062496,
          1.6967567370379988,
          -0.3540073619364603,
          1.2807823387911226,
          -0.3048581626816503,
          1.6063731950511038,
          -0.9068007722531073,
          -1.3243575537247236,
          -1.244128218309669,
          -1.850367569260154,
          -0.5710247020667107,
          0.28966820605365357,
          -1.1186418290222262,
          2.8885796606749925,
          -0.25131418682439843,
          -1.2651371623752403,
          -1.7208183825176575,
          -2.379348975057764,
          0.2833705925498279,
          0.9591099681660155,
          -1.0281961398773638,
          0.5430260260149434,
          -1.2345436637795881,
          0.3392535301869327,
          -0.12585274936717322,
          0.5724712772673114,
          1.647704705920134e-05,
          -0.9246796833279284,
          0.5755276455950149,
          1.1969623581801656,
          0.4712654848573027,
          -0.6803956435669573,
          0.6379021895182349,
          0.9897298422219863,
          -1.2442857660093052,
          -0.17387348445545497,
          0.5683303618787926,
          0.10724265170165377,
          0.2778618535670428,
          -0.16522749240533144,
          -0.9385785399474534,
          -0.7750686546066188,
          0.3468413043569452,
          -0.9061856008536254,
          -0.322226460099784,
          -0.462172141008642,
          1.3550041922182134,
          1.2579165177664244,
          -1.2587896313699054,
          -0.6742783069596625,
          0.19371989971395945,
          0.395530183978683,
          -0.6081088049058118,
          0.6488370810754313
         ],
         "xaxis": "x12",
         "y": [
          1.463672469166598,
          0.6651197192188135,
          0.37566576496129844,
          1.4791635585415648,
          1.4167798359311785,
          0.6675141209292036,
          0.5894767021021048,
          0.9301212541168372,
          0.27226748556495267,
          -0.06391177027598757,
          1.0010415184193269,
          1.0326165177182174,
          -0.8731298266611605,
          -0.46840514265026345,
          -0.3854634418756403,
          1.2459924037856747,
          0.8457350353558521,
          1.6337799788982934,
          0.7889157293396244,
          -0.6018538929253865,
          -0.545465322430264,
          0.09852540676052758,
          -0.009114980519238224,
          -0.30629952776384767,
          -1.2500465350505152,
          -0.042355212049775645,
          -0.6400215740203627,
          -1.1322927651162251,
          -1.2187668795188207,
          1.6938191102102707,
          -1.492066170203874,
          -0.3502846950994851,
          -1.7995148501102394,
          -1.1519112577389599,
          1.3602019488257686,
          1.0680044955077561,
          -2.161847520754712,
          -0.1555672793909803,
          -0.08755424424509188,
          0.15341729708932367,
          0.8209593576356582,
          0.5078408720603443,
          -0.06243714679218857,
          0.2973074236620757,
          0.7813467485374767,
          0.6973501319285956,
          -1.3783614386516876,
          0.21381270000361954,
          0.13057088665168068,
          -2.0962842050753214,
          -0.9153373599146069,
          -0.9073526341698958,
          0.7407521736326562,
          -1.5693456913844939,
          -0.16817904905543016,
          -0.814255736583778,
          -0.31505303878366353,
          0.6328591794772734,
          0.16821328929726775,
          -1.467656218336898,
          -0.042477711901061595,
          -2.596860879634435,
          0.11885605619163297,
          0.11604594671634334,
          0.45571495458637146,
          -0.8367063080226032,
          -0.4868194124432724,
          -0.6846042002152335,
          0.7787188235294727,
          0.7834546105714999,
          -0.4654595163663431,
          1.0627138382165682,
          -0.9162262576347874,
          0.9987637167369354,
          -0.8419795773955878,
          0.4972884991745363,
          0.5429426100243367,
          -1.2013471669665756,
          -0.22134747995347895,
          -0.9152126365884109,
          -0.6467294188414507,
          -0.02547528848355319,
          0.9620667204717402,
          2.054594371020456,
          -0.5926406463420172,
          -2.2405365890056217,
          -0.17541377487678347,
          0.3838316976959465,
          0.26351375595270154,
          1.80204891106008,
          0.3203700240814719,
          -0.6819345859625005,
          -0.413617630555659,
          0.38409204950645615,
          1.422836558643967,
          -1.208550225097222,
          0.3047803401765312,
          -0.846186163669692,
          0.18881194325830297,
          0.13831523685704977
         ],
         "yaxis": "y12"
        },
        {
         "line": {
          "color": "rgba(128, 128, 128, 1.0)",
          "dash": "solid",
          "shape": "linear",
          "width": 1.3
         },
         "marker": {
          "size": 2,
          "symbol": "circle"
         },
         "mode": "markers",
         "name": "D",
         "text": "",
         "type": "scatter",
         "x": [
          0.49289817131910324,
          -0.3012398972298208,
          -0.7816068221605069,
          -0.8090093152211132,
          1.4006830146786922,
          -0.19482583816277718,
          0.0604937012147241,
          2.119691209922694,
          0.7222242598679914,
          1.753235420367374,
          0.15830729803447974,
          -0.6341440309522819,
          -2.283999111080501,
          0.5531241386591951,
          -2.266708116322684,
          0.7042723917299197,
          0.6092425758622263,
          -0.340557220856165,
          -1.3041616905321494,
          0.18497826710035706,
          0.021565250924974123,
          -0.006075820444198791,
          -2.566727147075182,
          0.02730521303181981,
          -0.9939684925220701,
          -0.6223666531415607,
          1.776870439188865,
          0.01793289056711191,
          0.05680072212956541,
          0.43447933306281233,
          -1.453567536602802,
          0.22397366436895907,
          -0.47782199024703215,
          1.339102396303261,
          1.6080823076036965,
          0.20166945309703094,
          -1.4037713891573702,
          0.5106776942015245,
          -1.8190377132273154,
          -1.0337585498673065,
          0.5183548692185115,
          -1.0257448210609061,
          0.3360850564164397,
          1.6441074102925999,
          1.359625493547863,
          0.5732793595532124,
          -0.5467403903693552,
          0.40035282535498895,
          0.10515275916863191,
          -0.5263016957839567,
          -0.04432663132196094,
          0.8299882137593065,
          0.288974670977,
          1.4516357718944564,
          -0.4111386022214322,
          -2.1428502676999592,
          1.2035300277031884,
          -1.623937560391315,
          -0.3132882723386422,
          -0.5352367479666442,
          -0.6950356321246792,
          -0.33190243398305314,
          0.26383380532025796,
          -0.5184732009735258,
          0.5207487437274007,
          -1.5584295495848832,
          1.0170403191939565,
          0.07373919242253754,
          0.39030351930826057,
          0.3832708653059387,
          -0.6111638533706606,
          0.2944432971309082,
          0.4591500221941663,
          -1.3000294349405557,
          0.8493654040778634,
          -0.24454619551784645,
          2.5784605090664208,
          0.3470148257665814,
          0.4275832431758216,
          -0.02006983310330113,
          -0.22115821773805194,
          0.7441606483066695,
          -2.147666745538417,
          0.4022717625020178,
          1.015008131996003,
          -0.9614527011380453,
          0.6427549647493842,
          0.26275878026670807,
          -2.1811228596403294,
          -0.9651264344972399,
          -1.0807091355825975,
          -1.2704353852791637,
          -1.604220193082267,
          2.2757599377870004,
          -0.7460643325640582,
          -1.0270656913759506,
          -0.08472691139075982,
          -0.4397288250502953,
          -0.4051011158276595,
          0.0030321124322531187
         ],
         "xaxis": "x13",
         "y": [
          -0.518783594996111,
          -2.4134121292767667,
          0.05034939966290155,
          -0.06960957892298734,
          -0.2260588074572653,
          -1.927090999921165,
          0.024635095040146927,
          -0.7441625541298046,
          -0.025683679287609805,
          0.11843513989092828,
          -0.4849087333809206,
          -1.2954358425583201,
          1.0795564645448268,
          -0.6975424576353564,
          -0.2697714644042345,
          1.438968686818738,
          0.39409728828892954,
          -0.6265133870177304,
          -0.07824844526021912,
          -0.08591331765526902,
          0.8049923558872016,
          -1.0295399790894808,
          0.8786188084461379,
          0.46443962318469717,
          1.1761263431906517,
          -0.44440355978282203,
          0.9615156084487653,
          -0.5205899481735078,
          -1.7001403321488082,
          -0.5742156648569211,
          -1.5076041562325455,
          0.14358381613267093,
          1.513624324283302,
          0.20695348581256173,
          -2.4042855181268483,
          1.251628238049774,
          -1.3286629238691323,
          -2.050349258987114,
          0.9419130391059416,
          -0.7692435131584836,
          -0.8103901760540326,
          -0.8559410079422868,
          0.7022159222046942,
          0.03961153229562075,
          0.9446372185380836,
          -0.7598077508633341,
          0.24296278440062496,
          1.6967567370379988,
          -0.3540073619364603,
          1.2807823387911226,
          -0.3048581626816503,
          1.6063731950511038,
          -0.9068007722531073,
          -1.3243575537247236,
          -1.244128218309669,
          -1.850367569260154,
          -0.5710247020667107,
          0.28966820605365357,
          -1.1186418290222262,
          2.8885796606749925,
          -0.25131418682439843,
          -1.2651371623752403,
          -1.7208183825176575,
          -2.379348975057764,
          0.2833705925498279,
          0.9591099681660155,
          -1.0281961398773638,
          0.5430260260149434,
          -1.2345436637795881,
          0.3392535301869327,
          -0.12585274936717322,
          0.5724712772673114,
          1.647704705920134e-05,
          -0.9246796833279284,
          0.5755276455950149,
          1.1969623581801656,
          0.4712654848573027,
          -0.6803956435669573,
          0.6379021895182349,
          0.9897298422219863,
          -1.2442857660093052,
          -0.17387348445545497,
          0.5683303618787926,
          0.10724265170165377,
          0.2778618535670428,
          -0.16522749240533144,
          -0.9385785399474534,
          -0.7750686546066188,
          0.3468413043569452,
          -0.9061856008536254,
          -0.322226460099784,
          -0.462172141008642,
          1.3550041922182134,
          1.2579165177664244,
          -1.2587896313699054,
          -0.6742783069596625,
          0.19371989971395945,
          0.395530183978683,
          -0.6081088049058118,
          0.6488370810754313
         ],
         "yaxis": "y13"
        },
        {
         "line": {
          "color": "rgba(128, 128, 128, 1.0)",
          "dash": "solid",
          "shape": "linear",
          "width": 1.3
         },
         "marker": {
          "size": 2,
          "symbol": "circle"
         },
         "mode": "markers",
         "name": "D",
         "text": "",
         "type": "scatter",
         "x": [
          1.788094498128622,
          -0.44535443686305204,
          -0.7131795159657938,
          -0.5554106325242337,
          -0.21586035461825787,
          -0.697799365135744,
          1.097573763569276,
          0.035887813880043605,
          2.6195040661181466,
          0.6079529137881459,
          0.7436248459744537,
          -0.8618502776351192,
          -0.47747198195992685,
          0.22394260599753302,
          0.16778779907716984,
          -0.21439653722728408,
          -0.28082534999382414,
          -0.47247468827363853,
          -0.4506597477838028,
          0.6851240964961288,
          1.1619213588272501,
          -1.0702545218773423,
          0.4492565916692249,
          -1.1452374174231343,
          0.6940018241869989,
          1.7025908336350206,
          0.911095428268713,
          -0.8390868115640266,
          0.1663123644197956,
          0.3328100887697817,
          0.06435393233991418,
          -0.3710348748026914,
          -0.9179829095604276,
          -0.524999408533106,
          0.6652896007479878,
          1.5838460732342565,
          -0.006292105652858107,
          0.6036323038736936,
          -0.476844069070269,
          1.1387478354050842,
          0.03827391299502421,
          1.1285586150173448,
          0.14647132562841755,
          0.4044039554802493,
          -0.21088510943267336,
          -1.6753117569624703,
          -0.3294821012530378,
          0.6607752806792838,
          -0.13058529121836507,
          0.22371960616266628,
          -0.8188759246483298,
          -0.5854214437337317,
          -2.491158593278795,
          -1.0585519213970385,
          -0.03288668821960335,
          1.8329670294391918,
          0.605965626089157,
          -1.0337333776852846,
          0.3155519084756224,
          1.6015557409146575,
          0.6822350410713564,
          2.338739883832616,
          -1.1730419635505192,
          0.6391766373700845,
          1.289160748481995,
          -0.5420518881612237,
          0.5071628629766942,
          -0.40457294813531886,
          0.7270531601651469,
          -1.6646222754130013,
          0.40243397726927077,
          0.34311882064613747,
          0.6259398874778561,
          -1.009481363220773,
          0.2245743366277254,
          0.6600993412912876,
          -1.6075531641768765,
          0.46316037121790465,
          -0.5365819522636401,
          0.33546724504982794,
          0.709807510414665,
          -1.411526231278596,
          0.1236699459010611,
          0.30797864886790227,
          -0.7320151252688502,
          0.9815246074439794,
          0.546198609092013,
          1.7577800559208172,
          0.31626620547227696,
          0.42215646808605684,
          1.4971434747745829,
          -0.13994118394343455,
          0.8020527287884011,
          -0.004972773524476891,
          0.7420408197587705,
          -2.2243504385067503,
          0.11058060408422755,
          -0.07249780625225877,
          0.8482330339326772,
          -0.7747200231185339
         ],
         "xaxis": "x14",
         "y": [
          -0.518783594996111,
          -2.4134121292767667,
          0.05034939966290155,
          -0.06960957892298734,
          -0.2260588074572653,
          -1.927090999921165,
          0.024635095040146927,
          -0.7441625541298046,
          -0.025683679287609805,
          0.11843513989092828,
          -0.4849087333809206,
          -1.2954358425583201,
          1.0795564645448268,
          -0.6975424576353564,
          -0.2697714644042345,
          1.438968686818738,
          0.39409728828892954,
          -0.6265133870177304,
          -0.07824844526021912,
          -0.08591331765526902,
          0.8049923558872016,
          -1.0295399790894808,
          0.8786188084461379,
          0.46443962318469717,
          1.1761263431906517,
          -0.44440355978282203,
          0.9615156084487653,
          -0.5205899481735078,
          -1.7001403321488082,
          -0.5742156648569211,
          -1.5076041562325455,
          0.14358381613267093,
          1.513624324283302,
          0.20695348581256173,
          -2.4042855181268483,
          1.251628238049774,
          -1.3286629238691323,
          -2.050349258987114,
          0.9419130391059416,
          -0.7692435131584836,
          -0.8103901760540326,
          -0.8559410079422868,
          0.7022159222046942,
          0.03961153229562075,
          0.9446372185380836,
          -0.7598077508633341,
          0.24296278440062496,
          1.6967567370379988,
          -0.3540073619364603,
          1.2807823387911226,
          -0.3048581626816503,
          1.6063731950511038,
          -0.9068007722531073,
          -1.3243575537247236,
          -1.244128218309669,
          -1.850367569260154,
          -0.5710247020667107,
          0.28966820605365357,
          -1.1186418290222262,
          2.8885796606749925,
          -0.25131418682439843,
          -1.2651371623752403,
          -1.7208183825176575,
          -2.379348975057764,
          0.2833705925498279,
          0.9591099681660155,
          -1.0281961398773638,
          0.5430260260149434,
          -1.2345436637795881,
          0.3392535301869327,
          -0.12585274936717322,
          0.5724712772673114,
          1.647704705920134e-05,
          -0.9246796833279284,
          0.5755276455950149,
          1.1969623581801656,
          0.4712654848573027,
          -0.6803956435669573,
          0.6379021895182349,
          0.9897298422219863,
          -1.2442857660093052,
          -0.17387348445545497,
          0.5683303618787926,
          0.10724265170165377,
          0.2778618535670428,
          -0.16522749240533144,
          -0.9385785399474534,
          -0.7750686546066188,
          0.3468413043569452,
          -0.9061856008536254,
          -0.322226460099784,
          -0.462172141008642,
          1.3550041922182134,
          1.2579165177664244,
          -1.2587896313699054,
          -0.6742783069596625,
          0.19371989971395945,
          0.395530183978683,
          -0.6081088049058118,
          0.6488370810754313
         ],
         "yaxis": "y14"
        },
        {
         "line": {
          "color": "rgba(128, 128, 128, 1.0)",
          "dash": "solid",
          "shape": "linear",
          "width": 1.3
         },
         "marker": {
          "size": 2,
          "symbol": "circle"
         },
         "mode": "markers",
         "name": "D",
         "text": "",
         "type": "scatter",
         "x": [
          1.463672469166598,
          0.6651197192188135,
          0.37566576496129844,
          1.4791635585415648,
          1.4167798359311785,
          0.6675141209292036,
          0.5894767021021048,
          0.9301212541168372,
          0.27226748556495267,
          -0.06391177027598757,
          1.0010415184193269,
          1.0326165177182174,
          -0.8731298266611605,
          -0.46840514265026345,
          -0.3854634418756403,
          1.2459924037856747,
          0.8457350353558521,
          1.6337799788982934,
          0.7889157293396244,
          -0.6018538929253865,
          -0.545465322430264,
          0.09852540676052758,
          -0.009114980519238224,
          -0.30629952776384767,
          -1.2500465350505152,
          -0.042355212049775645,
          -0.6400215740203627,
          -1.1322927651162251,
          -1.2187668795188207,
          1.6938191102102707,
          -1.492066170203874,
          -0.3502846950994851,
          -1.7995148501102394,
          -1.1519112577389599,
          1.3602019488257686,
          1.0680044955077561,
          -2.161847520754712,
          -0.1555672793909803,
          -0.08755424424509188,
          0.15341729708932367,
          0.8209593576356582,
          0.5078408720603443,
          -0.06243714679218857,
          0.2973074236620757,
          0.7813467485374767,
          0.6973501319285956,
          -1.3783614386516876,
          0.21381270000361954,
          0.13057088665168068,
          -2.0962842050753214,
          -0.9153373599146069,
          -0.9073526341698958,
          0.7407521736326562,
          -1.5693456913844939,
          -0.16817904905543016,
          -0.814255736583778,
          -0.31505303878366353,
          0.6328591794772734,
          0.16821328929726775,
          -1.467656218336898,
          -0.042477711901061595,
          -2.596860879634435,
          0.11885605619163297,
          0.11604594671634334,
          0.45571495458637146,
          -0.8367063080226032,
          -0.4868194124432724,
          -0.6846042002152335,
          0.7787188235294727,
          0.7834546105714999,
          -0.4654595163663431,
          1.0627138382165682,
          -0.9162262576347874,
          0.9987637167369354,
          -0.8419795773955878,
          0.4972884991745363,
          0.5429426100243367,
          -1.2013471669665756,
          -0.22134747995347895,
          -0.9152126365884109,
          -0.6467294188414507,
          -0.02547528848355319,
          0.9620667204717402,
          2.054594371020456,
          -0.5926406463420172,
          -2.2405365890056217,
          -0.17541377487678347,
          0.3838316976959465,
          0.26351375595270154,
          1.80204891106008,
          0.3203700240814719,
          -0.6819345859625005,
          -0.413617630555659,
          0.38409204950645615,
          1.422836558643967,
          -1.208550225097222,
          0.3047803401765312,
          -0.846186163669692,
          0.18881194325830297,
          0.13831523685704977
         ],
         "xaxis": "x15",
         "y": [
          -0.518783594996111,
          -2.4134121292767667,
          0.05034939966290155,
          -0.06960957892298734,
          -0.2260588074572653,
          -1.927090999921165,
          0.024635095040146927,
          -0.7441625541298046,
          -0.025683679287609805,
          0.11843513989092828,
          -0.4849087333809206,
          -1.2954358425583201,
          1.0795564645448268,
          -0.6975424576353564,
          -0.2697714644042345,
          1.438968686818738,
          0.39409728828892954,
          -0.6265133870177304,
          -0.07824844526021912,
          -0.08591331765526902,
          0.8049923558872016,
          -1.0295399790894808,
          0.8786188084461379,
          0.46443962318469717,
          1.1761263431906517,
          -0.44440355978282203,
          0.9615156084487653,
          -0.5205899481735078,
          -1.7001403321488082,
          -0.5742156648569211,
          -1.5076041562325455,
          0.14358381613267093,
          1.513624324283302,
          0.20695348581256173,
          -2.4042855181268483,
          1.251628238049774,
          -1.3286629238691323,
          -2.050349258987114,
          0.9419130391059416,
          -0.7692435131584836,
          -0.8103901760540326,
          -0.8559410079422868,
          0.7022159222046942,
          0.03961153229562075,
          0.9446372185380836,
          -0.7598077508633341,
          0.24296278440062496,
          1.6967567370379988,
          -0.3540073619364603,
          1.2807823387911226,
          -0.3048581626816503,
          1.6063731950511038,
          -0.9068007722531073,
          -1.3243575537247236,
          -1.244128218309669,
          -1.850367569260154,
          -0.5710247020667107,
          0.28966820605365357,
          -1.1186418290222262,
          2.8885796606749925,
          -0.25131418682439843,
          -1.2651371623752403,
          -1.7208183825176575,
          -2.379348975057764,
          0.2833705925498279,
          0.9591099681660155,
          -1.0281961398773638,
          0.5430260260149434,
          -1.2345436637795881,
          0.3392535301869327,
          -0.12585274936717322,
          0.5724712772673114,
          1.647704705920134e-05,
          -0.9246796833279284,
          0.5755276455950149,
          1.1969623581801656,
          0.4712654848573027,
          -0.6803956435669573,
          0.6379021895182349,
          0.9897298422219863,
          -1.2442857660093052,
          -0.17387348445545497,
          0.5683303618787926,
          0.10724265170165377,
          0.2778618535670428,
          -0.16522749240533144,
          -0.9385785399474534,
          -0.7750686546066188,
          0.3468413043569452,
          -0.9061856008536254,
          -0.322226460099784,
          -0.462172141008642,
          1.3550041922182134,
          1.2579165177664244,
          -1.2587896313699054,
          -0.6742783069596625,
          0.19371989971395945,
          0.395530183978683,
          -0.6081088049058118,
          0.6488370810754313
         ],
         "yaxis": "y15"
        },
        {
         "histfunc": "count",
         "histnorm": "",
         "marker": {
          "color": "rgba(128, 0, 128, 1.0)",
          "line": {
           "color": "#4D5663",
           "width": 1.3
          }
         },
         "name": "D",
         "nbinsx": 10,
         "opacity": 0.8,
         "orientation": "v",
         "type": "histogram",
         "x": [
          -0.518783594996111,
          -2.4134121292767667,
          0.05034939966290155,
          -0.06960957892298734,
          -0.2260588074572653,
          -1.927090999921165,
          0.024635095040146927,
          -0.7441625541298046,
          -0.025683679287609805,
          0.11843513989092828,
          -0.4849087333809206,
          -1.2954358425583201,
          1.0795564645448268,
          -0.6975424576353564,
          -0.2697714644042345,
          1.438968686818738,
          0.39409728828892954,
          -0.6265133870177304,
          -0.07824844526021912,
          -0.08591331765526902,
          0.8049923558872016,
          -1.0295399790894808,
          0.8786188084461379,
          0.46443962318469717,
          1.1761263431906517,
          -0.44440355978282203,
          0.9615156084487653,
          -0.5205899481735078,
          -1.7001403321488082,
          -0.5742156648569211,
          -1.5076041562325455,
          0.14358381613267093,
          1.513624324283302,
          0.20695348581256173,
          -2.4042855181268483,
          1.251628238049774,
          -1.3286629238691323,
          -2.050349258987114,
          0.9419130391059416,
          -0.7692435131584836,
          -0.8103901760540326,
          -0.8559410079422868,
          0.7022159222046942,
          0.03961153229562075,
          0.9446372185380836,
          -0.7598077508633341,
          0.24296278440062496,
          1.6967567370379988,
          -0.3540073619364603,
          1.2807823387911226,
          -0.3048581626816503,
          1.6063731950511038,
          -0.9068007722531073,
          -1.3243575537247236,
          -1.244128218309669,
          -1.850367569260154,
          -0.5710247020667107,
          0.28966820605365357,
          -1.1186418290222262,
          2.8885796606749925,
          -0.25131418682439843,
          -1.2651371623752403,
          -1.7208183825176575,
          -2.379348975057764,
          0.2833705925498279,
          0.9591099681660155,
          -1.0281961398773638,
          0.5430260260149434,
          -1.2345436637795881,
          0.3392535301869327,
          -0.12585274936717322,
          0.5724712772673114,
          1.647704705920134e-05,
          -0.9246796833279284,
          0.5755276455950149,
          1.1969623581801656,
          0.4712654848573027,
          -0.6803956435669573,
          0.6379021895182349,
          0.9897298422219863,
          -1.2442857660093052,
          -0.17387348445545497,
          0.5683303618787926,
          0.10724265170165377,
          0.2778618535670428,
          -0.16522749240533144,
          -0.9385785399474534,
          -0.7750686546066188,
          0.3468413043569452,
          -0.9061856008536254,
          -0.322226460099784,
          -0.462172141008642,
          1.3550041922182134,
          1.2579165177664244,
          -1.2587896313699054,
          -0.6742783069596625,
          0.19371989971395945,
          0.395530183978683,
          -0.6081088049058118,
          0.6488370810754313
         ],
         "xaxis": "x16",
         "yaxis": "y16"
        }
       ],
       "layout": {
        "bargap": 0.02,
        "legend": {
         "bgcolor": "#F5F6F9",
         "font": {
          "color": "#4D5663"
         }
        },
        "paper_bgcolor": "#F5F6F9",
        "plot_bgcolor": "#F5F6F9",
        "showlegend": false,
        "template": {
         "data": {
          "bar": [
           {
            "error_x": {
             "color": "#2a3f5f"
            },
            "error_y": {
             "color": "#2a3f5f"
            },
            "marker": {
             "line": {
              "color": "#E5ECF6",
              "width": 0.5
             }
            },
            "type": "bar"
           }
          ],
          "barpolar": [
           {
            "marker": {
             "line": {
              "color": "#E5ECF6",
              "width": 0.5
             }
            },
            "type": "barpolar"
           }
          ],
          "carpet": [
           {
            "aaxis": {
             "endlinecolor": "#2a3f5f",
             "gridcolor": "white",
             "linecolor": "white",
             "minorgridcolor": "white",
             "startlinecolor": "#2a3f5f"
            },
            "baxis": {
             "endlinecolor": "#2a3f5f",
             "gridcolor": "white",
             "linecolor": "white",
             "minorgridcolor": "white",
             "startlinecolor": "#2a3f5f"
            },
            "type": "carpet"
           }
          ],
          "choropleth": [
           {
            "colorbar": {
             "outlinewidth": 0,
             "ticks": ""
            },
            "type": "choropleth"
           }
          ],
          "contour": [
           {
            "colorbar": {
             "outlinewidth": 0,
             "ticks": ""
            },
            "colorscale": [
             [
              0,
              "#0d0887"
             ],
             [
              0.1111111111111111,
              "#46039f"
             ],
             [
              0.2222222222222222,
              "#7201a8"
             ],
             [
              0.3333333333333333,
              "#9c179e"
             ],
             [
              0.4444444444444444,
              "#bd3786"
             ],
             [
              0.5555555555555556,
              "#d8576b"
             ],
             [
              0.6666666666666666,
              "#ed7953"
             ],
             [
              0.7777777777777778,
              "#fb9f3a"
             ],
             [
              0.8888888888888888,
              "#fdca26"
             ],
             [
              1,
              "#f0f921"
             ]
            ],
            "type": "contour"
           }
          ],
          "contourcarpet": [
           {
            "colorbar": {
             "outlinewidth": 0,
             "ticks": ""
            },
            "type": "contourcarpet"
           }
          ],
          "heatmap": [
           {
            "colorbar": {
             "outlinewidth": 0,
             "ticks": ""
            },
            "colorscale": [
             [
              0,
              "#0d0887"
             ],
             [
              0.1111111111111111,
              "#46039f"
             ],
             [
              0.2222222222222222,
              "#7201a8"
             ],
             [
              0.3333333333333333,
              "#9c179e"
             ],
             [
              0.4444444444444444,
              "#bd3786"
             ],
             [
              0.5555555555555556,
              "#d8576b"
             ],
             [
              0.6666666666666666,
              "#ed7953"
             ],
             [
              0.7777777777777778,
              "#fb9f3a"
             ],
             [
              0.8888888888888888,
              "#fdca26"
             ],
             [
              1,
              "#f0f921"
             ]
            ],
            "type": "heatmap"
           }
          ],
          "heatmapgl": [
           {
            "colorbar": {
             "outlinewidth": 0,
             "ticks": ""
            },
            "colorscale": [
             [
              0,
              "#0d0887"
             ],
             [
              0.1111111111111111,
              "#46039f"
             ],
             [
              0.2222222222222222,
              "#7201a8"
             ],
             [
              0.3333333333333333,
              "#9c179e"
             ],
             [
              0.4444444444444444,
              "#bd3786"
             ],
             [
              0.5555555555555556,
              "#d8576b"
             ],
             [
              0.6666666666666666,
              "#ed7953"
             ],
             [
              0.7777777777777778,
              "#fb9f3a"
             ],
             [
              0.8888888888888888,
              "#fdca26"
             ],
             [
              1,
              "#f0f921"
             ]
            ],
            "type": "heatmapgl"
           }
          ],
          "histogram": [
           {
            "marker": {
             "colorbar": {
              "outlinewidth": 0,
              "ticks": ""
             }
            },
            "type": "histogram"
           }
          ],
          "histogram2d": [
           {
            "colorbar": {
             "outlinewidth": 0,
             "ticks": ""
            },
            "colorscale": [
             [
              0,
              "#0d0887"
             ],
             [
              0.1111111111111111,
              "#46039f"
             ],
             [
              0.2222222222222222,
              "#7201a8"
             ],
             [
              0.3333333333333333,
              "#9c179e"
             ],
             [
              0.4444444444444444,
              "#bd3786"
             ],
             [
              0.5555555555555556,
              "#d8576b"
             ],
             [
              0.6666666666666666,
              "#ed7953"
             ],
             [
              0.7777777777777778,
              "#fb9f3a"
             ],
             [
              0.8888888888888888,
              "#fdca26"
             ],
             [
              1,
              "#f0f921"
             ]
            ],
            "type": "histogram2d"
           }
          ],
          "histogram2dcontour": [
           {
            "colorbar": {
             "outlinewidth": 0,
             "ticks": ""
            },
            "colorscale": [
             [
              0,
              "#0d0887"
             ],
             [
              0.1111111111111111,
              "#46039f"
             ],
             [
              0.2222222222222222,
              "#7201a8"
             ],
             [
              0.3333333333333333,
              "#9c179e"
             ],
             [
              0.4444444444444444,
              "#bd3786"
             ],
             [
              0.5555555555555556,
              "#d8576b"
             ],
             [
              0.6666666666666666,
              "#ed7953"
             ],
             [
              0.7777777777777778,
              "#fb9f3a"
             ],
             [
              0.8888888888888888,
              "#fdca26"
             ],
             [
              1,
              "#f0f921"
             ]
            ],
            "type": "histogram2dcontour"
           }
          ],
          "mesh3d": [
           {
            "colorbar": {
             "outlinewidth": 0,
             "ticks": ""
            },
            "type": "mesh3d"
           }
          ],
          "parcoords": [
           {
            "line": {
             "colorbar": {
              "outlinewidth": 0,
              "ticks": ""
             }
            },
            "type": "parcoords"
           }
          ],
          "pie": [
           {
            "automargin": true,
            "type": "pie"
           }
          ],
          "scatter": [
           {
            "marker": {
             "colorbar": {
              "outlinewidth": 0,
              "ticks": ""
             }
            },
            "type": "scatter"
           }
          ],
          "scatter3d": [
           {
            "line": {
             "colorbar": {
              "outlinewidth": 0,
              "ticks": ""
             }
            },
            "marker": {
             "colorbar": {
              "outlinewidth": 0,
              "ticks": ""
             }
            },
            "type": "scatter3d"
           }
          ],
          "scattercarpet": [
           {
            "marker": {
             "colorbar": {
              "outlinewidth": 0,
              "ticks": ""
             }
            },
            "type": "scattercarpet"
           }
          ],
          "scattergeo": [
           {
            "marker": {
             "colorbar": {
              "outlinewidth": 0,
              "ticks": ""
             }
            },
            "type": "scattergeo"
           }
          ],
          "scattergl": [
           {
            "marker": {
             "colorbar": {
              "outlinewidth": 0,
              "ticks": ""
             }
            },
            "type": "scattergl"
           }
          ],
          "scattermapbox": [
           {
            "marker": {
             "colorbar": {
              "outlinewidth": 0,
              "ticks": ""
             }
            },
            "type": "scattermapbox"
           }
          ],
          "scatterpolar": [
           {
            "marker": {
             "colorbar": {
              "outlinewidth": 0,
              "ticks": ""
             }
            },
            "type": "scatterpolar"
           }
          ],
          "scatterpolargl": [
           {
            "marker": {
             "colorbar": {
              "outlinewidth": 0,
              "ticks": ""
             }
            },
            "type": "scatterpolargl"
           }
          ],
          "scatterternary": [
           {
            "marker": {
             "colorbar": {
              "outlinewidth": 0,
              "ticks": ""
             }
            },
            "type": "scatterternary"
           }
          ],
          "surface": [
           {
            "colorbar": {
             "outlinewidth": 0,
             "ticks": ""
            },
            "colorscale": [
             [
              0,
              "#0d0887"
             ],
             [
              0.1111111111111111,
              "#46039f"
             ],
             [
              0.2222222222222222,
              "#7201a8"
             ],
             [
              0.3333333333333333,
              "#9c179e"
             ],
             [
              0.4444444444444444,
              "#bd3786"
             ],
             [
              0.5555555555555556,
              "#d8576b"
             ],
             [
              0.6666666666666666,
              "#ed7953"
             ],
             [
              0.7777777777777778,
              "#fb9f3a"
             ],
             [
              0.8888888888888888,
              "#fdca26"
             ],
             [
              1,
              "#f0f921"
             ]
            ],
            "type": "surface"
           }
          ],
          "table": [
           {
            "cells": {
             "fill": {
              "color": "#EBF0F8"
             },
             "line": {
              "color": "white"
             }
            },
            "header": {
             "fill": {
              "color": "#C8D4E3"
             },
             "line": {
              "color": "white"
             }
            },
            "type": "table"
           }
          ]
         },
         "layout": {
          "annotationdefaults": {
           "arrowcolor": "#2a3f5f",
           "arrowhead": 0,
           "arrowwidth": 1
          },
          "coloraxis": {
           "colorbar": {
            "outlinewidth": 0,
            "ticks": ""
           }
          },
          "colorscale": {
           "diverging": [
            [
             0,
             "#8e0152"
            ],
            [
             0.1,
             "#c51b7d"
            ],
            [
             0.2,
             "#de77ae"
            ],
            [
             0.3,
             "#f1b6da"
            ],
            [
             0.4,
             "#fde0ef"
            ],
            [
             0.5,
             "#f7f7f7"
            ],
            [
             0.6,
             "#e6f5d0"
            ],
            [
             0.7,
             "#b8e186"
            ],
            [
             0.8,
             "#7fbc41"
            ],
            [
             0.9,
             "#4d9221"
            ],
            [
             1,
             "#276419"
            ]
           ],
           "sequential": [
            [
             0,
             "#0d0887"
            ],
            [
             0.1111111111111111,
             "#46039f"
            ],
            [
             0.2222222222222222,
             "#7201a8"
            ],
            [
             0.3333333333333333,
             "#9c179e"
            ],
            [
             0.4444444444444444,
             "#bd3786"
            ],
            [
             0.5555555555555556,
             "#d8576b"
            ],
            [
             0.6666666666666666,
             "#ed7953"
            ],
            [
             0.7777777777777778,
             "#fb9f3a"
            ],
            [
             0.8888888888888888,
             "#fdca26"
            ],
            [
             1,
             "#f0f921"
            ]
           ],
           "sequentialminus": [
            [
             0,
             "#0d0887"
            ],
            [
             0.1111111111111111,
             "#46039f"
            ],
            [
             0.2222222222222222,
             "#7201a8"
            ],
            [
             0.3333333333333333,
             "#9c179e"
            ],
            [
             0.4444444444444444,
             "#bd3786"
            ],
            [
             0.5555555555555556,
             "#d8576b"
            ],
            [
             0.6666666666666666,
             "#ed7953"
            ],
            [
             0.7777777777777778,
             "#fb9f3a"
            ],
            [
             0.8888888888888888,
             "#fdca26"
            ],
            [
             1,
             "#f0f921"
            ]
           ]
          },
          "colorway": [
           "#636efa",
           "#EF553B",
           "#00cc96",
           "#ab63fa",
           "#FFA15A",
           "#19d3f3",
           "#FF6692",
           "#B6E880",
           "#FF97FF",
           "#FECB52"
          ],
          "font": {
           "color": "#2a3f5f"
          },
          "geo": {
           "bgcolor": "white",
           "lakecolor": "white",
           "landcolor": "#E5ECF6",
           "showlakes": true,
           "showland": true,
           "subunitcolor": "white"
          },
          "hoverlabel": {
           "align": "left"
          },
          "hovermode": "closest",
          "mapbox": {
           "style": "light"
          },
          "paper_bgcolor": "white",
          "plot_bgcolor": "#E5ECF6",
          "polar": {
           "angularaxis": {
            "gridcolor": "white",
            "linecolor": "white",
            "ticks": ""
           },
           "bgcolor": "#E5ECF6",
           "radialaxis": {
            "gridcolor": "white",
            "linecolor": "white",
            "ticks": ""
           }
          },
          "scene": {
           "xaxis": {
            "backgroundcolor": "#E5ECF6",
            "gridcolor": "white",
            "gridwidth": 2,
            "linecolor": "white",
            "showbackground": true,
            "ticks": "",
            "zerolinecolor": "white"
           },
           "yaxis": {
            "backgroundcolor": "#E5ECF6",
            "gridcolor": "white",
            "gridwidth": 2,
            "linecolor": "white",
            "showbackground": true,
            "ticks": "",
            "zerolinecolor": "white"
           },
           "zaxis": {
            "backgroundcolor": "#E5ECF6",
            "gridcolor": "white",
            "gridwidth": 2,
            "linecolor": "white",
            "showbackground": true,
            "ticks": "",
            "zerolinecolor": "white"
           }
          },
          "shapedefaults": {
           "line": {
            "color": "#2a3f5f"
           }
          },
          "ternary": {
           "aaxis": {
            "gridcolor": "white",
            "linecolor": "white",
            "ticks": ""
           },
           "baxis": {
            "gridcolor": "white",
            "linecolor": "white",
            "ticks": ""
           },
           "bgcolor": "#E5ECF6",
           "caxis": {
            "gridcolor": "white",
            "linecolor": "white",
            "ticks": ""
           }
          },
          "title": {
           "x": 0.05
          },
          "xaxis": {
           "automargin": true,
           "gridcolor": "white",
           "linecolor": "white",
           "ticks": "",
           "title": {
            "standoff": 15
           },
           "zerolinecolor": "white",
           "zerolinewidth": 2
          },
          "yaxis": {
           "automargin": true,
           "gridcolor": "white",
           "linecolor": "white",
           "ticks": "",
           "title": {
            "standoff": 15
           },
           "zerolinecolor": "white",
           "zerolinewidth": 2
          }
         }
        },
        "title": {
         "font": {
          "color": "#4D5663"
         }
        },
        "xaxis": {
         "anchor": "y",
         "domain": [
          0,
          0.2125
         ],
         "gridcolor": "#E1E5ED",
         "showgrid": false,
         "tickfont": {
          "color": "#4D5663"
         },
         "title": {
          "font": {
           "color": "#4D5663"
          },
          "text": ""
         },
         "zerolinecolor": "#E1E5ED"
        },
        "xaxis10": {
         "anchor": "y10",
         "domain": [
          0.2625,
          0.475
         ],
         "gridcolor": "#E1E5ED",
         "showgrid": false,
         "tickfont": {
          "color": "#4D5663"
         },
         "title": {
          "font": {
           "color": "#4D5663"
          },
          "text": ""
         },
         "zerolinecolor": "#E1E5ED"
        },
        "xaxis11": {
         "anchor": "y11",
         "domain": [
          0.525,
          0.7375
         ],
         "gridcolor": "#E1E5ED",
         "showgrid": false,
         "tickfont": {
          "color": "#4D5663"
         },
         "title": {
          "font": {
           "color": "#4D5663"
          },
          "text": ""
         },
         "zerolinecolor": "#E1E5ED"
        },
        "xaxis12": {
         "anchor": "y12",
         "domain": [
          0.7875,
          1
         ],
         "gridcolor": "#E1E5ED",
         "showgrid": false,
         "tickfont": {
          "color": "#4D5663"
         },
         "title": {
          "font": {
           "color": "#4D5663"
          },
          "text": ""
         },
         "zerolinecolor": "#E1E5ED"
        },
        "xaxis13": {
         "anchor": "y13",
         "domain": [
          0,
          0.2125
         ],
         "gridcolor": "#E1E5ED",
         "showgrid": false,
         "tickfont": {
          "color": "#4D5663"
         },
         "title": {
          "font": {
           "color": "#4D5663"
          },
          "text": ""
         },
         "zerolinecolor": "#E1E5ED"
        },
        "xaxis14": {
         "anchor": "y14",
         "domain": [
          0.2625,
          0.475
         ],
         "gridcolor": "#E1E5ED",
         "showgrid": false,
         "tickfont": {
          "color": "#4D5663"
         },
         "title": {
          "font": {
           "color": "#4D5663"
          },
          "text": ""
         },
         "zerolinecolor": "#E1E5ED"
        },
        "xaxis15": {
         "anchor": "y15",
         "domain": [
          0.525,
          0.7375
         ],
         "gridcolor": "#E1E5ED",
         "showgrid": false,
         "tickfont": {
          "color": "#4D5663"
         },
         "title": {
          "font": {
           "color": "#4D5663"
          },
          "text": ""
         },
         "zerolinecolor": "#E1E5ED"
        },
        "xaxis16": {
         "anchor": "y16",
         "domain": [
          0.7875,
          1
         ],
         "gridcolor": "#E1E5ED",
         "showgrid": false,
         "tickfont": {
          "color": "#4D5663"
         },
         "title": {
          "font": {
           "color": "#4D5663"
          },
          "text": ""
         },
         "zerolinecolor": "#E1E5ED"
        },
        "xaxis2": {
         "anchor": "y2",
         "domain": [
          0.2625,
          0.475
         ],
         "gridcolor": "#E1E5ED",
         "showgrid": false,
         "tickfont": {
          "color": "#4D5663"
         },
         "title": {
          "font": {
           "color": "#4D5663"
          },
          "text": ""
         },
         "zerolinecolor": "#E1E5ED"
        },
        "xaxis3": {
         "anchor": "y3",
         "domain": [
          0.525,
          0.7375
         ],
         "gridcolor": "#E1E5ED",
         "showgrid": false,
         "tickfont": {
          "color": "#4D5663"
         },
         "title": {
          "font": {
           "color": "#4D5663"
          },
          "text": ""
         },
         "zerolinecolor": "#E1E5ED"
        },
        "xaxis4": {
         "anchor": "y4",
         "domain": [
          0.7875,
          1
         ],
         "gridcolor": "#E1E5ED",
         "showgrid": false,
         "tickfont": {
          "color": "#4D5663"
         },
         "title": {
          "font": {
           "color": "#4D5663"
          },
          "text": ""
         },
         "zerolinecolor": "#E1E5ED"
        },
        "xaxis5": {
         "anchor": "y5",
         "domain": [
          0,
          0.2125
         ],
         "gridcolor": "#E1E5ED",
         "showgrid": false,
         "tickfont": {
          "color": "#4D5663"
         },
         "title": {
          "font": {
           "color": "#4D5663"
          },
          "text": ""
         },
         "zerolinecolor": "#E1E5ED"
        },
        "xaxis6": {
         "anchor": "y6",
         "domain": [
          0.2625,
          0.475
         ],
         "gridcolor": "#E1E5ED",
         "showgrid": false,
         "tickfont": {
          "color": "#4D5663"
         },
         "title": {
          "font": {
           "color": "#4D5663"
          },
          "text": ""
         },
         "zerolinecolor": "#E1E5ED"
        },
        "xaxis7": {
         "anchor": "y7",
         "domain": [
          0.525,
          0.7375
         ],
         "gridcolor": "#E1E5ED",
         "showgrid": false,
         "tickfont": {
          "color": "#4D5663"
         },
         "title": {
          "font": {
           "color": "#4D5663"
          },
          "text": ""
         },
         "zerolinecolor": "#E1E5ED"
        },
        "xaxis8": {
         "anchor": "y8",
         "domain": [
          0.7875,
          1
         ],
         "gridcolor": "#E1E5ED",
         "showgrid": false,
         "tickfont": {
          "color": "#4D5663"
         },
         "title": {
          "font": {
           "color": "#4D5663"
          },
          "text": ""
         },
         "zerolinecolor": "#E1E5ED"
        },
        "xaxis9": {
         "anchor": "y9",
         "domain": [
          0,
          0.2125
         ],
         "gridcolor": "#E1E5ED",
         "showgrid": false,
         "tickfont": {
          "color": "#4D5663"
         },
         "title": {
          "font": {
           "color": "#4D5663"
          },
          "text": ""
         },
         "zerolinecolor": "#E1E5ED"
        },
        "yaxis": {
         "anchor": "x",
         "domain": [
          0.8025,
          1
         ],
         "gridcolor": "#E1E5ED",
         "showgrid": false,
         "tickfont": {
          "color": "#4D5663"
         },
         "title": {
          "font": {
           "color": "#4D5663"
          },
          "text": ""
         },
         "zerolinecolor": "#E1E5ED"
        },
        "yaxis10": {
         "anchor": "x10",
         "domain": [
          0.2675,
          0.465
         ],
         "gridcolor": "#E1E5ED",
         "showgrid": false,
         "tickfont": {
          "color": "#4D5663"
         },
         "title": {
          "font": {
           "color": "#4D5663"
          },
          "text": ""
         },
         "zerolinecolor": "#E1E5ED"
        },
        "yaxis11": {
         "anchor": "x11",
         "domain": [
          0.2675,
          0.465
         ],
         "gridcolor": "#E1E5ED",
         "showgrid": false,
         "tickfont": {
          "color": "#4D5663"
         },
         "title": {
          "font": {
           "color": "#4D5663"
          },
          "text": ""
         },
         "zerolinecolor": "#E1E5ED"
        },
        "yaxis12": {
         "anchor": "x12",
         "domain": [
          0.2675,
          0.465
         ],
         "gridcolor": "#E1E5ED",
         "showgrid": false,
         "tickfont": {
          "color": "#4D5663"
         },
         "title": {
          "font": {
           "color": "#4D5663"
          },
          "text": ""
         },
         "zerolinecolor": "#E1E5ED"
        },
        "yaxis13": {
         "anchor": "x13",
         "domain": [
          0,
          0.1975
         ],
         "gridcolor": "#E1E5ED",
         "showgrid": false,
         "tickfont": {
          "color": "#4D5663"
         },
         "title": {
          "font": {
           "color": "#4D5663"
          },
          "text": ""
         },
         "zerolinecolor": "#E1E5ED"
        },
        "yaxis14": {
         "anchor": "x14",
         "domain": [
          0,
          0.1975
         ],
         "gridcolor": "#E1E5ED",
         "showgrid": false,
         "tickfont": {
          "color": "#4D5663"
         },
         "title": {
          "font": {
           "color": "#4D5663"
          },
          "text": ""
         },
         "zerolinecolor": "#E1E5ED"
        },
        "yaxis15": {
         "anchor": "x15",
         "domain": [
          0,
          0.1975
         ],
         "gridcolor": "#E1E5ED",
         "showgrid": false,
         "tickfont": {
          "color": "#4D5663"
         },
         "title": {
          "font": {
           "color": "#4D5663"
          },
          "text": ""
         },
         "zerolinecolor": "#E1E5ED"
        },
        "yaxis16": {
         "anchor": "x16",
         "domain": [
          0,
          0.1975
         ],
         "gridcolor": "#E1E5ED",
         "showgrid": false,
         "tickfont": {
          "color": "#4D5663"
         },
         "title": {
          "font": {
           "color": "#4D5663"
          },
          "text": ""
         },
         "zerolinecolor": "#E1E5ED"
        },
        "yaxis2": {
         "anchor": "x2",
         "domain": [
          0.8025,
          1
         ],
         "gridcolor": "#E1E5ED",
         "showgrid": false,
         "tickfont": {
          "color": "#4D5663"
         },
         "title": {
          "font": {
           "color": "#4D5663"
          },
          "text": ""
         },
         "zerolinecolor": "#E1E5ED"
        },
        "yaxis3": {
         "anchor": "x3",
         "domain": [
          0.8025,
          1
         ],
         "gridcolor": "#E1E5ED",
         "showgrid": false,
         "tickfont": {
          "color": "#4D5663"
         },
         "title": {
          "font": {
           "color": "#4D5663"
          },
          "text": ""
         },
         "zerolinecolor": "#E1E5ED"
        },
        "yaxis4": {
         "anchor": "x4",
         "domain": [
          0.8025,
          1
         ],
         "gridcolor": "#E1E5ED",
         "showgrid": false,
         "tickfont": {
          "color": "#4D5663"
         },
         "title": {
          "font": {
           "color": "#4D5663"
          },
          "text": ""
         },
         "zerolinecolor": "#E1E5ED"
        },
        "yaxis5": {
         "anchor": "x5",
         "domain": [
          0.535,
          0.7325
         ],
         "gridcolor": "#E1E5ED",
         "showgrid": false,
         "tickfont": {
          "color": "#4D5663"
         },
         "title": {
          "font": {
           "color": "#4D5663"
          },
          "text": ""
         },
         "zerolinecolor": "#E1E5ED"
        },
        "yaxis6": {
         "anchor": "x6",
         "domain": [
          0.535,
          0.7325
         ],
         "gridcolor": "#E1E5ED",
         "showgrid": false,
         "tickfont": {
          "color": "#4D5663"
         },
         "title": {
          "font": {
           "color": "#4D5663"
          },
          "text": ""
         },
         "zerolinecolor": "#E1E5ED"
        },
        "yaxis7": {
         "anchor": "x7",
         "domain": [
          0.535,
          0.7325
         ],
         "gridcolor": "#E1E5ED",
         "showgrid": false,
         "tickfont": {
          "color": "#4D5663"
         },
         "title": {
          "font": {
           "color": "#4D5663"
          },
          "text": ""
         },
         "zerolinecolor": "#E1E5ED"
        },
        "yaxis8": {
         "anchor": "x8",
         "domain": [
          0.535,
          0.7325
         ],
         "gridcolor": "#E1E5ED",
         "showgrid": false,
         "tickfont": {
          "color": "#4D5663"
         },
         "title": {
          "font": {
           "color": "#4D5663"
          },
          "text": ""
         },
         "zerolinecolor": "#E1E5ED"
        },
        "yaxis9": {
         "anchor": "x9",
         "domain": [
          0.2675,
          0.465
         ],
         "gridcolor": "#E1E5ED",
         "showgrid": false,
         "tickfont": {
          "color": "#4D5663"
         },
         "title": {
          "font": {
           "color": "#4D5663"
          },
          "text": ""
         },
         "zerolinecolor": "#E1E5ED"
        }
       }
      },
      "text/html": [
       "<div>\n",
       "        \n",
       "        \n",
       "            <div id=\"05047867-49f7-467b-80b1-60ede0ca9904\" class=\"plotly-graph-div\" style=\"height:525px; width:100%;\"></div>\n",
       "            <script type=\"text/javascript\">\n",
       "                require([\"plotly\"], function(Plotly) {\n",
       "                    window.PLOTLYENV=window.PLOTLYENV || {};\n",
       "                    window.PLOTLYENV.BASE_URL='https://plot.ly';\n",
       "                    \n",
       "                if (document.getElementById(\"05047867-49f7-467b-80b1-60ede0ca9904\")) {\n",
       "                    Plotly.newPlot(\n",
       "                        '05047867-49f7-467b-80b1-60ede0ca9904',\n",
       "                        [{\"histfunc\": \"count\", \"histnorm\": \"\", \"marker\": {\"color\": \"rgba(255, 153, 51, 1.0)\", \"line\": {\"color\": \"#4D5663\", \"width\": 1.3}}, \"name\": \"A\", \"nbinsx\": 10, \"opacity\": 0.8, \"orientation\": \"v\", \"type\": \"histogram\", \"x\": [0.49289817131910324, -0.3012398972298208, -0.7816068221605069, -0.8090093152211132, 1.4006830146786922, -0.19482583816277718, 0.0604937012147241, 2.119691209922694, 0.7222242598679914, 1.753235420367374, 0.15830729803447974, -0.6341440309522819, -2.283999111080501, 0.5531241386591951, -2.266708116322684, 0.7042723917299197, 0.6092425758622263, -0.340557220856165, -1.3041616905321494, 0.18497826710035706, 0.021565250924974123, -0.006075820444198791, -2.566727147075182, 0.02730521303181981, -0.9939684925220701, -0.6223666531415607, 1.776870439188865, 0.01793289056711191, 0.05680072212956541, 0.43447933306281233, -1.453567536602802, 0.22397366436895907, -0.47782199024703215, 1.339102396303261, 1.6080823076036965, 0.20166945309703094, -1.4037713891573702, 0.5106776942015245, -1.8190377132273154, -1.0337585498673065, 0.5183548692185115, -1.0257448210609061, 0.3360850564164397, 1.6441074102925999, 1.359625493547863, 0.5732793595532124, -0.5467403903693552, 0.40035282535498895, 0.10515275916863191, -0.5263016957839567, -0.04432663132196094, 0.8299882137593065, 0.288974670977, 1.4516357718944564, -0.4111386022214322, -2.1428502676999592, 1.2035300277031884, -1.623937560391315, -0.3132882723386422, -0.5352367479666442, -0.6950356321246792, -0.33190243398305314, 0.26383380532025796, -0.5184732009735258, 0.5207487437274007, -1.5584295495848832, 1.0170403191939565, 0.07373919242253754, 0.39030351930826057, 0.3832708653059387, -0.6111638533706606, 0.2944432971309082, 0.4591500221941663, -1.3000294349405557, 0.8493654040778634, -0.24454619551784645, 2.5784605090664208, 0.3470148257665814, 0.4275832431758216, -0.02006983310330113, -0.22115821773805194, 0.7441606483066695, -2.147666745538417, 0.4022717625020178, 1.015008131996003, -0.9614527011380453, 0.6427549647493842, 0.26275878026670807, -2.1811228596403294, -0.9651264344972399, -1.0807091355825975, -1.2704353852791637, -1.604220193082267, 2.2757599377870004, -0.7460643325640582, -1.0270656913759506, -0.08472691139075982, -0.4397288250502953, -0.4051011158276595, 0.0030321124322531187], \"xaxis\": \"x\", \"yaxis\": \"y\"}, {\"line\": {\"color\": \"rgba(128, 128, 128, 1.0)\", \"dash\": \"solid\", \"shape\": \"linear\", \"width\": 1.3}, \"marker\": {\"size\": 2, \"symbol\": \"circle\"}, \"mode\": \"markers\", \"name\": \"A\", \"text\": \"\", \"type\": \"scatter\", \"x\": [1.788094498128622, -0.44535443686305204, -0.7131795159657938, -0.5554106325242337, -0.21586035461825787, -0.697799365135744, 1.097573763569276, 0.035887813880043605, 2.6195040661181466, 0.6079529137881459, 0.7436248459744537, -0.8618502776351192, -0.47747198195992685, 0.22394260599753302, 0.16778779907716984, -0.21439653722728408, -0.28082534999382414, -0.47247468827363853, -0.4506597477838028, 0.6851240964961288, 1.1619213588272501, -1.0702545218773423, 0.4492565916692249, -1.1452374174231343, 0.6940018241869989, 1.7025908336350206, 0.911095428268713, -0.8390868115640266, 0.1663123644197956, 0.3328100887697817, 0.06435393233991418, -0.3710348748026914, -0.9179829095604276, -0.524999408533106, 0.6652896007479878, 1.5838460732342565, -0.006292105652858107, 0.6036323038736936, -0.476844069070269, 1.1387478354050842, 0.03827391299502421, 1.1285586150173448, 0.14647132562841755, 0.4044039554802493, -0.21088510943267336, -1.6753117569624703, -0.3294821012530378, 0.6607752806792838, -0.13058529121836507, 0.22371960616266628, -0.8188759246483298, -0.5854214437337317, -2.491158593278795, -1.0585519213970385, -0.03288668821960335, 1.8329670294391918, 0.605965626089157, -1.0337333776852846, 0.3155519084756224, 1.6015557409146575, 0.6822350410713564, 2.338739883832616, -1.1730419635505192, 0.6391766373700845, 1.289160748481995, -0.5420518881612237, 0.5071628629766942, -0.40457294813531886, 0.7270531601651469, -1.6646222754130013, 0.40243397726927077, 0.34311882064613747, 0.6259398874778561, -1.009481363220773, 0.2245743366277254, 0.6600993412912876, -1.6075531641768765, 0.46316037121790465, -0.5365819522636401, 0.33546724504982794, 0.709807510414665, -1.411526231278596, 0.1236699459010611, 0.30797864886790227, -0.7320151252688502, 0.9815246074439794, 0.546198609092013, 1.7577800559208172, 0.31626620547227696, 0.42215646808605684, 1.4971434747745829, -0.13994118394343455, 0.8020527287884011, -0.004972773524476891, 0.7420408197587705, -2.2243504385067503, 0.11058060408422755, -0.07249780625225877, 0.8482330339326772, -0.7747200231185339], \"xaxis\": \"x2\", \"y\": [0.49289817131910324, -0.3012398972298208, -0.7816068221605069, -0.8090093152211132, 1.4006830146786922, -0.19482583816277718, 0.0604937012147241, 2.119691209922694, 0.7222242598679914, 1.753235420367374, 0.15830729803447974, -0.6341440309522819, -2.283999111080501, 0.5531241386591951, -2.266708116322684, 0.7042723917299197, 0.6092425758622263, -0.340557220856165, -1.3041616905321494, 0.18497826710035706, 0.021565250924974123, -0.006075820444198791, -2.566727147075182, 0.02730521303181981, -0.9939684925220701, -0.6223666531415607, 1.776870439188865, 0.01793289056711191, 0.05680072212956541, 0.43447933306281233, -1.453567536602802, 0.22397366436895907, -0.47782199024703215, 1.339102396303261, 1.6080823076036965, 0.20166945309703094, -1.4037713891573702, 0.5106776942015245, -1.8190377132273154, -1.0337585498673065, 0.5183548692185115, -1.0257448210609061, 0.3360850564164397, 1.6441074102925999, 1.359625493547863, 0.5732793595532124, -0.5467403903693552, 0.40035282535498895, 0.10515275916863191, -0.5263016957839567, -0.04432663132196094, 0.8299882137593065, 0.288974670977, 1.4516357718944564, -0.4111386022214322, -2.1428502676999592, 1.2035300277031884, -1.623937560391315, -0.3132882723386422, -0.5352367479666442, -0.6950356321246792, -0.33190243398305314, 0.26383380532025796, -0.5184732009735258, 0.5207487437274007, -1.5584295495848832, 1.0170403191939565, 0.07373919242253754, 0.39030351930826057, 0.3832708653059387, -0.6111638533706606, 0.2944432971309082, 0.4591500221941663, -1.3000294349405557, 0.8493654040778634, -0.24454619551784645, 2.5784605090664208, 0.3470148257665814, 0.4275832431758216, -0.02006983310330113, -0.22115821773805194, 0.7441606483066695, -2.147666745538417, 0.4022717625020178, 1.015008131996003, -0.9614527011380453, 0.6427549647493842, 0.26275878026670807, -2.1811228596403294, -0.9651264344972399, -1.0807091355825975, -1.2704353852791637, -1.604220193082267, 2.2757599377870004, -0.7460643325640582, -1.0270656913759506, -0.08472691139075982, -0.4397288250502953, -0.4051011158276595, 0.0030321124322531187], \"yaxis\": \"y2\"}, {\"line\": {\"color\": \"rgba(128, 128, 128, 1.0)\", \"dash\": \"solid\", \"shape\": \"linear\", \"width\": 1.3}, \"marker\": {\"size\": 2, \"symbol\": \"circle\"}, \"mode\": \"markers\", \"name\": \"A\", \"text\": \"\", \"type\": \"scatter\", \"x\": [1.463672469166598, 0.6651197192188135, 0.37566576496129844, 1.4791635585415648, 1.4167798359311785, 0.6675141209292036, 0.5894767021021048, 0.9301212541168372, 0.27226748556495267, -0.06391177027598757, 1.0010415184193269, 1.0326165177182174, -0.8731298266611605, -0.46840514265026345, -0.3854634418756403, 1.2459924037856747, 0.8457350353558521, 1.6337799788982934, 0.7889157293396244, -0.6018538929253865, -0.545465322430264, 0.09852540676052758, -0.009114980519238224, -0.30629952776384767, -1.2500465350505152, -0.042355212049775645, -0.6400215740203627, -1.1322927651162251, -1.2187668795188207, 1.6938191102102707, -1.492066170203874, -0.3502846950994851, -1.7995148501102394, -1.1519112577389599, 1.3602019488257686, 1.0680044955077561, -2.161847520754712, -0.1555672793909803, -0.08755424424509188, 0.15341729708932367, 0.8209593576356582, 0.5078408720603443, -0.06243714679218857, 0.2973074236620757, 0.7813467485374767, 0.6973501319285956, -1.3783614386516876, 0.21381270000361954, 0.13057088665168068, -2.0962842050753214, -0.9153373599146069, -0.9073526341698958, 0.7407521736326562, -1.5693456913844939, -0.16817904905543016, -0.814255736583778, -0.31505303878366353, 0.6328591794772734, 0.16821328929726775, -1.467656218336898, -0.042477711901061595, -2.596860879634435, 0.11885605619163297, 0.11604594671634334, 0.45571495458637146, -0.8367063080226032, -0.4868194124432724, -0.6846042002152335, 0.7787188235294727, 0.7834546105714999, -0.4654595163663431, 1.0627138382165682, -0.9162262576347874, 0.9987637167369354, -0.8419795773955878, 0.4972884991745363, 0.5429426100243367, -1.2013471669665756, -0.22134747995347895, -0.9152126365884109, -0.6467294188414507, -0.02547528848355319, 0.9620667204717402, 2.054594371020456, -0.5926406463420172, -2.2405365890056217, -0.17541377487678347, 0.3838316976959465, 0.26351375595270154, 1.80204891106008, 0.3203700240814719, -0.6819345859625005, -0.413617630555659, 0.38409204950645615, 1.422836558643967, -1.208550225097222, 0.3047803401765312, -0.846186163669692, 0.18881194325830297, 0.13831523685704977], \"xaxis\": \"x3\", \"y\": [0.49289817131910324, -0.3012398972298208, -0.7816068221605069, -0.8090093152211132, 1.4006830146786922, -0.19482583816277718, 0.0604937012147241, 2.119691209922694, 0.7222242598679914, 1.753235420367374, 0.15830729803447974, -0.6341440309522819, -2.283999111080501, 0.5531241386591951, -2.266708116322684, 0.7042723917299197, 0.6092425758622263, -0.340557220856165, -1.3041616905321494, 0.18497826710035706, 0.021565250924974123, -0.006075820444198791, -2.566727147075182, 0.02730521303181981, -0.9939684925220701, -0.6223666531415607, 1.776870439188865, 0.01793289056711191, 0.05680072212956541, 0.43447933306281233, -1.453567536602802, 0.22397366436895907, -0.47782199024703215, 1.339102396303261, 1.6080823076036965, 0.20166945309703094, -1.4037713891573702, 0.5106776942015245, -1.8190377132273154, -1.0337585498673065, 0.5183548692185115, -1.0257448210609061, 0.3360850564164397, 1.6441074102925999, 1.359625493547863, 0.5732793595532124, -0.5467403903693552, 0.40035282535498895, 0.10515275916863191, -0.5263016957839567, -0.04432663132196094, 0.8299882137593065, 0.288974670977, 1.4516357718944564, -0.4111386022214322, -2.1428502676999592, 1.2035300277031884, -1.623937560391315, -0.3132882723386422, -0.5352367479666442, -0.6950356321246792, -0.33190243398305314, 0.26383380532025796, -0.5184732009735258, 0.5207487437274007, -1.5584295495848832, 1.0170403191939565, 0.07373919242253754, 0.39030351930826057, 0.3832708653059387, -0.6111638533706606, 0.2944432971309082, 0.4591500221941663, -1.3000294349405557, 0.8493654040778634, -0.24454619551784645, 2.5784605090664208, 0.3470148257665814, 0.4275832431758216, -0.02006983310330113, -0.22115821773805194, 0.7441606483066695, -2.147666745538417, 0.4022717625020178, 1.015008131996003, -0.9614527011380453, 0.6427549647493842, 0.26275878026670807, -2.1811228596403294, -0.9651264344972399, -1.0807091355825975, -1.2704353852791637, -1.604220193082267, 2.2757599377870004, -0.7460643325640582, -1.0270656913759506, -0.08472691139075982, -0.4397288250502953, -0.4051011158276595, 0.0030321124322531187], \"yaxis\": \"y3\"}, {\"line\": {\"color\": \"rgba(128, 128, 128, 1.0)\", \"dash\": \"solid\", \"shape\": \"linear\", \"width\": 1.3}, \"marker\": {\"size\": 2, \"symbol\": \"circle\"}, \"mode\": \"markers\", \"name\": \"A\", \"text\": \"\", \"type\": \"scatter\", \"x\": [-0.518783594996111, -2.4134121292767667, 0.05034939966290155, -0.06960957892298734, -0.2260588074572653, -1.927090999921165, 0.024635095040146927, -0.7441625541298046, -0.025683679287609805, 0.11843513989092828, -0.4849087333809206, -1.2954358425583201, 1.0795564645448268, -0.6975424576353564, -0.2697714644042345, 1.438968686818738, 0.39409728828892954, -0.6265133870177304, -0.07824844526021912, -0.08591331765526902, 0.8049923558872016, -1.0295399790894808, 0.8786188084461379, 0.46443962318469717, 1.1761263431906517, -0.44440355978282203, 0.9615156084487653, -0.5205899481735078, -1.7001403321488082, -0.5742156648569211, -1.5076041562325455, 0.14358381613267093, 1.513624324283302, 0.20695348581256173, -2.4042855181268483, 1.251628238049774, -1.3286629238691323, -2.050349258987114, 0.9419130391059416, -0.7692435131584836, -0.8103901760540326, -0.8559410079422868, 0.7022159222046942, 0.03961153229562075, 0.9446372185380836, -0.7598077508633341, 0.24296278440062496, 1.6967567370379988, -0.3540073619364603, 1.2807823387911226, -0.3048581626816503, 1.6063731950511038, -0.9068007722531073, -1.3243575537247236, -1.244128218309669, -1.850367569260154, -0.5710247020667107, 0.28966820605365357, -1.1186418290222262, 2.8885796606749925, -0.25131418682439843, -1.2651371623752403, -1.7208183825176575, -2.379348975057764, 0.2833705925498279, 0.9591099681660155, -1.0281961398773638, 0.5430260260149434, -1.2345436637795881, 0.3392535301869327, -0.12585274936717322, 0.5724712772673114, 1.647704705920134e-05, -0.9246796833279284, 0.5755276455950149, 1.1969623581801656, 0.4712654848573027, -0.6803956435669573, 0.6379021895182349, 0.9897298422219863, -1.2442857660093052, -0.17387348445545497, 0.5683303618787926, 0.10724265170165377, 0.2778618535670428, -0.16522749240533144, -0.9385785399474534, -0.7750686546066188, 0.3468413043569452, -0.9061856008536254, -0.322226460099784, -0.462172141008642, 1.3550041922182134, 1.2579165177664244, -1.2587896313699054, -0.6742783069596625, 0.19371989971395945, 0.395530183978683, -0.6081088049058118, 0.6488370810754313], \"xaxis\": \"x4\", \"y\": [0.49289817131910324, -0.3012398972298208, -0.7816068221605069, -0.8090093152211132, 1.4006830146786922, -0.19482583816277718, 0.0604937012147241, 2.119691209922694, 0.7222242598679914, 1.753235420367374, 0.15830729803447974, -0.6341440309522819, -2.283999111080501, 0.5531241386591951, -2.266708116322684, 0.7042723917299197, 0.6092425758622263, -0.340557220856165, -1.3041616905321494, 0.18497826710035706, 0.021565250924974123, -0.006075820444198791, -2.566727147075182, 0.02730521303181981, -0.9939684925220701, -0.6223666531415607, 1.776870439188865, 0.01793289056711191, 0.05680072212956541, 0.43447933306281233, -1.453567536602802, 0.22397366436895907, -0.47782199024703215, 1.339102396303261, 1.6080823076036965, 0.20166945309703094, -1.4037713891573702, 0.5106776942015245, -1.8190377132273154, -1.0337585498673065, 0.5183548692185115, -1.0257448210609061, 0.3360850564164397, 1.6441074102925999, 1.359625493547863, 0.5732793595532124, -0.5467403903693552, 0.40035282535498895, 0.10515275916863191, -0.5263016957839567, -0.04432663132196094, 0.8299882137593065, 0.288974670977, 1.4516357718944564, -0.4111386022214322, -2.1428502676999592, 1.2035300277031884, -1.623937560391315, -0.3132882723386422, -0.5352367479666442, -0.6950356321246792, -0.33190243398305314, 0.26383380532025796, -0.5184732009735258, 0.5207487437274007, -1.5584295495848832, 1.0170403191939565, 0.07373919242253754, 0.39030351930826057, 0.3832708653059387, -0.6111638533706606, 0.2944432971309082, 0.4591500221941663, -1.3000294349405557, 0.8493654040778634, -0.24454619551784645, 2.5784605090664208, 0.3470148257665814, 0.4275832431758216, -0.02006983310330113, -0.22115821773805194, 0.7441606483066695, -2.147666745538417, 0.4022717625020178, 1.015008131996003, -0.9614527011380453, 0.6427549647493842, 0.26275878026670807, -2.1811228596403294, -0.9651264344972399, -1.0807091355825975, -1.2704353852791637, -1.604220193082267, 2.2757599377870004, -0.7460643325640582, -1.0270656913759506, -0.08472691139075982, -0.4397288250502953, -0.4051011158276595, 0.0030321124322531187], \"yaxis\": \"y4\"}, {\"line\": {\"color\": \"rgba(128, 128, 128, 1.0)\", \"dash\": \"solid\", \"shape\": \"linear\", \"width\": 1.3}, \"marker\": {\"size\": 2, \"symbol\": \"circle\"}, \"mode\": \"markers\", \"name\": \"B\", \"text\": \"\", \"type\": \"scatter\", \"x\": [0.49289817131910324, -0.3012398972298208, -0.7816068221605069, -0.8090093152211132, 1.4006830146786922, -0.19482583816277718, 0.0604937012147241, 2.119691209922694, 0.7222242598679914, 1.753235420367374, 0.15830729803447974, -0.6341440309522819, -2.283999111080501, 0.5531241386591951, -2.266708116322684, 0.7042723917299197, 0.6092425758622263, -0.340557220856165, -1.3041616905321494, 0.18497826710035706, 0.021565250924974123, -0.006075820444198791, -2.566727147075182, 0.02730521303181981, -0.9939684925220701, -0.6223666531415607, 1.776870439188865, 0.01793289056711191, 0.05680072212956541, 0.43447933306281233, -1.453567536602802, 0.22397366436895907, -0.47782199024703215, 1.339102396303261, 1.6080823076036965, 0.20166945309703094, -1.4037713891573702, 0.5106776942015245, -1.8190377132273154, -1.0337585498673065, 0.5183548692185115, -1.0257448210609061, 0.3360850564164397, 1.6441074102925999, 1.359625493547863, 0.5732793595532124, -0.5467403903693552, 0.40035282535498895, 0.10515275916863191, -0.5263016957839567, -0.04432663132196094, 0.8299882137593065, 0.288974670977, 1.4516357718944564, -0.4111386022214322, -2.1428502676999592, 1.2035300277031884, -1.623937560391315, -0.3132882723386422, -0.5352367479666442, -0.6950356321246792, -0.33190243398305314, 0.26383380532025796, -0.5184732009735258, 0.5207487437274007, -1.5584295495848832, 1.0170403191939565, 0.07373919242253754, 0.39030351930826057, 0.3832708653059387, -0.6111638533706606, 0.2944432971309082, 0.4591500221941663, -1.3000294349405557, 0.8493654040778634, -0.24454619551784645, 2.5784605090664208, 0.3470148257665814, 0.4275832431758216, -0.02006983310330113, -0.22115821773805194, 0.7441606483066695, -2.147666745538417, 0.4022717625020178, 1.015008131996003, -0.9614527011380453, 0.6427549647493842, 0.26275878026670807, -2.1811228596403294, -0.9651264344972399, -1.0807091355825975, -1.2704353852791637, -1.604220193082267, 2.2757599377870004, -0.7460643325640582, -1.0270656913759506, -0.08472691139075982, -0.4397288250502953, -0.4051011158276595, 0.0030321124322531187], \"xaxis\": \"x5\", \"y\": [1.788094498128622, -0.44535443686305204, -0.7131795159657938, -0.5554106325242337, -0.21586035461825787, -0.697799365135744, 1.097573763569276, 0.035887813880043605, 2.6195040661181466, 0.6079529137881459, 0.7436248459744537, -0.8618502776351192, -0.47747198195992685, 0.22394260599753302, 0.16778779907716984, -0.21439653722728408, -0.28082534999382414, -0.47247468827363853, -0.4506597477838028, 0.6851240964961288, 1.1619213588272501, -1.0702545218773423, 0.4492565916692249, -1.1452374174231343, 0.6940018241869989, 1.7025908336350206, 0.911095428268713, -0.8390868115640266, 0.1663123644197956, 0.3328100887697817, 0.06435393233991418, -0.3710348748026914, -0.9179829095604276, -0.524999408533106, 0.6652896007479878, 1.5838460732342565, -0.006292105652858107, 0.6036323038736936, -0.476844069070269, 1.1387478354050842, 0.03827391299502421, 1.1285586150173448, 0.14647132562841755, 0.4044039554802493, -0.21088510943267336, -1.6753117569624703, -0.3294821012530378, 0.6607752806792838, -0.13058529121836507, 0.22371960616266628, -0.8188759246483298, -0.5854214437337317, -2.491158593278795, -1.0585519213970385, -0.03288668821960335, 1.8329670294391918, 0.605965626089157, -1.0337333776852846, 0.3155519084756224, 1.6015557409146575, 0.6822350410713564, 2.338739883832616, -1.1730419635505192, 0.6391766373700845, 1.289160748481995, -0.5420518881612237, 0.5071628629766942, -0.40457294813531886, 0.7270531601651469, -1.6646222754130013, 0.40243397726927077, 0.34311882064613747, 0.6259398874778561, -1.009481363220773, 0.2245743366277254, 0.6600993412912876, -1.6075531641768765, 0.46316037121790465, -0.5365819522636401, 0.33546724504982794, 0.709807510414665, -1.411526231278596, 0.1236699459010611, 0.30797864886790227, -0.7320151252688502, 0.9815246074439794, 0.546198609092013, 1.7577800559208172, 0.31626620547227696, 0.42215646808605684, 1.4971434747745829, -0.13994118394343455, 0.8020527287884011, -0.004972773524476891, 0.7420408197587705, -2.2243504385067503, 0.11058060408422755, -0.07249780625225877, 0.8482330339326772, -0.7747200231185339], \"yaxis\": \"y5\"}, {\"histfunc\": \"count\", \"histnorm\": \"\", \"marker\": {\"color\": \"rgba(55, 128, 191, 1.0)\", \"line\": {\"color\": \"#4D5663\", \"width\": 1.3}}, \"name\": \"B\", \"nbinsx\": 10, \"opacity\": 0.8, \"orientation\": \"v\", \"type\": \"histogram\", \"x\": [1.788094498128622, -0.44535443686305204, -0.7131795159657938, -0.5554106325242337, -0.21586035461825787, -0.697799365135744, 1.097573763569276, 0.035887813880043605, 2.6195040661181466, 0.6079529137881459, 0.7436248459744537, -0.8618502776351192, -0.47747198195992685, 0.22394260599753302, 0.16778779907716984, -0.21439653722728408, -0.28082534999382414, -0.47247468827363853, -0.4506597477838028, 0.6851240964961288, 1.1619213588272501, -1.0702545218773423, 0.4492565916692249, -1.1452374174231343, 0.6940018241869989, 1.7025908336350206, 0.911095428268713, -0.8390868115640266, 0.1663123644197956, 0.3328100887697817, 0.06435393233991418, -0.3710348748026914, -0.9179829095604276, -0.524999408533106, 0.6652896007479878, 1.5838460732342565, -0.006292105652858107, 0.6036323038736936, -0.476844069070269, 1.1387478354050842, 0.03827391299502421, 1.1285586150173448, 0.14647132562841755, 0.4044039554802493, -0.21088510943267336, -1.6753117569624703, -0.3294821012530378, 0.6607752806792838, -0.13058529121836507, 0.22371960616266628, -0.8188759246483298, -0.5854214437337317, -2.491158593278795, -1.0585519213970385, -0.03288668821960335, 1.8329670294391918, 0.605965626089157, -1.0337333776852846, 0.3155519084756224, 1.6015557409146575, 0.6822350410713564, 2.338739883832616, -1.1730419635505192, 0.6391766373700845, 1.289160748481995, -0.5420518881612237, 0.5071628629766942, -0.40457294813531886, 0.7270531601651469, -1.6646222754130013, 0.40243397726927077, 0.34311882064613747, 0.6259398874778561, -1.009481363220773, 0.2245743366277254, 0.6600993412912876, -1.6075531641768765, 0.46316037121790465, -0.5365819522636401, 0.33546724504982794, 0.709807510414665, -1.411526231278596, 0.1236699459010611, 0.30797864886790227, -0.7320151252688502, 0.9815246074439794, 0.546198609092013, 1.7577800559208172, 0.31626620547227696, 0.42215646808605684, 1.4971434747745829, -0.13994118394343455, 0.8020527287884011, -0.004972773524476891, 0.7420408197587705, -2.2243504385067503, 0.11058060408422755, -0.07249780625225877, 0.8482330339326772, -0.7747200231185339], \"xaxis\": \"x6\", \"yaxis\": \"y6\"}, {\"line\": {\"color\": \"rgba(128, 128, 128, 1.0)\", \"dash\": \"solid\", \"shape\": \"linear\", \"width\": 1.3}, \"marker\": {\"size\": 2, \"symbol\": \"circle\"}, \"mode\": \"markers\", \"name\": \"B\", \"text\": \"\", \"type\": \"scatter\", \"x\": [1.463672469166598, 0.6651197192188135, 0.37566576496129844, 1.4791635585415648, 1.4167798359311785, 0.6675141209292036, 0.5894767021021048, 0.9301212541168372, 0.27226748556495267, -0.06391177027598757, 1.0010415184193269, 1.0326165177182174, -0.8731298266611605, -0.46840514265026345, -0.3854634418756403, 1.2459924037856747, 0.8457350353558521, 1.6337799788982934, 0.7889157293396244, -0.6018538929253865, -0.545465322430264, 0.09852540676052758, -0.009114980519238224, -0.30629952776384767, -1.2500465350505152, -0.042355212049775645, -0.6400215740203627, -1.1322927651162251, -1.2187668795188207, 1.6938191102102707, -1.492066170203874, -0.3502846950994851, -1.7995148501102394, -1.1519112577389599, 1.3602019488257686, 1.0680044955077561, -2.161847520754712, -0.1555672793909803, -0.08755424424509188, 0.15341729708932367, 0.8209593576356582, 0.5078408720603443, -0.06243714679218857, 0.2973074236620757, 0.7813467485374767, 0.6973501319285956, -1.3783614386516876, 0.21381270000361954, 0.13057088665168068, -2.0962842050753214, -0.9153373599146069, -0.9073526341698958, 0.7407521736326562, -1.5693456913844939, -0.16817904905543016, -0.814255736583778, -0.31505303878366353, 0.6328591794772734, 0.16821328929726775, -1.467656218336898, -0.042477711901061595, -2.596860879634435, 0.11885605619163297, 0.11604594671634334, 0.45571495458637146, -0.8367063080226032, -0.4868194124432724, -0.6846042002152335, 0.7787188235294727, 0.7834546105714999, -0.4654595163663431, 1.0627138382165682, -0.9162262576347874, 0.9987637167369354, -0.8419795773955878, 0.4972884991745363, 0.5429426100243367, -1.2013471669665756, -0.22134747995347895, -0.9152126365884109, -0.6467294188414507, -0.02547528848355319, 0.9620667204717402, 2.054594371020456, -0.5926406463420172, -2.2405365890056217, -0.17541377487678347, 0.3838316976959465, 0.26351375595270154, 1.80204891106008, 0.3203700240814719, -0.6819345859625005, -0.413617630555659, 0.38409204950645615, 1.422836558643967, -1.208550225097222, 0.3047803401765312, -0.846186163669692, 0.18881194325830297, 0.13831523685704977], \"xaxis\": \"x7\", \"y\": [1.788094498128622, -0.44535443686305204, -0.7131795159657938, -0.5554106325242337, -0.21586035461825787, -0.697799365135744, 1.097573763569276, 0.035887813880043605, 2.6195040661181466, 0.6079529137881459, 0.7436248459744537, -0.8618502776351192, -0.47747198195992685, 0.22394260599753302, 0.16778779907716984, -0.21439653722728408, -0.28082534999382414, -0.47247468827363853, -0.4506597477838028, 0.6851240964961288, 1.1619213588272501, -1.0702545218773423, 0.4492565916692249, -1.1452374174231343, 0.6940018241869989, 1.7025908336350206, 0.911095428268713, -0.8390868115640266, 0.1663123644197956, 0.3328100887697817, 0.06435393233991418, -0.3710348748026914, -0.9179829095604276, -0.524999408533106, 0.6652896007479878, 1.5838460732342565, -0.006292105652858107, 0.6036323038736936, -0.476844069070269, 1.1387478354050842, 0.03827391299502421, 1.1285586150173448, 0.14647132562841755, 0.4044039554802493, -0.21088510943267336, -1.6753117569624703, -0.3294821012530378, 0.6607752806792838, -0.13058529121836507, 0.22371960616266628, -0.8188759246483298, -0.5854214437337317, -2.491158593278795, -1.0585519213970385, -0.03288668821960335, 1.8329670294391918, 0.605965626089157, -1.0337333776852846, 0.3155519084756224, 1.6015557409146575, 0.6822350410713564, 2.338739883832616, -1.1730419635505192, 0.6391766373700845, 1.289160748481995, -0.5420518881612237, 0.5071628629766942, -0.40457294813531886, 0.7270531601651469, -1.6646222754130013, 0.40243397726927077, 0.34311882064613747, 0.6259398874778561, -1.009481363220773, 0.2245743366277254, 0.6600993412912876, -1.6075531641768765, 0.46316037121790465, -0.5365819522636401, 0.33546724504982794, 0.709807510414665, -1.411526231278596, 0.1236699459010611, 0.30797864886790227, -0.7320151252688502, 0.9815246074439794, 0.546198609092013, 1.7577800559208172, 0.31626620547227696, 0.42215646808605684, 1.4971434747745829, -0.13994118394343455, 0.8020527287884011, -0.004972773524476891, 0.7420408197587705, -2.2243504385067503, 0.11058060408422755, -0.07249780625225877, 0.8482330339326772, -0.7747200231185339], \"yaxis\": \"y7\"}, {\"line\": {\"color\": \"rgba(128, 128, 128, 1.0)\", \"dash\": \"solid\", \"shape\": \"linear\", \"width\": 1.3}, \"marker\": {\"size\": 2, \"symbol\": \"circle\"}, \"mode\": \"markers\", \"name\": \"B\", \"text\": \"\", \"type\": \"scatter\", \"x\": [-0.518783594996111, -2.4134121292767667, 0.05034939966290155, -0.06960957892298734, -0.2260588074572653, -1.927090999921165, 0.024635095040146927, -0.7441625541298046, -0.025683679287609805, 0.11843513989092828, -0.4849087333809206, -1.2954358425583201, 1.0795564645448268, -0.6975424576353564, -0.2697714644042345, 1.438968686818738, 0.39409728828892954, -0.6265133870177304, -0.07824844526021912, -0.08591331765526902, 0.8049923558872016, -1.0295399790894808, 0.8786188084461379, 0.46443962318469717, 1.1761263431906517, -0.44440355978282203, 0.9615156084487653, -0.5205899481735078, -1.7001403321488082, -0.5742156648569211, -1.5076041562325455, 0.14358381613267093, 1.513624324283302, 0.20695348581256173, -2.4042855181268483, 1.251628238049774, -1.3286629238691323, -2.050349258987114, 0.9419130391059416, -0.7692435131584836, -0.8103901760540326, -0.8559410079422868, 0.7022159222046942, 0.03961153229562075, 0.9446372185380836, -0.7598077508633341, 0.24296278440062496, 1.6967567370379988, -0.3540073619364603, 1.2807823387911226, -0.3048581626816503, 1.6063731950511038, -0.9068007722531073, -1.3243575537247236, -1.244128218309669, -1.850367569260154, -0.5710247020667107, 0.28966820605365357, -1.1186418290222262, 2.8885796606749925, -0.25131418682439843, -1.2651371623752403, -1.7208183825176575, -2.379348975057764, 0.2833705925498279, 0.9591099681660155, -1.0281961398773638, 0.5430260260149434, -1.2345436637795881, 0.3392535301869327, -0.12585274936717322, 0.5724712772673114, 1.647704705920134e-05, -0.9246796833279284, 0.5755276455950149, 1.1969623581801656, 0.4712654848573027, -0.6803956435669573, 0.6379021895182349, 0.9897298422219863, -1.2442857660093052, -0.17387348445545497, 0.5683303618787926, 0.10724265170165377, 0.2778618535670428, -0.16522749240533144, -0.9385785399474534, -0.7750686546066188, 0.3468413043569452, -0.9061856008536254, -0.322226460099784, -0.462172141008642, 1.3550041922182134, 1.2579165177664244, -1.2587896313699054, -0.6742783069596625, 0.19371989971395945, 0.395530183978683, -0.6081088049058118, 0.6488370810754313], \"xaxis\": \"x8\", \"y\": [1.788094498128622, -0.44535443686305204, -0.7131795159657938, -0.5554106325242337, -0.21586035461825787, -0.697799365135744, 1.097573763569276, 0.035887813880043605, 2.6195040661181466, 0.6079529137881459, 0.7436248459744537, -0.8618502776351192, -0.47747198195992685, 0.22394260599753302, 0.16778779907716984, -0.21439653722728408, -0.28082534999382414, -0.47247468827363853, -0.4506597477838028, 0.6851240964961288, 1.1619213588272501, -1.0702545218773423, 0.4492565916692249, -1.1452374174231343, 0.6940018241869989, 1.7025908336350206, 0.911095428268713, -0.8390868115640266, 0.1663123644197956, 0.3328100887697817, 0.06435393233991418, -0.3710348748026914, -0.9179829095604276, -0.524999408533106, 0.6652896007479878, 1.5838460732342565, -0.006292105652858107, 0.6036323038736936, -0.476844069070269, 1.1387478354050842, 0.03827391299502421, 1.1285586150173448, 0.14647132562841755, 0.4044039554802493, -0.21088510943267336, -1.6753117569624703, -0.3294821012530378, 0.6607752806792838, -0.13058529121836507, 0.22371960616266628, -0.8188759246483298, -0.5854214437337317, -2.491158593278795, -1.0585519213970385, -0.03288668821960335, 1.8329670294391918, 0.605965626089157, -1.0337333776852846, 0.3155519084756224, 1.6015557409146575, 0.6822350410713564, 2.338739883832616, -1.1730419635505192, 0.6391766373700845, 1.289160748481995, -0.5420518881612237, 0.5071628629766942, -0.40457294813531886, 0.7270531601651469, -1.6646222754130013, 0.40243397726927077, 0.34311882064613747, 0.6259398874778561, -1.009481363220773, 0.2245743366277254, 0.6600993412912876, -1.6075531641768765, 0.46316037121790465, -0.5365819522636401, 0.33546724504982794, 0.709807510414665, -1.411526231278596, 0.1236699459010611, 0.30797864886790227, -0.7320151252688502, 0.9815246074439794, 0.546198609092013, 1.7577800559208172, 0.31626620547227696, 0.42215646808605684, 1.4971434747745829, -0.13994118394343455, 0.8020527287884011, -0.004972773524476891, 0.7420408197587705, -2.2243504385067503, 0.11058060408422755, -0.07249780625225877, 0.8482330339326772, -0.7747200231185339], \"yaxis\": \"y8\"}, {\"line\": {\"color\": \"rgba(128, 128, 128, 1.0)\", \"dash\": \"solid\", \"shape\": \"linear\", \"width\": 1.3}, \"marker\": {\"size\": 2, \"symbol\": \"circle\"}, \"mode\": \"markers\", \"name\": \"C\", \"text\": \"\", \"type\": \"scatter\", \"x\": [0.49289817131910324, -0.3012398972298208, -0.7816068221605069, -0.8090093152211132, 1.4006830146786922, -0.19482583816277718, 0.0604937012147241, 2.119691209922694, 0.7222242598679914, 1.753235420367374, 0.15830729803447974, -0.6341440309522819, -2.283999111080501, 0.5531241386591951, -2.266708116322684, 0.7042723917299197, 0.6092425758622263, -0.340557220856165, -1.3041616905321494, 0.18497826710035706, 0.021565250924974123, -0.006075820444198791, -2.566727147075182, 0.02730521303181981, -0.9939684925220701, -0.6223666531415607, 1.776870439188865, 0.01793289056711191, 0.05680072212956541, 0.43447933306281233, -1.453567536602802, 0.22397366436895907, -0.47782199024703215, 1.339102396303261, 1.6080823076036965, 0.20166945309703094, -1.4037713891573702, 0.5106776942015245, -1.8190377132273154, -1.0337585498673065, 0.5183548692185115, -1.0257448210609061, 0.3360850564164397, 1.6441074102925999, 1.359625493547863, 0.5732793595532124, -0.5467403903693552, 0.40035282535498895, 0.10515275916863191, -0.5263016957839567, -0.04432663132196094, 0.8299882137593065, 0.288974670977, 1.4516357718944564, -0.4111386022214322, -2.1428502676999592, 1.2035300277031884, -1.623937560391315, -0.3132882723386422, -0.5352367479666442, -0.6950356321246792, -0.33190243398305314, 0.26383380532025796, -0.5184732009735258, 0.5207487437274007, -1.5584295495848832, 1.0170403191939565, 0.07373919242253754, 0.39030351930826057, 0.3832708653059387, -0.6111638533706606, 0.2944432971309082, 0.4591500221941663, -1.3000294349405557, 0.8493654040778634, -0.24454619551784645, 2.5784605090664208, 0.3470148257665814, 0.4275832431758216, -0.02006983310330113, -0.22115821773805194, 0.7441606483066695, -2.147666745538417, 0.4022717625020178, 1.015008131996003, -0.9614527011380453, 0.6427549647493842, 0.26275878026670807, -2.1811228596403294, -0.9651264344972399, -1.0807091355825975, -1.2704353852791637, -1.604220193082267, 2.2757599377870004, -0.7460643325640582, -1.0270656913759506, -0.08472691139075982, -0.4397288250502953, -0.4051011158276595, 0.0030321124322531187], \"xaxis\": \"x9\", \"y\": [1.463672469166598, 0.6651197192188135, 0.37566576496129844, 1.4791635585415648, 1.4167798359311785, 0.6675141209292036, 0.5894767021021048, 0.9301212541168372, 0.27226748556495267, -0.06391177027598757, 1.0010415184193269, 1.0326165177182174, -0.8731298266611605, -0.46840514265026345, -0.3854634418756403, 1.2459924037856747, 0.8457350353558521, 1.6337799788982934, 0.7889157293396244, -0.6018538929253865, -0.545465322430264, 0.09852540676052758, -0.009114980519238224, -0.30629952776384767, -1.2500465350505152, -0.042355212049775645, -0.6400215740203627, -1.1322927651162251, -1.2187668795188207, 1.6938191102102707, -1.492066170203874, -0.3502846950994851, -1.7995148501102394, -1.1519112577389599, 1.3602019488257686, 1.0680044955077561, -2.161847520754712, -0.1555672793909803, -0.08755424424509188, 0.15341729708932367, 0.8209593576356582, 0.5078408720603443, -0.06243714679218857, 0.2973074236620757, 0.7813467485374767, 0.6973501319285956, -1.3783614386516876, 0.21381270000361954, 0.13057088665168068, -2.0962842050753214, -0.9153373599146069, -0.9073526341698958, 0.7407521736326562, -1.5693456913844939, -0.16817904905543016, -0.814255736583778, -0.31505303878366353, 0.6328591794772734, 0.16821328929726775, -1.467656218336898, -0.042477711901061595, -2.596860879634435, 0.11885605619163297, 0.11604594671634334, 0.45571495458637146, -0.8367063080226032, -0.4868194124432724, -0.6846042002152335, 0.7787188235294727, 0.7834546105714999, -0.4654595163663431, 1.0627138382165682, -0.9162262576347874, 0.9987637167369354, -0.8419795773955878, 0.4972884991745363, 0.5429426100243367, -1.2013471669665756, -0.22134747995347895, -0.9152126365884109, -0.6467294188414507, -0.02547528848355319, 0.9620667204717402, 2.054594371020456, -0.5926406463420172, -2.2405365890056217, -0.17541377487678347, 0.3838316976959465, 0.26351375595270154, 1.80204891106008, 0.3203700240814719, -0.6819345859625005, -0.413617630555659, 0.38409204950645615, 1.422836558643967, -1.208550225097222, 0.3047803401765312, -0.846186163669692, 0.18881194325830297, 0.13831523685704977], \"yaxis\": \"y9\"}, {\"line\": {\"color\": \"rgba(128, 128, 128, 1.0)\", \"dash\": \"solid\", \"shape\": \"linear\", \"width\": 1.3}, \"marker\": {\"size\": 2, \"symbol\": \"circle\"}, \"mode\": \"markers\", \"name\": \"C\", \"text\": \"\", \"type\": \"scatter\", \"x\": [1.788094498128622, -0.44535443686305204, -0.7131795159657938, -0.5554106325242337, -0.21586035461825787, -0.697799365135744, 1.097573763569276, 0.035887813880043605, 2.6195040661181466, 0.6079529137881459, 0.7436248459744537, -0.8618502776351192, -0.47747198195992685, 0.22394260599753302, 0.16778779907716984, -0.21439653722728408, -0.28082534999382414, -0.47247468827363853, -0.4506597477838028, 0.6851240964961288, 1.1619213588272501, -1.0702545218773423, 0.4492565916692249, -1.1452374174231343, 0.6940018241869989, 1.7025908336350206, 0.911095428268713, -0.8390868115640266, 0.1663123644197956, 0.3328100887697817, 0.06435393233991418, -0.3710348748026914, -0.9179829095604276, -0.524999408533106, 0.6652896007479878, 1.5838460732342565, -0.006292105652858107, 0.6036323038736936, -0.476844069070269, 1.1387478354050842, 0.03827391299502421, 1.1285586150173448, 0.14647132562841755, 0.4044039554802493, -0.21088510943267336, -1.6753117569624703, -0.3294821012530378, 0.6607752806792838, -0.13058529121836507, 0.22371960616266628, -0.8188759246483298, -0.5854214437337317, -2.491158593278795, -1.0585519213970385, -0.03288668821960335, 1.8329670294391918, 0.605965626089157, -1.0337333776852846, 0.3155519084756224, 1.6015557409146575, 0.6822350410713564, 2.338739883832616, -1.1730419635505192, 0.6391766373700845, 1.289160748481995, -0.5420518881612237, 0.5071628629766942, -0.40457294813531886, 0.7270531601651469, -1.6646222754130013, 0.40243397726927077, 0.34311882064613747, 0.6259398874778561, -1.009481363220773, 0.2245743366277254, 0.6600993412912876, -1.6075531641768765, 0.46316037121790465, -0.5365819522636401, 0.33546724504982794, 0.709807510414665, -1.411526231278596, 0.1236699459010611, 0.30797864886790227, -0.7320151252688502, 0.9815246074439794, 0.546198609092013, 1.7577800559208172, 0.31626620547227696, 0.42215646808605684, 1.4971434747745829, -0.13994118394343455, 0.8020527287884011, -0.004972773524476891, 0.7420408197587705, -2.2243504385067503, 0.11058060408422755, -0.07249780625225877, 0.8482330339326772, -0.7747200231185339], \"xaxis\": \"x10\", \"y\": [1.463672469166598, 0.6651197192188135, 0.37566576496129844, 1.4791635585415648, 1.4167798359311785, 0.6675141209292036, 0.5894767021021048, 0.9301212541168372, 0.27226748556495267, -0.06391177027598757, 1.0010415184193269, 1.0326165177182174, -0.8731298266611605, -0.46840514265026345, -0.3854634418756403, 1.2459924037856747, 0.8457350353558521, 1.6337799788982934, 0.7889157293396244, -0.6018538929253865, -0.545465322430264, 0.09852540676052758, -0.009114980519238224, -0.30629952776384767, -1.2500465350505152, -0.042355212049775645, -0.6400215740203627, -1.1322927651162251, -1.2187668795188207, 1.6938191102102707, -1.492066170203874, -0.3502846950994851, -1.7995148501102394, -1.1519112577389599, 1.3602019488257686, 1.0680044955077561, -2.161847520754712, -0.1555672793909803, -0.08755424424509188, 0.15341729708932367, 0.8209593576356582, 0.5078408720603443, -0.06243714679218857, 0.2973074236620757, 0.7813467485374767, 0.6973501319285956, -1.3783614386516876, 0.21381270000361954, 0.13057088665168068, -2.0962842050753214, -0.9153373599146069, -0.9073526341698958, 0.7407521736326562, -1.5693456913844939, -0.16817904905543016, -0.814255736583778, -0.31505303878366353, 0.6328591794772734, 0.16821328929726775, -1.467656218336898, -0.042477711901061595, -2.596860879634435, 0.11885605619163297, 0.11604594671634334, 0.45571495458637146, -0.8367063080226032, -0.4868194124432724, -0.6846042002152335, 0.7787188235294727, 0.7834546105714999, -0.4654595163663431, 1.0627138382165682, -0.9162262576347874, 0.9987637167369354, -0.8419795773955878, 0.4972884991745363, 0.5429426100243367, -1.2013471669665756, -0.22134747995347895, -0.9152126365884109, -0.6467294188414507, -0.02547528848355319, 0.9620667204717402, 2.054594371020456, -0.5926406463420172, -2.2405365890056217, -0.17541377487678347, 0.3838316976959465, 0.26351375595270154, 1.80204891106008, 0.3203700240814719, -0.6819345859625005, -0.413617630555659, 0.38409204950645615, 1.422836558643967, -1.208550225097222, 0.3047803401765312, -0.846186163669692, 0.18881194325830297, 0.13831523685704977], \"yaxis\": \"y10\"}, {\"histfunc\": \"count\", \"histnorm\": \"\", \"marker\": {\"color\": \"rgba(50, 171, 96, 1.0)\", \"line\": {\"color\": \"#4D5663\", \"width\": 1.3}}, \"name\": \"C\", \"nbinsx\": 10, \"opacity\": 0.8, \"orientation\": \"v\", \"type\": \"histogram\", \"x\": [1.463672469166598, 0.6651197192188135, 0.37566576496129844, 1.4791635585415648, 1.4167798359311785, 0.6675141209292036, 0.5894767021021048, 0.9301212541168372, 0.27226748556495267, -0.06391177027598757, 1.0010415184193269, 1.0326165177182174, -0.8731298266611605, -0.46840514265026345, -0.3854634418756403, 1.2459924037856747, 0.8457350353558521, 1.6337799788982934, 0.7889157293396244, -0.6018538929253865, -0.545465322430264, 0.09852540676052758, -0.009114980519238224, -0.30629952776384767, -1.2500465350505152, -0.042355212049775645, -0.6400215740203627, -1.1322927651162251, -1.2187668795188207, 1.6938191102102707, -1.492066170203874, -0.3502846950994851, -1.7995148501102394, -1.1519112577389599, 1.3602019488257686, 1.0680044955077561, -2.161847520754712, -0.1555672793909803, -0.08755424424509188, 0.15341729708932367, 0.8209593576356582, 0.5078408720603443, -0.06243714679218857, 0.2973074236620757, 0.7813467485374767, 0.6973501319285956, -1.3783614386516876, 0.21381270000361954, 0.13057088665168068, -2.0962842050753214, -0.9153373599146069, -0.9073526341698958, 0.7407521736326562, -1.5693456913844939, -0.16817904905543016, -0.814255736583778, -0.31505303878366353, 0.6328591794772734, 0.16821328929726775, -1.467656218336898, -0.042477711901061595, -2.596860879634435, 0.11885605619163297, 0.11604594671634334, 0.45571495458637146, -0.8367063080226032, -0.4868194124432724, -0.6846042002152335, 0.7787188235294727, 0.7834546105714999, -0.4654595163663431, 1.0627138382165682, -0.9162262576347874, 0.9987637167369354, -0.8419795773955878, 0.4972884991745363, 0.5429426100243367, -1.2013471669665756, -0.22134747995347895, -0.9152126365884109, -0.6467294188414507, -0.02547528848355319, 0.9620667204717402, 2.054594371020456, -0.5926406463420172, -2.2405365890056217, -0.17541377487678347, 0.3838316976959465, 0.26351375595270154, 1.80204891106008, 0.3203700240814719, -0.6819345859625005, -0.413617630555659, 0.38409204950645615, 1.422836558643967, -1.208550225097222, 0.3047803401765312, -0.846186163669692, 0.18881194325830297, 0.13831523685704977], \"xaxis\": \"x11\", \"yaxis\": \"y11\"}, {\"line\": {\"color\": \"rgba(128, 128, 128, 1.0)\", \"dash\": \"solid\", \"shape\": \"linear\", \"width\": 1.3}, \"marker\": {\"size\": 2, \"symbol\": \"circle\"}, \"mode\": \"markers\", \"name\": \"C\", \"text\": \"\", \"type\": \"scatter\", \"x\": [-0.518783594996111, -2.4134121292767667, 0.05034939966290155, -0.06960957892298734, -0.2260588074572653, -1.927090999921165, 0.024635095040146927, -0.7441625541298046, -0.025683679287609805, 0.11843513989092828, -0.4849087333809206, -1.2954358425583201, 1.0795564645448268, -0.6975424576353564, -0.2697714644042345, 1.438968686818738, 0.39409728828892954, -0.6265133870177304, -0.07824844526021912, -0.08591331765526902, 0.8049923558872016, -1.0295399790894808, 0.8786188084461379, 0.46443962318469717, 1.1761263431906517, -0.44440355978282203, 0.9615156084487653, -0.5205899481735078, -1.7001403321488082, -0.5742156648569211, -1.5076041562325455, 0.14358381613267093, 1.513624324283302, 0.20695348581256173, -2.4042855181268483, 1.251628238049774, -1.3286629238691323, -2.050349258987114, 0.9419130391059416, -0.7692435131584836, -0.8103901760540326, -0.8559410079422868, 0.7022159222046942, 0.03961153229562075, 0.9446372185380836, -0.7598077508633341, 0.24296278440062496, 1.6967567370379988, -0.3540073619364603, 1.2807823387911226, -0.3048581626816503, 1.6063731950511038, -0.9068007722531073, -1.3243575537247236, -1.244128218309669, -1.850367569260154, -0.5710247020667107, 0.28966820605365357, -1.1186418290222262, 2.8885796606749925, -0.25131418682439843, -1.2651371623752403, -1.7208183825176575, -2.379348975057764, 0.2833705925498279, 0.9591099681660155, -1.0281961398773638, 0.5430260260149434, -1.2345436637795881, 0.3392535301869327, -0.12585274936717322, 0.5724712772673114, 1.647704705920134e-05, -0.9246796833279284, 0.5755276455950149, 1.1969623581801656, 0.4712654848573027, -0.6803956435669573, 0.6379021895182349, 0.9897298422219863, -1.2442857660093052, -0.17387348445545497, 0.5683303618787926, 0.10724265170165377, 0.2778618535670428, -0.16522749240533144, -0.9385785399474534, -0.7750686546066188, 0.3468413043569452, -0.9061856008536254, -0.322226460099784, -0.462172141008642, 1.3550041922182134, 1.2579165177664244, -1.2587896313699054, -0.6742783069596625, 0.19371989971395945, 0.395530183978683, -0.6081088049058118, 0.6488370810754313], \"xaxis\": \"x12\", \"y\": [1.463672469166598, 0.6651197192188135, 0.37566576496129844, 1.4791635585415648, 1.4167798359311785, 0.6675141209292036, 0.5894767021021048, 0.9301212541168372, 0.27226748556495267, -0.06391177027598757, 1.0010415184193269, 1.0326165177182174, -0.8731298266611605, -0.46840514265026345, -0.3854634418756403, 1.2459924037856747, 0.8457350353558521, 1.6337799788982934, 0.7889157293396244, -0.6018538929253865, -0.545465322430264, 0.09852540676052758, -0.009114980519238224, -0.30629952776384767, -1.2500465350505152, -0.042355212049775645, -0.6400215740203627, -1.1322927651162251, -1.2187668795188207, 1.6938191102102707, -1.492066170203874, -0.3502846950994851, -1.7995148501102394, -1.1519112577389599, 1.3602019488257686, 1.0680044955077561, -2.161847520754712, -0.1555672793909803, -0.08755424424509188, 0.15341729708932367, 0.8209593576356582, 0.5078408720603443, -0.06243714679218857, 0.2973074236620757, 0.7813467485374767, 0.6973501319285956, -1.3783614386516876, 0.21381270000361954, 0.13057088665168068, -2.0962842050753214, -0.9153373599146069, -0.9073526341698958, 0.7407521736326562, -1.5693456913844939, -0.16817904905543016, -0.814255736583778, -0.31505303878366353, 0.6328591794772734, 0.16821328929726775, -1.467656218336898, -0.042477711901061595, -2.596860879634435, 0.11885605619163297, 0.11604594671634334, 0.45571495458637146, -0.8367063080226032, -0.4868194124432724, -0.6846042002152335, 0.7787188235294727, 0.7834546105714999, -0.4654595163663431, 1.0627138382165682, -0.9162262576347874, 0.9987637167369354, -0.8419795773955878, 0.4972884991745363, 0.5429426100243367, -1.2013471669665756, -0.22134747995347895, -0.9152126365884109, -0.6467294188414507, -0.02547528848355319, 0.9620667204717402, 2.054594371020456, -0.5926406463420172, -2.2405365890056217, -0.17541377487678347, 0.3838316976959465, 0.26351375595270154, 1.80204891106008, 0.3203700240814719, -0.6819345859625005, -0.413617630555659, 0.38409204950645615, 1.422836558643967, -1.208550225097222, 0.3047803401765312, -0.846186163669692, 0.18881194325830297, 0.13831523685704977], \"yaxis\": \"y12\"}, {\"line\": {\"color\": \"rgba(128, 128, 128, 1.0)\", \"dash\": \"solid\", \"shape\": \"linear\", \"width\": 1.3}, \"marker\": {\"size\": 2, \"symbol\": \"circle\"}, \"mode\": \"markers\", \"name\": \"D\", \"text\": \"\", \"type\": \"scatter\", \"x\": [0.49289817131910324, -0.3012398972298208, -0.7816068221605069, -0.8090093152211132, 1.4006830146786922, -0.19482583816277718, 0.0604937012147241, 2.119691209922694, 0.7222242598679914, 1.753235420367374, 0.15830729803447974, -0.6341440309522819, -2.283999111080501, 0.5531241386591951, -2.266708116322684, 0.7042723917299197, 0.6092425758622263, -0.340557220856165, -1.3041616905321494, 0.18497826710035706, 0.021565250924974123, -0.006075820444198791, -2.566727147075182, 0.02730521303181981, -0.9939684925220701, -0.6223666531415607, 1.776870439188865, 0.01793289056711191, 0.05680072212956541, 0.43447933306281233, -1.453567536602802, 0.22397366436895907, -0.47782199024703215, 1.339102396303261, 1.6080823076036965, 0.20166945309703094, -1.4037713891573702, 0.5106776942015245, -1.8190377132273154, -1.0337585498673065, 0.5183548692185115, -1.0257448210609061, 0.3360850564164397, 1.6441074102925999, 1.359625493547863, 0.5732793595532124, -0.5467403903693552, 0.40035282535498895, 0.10515275916863191, -0.5263016957839567, -0.04432663132196094, 0.8299882137593065, 0.288974670977, 1.4516357718944564, -0.4111386022214322, -2.1428502676999592, 1.2035300277031884, -1.623937560391315, -0.3132882723386422, -0.5352367479666442, -0.6950356321246792, -0.33190243398305314, 0.26383380532025796, -0.5184732009735258, 0.5207487437274007, -1.5584295495848832, 1.0170403191939565, 0.07373919242253754, 0.39030351930826057, 0.3832708653059387, -0.6111638533706606, 0.2944432971309082, 0.4591500221941663, -1.3000294349405557, 0.8493654040778634, -0.24454619551784645, 2.5784605090664208, 0.3470148257665814, 0.4275832431758216, -0.02006983310330113, -0.22115821773805194, 0.7441606483066695, -2.147666745538417, 0.4022717625020178, 1.015008131996003, -0.9614527011380453, 0.6427549647493842, 0.26275878026670807, -2.1811228596403294, -0.9651264344972399, -1.0807091355825975, -1.2704353852791637, -1.604220193082267, 2.2757599377870004, -0.7460643325640582, -1.0270656913759506, -0.08472691139075982, -0.4397288250502953, -0.4051011158276595, 0.0030321124322531187], \"xaxis\": \"x13\", \"y\": [-0.518783594996111, -2.4134121292767667, 0.05034939966290155, -0.06960957892298734, -0.2260588074572653, -1.927090999921165, 0.024635095040146927, -0.7441625541298046, -0.025683679287609805, 0.11843513989092828, -0.4849087333809206, -1.2954358425583201, 1.0795564645448268, -0.6975424576353564, -0.2697714644042345, 1.438968686818738, 0.39409728828892954, -0.6265133870177304, -0.07824844526021912, -0.08591331765526902, 0.8049923558872016, -1.0295399790894808, 0.8786188084461379, 0.46443962318469717, 1.1761263431906517, -0.44440355978282203, 0.9615156084487653, -0.5205899481735078, -1.7001403321488082, -0.5742156648569211, -1.5076041562325455, 0.14358381613267093, 1.513624324283302, 0.20695348581256173, -2.4042855181268483, 1.251628238049774, -1.3286629238691323, -2.050349258987114, 0.9419130391059416, -0.7692435131584836, -0.8103901760540326, -0.8559410079422868, 0.7022159222046942, 0.03961153229562075, 0.9446372185380836, -0.7598077508633341, 0.24296278440062496, 1.6967567370379988, -0.3540073619364603, 1.2807823387911226, -0.3048581626816503, 1.6063731950511038, -0.9068007722531073, -1.3243575537247236, -1.244128218309669, -1.850367569260154, -0.5710247020667107, 0.28966820605365357, -1.1186418290222262, 2.8885796606749925, -0.25131418682439843, -1.2651371623752403, -1.7208183825176575, -2.379348975057764, 0.2833705925498279, 0.9591099681660155, -1.0281961398773638, 0.5430260260149434, -1.2345436637795881, 0.3392535301869327, -0.12585274936717322, 0.5724712772673114, 1.647704705920134e-05, -0.9246796833279284, 0.5755276455950149, 1.1969623581801656, 0.4712654848573027, -0.6803956435669573, 0.6379021895182349, 0.9897298422219863, -1.2442857660093052, -0.17387348445545497, 0.5683303618787926, 0.10724265170165377, 0.2778618535670428, -0.16522749240533144, -0.9385785399474534, -0.7750686546066188, 0.3468413043569452, -0.9061856008536254, -0.322226460099784, -0.462172141008642, 1.3550041922182134, 1.2579165177664244, -1.2587896313699054, -0.6742783069596625, 0.19371989971395945, 0.395530183978683, -0.6081088049058118, 0.6488370810754313], \"yaxis\": \"y13\"}, {\"line\": {\"color\": \"rgba(128, 128, 128, 1.0)\", \"dash\": \"solid\", \"shape\": \"linear\", \"width\": 1.3}, \"marker\": {\"size\": 2, \"symbol\": \"circle\"}, \"mode\": \"markers\", \"name\": \"D\", \"text\": \"\", \"type\": \"scatter\", \"x\": [1.788094498128622, -0.44535443686305204, -0.7131795159657938, -0.5554106325242337, -0.21586035461825787, -0.697799365135744, 1.097573763569276, 0.035887813880043605, 2.6195040661181466, 0.6079529137881459, 0.7436248459744537, -0.8618502776351192, -0.47747198195992685, 0.22394260599753302, 0.16778779907716984, -0.21439653722728408, -0.28082534999382414, -0.47247468827363853, -0.4506597477838028, 0.6851240964961288, 1.1619213588272501, -1.0702545218773423, 0.4492565916692249, -1.1452374174231343, 0.6940018241869989, 1.7025908336350206, 0.911095428268713, -0.8390868115640266, 0.1663123644197956, 0.3328100887697817, 0.06435393233991418, -0.3710348748026914, -0.9179829095604276, -0.524999408533106, 0.6652896007479878, 1.5838460732342565, -0.006292105652858107, 0.6036323038736936, -0.476844069070269, 1.1387478354050842, 0.03827391299502421, 1.1285586150173448, 0.14647132562841755, 0.4044039554802493, -0.21088510943267336, -1.6753117569624703, -0.3294821012530378, 0.6607752806792838, -0.13058529121836507, 0.22371960616266628, -0.8188759246483298, -0.5854214437337317, -2.491158593278795, -1.0585519213970385, -0.03288668821960335, 1.8329670294391918, 0.605965626089157, -1.0337333776852846, 0.3155519084756224, 1.6015557409146575, 0.6822350410713564, 2.338739883832616, -1.1730419635505192, 0.6391766373700845, 1.289160748481995, -0.5420518881612237, 0.5071628629766942, -0.40457294813531886, 0.7270531601651469, -1.6646222754130013, 0.40243397726927077, 0.34311882064613747, 0.6259398874778561, -1.009481363220773, 0.2245743366277254, 0.6600993412912876, -1.6075531641768765, 0.46316037121790465, -0.5365819522636401, 0.33546724504982794, 0.709807510414665, -1.411526231278596, 0.1236699459010611, 0.30797864886790227, -0.7320151252688502, 0.9815246074439794, 0.546198609092013, 1.7577800559208172, 0.31626620547227696, 0.42215646808605684, 1.4971434747745829, -0.13994118394343455, 0.8020527287884011, -0.004972773524476891, 0.7420408197587705, -2.2243504385067503, 0.11058060408422755, -0.07249780625225877, 0.8482330339326772, -0.7747200231185339], \"xaxis\": \"x14\", \"y\": [-0.518783594996111, -2.4134121292767667, 0.05034939966290155, -0.06960957892298734, -0.2260588074572653, -1.927090999921165, 0.024635095040146927, -0.7441625541298046, -0.025683679287609805, 0.11843513989092828, -0.4849087333809206, -1.2954358425583201, 1.0795564645448268, -0.6975424576353564, -0.2697714644042345, 1.438968686818738, 0.39409728828892954, -0.6265133870177304, -0.07824844526021912, -0.08591331765526902, 0.8049923558872016, -1.0295399790894808, 0.8786188084461379, 0.46443962318469717, 1.1761263431906517, -0.44440355978282203, 0.9615156084487653, -0.5205899481735078, -1.7001403321488082, -0.5742156648569211, -1.5076041562325455, 0.14358381613267093, 1.513624324283302, 0.20695348581256173, -2.4042855181268483, 1.251628238049774, -1.3286629238691323, -2.050349258987114, 0.9419130391059416, -0.7692435131584836, -0.8103901760540326, -0.8559410079422868, 0.7022159222046942, 0.03961153229562075, 0.9446372185380836, -0.7598077508633341, 0.24296278440062496, 1.6967567370379988, -0.3540073619364603, 1.2807823387911226, -0.3048581626816503, 1.6063731950511038, -0.9068007722531073, -1.3243575537247236, -1.244128218309669, -1.850367569260154, -0.5710247020667107, 0.28966820605365357, -1.1186418290222262, 2.8885796606749925, -0.25131418682439843, -1.2651371623752403, -1.7208183825176575, -2.379348975057764, 0.2833705925498279, 0.9591099681660155, -1.0281961398773638, 0.5430260260149434, -1.2345436637795881, 0.3392535301869327, -0.12585274936717322, 0.5724712772673114, 1.647704705920134e-05, -0.9246796833279284, 0.5755276455950149, 1.1969623581801656, 0.4712654848573027, -0.6803956435669573, 0.6379021895182349, 0.9897298422219863, -1.2442857660093052, -0.17387348445545497, 0.5683303618787926, 0.10724265170165377, 0.2778618535670428, -0.16522749240533144, -0.9385785399474534, -0.7750686546066188, 0.3468413043569452, -0.9061856008536254, -0.322226460099784, -0.462172141008642, 1.3550041922182134, 1.2579165177664244, -1.2587896313699054, -0.6742783069596625, 0.19371989971395945, 0.395530183978683, -0.6081088049058118, 0.6488370810754313], \"yaxis\": \"y14\"}, {\"line\": {\"color\": \"rgba(128, 128, 128, 1.0)\", \"dash\": \"solid\", \"shape\": \"linear\", \"width\": 1.3}, \"marker\": {\"size\": 2, \"symbol\": \"circle\"}, \"mode\": \"markers\", \"name\": \"D\", \"text\": \"\", \"type\": \"scatter\", \"x\": [1.463672469166598, 0.6651197192188135, 0.37566576496129844, 1.4791635585415648, 1.4167798359311785, 0.6675141209292036, 0.5894767021021048, 0.9301212541168372, 0.27226748556495267, -0.06391177027598757, 1.0010415184193269, 1.0326165177182174, -0.8731298266611605, -0.46840514265026345, -0.3854634418756403, 1.2459924037856747, 0.8457350353558521, 1.6337799788982934, 0.7889157293396244, -0.6018538929253865, -0.545465322430264, 0.09852540676052758, -0.009114980519238224, -0.30629952776384767, -1.2500465350505152, -0.042355212049775645, -0.6400215740203627, -1.1322927651162251, -1.2187668795188207, 1.6938191102102707, -1.492066170203874, -0.3502846950994851, -1.7995148501102394, -1.1519112577389599, 1.3602019488257686, 1.0680044955077561, -2.161847520754712, -0.1555672793909803, -0.08755424424509188, 0.15341729708932367, 0.8209593576356582, 0.5078408720603443, -0.06243714679218857, 0.2973074236620757, 0.7813467485374767, 0.6973501319285956, -1.3783614386516876, 0.21381270000361954, 0.13057088665168068, -2.0962842050753214, -0.9153373599146069, -0.9073526341698958, 0.7407521736326562, -1.5693456913844939, -0.16817904905543016, -0.814255736583778, -0.31505303878366353, 0.6328591794772734, 0.16821328929726775, -1.467656218336898, -0.042477711901061595, -2.596860879634435, 0.11885605619163297, 0.11604594671634334, 0.45571495458637146, -0.8367063080226032, -0.4868194124432724, -0.6846042002152335, 0.7787188235294727, 0.7834546105714999, -0.4654595163663431, 1.0627138382165682, -0.9162262576347874, 0.9987637167369354, -0.8419795773955878, 0.4972884991745363, 0.5429426100243367, -1.2013471669665756, -0.22134747995347895, -0.9152126365884109, -0.6467294188414507, -0.02547528848355319, 0.9620667204717402, 2.054594371020456, -0.5926406463420172, -2.2405365890056217, -0.17541377487678347, 0.3838316976959465, 0.26351375595270154, 1.80204891106008, 0.3203700240814719, -0.6819345859625005, -0.413617630555659, 0.38409204950645615, 1.422836558643967, -1.208550225097222, 0.3047803401765312, -0.846186163669692, 0.18881194325830297, 0.13831523685704977], \"xaxis\": \"x15\", \"y\": [-0.518783594996111, -2.4134121292767667, 0.05034939966290155, -0.06960957892298734, -0.2260588074572653, -1.927090999921165, 0.024635095040146927, -0.7441625541298046, -0.025683679287609805, 0.11843513989092828, -0.4849087333809206, -1.2954358425583201, 1.0795564645448268, -0.6975424576353564, -0.2697714644042345, 1.438968686818738, 0.39409728828892954, -0.6265133870177304, -0.07824844526021912, -0.08591331765526902, 0.8049923558872016, -1.0295399790894808, 0.8786188084461379, 0.46443962318469717, 1.1761263431906517, -0.44440355978282203, 0.9615156084487653, -0.5205899481735078, -1.7001403321488082, -0.5742156648569211, -1.5076041562325455, 0.14358381613267093, 1.513624324283302, 0.20695348581256173, -2.4042855181268483, 1.251628238049774, -1.3286629238691323, -2.050349258987114, 0.9419130391059416, -0.7692435131584836, -0.8103901760540326, -0.8559410079422868, 0.7022159222046942, 0.03961153229562075, 0.9446372185380836, -0.7598077508633341, 0.24296278440062496, 1.6967567370379988, -0.3540073619364603, 1.2807823387911226, -0.3048581626816503, 1.6063731950511038, -0.9068007722531073, -1.3243575537247236, -1.244128218309669, -1.850367569260154, -0.5710247020667107, 0.28966820605365357, -1.1186418290222262, 2.8885796606749925, -0.25131418682439843, -1.2651371623752403, -1.7208183825176575, -2.379348975057764, 0.2833705925498279, 0.9591099681660155, -1.0281961398773638, 0.5430260260149434, -1.2345436637795881, 0.3392535301869327, -0.12585274936717322, 0.5724712772673114, 1.647704705920134e-05, -0.9246796833279284, 0.5755276455950149, 1.1969623581801656, 0.4712654848573027, -0.6803956435669573, 0.6379021895182349, 0.9897298422219863, -1.2442857660093052, -0.17387348445545497, 0.5683303618787926, 0.10724265170165377, 0.2778618535670428, -0.16522749240533144, -0.9385785399474534, -0.7750686546066188, 0.3468413043569452, -0.9061856008536254, -0.322226460099784, -0.462172141008642, 1.3550041922182134, 1.2579165177664244, -1.2587896313699054, -0.6742783069596625, 0.19371989971395945, 0.395530183978683, -0.6081088049058118, 0.6488370810754313], \"yaxis\": \"y15\"}, {\"histfunc\": \"count\", \"histnorm\": \"\", \"marker\": {\"color\": \"rgba(128, 0, 128, 1.0)\", \"line\": {\"color\": \"#4D5663\", \"width\": 1.3}}, \"name\": \"D\", \"nbinsx\": 10, \"opacity\": 0.8, \"orientation\": \"v\", \"type\": \"histogram\", \"x\": [-0.518783594996111, -2.4134121292767667, 0.05034939966290155, -0.06960957892298734, -0.2260588074572653, -1.927090999921165, 0.024635095040146927, -0.7441625541298046, -0.025683679287609805, 0.11843513989092828, -0.4849087333809206, -1.2954358425583201, 1.0795564645448268, -0.6975424576353564, -0.2697714644042345, 1.438968686818738, 0.39409728828892954, -0.6265133870177304, -0.07824844526021912, -0.08591331765526902, 0.8049923558872016, -1.0295399790894808, 0.8786188084461379, 0.46443962318469717, 1.1761263431906517, -0.44440355978282203, 0.9615156084487653, -0.5205899481735078, -1.7001403321488082, -0.5742156648569211, -1.5076041562325455, 0.14358381613267093, 1.513624324283302, 0.20695348581256173, -2.4042855181268483, 1.251628238049774, -1.3286629238691323, -2.050349258987114, 0.9419130391059416, -0.7692435131584836, -0.8103901760540326, -0.8559410079422868, 0.7022159222046942, 0.03961153229562075, 0.9446372185380836, -0.7598077508633341, 0.24296278440062496, 1.6967567370379988, -0.3540073619364603, 1.2807823387911226, -0.3048581626816503, 1.6063731950511038, -0.9068007722531073, -1.3243575537247236, -1.244128218309669, -1.850367569260154, -0.5710247020667107, 0.28966820605365357, -1.1186418290222262, 2.8885796606749925, -0.25131418682439843, -1.2651371623752403, -1.7208183825176575, -2.379348975057764, 0.2833705925498279, 0.9591099681660155, -1.0281961398773638, 0.5430260260149434, -1.2345436637795881, 0.3392535301869327, -0.12585274936717322, 0.5724712772673114, 1.647704705920134e-05, -0.9246796833279284, 0.5755276455950149, 1.1969623581801656, 0.4712654848573027, -0.6803956435669573, 0.6379021895182349, 0.9897298422219863, -1.2442857660093052, -0.17387348445545497, 0.5683303618787926, 0.10724265170165377, 0.2778618535670428, -0.16522749240533144, -0.9385785399474534, -0.7750686546066188, 0.3468413043569452, -0.9061856008536254, -0.322226460099784, -0.462172141008642, 1.3550041922182134, 1.2579165177664244, -1.2587896313699054, -0.6742783069596625, 0.19371989971395945, 0.395530183978683, -0.6081088049058118, 0.6488370810754313], \"xaxis\": \"x16\", \"yaxis\": \"y16\"}],\n",
       "                        {\"bargap\": 0.02, \"legend\": {\"bgcolor\": \"#F5F6F9\", \"font\": {\"color\": \"#4D5663\"}}, \"paper_bgcolor\": \"#F5F6F9\", \"plot_bgcolor\": \"#F5F6F9\", \"showlegend\": false, \"template\": {\"data\": {\"bar\": [{\"error_x\": {\"color\": \"#2a3f5f\"}, \"error_y\": {\"color\": \"#2a3f5f\"}, \"marker\": {\"line\": {\"color\": \"#E5ECF6\", \"width\": 0.5}}, \"type\": \"bar\"}], \"barpolar\": [{\"marker\": {\"line\": {\"color\": \"#E5ECF6\", \"width\": 0.5}}, \"type\": \"barpolar\"}], \"carpet\": [{\"aaxis\": {\"endlinecolor\": \"#2a3f5f\", \"gridcolor\": \"white\", \"linecolor\": \"white\", \"minorgridcolor\": \"white\", \"startlinecolor\": \"#2a3f5f\"}, \"baxis\": {\"endlinecolor\": \"#2a3f5f\", \"gridcolor\": \"white\", \"linecolor\": \"white\", \"minorgridcolor\": \"white\", \"startlinecolor\": \"#2a3f5f\"}, \"type\": \"carpet\"}], \"choropleth\": [{\"colorbar\": {\"outlinewidth\": 0, \"ticks\": \"\"}, \"type\": \"choropleth\"}], \"contour\": [{\"colorbar\": {\"outlinewidth\": 0, \"ticks\": \"\"}, \"colorscale\": [[0.0, \"#0d0887\"], [0.1111111111111111, \"#46039f\"], [0.2222222222222222, \"#7201a8\"], [0.3333333333333333, \"#9c179e\"], [0.4444444444444444, \"#bd3786\"], [0.5555555555555556, \"#d8576b\"], [0.6666666666666666, \"#ed7953\"], [0.7777777777777778, \"#fb9f3a\"], [0.8888888888888888, \"#fdca26\"], [1.0, \"#f0f921\"]], \"type\": \"contour\"}], \"contourcarpet\": [{\"colorbar\": {\"outlinewidth\": 0, \"ticks\": \"\"}, \"type\": \"contourcarpet\"}], \"heatmap\": [{\"colorbar\": {\"outlinewidth\": 0, \"ticks\": \"\"}, \"colorscale\": [[0.0, \"#0d0887\"], [0.1111111111111111, \"#46039f\"], [0.2222222222222222, \"#7201a8\"], [0.3333333333333333, \"#9c179e\"], [0.4444444444444444, \"#bd3786\"], [0.5555555555555556, \"#d8576b\"], [0.6666666666666666, \"#ed7953\"], [0.7777777777777778, \"#fb9f3a\"], [0.8888888888888888, \"#fdca26\"], [1.0, \"#f0f921\"]], \"type\": \"heatmap\"}], \"heatmapgl\": [{\"colorbar\": {\"outlinewidth\": 0, \"ticks\": \"\"}, \"colorscale\": [[0.0, \"#0d0887\"], [0.1111111111111111, \"#46039f\"], [0.2222222222222222, \"#7201a8\"], [0.3333333333333333, \"#9c179e\"], [0.4444444444444444, \"#bd3786\"], [0.5555555555555556, \"#d8576b\"], [0.6666666666666666, \"#ed7953\"], [0.7777777777777778, \"#fb9f3a\"], [0.8888888888888888, \"#fdca26\"], [1.0, \"#f0f921\"]], \"type\": \"heatmapgl\"}], \"histogram\": [{\"marker\": {\"colorbar\": {\"outlinewidth\": 0, \"ticks\": \"\"}}, \"type\": \"histogram\"}], \"histogram2d\": [{\"colorbar\": {\"outlinewidth\": 0, \"ticks\": \"\"}, \"colorscale\": [[0.0, \"#0d0887\"], [0.1111111111111111, \"#46039f\"], [0.2222222222222222, \"#7201a8\"], [0.3333333333333333, \"#9c179e\"], [0.4444444444444444, \"#bd3786\"], [0.5555555555555556, \"#d8576b\"], [0.6666666666666666, \"#ed7953\"], [0.7777777777777778, \"#fb9f3a\"], [0.8888888888888888, \"#fdca26\"], [1.0, \"#f0f921\"]], \"type\": \"histogram2d\"}], \"histogram2dcontour\": [{\"colorbar\": {\"outlinewidth\": 0, \"ticks\": \"\"}, \"colorscale\": [[0.0, \"#0d0887\"], [0.1111111111111111, \"#46039f\"], [0.2222222222222222, \"#7201a8\"], [0.3333333333333333, \"#9c179e\"], [0.4444444444444444, \"#bd3786\"], [0.5555555555555556, \"#d8576b\"], [0.6666666666666666, \"#ed7953\"], [0.7777777777777778, \"#fb9f3a\"], [0.8888888888888888, \"#fdca26\"], [1.0, \"#f0f921\"]], \"type\": \"histogram2dcontour\"}], \"mesh3d\": [{\"colorbar\": {\"outlinewidth\": 0, \"ticks\": \"\"}, \"type\": \"mesh3d\"}], \"parcoords\": [{\"line\": {\"colorbar\": {\"outlinewidth\": 0, \"ticks\": \"\"}}, \"type\": \"parcoords\"}], \"pie\": [{\"automargin\": true, \"type\": \"pie\"}], \"scatter\": [{\"marker\": {\"colorbar\": {\"outlinewidth\": 0, \"ticks\": \"\"}}, \"type\": \"scatter\"}], \"scatter3d\": [{\"line\": {\"colorbar\": {\"outlinewidth\": 0, \"ticks\": \"\"}}, \"marker\": {\"colorbar\": {\"outlinewidth\": 0, \"ticks\": \"\"}}, \"type\": \"scatter3d\"}], \"scattercarpet\": [{\"marker\": {\"colorbar\": {\"outlinewidth\": 0, \"ticks\": \"\"}}, \"type\": \"scattercarpet\"}], \"scattergeo\": [{\"marker\": {\"colorbar\": {\"outlinewidth\": 0, \"ticks\": \"\"}}, \"type\": \"scattergeo\"}], \"scattergl\": [{\"marker\": {\"colorbar\": {\"outlinewidth\": 0, \"ticks\": \"\"}}, \"type\": \"scattergl\"}], \"scattermapbox\": [{\"marker\": {\"colorbar\": {\"outlinewidth\": 0, \"ticks\": \"\"}}, \"type\": \"scattermapbox\"}], \"scatterpolar\": [{\"marker\": {\"colorbar\": {\"outlinewidth\": 0, \"ticks\": \"\"}}, \"type\": \"scatterpolar\"}], \"scatterpolargl\": [{\"marker\": {\"colorbar\": {\"outlinewidth\": 0, \"ticks\": \"\"}}, \"type\": \"scatterpolargl\"}], \"scatterternary\": [{\"marker\": {\"colorbar\": {\"outlinewidth\": 0, \"ticks\": \"\"}}, \"type\": \"scatterternary\"}], \"surface\": [{\"colorbar\": {\"outlinewidth\": 0, \"ticks\": \"\"}, \"colorscale\": [[0.0, \"#0d0887\"], [0.1111111111111111, \"#46039f\"], [0.2222222222222222, \"#7201a8\"], [0.3333333333333333, \"#9c179e\"], [0.4444444444444444, \"#bd3786\"], [0.5555555555555556, \"#d8576b\"], [0.6666666666666666, \"#ed7953\"], [0.7777777777777778, \"#fb9f3a\"], [0.8888888888888888, \"#fdca26\"], [1.0, \"#f0f921\"]], \"type\": \"surface\"}], \"table\": [{\"cells\": {\"fill\": {\"color\": \"#EBF0F8\"}, \"line\": {\"color\": \"white\"}}, \"header\": {\"fill\": {\"color\": \"#C8D4E3\"}, \"line\": {\"color\": \"white\"}}, \"type\": \"table\"}]}, \"layout\": {\"annotationdefaults\": {\"arrowcolor\": \"#2a3f5f\", \"arrowhead\": 0, \"arrowwidth\": 1}, \"coloraxis\": {\"colorbar\": {\"outlinewidth\": 0, \"ticks\": \"\"}}, \"colorscale\": {\"diverging\": [[0, \"#8e0152\"], [0.1, \"#c51b7d\"], [0.2, \"#de77ae\"], [0.3, \"#f1b6da\"], [0.4, \"#fde0ef\"], [0.5, \"#f7f7f7\"], [0.6, \"#e6f5d0\"], [0.7, \"#b8e186\"], [0.8, \"#7fbc41\"], [0.9, \"#4d9221\"], [1, \"#276419\"]], \"sequential\": [[0.0, \"#0d0887\"], [0.1111111111111111, \"#46039f\"], [0.2222222222222222, \"#7201a8\"], [0.3333333333333333, \"#9c179e\"], [0.4444444444444444, \"#bd3786\"], [0.5555555555555556, \"#d8576b\"], [0.6666666666666666, \"#ed7953\"], [0.7777777777777778, \"#fb9f3a\"], [0.8888888888888888, \"#fdca26\"], [1.0, \"#f0f921\"]], \"sequentialminus\": [[0.0, \"#0d0887\"], [0.1111111111111111, \"#46039f\"], [0.2222222222222222, \"#7201a8\"], [0.3333333333333333, \"#9c179e\"], [0.4444444444444444, \"#bd3786\"], [0.5555555555555556, \"#d8576b\"], [0.6666666666666666, \"#ed7953\"], [0.7777777777777778, \"#fb9f3a\"], [0.8888888888888888, \"#fdca26\"], [1.0, \"#f0f921\"]]}, \"colorway\": [\"#636efa\", \"#EF553B\", \"#00cc96\", \"#ab63fa\", \"#FFA15A\", \"#19d3f3\", \"#FF6692\", \"#B6E880\", \"#FF97FF\", \"#FECB52\"], \"font\": {\"color\": \"#2a3f5f\"}, \"geo\": {\"bgcolor\": \"white\", \"lakecolor\": \"white\", \"landcolor\": \"#E5ECF6\", \"showlakes\": true, \"showland\": true, \"subunitcolor\": \"white\"}, \"hoverlabel\": {\"align\": \"left\"}, \"hovermode\": \"closest\", \"mapbox\": {\"style\": \"light\"}, \"paper_bgcolor\": \"white\", \"plot_bgcolor\": \"#E5ECF6\", \"polar\": {\"angularaxis\": {\"gridcolor\": \"white\", \"linecolor\": \"white\", \"ticks\": \"\"}, \"bgcolor\": \"#E5ECF6\", \"radialaxis\": {\"gridcolor\": \"white\", \"linecolor\": \"white\", \"ticks\": \"\"}}, \"scene\": {\"xaxis\": {\"backgroundcolor\": \"#E5ECF6\", \"gridcolor\": \"white\", \"gridwidth\": 2, \"linecolor\": \"white\", \"showbackground\": true, \"ticks\": \"\", \"zerolinecolor\": \"white\"}, \"yaxis\": {\"backgroundcolor\": \"#E5ECF6\", \"gridcolor\": \"white\", \"gridwidth\": 2, \"linecolor\": \"white\", \"showbackground\": true, \"ticks\": \"\", \"zerolinecolor\": \"white\"}, \"zaxis\": {\"backgroundcolor\": \"#E5ECF6\", \"gridcolor\": \"white\", \"gridwidth\": 2, \"linecolor\": \"white\", \"showbackground\": true, \"ticks\": \"\", \"zerolinecolor\": \"white\"}}, \"shapedefaults\": {\"line\": {\"color\": \"#2a3f5f\"}}, \"ternary\": {\"aaxis\": {\"gridcolor\": \"white\", \"linecolor\": \"white\", \"ticks\": \"\"}, \"baxis\": {\"gridcolor\": \"white\", \"linecolor\": \"white\", \"ticks\": \"\"}, \"bgcolor\": \"#E5ECF6\", \"caxis\": {\"gridcolor\": \"white\", \"linecolor\": \"white\", \"ticks\": \"\"}}, \"title\": {\"x\": 0.05}, \"xaxis\": {\"automargin\": true, \"gridcolor\": \"white\", \"linecolor\": \"white\", \"ticks\": \"\", \"title\": {\"standoff\": 15}, \"zerolinecolor\": \"white\", \"zerolinewidth\": 2}, \"yaxis\": {\"automargin\": true, \"gridcolor\": \"white\", \"linecolor\": \"white\", \"ticks\": \"\", \"title\": {\"standoff\": 15}, \"zerolinecolor\": \"white\", \"zerolinewidth\": 2}}}, \"title\": {\"font\": {\"color\": \"#4D5663\"}}, \"xaxis\": {\"anchor\": \"y\", \"domain\": [0.0, 0.2125], \"gridcolor\": \"#E1E5ED\", \"showgrid\": false, \"tickfont\": {\"color\": \"#4D5663\"}, \"title\": {\"font\": {\"color\": \"#4D5663\"}, \"text\": \"\"}, \"zerolinecolor\": \"#E1E5ED\"}, \"xaxis10\": {\"anchor\": \"y10\", \"domain\": [0.2625, 0.475], \"gridcolor\": \"#E1E5ED\", \"showgrid\": false, \"tickfont\": {\"color\": \"#4D5663\"}, \"title\": {\"font\": {\"color\": \"#4D5663\"}, \"text\": \"\"}, \"zerolinecolor\": \"#E1E5ED\"}, \"xaxis11\": {\"anchor\": \"y11\", \"domain\": [0.525, 0.7375], \"gridcolor\": \"#E1E5ED\", \"showgrid\": false, \"tickfont\": {\"color\": \"#4D5663\"}, \"title\": {\"font\": {\"color\": \"#4D5663\"}, \"text\": \"\"}, \"zerolinecolor\": \"#E1E5ED\"}, \"xaxis12\": {\"anchor\": \"y12\", \"domain\": [0.7875, 1.0], \"gridcolor\": \"#E1E5ED\", \"showgrid\": false, \"tickfont\": {\"color\": \"#4D5663\"}, \"title\": {\"font\": {\"color\": \"#4D5663\"}, \"text\": \"\"}, \"zerolinecolor\": \"#E1E5ED\"}, \"xaxis13\": {\"anchor\": \"y13\", \"domain\": [0.0, 0.2125], \"gridcolor\": \"#E1E5ED\", \"showgrid\": false, \"tickfont\": {\"color\": \"#4D5663\"}, \"title\": {\"font\": {\"color\": \"#4D5663\"}, \"text\": \"\"}, \"zerolinecolor\": \"#E1E5ED\"}, \"xaxis14\": {\"anchor\": \"y14\", \"domain\": [0.2625, 0.475], \"gridcolor\": \"#E1E5ED\", \"showgrid\": false, \"tickfont\": {\"color\": \"#4D5663\"}, \"title\": {\"font\": {\"color\": \"#4D5663\"}, \"text\": \"\"}, \"zerolinecolor\": \"#E1E5ED\"}, \"xaxis15\": {\"anchor\": \"y15\", \"domain\": [0.525, 0.7375], \"gridcolor\": \"#E1E5ED\", \"showgrid\": false, \"tickfont\": {\"color\": \"#4D5663\"}, \"title\": {\"font\": {\"color\": \"#4D5663\"}, \"text\": \"\"}, \"zerolinecolor\": \"#E1E5ED\"}, \"xaxis16\": {\"anchor\": \"y16\", \"domain\": [0.7875, 1.0], \"gridcolor\": \"#E1E5ED\", \"showgrid\": false, \"tickfont\": {\"color\": \"#4D5663\"}, \"title\": {\"font\": {\"color\": \"#4D5663\"}, \"text\": \"\"}, \"zerolinecolor\": \"#E1E5ED\"}, \"xaxis2\": {\"anchor\": \"y2\", \"domain\": [0.2625, 0.475], \"gridcolor\": \"#E1E5ED\", \"showgrid\": false, \"tickfont\": {\"color\": \"#4D5663\"}, \"title\": {\"font\": {\"color\": \"#4D5663\"}, \"text\": \"\"}, \"zerolinecolor\": \"#E1E5ED\"}, \"xaxis3\": {\"anchor\": \"y3\", \"domain\": [0.525, 0.7375], \"gridcolor\": \"#E1E5ED\", \"showgrid\": false, \"tickfont\": {\"color\": \"#4D5663\"}, \"title\": {\"font\": {\"color\": \"#4D5663\"}, \"text\": \"\"}, \"zerolinecolor\": \"#E1E5ED\"}, \"xaxis4\": {\"anchor\": \"y4\", \"domain\": [0.7875, 1.0], \"gridcolor\": \"#E1E5ED\", \"showgrid\": false, \"tickfont\": {\"color\": \"#4D5663\"}, \"title\": {\"font\": {\"color\": \"#4D5663\"}, \"text\": \"\"}, \"zerolinecolor\": \"#E1E5ED\"}, \"xaxis5\": {\"anchor\": \"y5\", \"domain\": [0.0, 0.2125], \"gridcolor\": \"#E1E5ED\", \"showgrid\": false, \"tickfont\": {\"color\": \"#4D5663\"}, \"title\": {\"font\": {\"color\": \"#4D5663\"}, \"text\": \"\"}, \"zerolinecolor\": \"#E1E5ED\"}, \"xaxis6\": {\"anchor\": \"y6\", \"domain\": [0.2625, 0.475], \"gridcolor\": \"#E1E5ED\", \"showgrid\": false, \"tickfont\": {\"color\": \"#4D5663\"}, \"title\": {\"font\": {\"color\": \"#4D5663\"}, \"text\": \"\"}, \"zerolinecolor\": \"#E1E5ED\"}, \"xaxis7\": {\"anchor\": \"y7\", \"domain\": [0.525, 0.7375], \"gridcolor\": \"#E1E5ED\", \"showgrid\": false, \"tickfont\": {\"color\": \"#4D5663\"}, \"title\": {\"font\": {\"color\": \"#4D5663\"}, \"text\": \"\"}, \"zerolinecolor\": \"#E1E5ED\"}, \"xaxis8\": {\"anchor\": \"y8\", \"domain\": [0.7875, 1.0], \"gridcolor\": \"#E1E5ED\", \"showgrid\": false, \"tickfont\": {\"color\": \"#4D5663\"}, \"title\": {\"font\": {\"color\": \"#4D5663\"}, \"text\": \"\"}, \"zerolinecolor\": \"#E1E5ED\"}, \"xaxis9\": {\"anchor\": \"y9\", \"domain\": [0.0, 0.2125], \"gridcolor\": \"#E1E5ED\", \"showgrid\": false, \"tickfont\": {\"color\": \"#4D5663\"}, \"title\": {\"font\": {\"color\": \"#4D5663\"}, \"text\": \"\"}, \"zerolinecolor\": \"#E1E5ED\"}, \"yaxis\": {\"anchor\": \"x\", \"domain\": [0.8025, 1.0], \"gridcolor\": \"#E1E5ED\", \"showgrid\": false, \"tickfont\": {\"color\": \"#4D5663\"}, \"title\": {\"font\": {\"color\": \"#4D5663\"}, \"text\": \"\"}, \"zerolinecolor\": \"#E1E5ED\"}, \"yaxis10\": {\"anchor\": \"x10\", \"domain\": [0.2675, 0.465], \"gridcolor\": \"#E1E5ED\", \"showgrid\": false, \"tickfont\": {\"color\": \"#4D5663\"}, \"title\": {\"font\": {\"color\": \"#4D5663\"}, \"text\": \"\"}, \"zerolinecolor\": \"#E1E5ED\"}, \"yaxis11\": {\"anchor\": \"x11\", \"domain\": [0.2675, 0.465], \"gridcolor\": \"#E1E5ED\", \"showgrid\": false, \"tickfont\": {\"color\": \"#4D5663\"}, \"title\": {\"font\": {\"color\": \"#4D5663\"}, \"text\": \"\"}, \"zerolinecolor\": \"#E1E5ED\"}, \"yaxis12\": {\"anchor\": \"x12\", \"domain\": [0.2675, 0.465], \"gridcolor\": \"#E1E5ED\", \"showgrid\": false, \"tickfont\": {\"color\": \"#4D5663\"}, \"title\": {\"font\": {\"color\": \"#4D5663\"}, \"text\": \"\"}, \"zerolinecolor\": \"#E1E5ED\"}, \"yaxis13\": {\"anchor\": \"x13\", \"domain\": [0.0, 0.1975], \"gridcolor\": \"#E1E5ED\", \"showgrid\": false, \"tickfont\": {\"color\": \"#4D5663\"}, \"title\": {\"font\": {\"color\": \"#4D5663\"}, \"text\": \"\"}, \"zerolinecolor\": \"#E1E5ED\"}, \"yaxis14\": {\"anchor\": \"x14\", \"domain\": [0.0, 0.1975], \"gridcolor\": \"#E1E5ED\", \"showgrid\": false, \"tickfont\": {\"color\": \"#4D5663\"}, \"title\": {\"font\": {\"color\": \"#4D5663\"}, \"text\": \"\"}, \"zerolinecolor\": \"#E1E5ED\"}, \"yaxis15\": {\"anchor\": \"x15\", \"domain\": [0.0, 0.1975], \"gridcolor\": \"#E1E5ED\", \"showgrid\": false, \"tickfont\": {\"color\": \"#4D5663\"}, \"title\": {\"font\": {\"color\": \"#4D5663\"}, \"text\": \"\"}, \"zerolinecolor\": \"#E1E5ED\"}, \"yaxis16\": {\"anchor\": \"x16\", \"domain\": [0.0, 0.1975], \"gridcolor\": \"#E1E5ED\", \"showgrid\": false, \"tickfont\": {\"color\": \"#4D5663\"}, \"title\": {\"font\": {\"color\": \"#4D5663\"}, \"text\": \"\"}, \"zerolinecolor\": \"#E1E5ED\"}, \"yaxis2\": {\"anchor\": \"x2\", \"domain\": [0.8025, 1.0], \"gridcolor\": \"#E1E5ED\", \"showgrid\": false, \"tickfont\": {\"color\": \"#4D5663\"}, \"title\": {\"font\": {\"color\": \"#4D5663\"}, \"text\": \"\"}, \"zerolinecolor\": \"#E1E5ED\"}, \"yaxis3\": {\"anchor\": \"x3\", \"domain\": [0.8025, 1.0], \"gridcolor\": \"#E1E5ED\", \"showgrid\": false, \"tickfont\": {\"color\": \"#4D5663\"}, \"title\": {\"font\": {\"color\": \"#4D5663\"}, \"text\": \"\"}, \"zerolinecolor\": \"#E1E5ED\"}, \"yaxis4\": {\"anchor\": \"x4\", \"domain\": [0.8025, 1.0], \"gridcolor\": \"#E1E5ED\", \"showgrid\": false, \"tickfont\": {\"color\": \"#4D5663\"}, \"title\": {\"font\": {\"color\": \"#4D5663\"}, \"text\": \"\"}, \"zerolinecolor\": \"#E1E5ED\"}, \"yaxis5\": {\"anchor\": \"x5\", \"domain\": [0.535, 0.7325], \"gridcolor\": \"#E1E5ED\", \"showgrid\": false, \"tickfont\": {\"color\": \"#4D5663\"}, \"title\": {\"font\": {\"color\": \"#4D5663\"}, \"text\": \"\"}, \"zerolinecolor\": \"#E1E5ED\"}, \"yaxis6\": {\"anchor\": \"x6\", \"domain\": [0.535, 0.7325], \"gridcolor\": \"#E1E5ED\", \"showgrid\": false, \"tickfont\": {\"color\": \"#4D5663\"}, \"title\": {\"font\": {\"color\": \"#4D5663\"}, \"text\": \"\"}, \"zerolinecolor\": \"#E1E5ED\"}, \"yaxis7\": {\"anchor\": \"x7\", \"domain\": [0.535, 0.7325], \"gridcolor\": \"#E1E5ED\", \"showgrid\": false, \"tickfont\": {\"color\": \"#4D5663\"}, \"title\": {\"font\": {\"color\": \"#4D5663\"}, \"text\": \"\"}, \"zerolinecolor\": \"#E1E5ED\"}, \"yaxis8\": {\"anchor\": \"x8\", \"domain\": [0.535, 0.7325], \"gridcolor\": \"#E1E5ED\", \"showgrid\": false, \"tickfont\": {\"color\": \"#4D5663\"}, \"title\": {\"font\": {\"color\": \"#4D5663\"}, \"text\": \"\"}, \"zerolinecolor\": \"#E1E5ED\"}, \"yaxis9\": {\"anchor\": \"x9\", \"domain\": [0.2675, 0.465], \"gridcolor\": \"#E1E5ED\", \"showgrid\": false, \"tickfont\": {\"color\": \"#4D5663\"}, \"title\": {\"font\": {\"color\": \"#4D5663\"}, \"text\": \"\"}, \"zerolinecolor\": \"#E1E5ED\"}},\n",
       "                        {\"showLink\": true, \"linkText\": \"Export to plot.ly\", \"plotlyServerURL\": \"https://plot.ly\", \"responsive\": true}\n",
       "                    ).then(function(){\n",
       "                            \n",
       "var gd = document.getElementById('05047867-49f7-467b-80b1-60ede0ca9904');\n",
       "var x = new MutationObserver(function (mutations, observer) {{\n",
       "        var display = window.getComputedStyle(gd).display;\n",
       "        if (!display || display === 'none') {{\n",
       "            console.log([gd, 'removed!']);\n",
       "            Plotly.purge(gd);\n",
       "            observer.disconnect();\n",
       "        }}\n",
       "}});\n",
       "\n",
       "// Listen for the removal of the full notebook cells\n",
       "var notebookContainer = gd.closest('#notebook-container');\n",
       "if (notebookContainer) {{\n",
       "    x.observe(notebookContainer, {childList: true});\n",
       "}}\n",
       "\n",
       "// Listen for the clearing of the current output cell\n",
       "var outputEl = gd.closest('.output');\n",
       "if (outputEl) {{\n",
       "    x.observe(outputEl, {childList: true});\n",
       "}}\n",
       "\n",
       "                        })\n",
       "                };\n",
       "                });\n",
       "            </script>\n",
       "        </div>"
      ]
     },
     "metadata": {},
     "output_type": "display_data"
    }
   ],
   "source": [
    "df.scatter_matrix()"
   ]
  },
  {
   "cell_type": "code",
   "execution_count": null,
   "metadata": {},
   "outputs": [],
   "source": []
  }
 ],
 "metadata": {
  "kernelspec": {
   "display_name": "Python 3",
   "language": "python",
   "name": "python3"
  },
  "language_info": {
   "codemirror_mode": {
    "name": "ipython",
    "version": 3
   },
   "file_extension": ".py",
   "mimetype": "text/x-python",
   "name": "python",
   "nbconvert_exporter": "python",
   "pygments_lexer": "ipython3",
   "version": "3.7.6"
  }
 },
 "nbformat": 4,
 "nbformat_minor": 4
}
